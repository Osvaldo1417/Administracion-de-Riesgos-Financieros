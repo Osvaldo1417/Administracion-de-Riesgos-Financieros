{
  "nbformat": 4,
  "nbformat_minor": 0,
  "metadata": {
    "colab": {
      "name": "Tarea de Riesgo de Mercado SH.ipynb",
      "provenance": [],
      "collapsed_sections": [
        "RHAzGErHglrT",
        "WAmYeQF_hGsH",
        "VyiF-SWegSg2",
        "5UVpwclJlVFM"
      ],
      "authorship_tag": "ABX9TyORuRPYoqcNxbiu/qbHIDcP",
      "include_colab_link": true
    },
    "kernelspec": {
      "name": "python3",
      "display_name": "Python 3"
    },
    "language_info": {
      "name": "python"
    }
  },
  "cells": [
    {
      "cell_type": "markdown",
      "metadata": {
        "id": "view-in-github",
        "colab_type": "text"
      },
      "source": [
        "<a href=\"https://colab.research.google.com/github/Osvaldo1417/Tarea-de-Riesgo-de-Mercado-SH/blob/master/Tarea_de_Riesgo_de_Mercado_SH.ipynb\" target=\"_parent\"><img src=\"https://colab.research.google.com/assets/colab-badge.svg\" alt=\"Open In Colab\"/></a>"
      ]
    },
    {
      "cell_type": "code",
      "source": [
        "%load_ext rpy2.ipython\n",
        "!rm -rf Tarea-de-Riesgo-de-Mercado-SH\n",
        "#https://github.com/Osvaldo1417/Tarea-de-Riesgo-de-Mercado-SH/blob/master/Tarea_de_Riesgo_de_Mercado_SH.ipynb\n",
        "!git clone \"https://github.com/Osvaldo1417/Tarea-de-Riesgo-de-Mercado-SH/\""
      ],
      "metadata": {
        "id": "1voJKrXuJpNo",
        "colab": {
          "base_uri": "https://localhost:8080/"
        },
        "outputId": "96f83736-dd80-4e6f-952a-3b34015d8865"
      },
      "execution_count": 4,
      "outputs": [
        {
          "output_type": "stream",
          "name": "stdout",
          "text": [
            "Cloning into 'Tarea-de-Riesgo-de-Mercado-SH'...\n",
            "remote: Enumerating objects: 794, done.\u001b[K\n",
            "remote: Counting objects: 100% (104/104), done.\u001b[K\n",
            "remote: Compressing objects: 100% (64/64), done.\u001b[K\n",
            "remote: Total 794 (delta 86), reused 40 (delta 40), pack-reused 690\u001b[K\n",
            "Receiving objects: 100% (794/794), 41.14 MiB | 31.42 MiB/s, done.\n",
            "Resolving deltas: 100% (521/521), done.\n"
          ]
        }
      ]
    },
    {
      "cell_type": "markdown",
      "metadata": {
        "id": "dPEF1ujr7wvM"
      },
      "source": [
        "Paso de carga de librerías en R de todas las que se utilizarán"
      ]
    },
    {
      "cell_type": "code",
      "metadata": {
        "id": "57AsDOlcRWL9"
      },
      "source": [
        "%%R\n",
        "install.packages(\"quantmod\")\n",
        "library(quantmod)\n",
        "\n",
        "install.packages(\"data.table\")\n",
        "library(data.table)\n",
        "\n",
        "install.packages(\"PerformanceAnalytics\")\n",
        "library(\"PerformanceAnalytics\")\n",
        "\n",
        "install.packages(\"Deriv\")\n",
        "library(Deriv)\n",
        "\n",
        "library(dplyr)\n",
        "\n",
        "con = gzcon(url('https://github.com/systematicinvestor/SIT/raw/master/sit.gz', 'rb'))\n",
        "source(con)\n",
        "close(con)"
      ],
      "execution_count": 9,
      "outputs": []
    },
    {
      "cell_type": "markdown",
      "source": [
        "# Funciones"
      ],
      "metadata": {
        "id": "oIVN1Fc9KiWf"
      }
    },
    {
      "cell_type": "code",
      "metadata": {
        "id": "Qw6AthHnXMx4"
      },
      "source": [
        "%%R\n",
        "#FUNCIÓN DE INTERPOLACIÓN ALAMBRADA\n",
        "\n",
        "talamb=function(nodos,curva,plazos) #función de interpolación de tasas por el método alamabrada\n",
        "{\n",
        "  n=max(ncol(plazos),1)\n",
        "  m=max(ncol(nodos),1)\n",
        "  TC=matrix(0,1,n)\n",
        "  TL=matrix(0,1,n)\n",
        "  TF=matrix(0,1,n)\n",
        "  for (j in 1:n)\n",
        "  {\n",
        "    i=1\n",
        "    repeat\n",
        "    {\n",
        "      if(nodos[i]<= plazos[j] && plazos[j] <=nodos[i+1])\n",
        "      {\n",
        "        TC[j]=curva[i]\n",
        "        TL[j]=curva[i+1]\n",
        "        TF[j]=((((1+TL[j]*nodos[i+1]/360)/(1+TC[j]*nodos[i]/360))^((plazos[j]-nodos[i])/(nodos[i+1]-nodos[i]))*(1+TC[j]*nodos[i]/360))-1)*360/plazos[j]\n",
        "        break\n",
        "      }\n",
        "      else if (plazos[j]<nodos[1])\n",
        "      {\n",
        "        TC[j]=curva[1]\n",
        "        TL[j]=curva[1]\n",
        "        TF[j]=curva[1]\n",
        "        break\n",
        "      }\n",
        "      else if (plazos[j]>nodos[m])\n",
        "      {\n",
        "        TC[j]=curva[m]\n",
        "        TL[j]=curva[m]\n",
        "        TF[j]=curva[m]\n",
        "        break\n",
        "      }\n",
        "      else\n",
        "      {i=i+1}\n",
        "    }\n",
        "  }\n",
        "  as.matrix(t(as.numeric(rbind(TF))))\n",
        "}\n",
        "\n",
        "\n",
        "#funciones necesarias\n",
        "diagv=function(x)\t\t\t#función para diagonalizar un vector\n",
        "{\n",
        "  n01=nrow(as.matrix(x))\n",
        "  m01=ncol(as.matrix(x))\n",
        "  dimmax=max(n01,m01)\n",
        "  res=matrix(0,dimmax,dimmax)\n",
        "  for (i in 1:dimmax)\n",
        "  {\n",
        "    res[i,i]=x[i]\n",
        "  }\n",
        "  res\n",
        "}\n",
        "\n",
        "#función de cuantil más cercano\n",
        "equantile <- function(v,p=.5,ns=nrow(as.matrix(v))) \n",
        "{ \n",
        "  if ( !is.numeric(p) || any( p<0 | p>1) ) \n",
        "    stop(\"Percentil tiene que ser 0<=p<=1\") \n",
        "  ranking <- order(v) \n",
        "  vw=matrix(0,ns,1)\n",
        "  vw[1:ns]=seq(1/ns,ns)  \n",
        "  sumw <- cumsum(vw[ranking]) \n",
        "  plist <- sumw / sumw[ length(sumw) ] \n",
        "  v [ ranking [ which.max( plist >= p ) ] ]  \n",
        "} \n",
        "\n",
        "\n",
        "wquantile <- function(v,w=rep(1,length(v)),p=.5) \n",
        "{ \n",
        "  if ( !is.numeric(w) || length(v) != length(w) ) \n",
        "    stop(\"Los valores y los pesos tienen que tener misma longitud\") \n",
        "  if ( !is.numeric(p) || any( p<0 | p>1) ) \n",
        "    stop(\"Percentil tiene que ser 0<=p<=1\") \n",
        "  if ( min(w) < 0 ) stop(\"Los pesos tiene que ser mayores que 0\") \n",
        "  ranking <- order(v) \n",
        "  sumw <- cumsum(w[ranking]) \n",
        "  plist <- sumw / sumw[ length(sumw) ] \n",
        "  v [ ranking [ which.max( plist >= p ) ] ]  \n",
        "}\n",
        "\n",
        "\n",
        "#CVaR con alisado\n",
        "wcvar <- function(v,w=rep(1,length(v)),p=.5) \n",
        "{ \n",
        "  if ( !is.numeric(w) || length(v) != length(w) ) \n",
        "    stop(\"Los valores y los pesos tienen que tener misma longitud\") \n",
        "  if ( !is.numeric(p) || any( p<0 | p>1) ) \n",
        "    stop(\"Percentil tiene que ser 0<=p<=1\") \n",
        "  if ( min(w) < 0 ) stop(\"Los pesos tiene que ser mayores que 0\") \n",
        "  ranking <- order(v) \n",
        "  sumw <- cumsum(w[ranking]) \n",
        "  plist <- sumw / sumw[ length(sumw) ] \n",
        "  loss= v [ ranking [ which( plist < p ) ] ]  \n",
        "  esc=w [ ranking [ which( plist < p ) ] ]  \n",
        "  sum(loss*esc)/(sum(esc))\n",
        "} \n",
        "\n",
        "genera_esc <- function(lamda,w0,n){\n",
        "  p_esc=matrix(0,n,1)\n",
        "  for (i in (1:n))\n",
        "  {\n",
        "    p_esc[i]=w0*lambda^(i-1)\n",
        "  }\n",
        "  return(p_esc)\n",
        "}"
      ],
      "execution_count": 100,
      "outputs": []
    },
    {
      "cell_type": "markdown",
      "source": [
        "# Carga de Datos"
      ],
      "metadata": {
        "id": "-gqVtjJibKoF"
      }
    },
    {
      "cell_type": "code",
      "source": [
        "%%R\n",
        "fval=as.Date(\"20210331\",format=\"%Y%m%d\") #Fecha de valoración\n",
        "itpl=1 #poner 0 si se quiere interpolación lineal o 1 si se quiere tasa alambrada\n",
        "alpha=0.98 #Nivel de confianza para obtener estimaciones de riesgo"
      ],
      "metadata": {
        "id": "U5JA6z_CgLbt"
      },
      "execution_count": 101,
      "outputs": []
    },
    {
      "cell_type": "markdown",
      "source": [
        "## Acciones y Divisas"
      ],
      "metadata": {
        "id": "RHAzGErHglrT"
      }
    },
    {
      "cell_type": "code",
      "source": [
        "%%R\n",
        "acc_names <- c(\"America\",\"Carso\",\"Walmart\")\n",
        "div_names <- c(\"Euros\",\"Libras\",\"Dolares\")\n",
        "\n",
        "#ACCIONES Y DIVISAS\n",
        "#Cargar los símbolos de yahoo finance para EQ\n",
        "Sym_acciones<-c  (\"AMXL.MX\", \"GCARSOA1.MX\", \"WALMEX.MX\" )#tienen que ir en orden alfabético\n",
        "pos_acc=c(-5000,1000,1200) #monto inicial invertido en acciones\n",
        "#Cargar los símbolos de yahoo finance para FX\n",
        "Sym_divisas<-c(\"EURUSD=X\",\"GBPUSD=X\",\"USDMXN=X\" ) #tienen que ir en orden alfabético\n",
        "pos_div=c(700,-600,1500) #monto inicial invertido en divisas\n",
        "nh=3660 #días de historia"
      ],
      "metadata": {
        "id": "QuNbO84OLBsx"
      },
      "execution_count": 102,
      "outputs": []
    },
    {
      "cell_type": "code",
      "source": [
        "%%R\n",
        "#CARGA DE DATOS DE ACCIONES\n",
        "pos=cbind(t(pos_div),t(pos_acc))\n",
        "start_date=fval-nh #fecha inicial\n",
        "#Creación del objeto para guardar los datos\n",
        "acciones<-new.env()\n",
        "divisas<-new.env()\n",
        "#obtener los datos\n",
        "getSymbols.yahoo(Sym_acciones,env=acciones,from=start_date,to=fval)\n",
        "getSymbols.yahoo(Sym_divisas,env=divisas,from=start_date,to=fval)\n",
        "\n",
        "#limpiarlos, alinearnos y quedarnos con el precio de cierre \n",
        "bt.prep(acciones,align='remove.na',fill.gaps = T)\n",
        "bt.prep(divisas,align='remove.na',fill.gaps=T)\n",
        "\n",
        "precios_acc = acciones$prices\n",
        "precios_div = divisas$prices\n",
        "\n",
        "precios_div=cbind(precios_div[,1]*precios_div[,3],\n",
        "                     precios_div[,2]*precios_div[,3],precios_div[,3])\n",
        "\n",
        "precios_acc_div = merge(precios_acc,precios_div,join = \"inner\")\n",
        "tail(precios_acc_div)"
      ],
      "metadata": {
        "id": "9bX51boVQ4Va",
        "colab": {
          "base_uri": "https://localhost:8080/"
        },
        "outputId": "7b12e42e-e2a8-4e40-d02e-b617e258880b"
      },
      "execution_count": 103,
      "outputs": [
        {
          "output_type": "stream",
          "name": "stdout",
          "text": [
            "           AMXL.MX GCARSOA1.MX WALMEX.MX EURUSD.X GBPUSD.X USDMXN.X\n",
            "2021-03-23   14.07       54.02     62.73 24.55267 28.52265 20.57539\n",
            "2021-03-24   14.06       54.00     64.28 24.63700 28.57014 20.80791\n",
            "2021-03-25   14.13       54.78     65.48 24.66923 28.58649 20.88300\n",
            "2021-03-26   14.05       55.72     69.95 24.35762 28.43732 20.68303\n",
            "2021-03-29   14.27       58.10     66.31 24.32163 28.45434 20.63253\n",
            "2021-03-30   14.28       57.41     66.24 24.25697 28.38677 20.60738\n"
          ]
        }
      ]
    },
    {
      "cell_type": "code",
      "source": [
        "%%R\n",
        "aux2=data.table(Date=as.Date(index(precios_acc_div)),coredata(precios_acc_div))\n",
        "colnames(aux2) <- c(\"Date\",\"America\",\"Carso\",\"Walmart\",\"Euros\",\"Libras\",\"Dolares\")\n",
        "tail(aux2)"
      ],
      "metadata": {
        "id": "4Izwvzr9M4k9",
        "colab": {
          "base_uri": "https://localhost:8080/"
        },
        "outputId": "f8aad787-5196-4020-df1d-b2d0ab37644a"
      },
      "execution_count": 104,
      "outputs": [
        {
          "output_type": "stream",
          "name": "stdout",
          "text": [
            "         Date America Carso Walmart    Euros   Libras  Dolares\n",
            "1: 2021-03-23   14.07 54.02   62.73 24.55267 28.52265 20.57539\n",
            "2: 2021-03-24   14.06 54.00   64.28 24.63700 28.57014 20.80791\n",
            "3: 2021-03-25   14.13 54.78   65.48 24.66923 28.58649 20.88300\n",
            "4: 2021-03-26   14.05 55.72   69.95 24.35762 28.43732 20.68303\n",
            "5: 2021-03-29   14.27 58.10   66.31 24.32163 28.45434 20.63253\n",
            "6: 2021-03-30   14.28 57.41   66.24 24.25697 28.38677 20.60738\n"
          ]
        }
      ]
    },
    {
      "cell_type": "markdown",
      "source": [
        "## Bonos"
      ],
      "metadata": {
        "id": "zyq5WHzBgqbt"
      }
    },
    {
      "cell_type": "code",
      "source": [
        "%%R\n",
        "#CETES\n",
        "tasa_guber_bcc=\"Tarea-de-Riesgo-de-Mercado-SH/tasa_guber.txt\"\n",
        "plazos_bcc=cbind(180)\n",
        "contratos_bcc=cbind(1)\n",
        "nominal_bcc=1500 #CETE\n",
        "\n",
        "# BONO M\n",
        "tasa_fija_bm=\"Tarea-de-Riesgo-de-Mercado-SH/tasa_yield.txt\"\n",
        "tfcupon_bm=cbind( 0.065) #Tasafija del cupón\n",
        "plazos_bm=cbind( 3600) #Vencimiento del bono\n",
        "plazocupon_bm=cbind(360) #plazos fijos de cada cupón\n",
        "contratos_bm=cbind(1) #posición invertida\n",
        "nominal_bm=1000\n",
        "\n",
        "#BONDES D\n",
        "base_tasa_desc=\"Tarea-de-Riesgo-de-Mercado-SH/tasa_guber_st.txt\"\n",
        "base_tasa_fondeo=\"Tarea-de-Riesgo-de-Mercado-SH/tfondeo.txt\"\n",
        "plazo_bdm= 707 #Vencimiento del bono\n",
        "plazocupon_bdm = 28 #plazos_bdm fijos de cada cupón\n",
        "contratos_bdm = -1 #posición invertida\n",
        "nominal_bdm = 1000"
      ],
      "metadata": {
        "id": "PsrxaP23FuSO"
      },
      "execution_count": 105,
      "outputs": []
    },
    {
      "cell_type": "code",
      "source": [
        "%%R\n",
        "#Bono Cupon CERO\n",
        "data<-read.table(tasa_guber_bcc)\n",
        "n<-nrow(data)\n",
        "m_orig=ncol(data)\n",
        "X_orig_bcc=mutate(data.frame(data1[2:n,]), Date=as.Date(V1,format=\"%Y%m%d\"))\n",
        "X_orig_bcc=X_orig_bcc%>%select(-V1)\n",
        "nodos_bcc=data.frame(data[1,2:m_orig])\n",
        "\n",
        "## BONO M\n",
        "data1<-read.table(tasa_fija_bm)\n",
        "n<-nrow(data1)\n",
        "m_orig=ncol(data1)\n",
        "X_orig_bm=mutate(data.frame(data1[2:n,]), Date=as.Date(V1,format=\"%Y%m%d\"))\n",
        "X_orig_bm=X_orig_bm%>%select(-V1)\n",
        "nodos_bm=data.frame(data1[1,2:m_orig])\n",
        "n=n-1\n",
        "\n",
        "##BONDE\n",
        "data1<-read.table(base)\n",
        "n_bd<-nrow(data1)\n",
        "m_bd=ncol(data1)\n",
        "X1_orig=mutate(data.frame(data1[2:n,]), Date=as.Date(V1,format=\"%Y%m%d\"))\n",
        "X1_orig=X1_orig%>%select(-V1)\n",
        "nodos1_bd=data.frame(data1[1,2:m_bd])\n",
        "n_bd=n_bd-1\n",
        "\n",
        "data2<-read.table(base_tasa_fondeo)\n",
        "n2<-nrow(data2)\n",
        "X2_orig_bd=data.frame(data2[2:n2,])\n",
        "X2_orig_bd=mutate(X2_orig_bd, Date=as.Date(V1,format=\"%Y%m%d\"), V2=as.numeric(V2))\n",
        "X2_orig_bd=X2_orig_bd%>%select(-V1)\n",
        "tfh=seq(min(X2_orig_bd$Date), max(X2_orig_bd$Date), \"days\")\n",
        "tfhd=data.frame(ID=1:count(tfh),fecha=tfh)\n",
        "\n",
        "data3<-read.table(base_tasa_desc)\n",
        "n3<-nrow(data3)\n",
        "m3_bd=ncol(data3)\n",
        "X3_orig_bd=as.data.table(mutate(data3[2:n,],Date=as.Date(V1,format=\"%Y%m%d\")))\n",
        "X3_orig_bd=X3_orig_bd%>%select(-V1)\n",
        "nodos3_bd=data.frame(data3[1,2:m3_bd])\n",
        "n3=n3-1\n",
        "\n",
        "#Cruzar la sucesión de todos los días versus el de tasa de fondeo\n",
        "tfhd=setDT(tfhd)[, Date := tfh][order(-Date)]\n",
        "X2_orig_bd=setDT(X2_orig_bd)[, Date := Date][order(-Date)]\n",
        "X2_orig_bd=X2_orig_bd[tfhd, on = .(Date), roll = Inf]\n",
        "\n",
        "tf_act=X2_orig_bd[fecha==fval,]$V2/100\n",
        "tf_int=X2_orig_bd[fecha<=fval & fecha>=(fval-plazocupon_bdm[1])]$V2/100"
      ],
      "metadata": {
        "id": "CtesYwz_GMbq"
      },
      "execution_count": 106,
      "outputs": []
    },
    {
      "cell_type": "markdown",
      "source": [
        "## Futuros"
      ],
      "metadata": {
        "id": "q9S6cwTKgxUO"
      }
    },
    {
      "cell_type": "markdown",
      "source": [
        "## Swap's"
      ],
      "metadata": {
        "id": "it1wwRCngxbx"
      }
    },
    {
      "cell_type": "markdown",
      "source": [
        "## Opciones"
      ],
      "metadata": {
        "id": "LJ8Si1mTg8bz"
      }
    },
    {
      "cell_type": "markdown",
      "source": [
        "# Integración de insumos"
      ],
      "metadata": {
        "id": "qffwGKKZgGY4"
      }
    },
    {
      "cell_type": "code",
      "source": [
        "%%R\n",
        "fechas= data.table(Date=as.Date(aux2[X_orig_bcc,on=.(Date),nomatch=0]$Date)) #Fechas acciones, equity y guber\n",
        "fechas=data.table(Date=as.Date(fechas[X3_orig_bd,on=.(Date),nomatch=0]$Date)) #Fechas acciones, equity, guber y st (bonde)\n",
        "fechas=data.table(Date=as.Date(fechas[X_orig_bm,on=.(Date),nomatch=0]$Date)) #Fechas acciones, equity, guber, yield (bono M) y st (bonde)\n",
        "tail(fechas)"
      ],
      "metadata": {
        "colab": {
          "base_uri": "https://localhost:8080/"
        },
        "id": "sAjKhtL4e_og",
        "outputId": "dce06584-b2c1-4d2e-8917-6163b31a3da0"
      },
      "execution_count": 107,
      "outputs": [
        {
          "output_type": "stream",
          "name": "stdout",
          "text": [
            "         Date\n",
            "1: 2020-10-21\n",
            "2: 2020-10-20\n",
            "3: 2020-10-19\n",
            "4: 2020-10-16\n",
            "5: 2020-10-15\n",
            "6: 2020-10-14\n"
          ]
        }
      ]
    },
    {
      "cell_type": "markdown",
      "source": [
        "## Segreración de Datos"
      ],
      "metadata": {
        "id": "rAcb5Pi7hBd_"
      }
    },
    {
      "cell_type": "markdown",
      "source": [
        "### Acciones y Divisas"
      ],
      "metadata": {
        "id": "WAmYeQF_hGsH"
      }
    },
    {
      "cell_type": "code",
      "source": [
        "%%R\n",
        "n=nrow(fechas) #Historia de todos\n",
        "\n",
        "#historia de acciones y divisas\n",
        "precios_acc_div = fechas[aux2,on=.(Date),nomatch=0][order(-Date)]\n",
        "precios_acc_div = precios_acc_div%>%select(-Date)\n",
        "precios_acc_div"
      ],
      "metadata": {
        "colab": {
          "base_uri": "https://localhost:8080/"
        },
        "id": "iZNsImDTcMkS",
        "outputId": "1a15a293-d3b5-4fa5-faea-454ed327c976"
      },
      "execution_count": 109,
      "outputs": [
        {
          "output_type": "stream",
          "name": "stdout",
          "text": [
            "     America Carso Walmart    Euros   Libras  Dolares\n",
            "  1:   14.28 57.41   66.24 24.25697 28.38677 20.60738\n",
            "  2:   14.27 58.10   66.31 24.32163 28.45434 20.63253\n",
            "  3:   14.05 55.72   69.95 24.35762 28.43732 20.68303\n",
            "  4:   14.13 54.78   65.48 24.66923 28.58649 20.88300\n",
            "  5:   14.06 54.00   64.28 24.63700 28.57014 20.80791\n",
            " ---                                                 \n",
            "110:   13.88 42.42   51.90 24.95852 27.46057 21.20725\n",
            "111:   13.48 44.08   50.91 24.70658 27.26307 21.08880\n",
            "112:   13.48 44.08   50.91 24.91757 27.46087 21.28410\n",
            "113:   13.64 45.25   50.71 25.04541 27.75038 21.32617\n",
            "114:   13.79 46.25   50.77 25.05018 27.59543 21.33348\n"
          ]
        }
      ]
    },
    {
      "cell_type": "markdown",
      "source": [
        "### Bonos"
      ],
      "metadata": {
        "id": "waXjUUbdhNzP"
      }
    },
    {
      "cell_type": "code",
      "source": [
        "%%R\n",
        "#historia de curva gubernamental\n",
        "X_orig_bcc=fechas[X_orig_bcc,on=.(Date),nomatch=0][order(-Date)]\n",
        "X_orig_bcc=X_orig_bcc%>%select(-Date)\n",
        "\n",
        "## Historia Bono M\n",
        "X_orig_bm=fechas[X_orig_bm,on=.(Date),nomatch=0][order(-Date)]\n",
        "X_orig_bm=X_orig_bm%>%select(-Date)\n",
        "\n",
        "#Historia de curvas de bonde\n",
        "#CONSIDERAR LA CURVA GUBERNAMENTAL X1_ORIG_GOV\n",
        "X1_orig=fechas[X1_orig,on=.(Date),nomatch=0][order(-Date)]\n",
        "X1_orig=X1_orig%>%select(-Date)\n",
        "\n",
        "X2_orig_bd=fechas[X2_orig_bd,on=.(Date),nomatch=0][order(-Date)]\n",
        "X2_orig_bd=X2_orig_bd%>%select(-Date)\n",
        "\n",
        "X3_orig_bd=fechas[X3_orig_bd,on=.(Date),nomatch=0][order(-Date)]\n",
        "X3_orig_bd=X3_orig_bd%>%select(-Date)"
      ],
      "metadata": {
        "id": "QtM0-MrOaOCw"
      },
      "execution_count": 110,
      "outputs": []
    },
    {
      "cell_type": "markdown",
      "source": [
        "### Futuros"
      ],
      "metadata": {
        "id": "o9MRQQfzhNzP"
      }
    },
    {
      "cell_type": "markdown",
      "source": [
        "### Swap's"
      ],
      "metadata": {
        "id": "hHMRtZ2ohNzP"
      }
    },
    {
      "cell_type": "markdown",
      "source": [
        "### Opciones"
      ],
      "metadata": {
        "id": "axQcIZEHhNzQ"
      }
    },
    {
      "cell_type": "markdown",
      "source": [
        "# Simulación Historica"
      ],
      "metadata": {
        "id": "6dcOTazagPHL"
      }
    },
    {
      "cell_type": "markdown",
      "source": [
        "## Acciones y Divisas"
      ],
      "metadata": {
        "id": "VyiF-SWegSg2"
      }
    },
    {
      "cell_type": "code",
      "source": [
        "%%R\n",
        "x0_acc_div=precios_acc_div[1,]\n",
        "DeltaX_acc_div=as.matrix(log(precios_acc_div[1:(n-1)]/precios_acc_div[2:(n)]))\n",
        "V0_acc_div=cbind(t(pos_acc),t(pos_div))*x0_acc_div\n",
        "m_acc=length(pos_acc)\n",
        "m_div=length(pos_div)\n",
        "\n",
        "print(\"Precio Actual\")\n",
        "print(x0_acc_div)\n",
        "\n",
        "print(\"Valor del portafolio\")\n",
        "print(V0_acc_div)"
      ],
      "metadata": {
        "colab": {
          "base_uri": "https://localhost:8080/"
        },
        "id": "YSwMh1DcfjL0",
        "outputId": "dc9f0c5c-4405-4c5a-9ab9-0ad59060f148"
      },
      "execution_count": 63,
      "outputs": [
        {
          "output_type": "stream",
          "name": "stdout",
          "text": [
            "[1] \"Precio Actual\"\n",
            "   America Carso Walmart    Euros   Libras  Dolares\n",
            "1:   14.28 57.41   66.24 24.25697 28.38677 20.60738\n",
            "[1] \"Valor del portafolio\"\n",
            "   America Carso Walmart    Euros    Libras  Dolares\n",
            "1:  -71400 57410   79488 16979.88 -17032.06 30911.07\n"
          ]
        }
      ]
    },
    {
      "cell_type": "markdown",
      "source": [
        "## Bonos"
      ],
      "metadata": {
        "id": "vzNjISiFhXaJ"
      }
    },
    {
      "cell_type": "code",
      "source": [
        "%%R\n",
        "## CETE\n",
        "m_bcc=ncol(plazos_bcc)\n",
        "X_bcc=matrix(0,n,m_bcc)\n",
        "for (i in 1:n){\n",
        "    X_bcc[i,]=if(itpl==0){approx(as.matrix(nodos_bcc),as.matrix(X_orig_bcc[i,]),plazos_bcc)$y}else{talamb(as.matrix(nodos_bcc),as.matrix(X_orig_bcc[i,]),plazos_bcc)}\n",
        "}\n",
        "\n",
        "bonocupcero = function(i,t)\n",
        "{\n",
        "1/(1+i*t/360)\n",
        "}\n",
        "\n",
        "x0_bcc=X_bcc[1,]\n",
        "V0_bcc=bonocupcero(x0_bcc,plazos_bcc)*contratos_bcc*nominal_bcc #Valor actual de cada bono\n",
        "print(\"Valor del CETE\")\n",
        "print(V0_bcc)\n",
        "\n",
        "##Bono M\n",
        "m=ncol(plazos_bm)\n",
        "X_bm=matrix(0,n,m)\n",
        "for (i in 1:(n)){\n",
        "  X_bm[i,]=if(itpl==0){approx(as.matrix(nodos_bm),as.matrix(X_orig_bm[i,]),plazos_bm)$y}else{talamb(as.matrix(nodos_bm),as.matrix(X_orig_bm[i,]),plazos_bm)}\n",
        "}\n",
        "\n",
        "#Función de valoración por tasa yield\n",
        "bonoMyield=function(x, plazos, plazocupon, tfcupon, nominal, contratos) #valoración bono tasa fija\n",
        "{\n",
        "N=as.integer(plazos/plazocupon)+1\n",
        "a=(1-(1+x*plazocupon/360)^(-N))/(plazocupon*x/360)\n",
        "p1=plazos-plazocupon*(N-1)   \n",
        "((contratos*nominal*tfcupon*plazocupon/360)*a+(contratos*nominal)/((1+x*plazocupon/360)^N))*(1+x*plazocupon/360)^(1-p1/plazocupon)   \n",
        "}\n",
        "\n",
        "x0_bm=X_bm[1,] #tasas de descuento valor actual\n",
        "V0_bm = bonoMyield(x0_bm,plazos_bm, plazocupon_bm, tfcupon_bm, nominal_bm, contratos_bm)\n",
        "print(\"Valor del Bono M\")\n",
        "print(V0_bm)\n",
        "\n",
        "\n",
        "#BONDE D CÁLCULO\n",
        "m=1\n",
        "\n",
        "N_bd=as.integer(plazo_bdm/plazocupon_bdm)+1 #número de cupones a pagar\n",
        "VTplazos_bdm=matrix(0,1,sum(N_bd)) #vector de todos los plazos_bdm de todos los contratos_bdm\n",
        "contratos_bdmT=matrix(0,1,sum(N_bd)) #vector de todos los contratos_bdm de todos los flujos de todos los contratos_bdm\n",
        "nominal_bdmT=matrix(0,1,sum(N_bd)) #vector de todos los nominal_bdmes de todos los flujos de todos los contratos_bdm\n",
        "plazocupon_bdmT=matrix(0,1,sum(N_bd)) #vector de todos los plazos_bdmcupon de todos los flujos de todos los contratos_bdm\n",
        "tasafijaT_bd=matrix(0,1,sum(N_bd)) #vector de tasas fijas de todos los flujos de todos los contratos_bdm\n",
        "ulNomT_bd=matrix(0,1,sum(N_bd)) #vector de contratos_bdm a final de flujo\n",
        "\n",
        "plazini_bd=plazo_bdm-plazocupon_bdm*(N_bd-1) #vector de plazos_bdm iniciales\n",
        "ddv=plazocupon_bdm-plazini_bd #dias trasncurridos del cupón vigente\n",
        "tfcupon=matrix(0,1,m)  #El primero cupón de cada bono\n",
        "tfcupondev=matrix(0,1,m) #cupón de los días devengados\n",
        "tfcupgen=((1+tf_act/360)^(plazocupon_bdm[1])-1)*360/plazocupon_bdm[1] #el segundo al último cupón de todos los bonos\n",
        "\n",
        "for (j in (1:m)){\n",
        "  tfcupondev[j]=(prod(1+tf_int[(1:ddv[j])]/360)-1)*360/ddv[j]\n",
        "  tfcupon[j]=((1+tfcupondev[j]*ddv[j]/360)*(1+tf_act/360)^(plazocupon_bdm[1]-ddv[j])-1)*360/plazocupon_bdm[1]\n",
        "}\n",
        "\n",
        "for (j in (1:m)){\n",
        "  if (j==1){\n",
        "    VTplazos_bdm[,1:sum(N_bd[1:j])]=seq(plazini_bd[j],plazo_bdm[j], by=plazocupon_bdm[j])\n",
        "    contratos_bdmT[,1:sum(N_bd[1:j])]=seq(contratos_bdm[j],contratos_bdm[j])\n",
        "    plazocupon_bdmT[,1:sum(N_bd[1:j])]=seq(plazocupon_bdm[j],plazocupon_bdm[j])\n",
        "    ulNomT_bd[,sum(N_bd[1:j])]=contratos_bdm[j]\n",
        "    tasafijaT_bd[,1]=tfcupon[j]\n",
        "    tasafijaT_bd[,2:sum(N_bd[1:j])]=seq(tfcupgen,tfcupgen)\n",
        "  }\n",
        "  else{\n",
        "    VTplazos_bdm[,(sum(N_bd[1:j-1])+1):sum(N_bd[1:j])]=seq(plazini_bd[j],plazo_bdm[j], by=plazocupon_bdm[j])\n",
        "    contratos_bdmT[,(sum(N_bd[1:j-1])+1):sum(N_bd[1:j])]=seq(contratos_bdm[j],contratos_bdm[j])\t\t\t\t\t\n",
        "    plazocupon_bdmT[,(sum(N_bd[1:j-1])+1):sum(N_bd[1:j])]=seq(plazocupon_bdm[j],plazocupon_bdm[j])\n",
        "    tasafijaT_bd[,(sum(N_bd[1:j-1])+1)]=tfcupon[j]\n",
        "    tasafijaT_bd[,(sum(N_bd[1:j-1])+2):sum(N_bd[1:j])]=seq(tfcupgen,tfcupgen)\n",
        "    ulNomT_bd[,sum(N_bd[1:j])]=contratos_bdm[j]\n",
        "  }\n",
        "}\n",
        "\n",
        "Xvp_bd=matrix(0,n,ncol(VTplazos_bdm))\n",
        "Xst_bd=matrix(0,n,ncol(VTplazos_bdm))\n",
        "\n",
        "for (i in (1:n)){\n",
        "  Xvp_bd[i,]=if(itpl==0){approx(as.matrix(nodos1_bd),as.matrix(X1_orig[i,]),VTplazos_bdm,rule=2)$y}else{talamb(as.matrix(nodos1_bd),as.matrix(X1_orig[i,]),VTplazos_bdm)}\n",
        "  Xst_bd[i,]=if(itpl==0){approx(as.matrix(nodos3_bd),as.matrix(X3_orig_bd[i,]),VTplazos_bdm,rule=2)$y}else{talamb(as.matrix(nodos3_bd),as.matrix(X3_orig_bd[i,]),VTplazos_bdm)}\n",
        "}\n",
        "\n",
        "X_bd_tc=matrix(1,n,ncol(contratos_bdmT))*X2_orig_bd$V2/100\n",
        "X_bd_ext=cbind(X_bd_tc,as.matrix(Xvp_bd),as.matrix(Xst_bd))\n",
        "\n",
        "bondeD=function(contratos_bdmT,  nominal_bdm, tf_act, plazocupon_bdmT, VTplazos_bdm, Xvp, Xst, N,ddv){\n",
        "  tfcupon=matrix(0,1,m)  #El primero cupón de cada bono\n",
        "  tfcupondev=matrix(0,1,m) #cupón de los días devengados\n",
        "  tfcupgen=((1+tf_act/360)^(plazocupon_bdm[1])-1)*360/plazocupon_bdm[1] #el segundo al último cupón de todos los bonos\n",
        "  tasafijaT=matrix(0,1,sum(N))\n",
        "  #calcula cupones de bonos\n",
        "  for (j in (1:m))\n",
        "  {\n",
        "    tfcupondev[j]=(prod(1+tf_int[(1:ddv[j])]/360)-1)*360/ddv[j]\n",
        "    tfcupon[j]=((1+tfcupondev[j]*ddv[j]/360)*(1+tf_act/360)^(plazocupon_bdm[1]-ddv[j])-1)*360/plazocupon_bdm[1]\n",
        "  }\n",
        "  \n",
        "  \n",
        "  for (j in (1:m))\n",
        "  {\n",
        "    if (j==1)\n",
        "    {\n",
        "      tasafijaT[,1]=tfcupon[j]\n",
        "      tasafijaT[,2:sum(N[1:j])]=seq(tfcupgen,tfcupgen)\n",
        "    }\n",
        "    else\n",
        "    {\n",
        "      tasafijaT[,(sum(N[1:j-1])+1)]=tfcupon[j]\n",
        "      tasafijaT[,(sum(N[1:j-1])+2):sum(N[1:j])]=seq(tfcupgen,tfcupgen)\n",
        "    }\n",
        "  }\n",
        "  \n",
        "  \n",
        "  V0=matrix(0,1,count(N))\n",
        "  V0f=((((contratos_bdmT*(tasafijaT)*(plazocupon_bdmT/360))+ulNomT_bd)/(1+(Xvp+Xst)*VTplazos_bdm/360)))*nominal_bdm\n",
        "  for (j in (1:count(N)))\n",
        "  {\n",
        "    if(j==1)\n",
        "    {\n",
        "      V0[j]=sum(V0f[j:N[j]])\n",
        "    }\n",
        "    else\n",
        "    {\n",
        "      V0[j]=sum(V0f[(sum(N[1:j-1])+1):(sum(N[1:j]))])\n",
        "    }\n",
        "  }\n",
        "  V0\n",
        "} \n",
        "\n",
        "\n",
        "V0_bd=bondeD(contratos_bdmT, nominal_bdm, tf_act, plazocupon_bdmT, VTplazos_bdm, Xvp_bd[1,], Xst_bd[1,], N_bd,ddv)\n",
        "print(\"Valor del BONDE\")\n",
        "print(V0_bd)\n",
        "\n",
        "\n",
        "m_bcc <- ncol(X_bcc)\n",
        "m_bm <- ncol(X_bm)\n",
        "m_bd <- ncol(X_bd_ext)\n",
        "X_bonos <- cbind(X_bcc,X_bm,X_bd_ext)\n",
        "V0_bonos <- cbind(V0_bcc,V0_bm,V0_bd)"
      ],
      "metadata": {
        "colab": {
          "base_uri": "https://localhost:8080/"
        },
        "id": "FINGaX-YdLrh",
        "outputId": "38f04c64-d228-4b47-86d4-73ac600c4275"
      },
      "execution_count": 140,
      "outputs": [
        {
          "output_type": "stream",
          "name": "stdout",
          "text": [
            "[1] \"Valor del CETE\"\n",
            "         [,1]\n",
            "[1,] 1462.448\n",
            "[1] \"Valor del Bono M\"\n",
            "         [,1]\n",
            "[1,] 1108.391\n",
            "[1] \"Valor del BONDE\"\n",
            "          [,1]\n",
            "[1,] -930.9849\n"
          ]
        }
      ]
    },
    {
      "cell_type": "markdown",
      "source": [
        "## Futuros"
      ],
      "metadata": {
        "id": "r7nVDF__hXaJ"
      }
    },
    {
      "cell_type": "markdown",
      "source": [
        "## Swap's"
      ],
      "metadata": {
        "id": "CodvqixqhXaK"
      }
    },
    {
      "cell_type": "markdown",
      "source": [
        "## Opciones"
      ],
      "metadata": {
        "id": "O8rGxAp_hXaK"
      }
    },
    {
      "cell_type": "markdown",
      "source": [
        "# Medición de Riesgo\n"
      ],
      "metadata": {
        "id": "rR8FpnXglE2_"
      }
    },
    {
      "cell_type": "code",
      "source": [
        "%%R\n",
        "#DIMENSION DE TODOS LOS INSTRUMENTOS\n",
        "#Son 8 instrumentos financieros (9 si separamos acciones y divisas)\n",
        "n_if=matrix(0,6,1)\n",
        "n_if[1]=ncol(precios_acc_div) #acciones y divisas\n",
        "n_if[2]=ncol(X_bonos) #bonde\n",
        "#n_if[3]=ncol(X_sw) #swaps\n",
        "#n_if[4]=ncol(X_oir) #opciones tasa de interés\n",
        "#n_if[5]=ncol(X_futtdc) #Forwards de tipo de cambio\n",
        "#n_if[6]=ncol(X_futind) #Forwards de índices\n",
        "rownames(n_if) <- c(\"Acciones y Divisas\",\"Bonos\",\"Futuros TDC\",\"Futuros IPC\",\"Swap's\",\"Opciones\")\n",
        "\n",
        "#valor del portafolios\n",
        "\n",
        "#V0_port=cbind(V0_acc_div, V0_bd, V0_sw, V0_oir,V0_fwtdc,V0_fwind)\n",
        "V0_port=cbind(V0_acc_div,V0_bonos)\n",
        "V0T_port=sum(V0_port)\n",
        "\n",
        "\n",
        "#INTEGRACIÓN DE TODOS LOS FACTORES DE RIESGO EN UNA MATRIZ\n",
        "#X_port=cbind(precios_acc_div,X_bd_ext,X_sw,X_oir,X_futtdc,X_futind) #Factores de riesgo del portafolios de 8(9) instrumentos financieros\n",
        "X_port=cbind(precios_acc_div,X_bonos) #Factores de riesgo del portafolios de 8(9) instrumentos financieros\n",
        "\n",
        "#Cálculo de variaciones Delta_X DEL PORTAFOLIOS\n",
        "DeltaX_port=as.matrix(log(X_port[1:(n-1)]/X_port[2:(n)]))\n",
        "DeltaX_port[is.nan(DeltaX_port)] <- 0 #quitamos NaN\n",
        "DeltaX_port[is.na(DeltaX_port)] <- 0 #quitamos Na\n",
        "DeltaX_port[is.infinite(DeltaX_port)] <- 0 #quitamos Na\n",
        "\n",
        "\n",
        "Ns=nrow(DeltaX_port) #Definimos número de escenarios históricos\n",
        "#alpha=0.98 #Nivel de Confianza para las medidas de riesgo\n",
        "\n",
        "DeltaX_s=DeltaX_port\n",
        "#print(\"Matriz de Rendimientos del Portafolio\")\n",
        "#print(head(DeltaX_s))\n",
        "print(\"Número de Factores de Riesgo\")\n",
        "print(ncol(DeltaX_s))\n",
        "print(\"Número de Datos\")\n",
        "print(nrow(DeltaX_s))\n",
        "print(\"Número de Factores de Riesgo por Insumo\")\n",
        "print(n_if)"
      ],
      "metadata": {
        "colab": {
          "base_uri": "https://localhost:8080/"
        },
        "id": "uhFpjC8Jlo4t",
        "outputId": "3663fadf-deb4-407f-9571-b264fc406a99"
      },
      "execution_count": 118,
      "outputs": [
        {
          "output_type": "stream",
          "name": "stdout",
          "text": [
            "[1] \"Número de Factores de Riesgo\"\n",
            "[1] 86\n",
            "[1] \"Número de Datos\"\n",
            "[1] 113\n",
            "[1] \"Número de Factores de Riesgo por Insumo\"\n",
            "                   [,1]\n",
            "Acciones y Divisas    6\n",
            "Bonos                80\n",
            "Futuros TDC           0\n",
            "Futuros IPC           0\n",
            "Swap's                0\n",
            "Opciones              0\n"
          ]
        }
      ]
    },
    {
      "cell_type": "markdown",
      "source": [
        "## Acciones y Divisas"
      ],
      "metadata": {
        "id": "5UVpwclJlVFM"
      }
    },
    {
      "cell_type": "code",
      "source": [
        "%%R\n",
        "m=m_acc+m_div    #PASO CLAVE\n",
        "X_s_acc_div=matrix(0,Ns,m)\n",
        "V_acc_div=matrix(0,Ns,m)\n",
        "Vfr1_acc_div=matrix(0,Ns,m_acc)\n",
        "Vfr2_acc_div=matrix(0,Ns,m_div)\n",
        "PG_acc_div=matrix(0,Ns,m) #Pèrdidas y ganancias\n",
        "PGfr1_acc_div=matrix(0,Ns,m_acc)\n",
        "PGfr2_acc_div=matrix(0,Ns,m_div)\n",
        "PGT_acc_div=matrix(0,Ns,1)\n",
        "PGfr1T_acc_div=matrix(0,Ns,1)\n",
        "PGfr2T_acc_div=matrix(0,Ns,1)"
      ],
      "metadata": {
        "id": "dHAKFwlCo3Iw"
      },
      "execution_count": null,
      "outputs": []
    },
    {
      "cell_type": "code",
      "source": [
        "%%R\n",
        "DeltaX_s_acc_div=DeltaX_s[,(1:m)]\n",
        "x0_acc_div=precios_acc_div[1,]\n",
        "\n",
        "for (i in 1:Ns)\n",
        "{\n",
        "  X_s_acc_div[i,]=as.matrix(x0_acc_div*exp(DeltaX_s_acc_div[i,]))\n",
        "  V_acc_div[i,]=cbind(t(pos_acc),t(pos_div))*X_s_acc_div[i,]\n",
        "\n",
        "  Vfr1_acc_div[i,]=t(pos_acc)*X_s_acc_div[i,1:m_acc]\n",
        "  Vfr2_acc_div[i,]=t(pos_div)*X_s_acc_div[i,(m_acc+1):m]\n",
        "\n",
        "  PG_acc_div[i,]=as.matrix(V_acc_div[i,]-V0_acc_div)\n",
        "\n",
        "  PGfr1_acc_div[i,]=as.matrix(Vfr1_acc_div[i,]-V0_acc_div[,1:m_acc])\n",
        "  PGfr2_acc_div[i,]=as.matrix(Vfr2_acc_div[i,]-V0_acc_div[,(m_acc+1):m])\n",
        "\n",
        "  PGT_acc_div[i,]=sum(PG_acc_div[i,])\n",
        "\n",
        "  PGfr1T_acc_div[i,]=sum(PGfr1_acc_div[i,])\n",
        "  PGfr2T_acc_div[i,]=sum(PGfr2_acc_div[i,])\n",
        "}"
      ],
      "metadata": {
        "id": "DOLNF-VBpLQ7"
      },
      "execution_count": null,
      "outputs": []
    },
    {
      "cell_type": "code",
      "source": [
        "%%R\n",
        "print(\"Perdida/Ganancias de acciones y divisas\")\n",
        "print(head(PG_acc_div))\n",
        "print(\"Perdidas/Ganancias de acciones\")\n",
        "print(head(PGfr1_acc_div))\n",
        "print(\"Perdidas/Ganancias de divisas\")\n",
        "print(head(PGfr2_acc_div))\n",
        "print(\"Perdidas/Ganancias totales de acciones y divisas\")\n",
        "print(head(PGT_acc_div))\n",
        "print(\"Perdidas/Ganancias totales de acciones\")\n",
        "print(head(PGfr1T_acc_div))\n",
        "print(\"Perdidas/Ganancias totales de divisas\")\n",
        "print(head(PGfr2T_acc_div))"
      ],
      "metadata": {
        "colab": {
          "base_uri": "https://localhost:8080/"
        },
        "id": "pDFzhM42uPyU",
        "outputId": "de2ccbbe-b497-4738-a038-55a4877dd402"
      },
      "execution_count": null,
      "outputs": [
        {
          "output_type": "stream",
          "name": "stdout",
          "text": [
            "[1] \"Perdida/Ganancias de acciones y divisas\"\n",
            "           [,1]        [,2]        [,3]       [,4]      [,5]       [,6]\n",
            "[1,] -1882.9931   890.53688  1933.29002   30.01090  14.92095 -130.59748\n",
            "[2,]  -255.0674  -761.22966  2201.76179   40.00016 109.62618 -186.47594\n",
            "[3,]   101.9203 -1491.92700 -1539.27087   64.32902  38.91264   90.95452\n",
            "[4,]  1408.0051    39.28302  1551.05679  -66.97251  51.32280  -53.71657\n",
            "[5,]  -454.5194   157.45672    37.53721 -118.54352 136.32683 -236.36914\n",
            "[6,]  -916.9320  1918.04583   718.46750  -67.82311 106.44992  -67.01014\n",
            "[1] \"Perdidas/Ganancias de acciones\"\n",
            "           [,1]        [,2]        [,3]\n",
            "[1,] -1882.9931   890.53688  1933.29002\n",
            "[2,]  -255.0674  -761.22966  2201.76179\n",
            "[3,]   101.9203 -1491.92700 -1539.27087\n",
            "[4,]  1408.0051    39.28302  1551.05679\n",
            "[5,]  -454.5194   157.45672    37.53721\n",
            "[6,]  -916.9320  1918.04583   718.46750\n",
            "[1] \"Perdidas/Ganancias de divisas\"\n",
            "           [,1]      [,2]       [,3]\n",
            "[1,]   30.01090  14.92095 -130.59748\n",
            "[2,]   40.00016 109.62618 -186.47594\n",
            "[3,]   64.32902  38.91264   90.95452\n",
            "[4,]  -66.97251  51.32280  -53.71657\n",
            "[5,] -118.54352 136.32683 -236.36914\n",
            "[6,]  -67.82311 106.44992  -67.01014\n",
            "[1] \"Perdidas/Ganancias totales de acciones y divisas\"\n",
            "           [,1]\n",
            "[1,]   855.1681\n",
            "[2,]  1148.6152\n",
            "[3,] -2735.0814\n",
            "[4,]  2928.9786\n",
            "[5,]  -478.1113\n",
            "[6,]  1691.1980\n",
            "[1] \"Perdidas/Ganancias totales de acciones\"\n",
            "           [,1]\n",
            "[1,]   940.8338\n",
            "[2,]  1185.4648\n",
            "[3,] -2929.2776\n",
            "[4,]  2998.3449\n",
            "[5,]  -259.5255\n",
            "[6,]  1719.5813\n",
            "[1] \"Perdidas/Ganancias totales de divisas\"\n",
            "           [,1]\n",
            "[1,]  -85.66562\n",
            "[2,]  -36.84961\n",
            "[3,]  194.19618\n",
            "[4,]  -69.36628\n",
            "[5,] -218.58583\n",
            "[6,]  -28.38333\n"
          ]
        }
      ]
    },
    {
      "cell_type": "code",
      "source": [
        "%%R\n",
        "w0=1-alpha\n",
        "n = Ns\n",
        "lambda =uniroot(function(x) w0*(1-x^(n))/(1-x)-1, c(0,0.99), tol = 1e-28)$root\n",
        "\n",
        "p_esc=genera_esc(lambda,w0,n)\n",
        "print(\"Pesos para el Alisado\")\n",
        "print(head(p_esc))\n",
        "print(tail(p_esc))\n",
        "print(\"Validación de los pesos\")\n",
        "sum(p_esc) #validamos que sume 1"
      ],
      "metadata": {
        "colab": {
          "base_uri": "https://localhost:8080/"
        },
        "id": "IZmOn31Yy6z6",
        "outputId": "9153b644-c129-430d-ca75-25a9f46a725f"
      },
      "execution_count": null,
      "outputs": [
        {
          "output_type": "stream",
          "name": "stdout",
          "text": [
            "[1] \"Pesos para el Alisado\"\n",
            "           [,1]\n",
            "[1,] 0.02000000\n",
            "[2,] 0.01960000\n",
            "[3,] 0.01920800\n",
            "[4,] 0.01882384\n",
            "[5,] 0.01844736\n",
            "[6,] 0.01807842\n",
            "                [,1]\n",
            "[2509,] 1.977096e-24\n",
            "[2510,] 1.937554e-24\n",
            "[2511,] 1.898803e-24\n",
            "[2512,] 1.860827e-24\n",
            "[2513,] 1.823611e-24\n",
            "[2514,] 1.787139e-24\n",
            "[1] \"Validación de los pesos\"\n",
            "[1] 1\n"
          ]
        }
      ]
    },
    {
      "cell_type": "code",
      "source": [
        "%%R\n",
        "#VaR por posición\n",
        "VaRCont_acc_div=matrix(0,1,m)\n",
        "VaRfr1_acc_div=matrix(0,1,m_acc)\n",
        "VaRfr2_acc_div=matrix(0,1,m_div)\n",
        "\n",
        "CVaRCont_acc_div=matrix(0,1,m)\n",
        "CVaRfr1_acc_div=matrix(0,1,m_acc)\n",
        "CVaRfr2_acc_div=matrix(0,1,m_div)\n",
        "\n",
        "VaRCont_CA_acc_div=matrix(0,1,m)\n",
        "VaRfr1_CA_acc_div=matrix(0,1,m_acc)\n",
        "VaRfr2_CA_acc_div=matrix(0,1,m_div)\n",
        "\n",
        "CVaRCont_CA_acc_div=matrix(0,1,m)\n",
        "CVaRfr1_CA_acc_div=matrix(0,1,m_acc)\n",
        "CVaRfr2_CA_acc_div=matrix(0,1,m_div)"
      ],
      "metadata": {
        "id": "lvEooEq7uyzW"
      },
      "execution_count": null,
      "outputs": []
    },
    {
      "cell_type": "code",
      "source": [
        "%%R\n",
        "for (i in (1:m))\n",
        "{\n",
        "  #VaR de accines y divisas sin alisado\n",
        "  VaRCont_acc_div[i]=equantile(PG_acc_div[,i],1-alpha,Ns)\n",
        "  #CVaR de acciones y divisas sin alisado\n",
        "  CVaRCont_acc_div[i]= mean(merge(which(PG_acc_div[,i]<VaRCont_acc_div[i]),cbind(seq(1,Ns),PG_acc_div[,i]), by.x=1,by.y=1)[,2])\n",
        "  #VaR de acciones y divisas con alisado\n",
        "  VaRCont_CA_acc_div[i]=wquantile(PG_acc_div[,i],p_esc, 1-alpha)\n",
        "  #CVaR de acciones y divisas con alisado\n",
        "  CVaRCont_CA_acc_div[i]= wcvar(PG_acc_div[,i],p_esc, 1-alpha)\n",
        "}\n",
        "\n",
        "#VaR por acciones\n",
        "VaRfr1_acc_div <- as.matrix(t(VaRCont_acc_div[1:m_acc]))\n",
        "#VaR por divisas\n",
        "VaRfr2_acc_div <- as.matrix(t(VaRCont_acc_div[(m_acc+1):m]))\n",
        "\n",
        "#CVar por acciones\n",
        "CVaRfr1_acc_div <- as.matrix(t(CVaRCont_acc_div[1:m_acc]))\n",
        "#CVar por divisas\n",
        "CVaRfr2_acc_div <- as.matrix(t(CVaRCont_acc_div[(m_acc+1):m]))\n",
        "\n",
        "#Var con alisado por acciones\n",
        "VaRfr1_CA_acc_div <- as.matrix(t(VaRCont_CA_acc_div[1:m_acc]))\n",
        "#Var con alsiado por divisas\n",
        "VaRfr2_CA_acc_div <- as.matrix(t(VaRCont_CA_acc_div[(m_acc+1):m]))\n",
        "\n",
        "#CVar con alisado por acciones\n",
        "CVaRfr1_CA_acc_div <- as.matrix(t(CVaRCont_CA_acc_div[1:m_acc]))\n",
        "#CVar con alisado por divisas\n",
        "CVaRfr2_CA_acc_div <- as.matrix(t(CVaRCont_CA_acc_div[(m_acc+1):m]))\n",
        "\n",
        "#Var sin alisado total\n",
        "VaRTotal_acc_div=equantile(PGT_acc_div,1-alpha,Ns)\n",
        "VaRTotalfr1_acc_div=equantile(PGfr1T_acc_div,1-alpha,Ns)\n",
        "VaRTotalfr2_acc_div=equantile(PGfr2T_acc_div,1-alpha,Ns)\n",
        "\n",
        "#CVar sin alisado total\n",
        "CVaRTotal_acc_div= mean(merge(which(PGT_acc_div<VaRTotal_acc_div),cbind(seq(1,Ns),PGT_acc_div), by.x=1,by.y=1)[,2])\n",
        "CVaRTotalfr1_acc_div= mean(PGfr1T_acc_div[which(PGfr1T_acc_div<VaRTotalfr1_acc_div),])\n",
        "CVaRTotalfr2_acc_div= mean(PGfr2T_acc_div[which(PGfr2T_acc_div<VaRTotalfr2_acc_div),])\n",
        "\n",
        "#Var con alisado total\n",
        "VaRTotal_CA_acc_div=wquantile(PGT_acc_div,p_esc,1-alpha)\n",
        "VaRTotalfr1_CA_acc_div=wquantile(PGfr1T_acc_div,p_esc,1-alpha)\n",
        "VaRTotalfr2_CA_acc_div=wquantile(PGfr2T_acc_div,p_esc,1-alpha)\n",
        "\n",
        "#CVar con alisado total\n",
        "CVaRTotal_CA_acc_div= wcvar(PGT_acc_div,p_esc,1-alpha)\n",
        "CVaRTotalfr1_CA_acc_div= wcvar(PGfr1T_acc_div,p_esc,1-alpha)\n",
        "CVaRTotalfr2_CA_acc_div= wcvar(PGfr2T_acc_div,p_esc,1-alpha)"
      ],
      "metadata": {
        "id": "CBInuRDQu8FR"
      },
      "execution_count": null,
      "outputs": []
    },
    {
      "cell_type": "markdown",
      "source": [
        "### Valor en Riesgo"
      ],
      "metadata": {
        "id": "52rLdFMd3OC1"
      }
    },
    {
      "cell_type": "code",
      "source": [
        "%%R\n",
        "colnames(VaRCont_acc_div) <- c(acc_names,div_names)\n",
        "colnames(VaRfr1_acc_div) <- acc_names\n",
        "colnames(VaRfr2_acc_div) <- div_names\n",
        "colnames(VaRCont_CA_acc_div) <- c(acc_names,div_names)\n",
        "colnames(VaRfr1_CA_acc_div) <- acc_names\n",
        "colnames(VaRfr2_CA_acc_div) <- div_names\n",
        "\n",
        "colnames(CVaRCont_acc_div) <- c(acc_names,div_names)\n",
        "colnames(CVaRfr1_acc_div) <- acc_names\n",
        "colnames(CVaRfr2_acc_div) <- div_names\n",
        "colnames(CVaRCont_CA_acc_div) <- c(acc_names,div_names)\n",
        "colnames(CVaRfr1_CA_acc_div) <- acc_names\n",
        "colnames(CVaRfr2_CA_acc_div) <- div_names"
      ],
      "metadata": {
        "id": "R0UzsB8P5C-p"
      },
      "execution_count": null,
      "outputs": []
    },
    {
      "cell_type": "code",
      "source": [
        "%%R\n",
        "print(\"VaR por acciones y divisas\")\n",
        "VaR_acc_div <- as.matrix(rbind(VaRCont_acc_div,VaRCont_CA_acc_div,V0_acc_div))\n",
        "rownames(VaR_acc_div) <- c(\"Sin alisado\",\"Con alisado\",\"Valor portafolio\")\n",
        "print(VaR_acc_div)\n",
        "\n",
        "print(\"VaR Total\")\n",
        "VaR_Total_acc_div <- as.matrix(rbind(cbind(VaRTotal_acc_div,VaRTotalfr1_acc_div,VaRTotalfr2_acc_div),\n",
        "                                     cbind(VaRTotal_CA_acc_div,VaRTotalfr1_CA_acc_div,VaRTotalfr2_CA_acc_div),\n",
        "                                     cbind(sum(V0_acc_div),sum(V0_acc_div[,1:m_acc]),sum(V0_acc_div[,(m_acc+1):m]))))\n",
        "rownames(VaR_Total_acc_div) <- c(\"Sin alisado\",\"Con alisado\",\"Valor portafolio\")\n",
        "colnames(VaR_Total_acc_div) <- c(\"Total\",\"Acciones\",\"Divisas\")\n",
        "print(VaR_Total_acc_div)"
      ],
      "metadata": {
        "colab": {
          "base_uri": "https://localhost:8080/"
        },
        "id": "m9T-flPp3SqS",
        "outputId": "d2e0cf5d-94ba-4ebe-d7bd-ebb8317787cf"
      },
      "execution_count": null,
      "outputs": [
        {
          "output_type": "stream",
          "name": "stdout",
          "text": [
            "[1] \"VaR por acciones y divisas\"\n",
            "                     America     Carso   Walmart      Euros      Libras\n",
            "Sin alisado        -3349.254 -3017.479 -3146.197  -292.0318   -282.2936\n",
            "Con alisado        -3487.312 -2990.556 -3177.200  -156.9451   -134.5073\n",
            "Valor portafolio -105600.005 74410.004 98303.998 15531.3719 -15670.5984\n",
            "                    Dolares\n",
            "Sin alisado       -453.4187\n",
            "Con alisado       -356.7110\n",
            "Valor portafolio 29817.2265\n",
            "[1] \"VaR Total\"\n",
            "                     Total  Acciones    Divisas\n",
            "Sin alisado      -4571.742 -4704.415  -503.0257\n",
            "Con alisado      -4949.976 -4973.593  -379.4284\n",
            "Valor portafolio 96791.997 67113.997 29677.9999\n"
          ]
        }
      ]
    },
    {
      "cell_type": "markdown",
      "source": [
        "### Valor en Riesgo Condicional"
      ],
      "metadata": {
        "id": "NZtcRols5f1D"
      }
    },
    {
      "cell_type": "code",
      "source": [
        "%%R\n",
        "print(\"CVaR por acciones y divisas\")\n",
        "CVaR_acc_div <- as.matrix(rbind(CVaRCont_acc_div,CVaRCont_CA_acc_div,V0_acc_div))\n",
        "rownames(CVaR_acc_div) <- c(\"Sin alisado\",\"Con alisado\",\"Valor portafolio\")\n",
        "print(CVaR_acc_div)\n",
        "\n",
        "print(\"CVaR Total\")\n",
        "CVaR_Total_acc_div <- as.matrix(rbind(cbind(CVaRTotal_acc_div,CVaRTotalfr1_acc_div,CVaRTotalfr2_acc_div),\n",
        "                                     cbind(CVaRTotal_CA_acc_div,CVaRTotalfr1_CA_acc_div,CVaRTotalfr2_CA_acc_div),\n",
        "                                     cbind(sum(V0_acc_div),sum(V0_acc_div[,1:m_acc]),sum(V0_acc_div[,(m_acc+1):m]))))\n",
        "rownames(CVaR_Total_acc_div) <- c(\"Sin alisado\",\"Con alisado\",\"Valor portafolio\")\n",
        "colnames(CVaR_Total_acc_div) <- c(\"Total\",\"Acciones\",\"Divisas\")\n",
        "print(CVaR_Total_acc_div)"
      ],
      "metadata": {
        "colab": {
          "base_uri": "https://localhost:8080/"
        },
        "id": "Lvpk8jsG05wP",
        "outputId": "fb3bda33-29e6-4318-e199-b4b94887b8ab"
      },
      "execution_count": null,
      "outputs": [
        {
          "output_type": "stream",
          "name": "stdout",
          "text": [
            "[1] \"CVaR por acciones y divisas\"\n",
            "                     America     Carso   Walmart      Euros      Libras\n",
            "Sin alisado        -4528.041 -4166.973 -4428.774  -356.0485   -419.0875\n",
            "Con alisado        -4024.923 -3692.181 -3434.240  -215.0101   -164.5758\n",
            "Valor portafolio -105600.005 74410.004 98303.998 15531.3719 -15670.5984\n",
            "                    Dolares\n",
            "Sin alisado       -598.4633\n",
            "Con alisado       -578.8262\n",
            "Valor portafolio 29817.2265\n",
            "[1] \"CVaR Total\"\n",
            "                     Total  Acciones    Divisas\n",
            "Sin alisado      -6341.516 -6511.754  -638.6302\n",
            "Con alisado      -6050.123 -6090.790  -473.4383\n",
            "Valor portafolio 96791.997 67113.997 29677.9999\n"
          ]
        }
      ]
    },
    {
      "cell_type": "markdown",
      "source": [
        "## Bonos"
      ],
      "metadata": {
        "id": "vIOp-JoLP3Rn"
      }
    },
    {
      "cell_type": "code",
      "source": [
        "%%R\n",
        "#Cálculo de matriz de pérdidas y ganancias BONDES\n",
        "#dimensión\n",
        "m=count(N_bd)    #PASO CLAVE\n",
        "X_s_bon=matrix(0,Ns,n_if[2]) #Factores de riesgo simulados con base en DeltaX_s x0*(1+Delta_Xs)   #PASO CLAVE\n",
        "Vfr1_bon=matrix(0,Ns,m) #BCC\n",
        "Vfr2_bon=matrix(0,Ns,m) #BM\n",
        "Vfr3_bon=matrix(0,Ns,m) #BD fonde\n",
        "Vfr4_bon=matrix(0,Ns,m) #BD gober\n",
        "Vfr5_bon=matrix(0,Ns,m) #BD desc\n",
        "\n",
        "PGfr1_bon=matrix(0,Ns,m)\n",
        "PGfr2_bon=matrix(0,Ns,m)\n",
        "PGfr3_bon=matrix(0,Ns,m)\n",
        "PGfr4_bon=matrix(0,Ns,m)\n",
        "PGfr5_bon=matrix(0,Ns,m)\n",
        "\n",
        "PGT_bon=matrix(0,Ns,1)\n",
        "PGfr1T_bon=matrix(0,Ns,1)\n",
        "PGfr2T_bon=matrix(0,Ns,1)\n",
        "PGfr3T_bon=matrix(0,Ns,1)"
      ],
      "metadata": {
        "id": "3Z8xAUHPQWI2"
      },
      "execution_count": 172,
      "outputs": []
    },
    {
      "cell_type": "code",
      "source": [
        "%%R\n",
        "DeltaX_s_bd=DeltaX_s[,sum(n_if[1:1],1):sum(n_if[1:2])]    #PASO CLAVE\n",
        "x0_bon=X_bonos[1,]    #PASO CLAVE\n",
        "\n",
        "for (i in 1:Ns){\n",
        "  X_s_bon[i,]=x0_bon*exp(DeltaX_s_bd[i,])\n",
        "  \n",
        "  Vfr1_bon[i,] = bonocupcero(X_s_bon[i,m_bcc],plazos_bcc)*contratos_bcc*nominal_bcc\n",
        "  Vfr2_bon[i,] = bonoMyield(X_s_bon[i,(m_bcc+1)],plazos_bm, plazocupon_bm, tfcupon_bm, nominal_bm, contratos_bm)\n",
        "  Vfr3_bon[i,] = bondeD(contratos_bdmT, nominal_bdm, X_s_bon[i,(m_bcc+m_bm+1)], plazocupon_bdmT, VTplazos_bdm,\n",
        "                        x0_bon[((n_if[2]-m_bcc-m_bm)/3+1+m_bcc+m_bm):((n_if[2]-m_bcc-m_bm)*2/3+m_bcc+m_bm)], x0_bon[((n_if[2]-m_bcc-m_bm)*2/3+m_bcc+m_bm+1):(n_if[2])], N_bd,ddv)\n",
        "  Vfr4_bon[i,] = bondeD(contratos_bdmT, nominal_bdm, x0_bon[(m_bcc+m_bm+1)], plazocupon_bdmT, VTplazos_bdm, \n",
        "                        X_s_bon[i,((n_if[2]-m_bcc-m_bm)/3+1+m_bcc+m_bm):((n_if[2]-m_bcc-m_bm)*2/3+m_bcc+m_bm)], x0_bon[((n_if[2]-m_bcc-m_bm)*2/3+m_bcc+m_bm+1):(n_if[2])], N_bd,ddv)\n",
        "  Vfr5_bon[i,] = bondeD(contratos_bdmT, nominal_bdm, x0_bon[(m_bcc+m_bm+1)], plazocupon_bdmT, VTplazos_bdm,\n",
        "                        x0_bon[((n_if[2]-m_bcc-m_bm)/3+1+m_bcc+m_bm):((n_if[2]-m_bcc-m_bm)*2/3+m_bcc+m_bm)], X_s_bon[i,((n_if[2]-m_bcc-m_bm)*2/3+m_bcc+m_bm+1):(n_if[2])], N_bd,ddv)\n",
        "\n",
        "  PGfr1_bon[i,]=Vfr1_bon[i,]-V0_bonos[m_bcc]\n",
        "  PGfr2_bon[i,]=Vfr2_bon[i,]-V0_bonos[m_bcc+m_bm]\n",
        "  PGfr3_bon[i,]=Vfr3_bon[i,]-V0_bonos[m_bcc+m_bm+1]\n",
        "  PGfr4_bon[i,]=Vfr4_bon[i,]-V0_bonos[m_bcc+m_bm+1]\n",
        "  PGfr5_bon[i,]=Vfr5_bon[i,]-V0_bonos[m_bcc+m_bm+1]\n",
        "\n",
        "  PGfr1T_bon[i,] = sum(PGfr1_bon[i,])\n",
        "  PGfr2T_bon[i,] = sum(PGfr2_bon[i,])\n",
        "  PGfr3T_bon[i,] = sum(PGfr3_bon[i,])+sum(PGfr4_bon[i,])+sum(PGfr5_bon[i,])\n",
        "  PGT_bon[i,] = PGfr1T_bon[i,]+PGfr2T_bon[i,]+PGfr3T_bon[i,]\n",
        "}"
      ],
      "metadata": {
        "id": "qHurfrw0Uzcm"
      },
      "execution_count": 177,
      "outputs": []
    },
    {
      "cell_type": "code",
      "source": [
        "%%R\n",
        "PG_bonos <- cbind(PGfr1_bon,PGfr2_bon,PGfr3_bon,PGfr4_bon,PGfr5_bon)\n",
        "colnames(PG_bonos) <- c(\"CETE\",\"Bono M\",\"BONDE Fondeo\",\"BONDE Gober\",\"BONDE Desc\")\n",
        "print(\"Perdida/Ganancia por Factor de Riesgo\")\n",
        "print(head(PG_bonos))\n",
        "\n",
        "PGT_bonos <- cbind(PGT_bon,PGfr1T_bon,PGfr2T_bon,PGfr3T_bon)\n",
        "colnames(PGT_bonos) <- c(\"Total\",\"CETE\",\"Bono M\",\"BONDE\")\n",
        "print(\"Perdida/Ganancia Total\")\n",
        "print(head(PGT_bonos))"
      ],
      "metadata": {
        "colab": {
          "base_uri": "https://localhost:8080/"
        },
        "id": "g-CS-j6Yek6r",
        "outputId": "56029561-82fa-4268-c44e-f75865dcabb6"
      },
      "execution_count": 180,
      "outputs": [
        {
          "output_type": "stream",
          "name": "stdout",
          "text": [
            "[1] \"Perdida/Ganancia por Factor de Riesgo\"\n",
            "           CETE    Bono M BONDE Fondeo BONDE Gober BONDE Desc\n",
            "[1,] 0.00000000  3.516363     4.563077    4.311145   4.471424\n",
            "[2,] 0.00000000 -1.056845     4.745124    4.833375   4.661328\n",
            "[3,] 0.07959504  1.041584     4.925349    4.383315   4.497853\n",
            "[4,] 0.00000000 -4.794241     4.198979    5.260843   4.816544\n",
            "[5,] 0.07942309  4.366633     6.683617    4.272529   4.457976\n",
            "[6,] 0.07925116 -1.516938     2.936852    5.229067   4.804977\n",
            "[1] \"Perdida/Ganancia Total\"\n",
            "         Total       CETE    Bono M    BONDE\n",
            "[1,] 16.862009 0.00000000  3.516363 13.34565\n",
            "[2,] 13.182982 0.00000000 -1.056845 14.23983\n",
            "[3,] 14.927695 0.07959504  1.041584 13.80652\n",
            "[4,]  9.482125 0.00000000 -4.794241 14.27637\n",
            "[5,] 19.860178 0.07942309  4.366633 15.41412\n",
            "[6,] 11.533210 0.07925116 -1.516938 12.97090\n"
          ]
        }
      ]
    },
    {
      "cell_type": "code",
      "source": [
        "%%R\n",
        "w0=1-alpha\n",
        "lambda =uniroot(function(x) w0*(1-x^(Ns))/(1-x)-1, c(0,0.99), tol = 1e-28)$root\n",
        "\n",
        "p_esc=genera_esc(lambda,w0,Ns)\n",
        "print(\"Pesos para el Alisado\")\n",
        "print(head(p_esc))\n",
        "print(tail(p_esc))\n",
        "print(\"Validación de los pesos\")\n",
        "sum(p_esc) #validamos que sume 1"
      ],
      "metadata": {
        "colab": {
          "base_uri": "https://localhost:8080/"
        },
        "id": "94PzN2Z0ld30",
        "outputId": "6c3f3bde-3478-44c5-f564-90f3f71a7c32"
      },
      "execution_count": 187,
      "outputs": [
        {
          "output_type": "stream",
          "name": "stdout",
          "text": [
            "[1] \"Pesos para el Alisado\"\n",
            "           [,1]\n",
            "[1,] 0.02000000\n",
            "[2,] 0.01965647\n",
            "[3,] 0.01931883\n",
            "[4,] 0.01898700\n",
            "[5,] 0.01866086\n",
            "[6,] 0.01834033\n",
            "              [,1]\n",
            "[108,] 0.003132576\n",
            "[109,] 0.003078769\n",
            "[110,] 0.003025886\n",
            "[111,] 0.002973911\n",
            "[112,] 0.002922829\n",
            "[113,] 0.002872624\n",
            "[1] \"Validación de los pesos\"\n",
            "[1] 1\n"
          ]
        }
      ]
    },
    {
      "cell_type": "code",
      "source": [
        "%%R\n",
        "#VaR por posición\n",
        "VaRfr1_bd=matrix(0,1,m)\n",
        "VaRfr2_bd=matrix(0,1,m)\n",
        "VaRfr3_bd=matrix(0,1,m)\n",
        "VaRfr4_bd=matrix(0,1,m)\n",
        "VaRfr5_bd=matrix(0,1,m)\n",
        "\n",
        "CVaRfr1_bd=matrix(0,1,m)\n",
        "CVaRfr2_bd=matrix(0,1,m)\n",
        "CVaRfr3_bd=matrix(0,1,m)\n",
        "CVaRfr4_bd=matrix(0,1,m)\n",
        "CVaRfr5_bd=matrix(0,1,m)\n",
        "\n",
        "VaRfr1_CA_bd=matrix(0,1,m)\n",
        "VaRfr2_CA_bd=matrix(0,1,m)\n",
        "VaRfr3_CA_bd=matrix(0,1,m)\n",
        "VaRfr4_CA_bd=matrix(0,1,m)\n",
        "VaRfr5_CA_bd=matrix(0,1,m)\n",
        "\n",
        "CVaRfr1_CA_bd=matrix(0,1,m)\n",
        "CVaRfr2_CA_bd=matrix(0,1,m)\n",
        "CVaRfr3_CA_bd=matrix(0,1,m)\n",
        "CVaRfr4_CA_bd=matrix(0,1,m)\n",
        "CVaRfr5_CA_bd=matrix(0,1,m)"
      ],
      "metadata": {
        "id": "5ltewjxRlBIw"
      },
      "execution_count": 188,
      "outputs": []
    },
    {
      "cell_type": "code",
      "source": [
        "%%R\n",
        "for (i in (1:m))\n",
        "{\n",
        "  VaRfr1_bd[i]=equantile(PGfr1_bon[,i],1-alpha,Ns)\n",
        "  VaRfr2_bd[i]=equantile(PGfr2_bon[,i],1-alpha,Ns)\n",
        "  VaRfr3_bd[i]=equantile(PGfr3_bon[,i],1-alpha,Ns)\n",
        "  VaRfr4_bd[i]=equantile(PGfr4_bon[,i],1-alpha,Ns)\n",
        "  VaRfr5_bd[i]=equantile(PGfr5_bon[,i],1-alpha,Ns)\n",
        "  \n",
        "  CVaRfr1_bd[i]= mean(merge(which(PGfr1_bon[,i]<VaRfr1_bd[i]),cbind(seq(1,Ns),PGfr1_bon[,i]), by.x=1,by.y=1)[,2])\n",
        "  CVaRfr2_bd[i]= mean(merge(which(PGfr2_bon[,i]<VaRfr2_bd[i]),cbind(seq(1,Ns),PGfr2_bon[,i]), by.x=1,by.y=1)[,2])\n",
        "  CVaRfr3_bd[i]= mean(merge(which(PGfr3_bon[,i]<VaRfr3_bd[i]),cbind(seq(1,Ns),PGfr3_bon[,i]), by.x=1,by.y=1)[,2])\n",
        "  CVaRfr4_bd[i]= mean(merge(which(PGfr4_bon[,i]<VaRfr4_bd[i]),cbind(seq(1,Ns),PGfr4_bon[,i]), by.x=1,by.y=1)[,2])\n",
        "  CVaRfr5_bd[i]= mean(merge(which(PGfr5_bon[,i]<VaRfr5_bd[i]),cbind(seq(1,Ns),PGfr5_bon[,i]), by.x=1,by.y=1)[,2])\n",
        "  \n",
        "  VaRfr1_CA_bd[i]=wquantile(PGfr1_bon[,i],p_esc, 1-alpha)\n",
        "  VaRfr2_CA_bd[i]=wquantile(PGfr2_bon[,i],p_esc, 1-alpha)\n",
        "  VaRfr3_CA_bd[i]=wquantile(PGfr3_bon[,i],p_esc, 1-alpha)\n",
        "  VaRfr4_CA_bd[i]=wquantile(PGfr4_bon[,i],p_esc, 1-alpha)\n",
        "  VaRfr5_CA_bd[i]=wquantile(PGfr5_bon[,i],p_esc, 1-alpha)\n",
        "\n",
        "  CVaRfr1_CA_bd[i]= wcvar(PGfr1_bon[,i],p_esc, 1-alpha)\n",
        "  CVaRfr2_CA_bd[i]= wcvar(PGfr2_bon[,i],p_esc, 1-alpha)\n",
        "  CVaRfr3_CA_bd[i]= wcvar(PGfr3_bon[,i],p_esc, 1-alpha)\n",
        "  CVaRfr4_CA_bd[i]= wcvar(PGfr4_bon[,i],p_esc, 1-alpha)\n",
        "  CVaRfr5_CA_bd[i]= wcvar(PGfr5_bon[,i],p_esc, 1-alpha)\n",
        "}\n",
        "\n",
        "\n",
        "VaRT_bd=equantile(PGT_bon[,i],1-alpha,Ns)\n",
        "VaRfr1T_bd=equantile(PGfr1T_bon[,i],1-alpha,Ns)\n",
        "VaRfr2T_bd=equantile(PGfr2T_bon[,i],1-alpha,Ns)\n",
        "VaRfr3T_bd=equantile(PGfr3T_bon[,i],1-alpha,Ns)\n",
        "\n",
        "CVaRT_bd= mean(merge(which(PGT_bon[,i]<VaRT_bd[i]),cbind(seq(1,Ns),PGT_bon[,i]), by.x=1,by.y=1)[,2])\n",
        "CVaRfr1T_bd= mean(merge(which(PGfr1T_bon[,i]<VaRfr1T_bd[i]),cbind(seq(1,Ns),PGfr1T_bon[,i]), by.x=1,by.y=1)[,2])\n",
        "CVaRfr2T_bd= mean(merge(which(PGfr2T_bon[,i]<VaRfr2T_bd[i]),cbind(seq(1,Ns),PGfr2T_bon[,i]), by.x=1,by.y=1)[,2])\n",
        "CVaRfr3T_bd= mean(merge(which(PGfr3T_bon[,i]<VaRfr3T_bd[i]),cbind(seq(1,Ns),PGfr3T_bon[,i]), by.x=1,by.y=1)[,2])\n",
        "\n",
        "VaRT_CA_bd=wquantile(PGT_bon[,i],p_esc, 1-alpha)\n",
        "VaRfr1T_CA_bd=wquantile(PGfr1T_bon[,i],p_esc, 1-alpha)\n",
        "VaRfr2T_CA_bd=wquantile(PGfr2T_bon[,i],p_esc, 1-alpha)\n",
        "VaRfr3T_CA_bd=wquantile(PGfr3T_bon[,i],p_esc, 1-alpha)\n",
        "\n",
        "CVaRT_CA_bd= wcvar(PGT_bon[,i],p_esc, 1-alpha)\n",
        "CVaRfr1T_CA_bd= wcvar(PGfr1T_bon[,i],p_esc, 1-alpha)\n",
        "CVaRfr2T_CA_bd= wcvar(PGfr2T_bon[,i],p_esc, 1-alpha)\n",
        "CVaRfr3T_CA_bd= wcvar(PGfr3T_bon[,i],p_esc, 1-alpha)"
      ],
      "metadata": {
        "id": "7ICSQYxHlLjJ"
      },
      "execution_count": 212,
      "outputs": []
    },
    {
      "cell_type": "markdown",
      "source": [
        "### Valor en Riesgo"
      ],
      "metadata": {
        "id": "7EjUBKs7v795"
      }
    },
    {
      "cell_type": "code",
      "source": [
        "%%R\n",
        "VaR_bonos <- rbind(cbind(VaRfr1_bd,VaRfr2_bd,VaRfr3_bd,VaRfr4_bd,VaRfr5_bd),\n",
        "                   cbind(VaRfr1_CA_bd,VaRfr2_CA_bd,VaRfr3_CA_bd,VaRfr4_CA_bd,VaRfr5_CA_bd))\n",
        "colnames(VaR_bonos) <- c(\"CETE\",\"Bono M\",\"BONDE Fondeo\",\"BONDE Gober\",\"BONDE Desc\")\n",
        "rownames(VaR_bonos) <- c(\"Sin alisado\",\"Con alisado\")\n",
        "print(\"VaR por Bonos\")\n",
        "print(VaR_bonos)\n",
        "\n",
        "VaRT_bonos <- rbind(cbind(VaRT_bd,VaRfr1T_bd,VaRfr2T_bd,VaRfr3T_bd),\n",
        "                   cbind(VaRT_CA_bd,VaRfr1T_CA_bd,VaRfr2T_CA_bd,VaRfr3T_CA_bd),\n",
        "                    cbind(sum(V0_bonos),V0_bonos))\n",
        "colnames(VaRT_bonos) <- c(\"Total\",\"CETE\",\"Bono M\",\"BONDE\")\n",
        "rownames(VaRT_bonos) <- c(\"Sin alisado\",\"Con alisado\",\"Valor portafolio\")\n",
        "print(\"VaR Total\")\n",
        "print(VaRT_bonos)"
      ],
      "metadata": {
        "colab": {
          "base_uri": "https://localhost:8080/"
        },
        "id": "xM-o5WSLm3c7",
        "outputId": "2f23b3e2-7f62-495e-b48c-fe69520349b0"
      },
      "execution_count": 213,
      "outputs": [
        {
          "output_type": "stream",
          "name": "stdout",
          "text": [
            "[1] \"VaR por Bonos\"\n",
            "                  CETE    Bono M BONDE Fondeo BONDE Gober BONDE Desc\n",
            "Sin alisado -0.7007460 -17.40393     3.077623    2.810776   3.929287\n",
            "Con alisado -0.9713551 -15.93927     2.936852    2.957170   3.981638\n",
            "[1] \"VaR Total\"\n",
            "                        Total         CETE     Bono M      BONDE\n",
            "Sin alisado        -1.7024172   -0.7007460  -17.40393   10.60376\n",
            "Con alisado        -0.2655804   -0.9713551  -15.93927   11.35086\n",
            "Valor portafolio 1639.8544480 1462.4478733 1108.39143 -930.98486\n"
          ]
        }
      ]
    },
    {
      "cell_type": "markdown",
      "source": [
        "### Valor en Riesgo Condicional"
      ],
      "metadata": {
        "id": "9SCztYj9wA8u"
      }
    },
    {
      "cell_type": "code",
      "source": [
        "%%R\n",
        "CVaR_bonos <- rbind(cbind(CVaRfr1_bd,CVaRfr2_bd,CVaRfr3_bd,CVaRfr4_bd,CVaRfr5_bd),\n",
        "                   cbind(CVaRfr1_CA_bd,CVaRfr2_CA_bd,CVaRfr3_CA_bd,CVaRfr4_CA_bd,CVaRfr5_CA_bd))\n",
        "colnames(CVaR_bonos) <- c(\"CETE\",\"Bono M\",\"BONDE Fondeo\",\"BONDE Gober\",\"BONDE Desc\")\n",
        "rownames(CVaR_bonos) <- c(\"Sin alisado\",\"Con alisado\")\n",
        "print(\"CVaR por Bonos\")\n",
        "print(CVaR_bonos)\n",
        "\n",
        "CVaRT_bonos <- rbind(cbind(CVaRT_bd,CVaRfr1T_bd,CVaRfr2T_bd,CVaRfr3T_bd),\n",
        "                   cbind(CVaRT_CA_bd,CVaRfr1T_CA_bd,CVaRfr2T_CA_bd,CVaRfr3T_CA_bd),\n",
        "                    cbind(sum(V0_bonos),V0_bonos))\n",
        "colnames(CVaRT_bonos) <- c(\"Total\",\"CETE\",\"Bono M\",\"BONDE\")\n",
        "rownames(CVaRT_bonos) <- c(\"Sin alisado\",\"Con alisado\",\"Valor portafolio\")\n",
        "print(\"CVaR Total\")\n",
        "print(CVaRT_bonos)"
      ],
      "metadata": {
        "colab": {
          "base_uri": "https://localhost:8080/"
        },
        "id": "Sv0wzn9owDJz",
        "outputId": "b8b4aee0-ffd3-42b8-84bd-d4c9764518d0"
      },
      "execution_count": 214,
      "outputs": [
        {
          "output_type": "stream",
          "name": "stdout",
          "text": [
            "[1] \"CVaR por Bonos\"\n",
            "                 CETE    Bono M BONDE Fondeo BONDE Gober BONDE Desc\n",
            "Sin alisado -1.161487 -17.69106     2.738924    2.438372   3.793651\n",
            "Con alisado -1.351619 -17.03967     2.540996    2.606643   3.855133\n",
            "[1] \"CVaR Total\"\n",
            "                       Total        CETE     Bono M       BONDE\n",
            "Sin alisado        -1.803003   -1.161487  -17.69106    9.604497\n",
            "Con alisado        -1.486992   -1.351619  -17.03967   10.269329\n",
            "Valor portafolio 1639.854448 1462.447873 1108.39143 -930.984860\n"
          ]
        }
      ]
    }
  ]
}