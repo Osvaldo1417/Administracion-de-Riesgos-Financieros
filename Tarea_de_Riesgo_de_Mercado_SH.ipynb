{
  "nbformat": 4,
  "nbformat_minor": 0,
  "metadata": {
    "colab": {
      "name": "Tarea de Riesgo de Mercado SH.ipynb",
      "provenance": [],
      "collapsed_sections": [],
      "authorship_tag": "ABX9TyOjIcjBLwubavyY9RLIo2F5",
      "include_colab_link": true
    },
    "kernelspec": {
      "name": "python3",
      "display_name": "Python 3"
    },
    "language_info": {
      "name": "python"
    }
  },
  "cells": [
    {
      "cell_type": "markdown",
      "metadata": {
        "id": "view-in-github",
        "colab_type": "text"
      },
      "source": [
        "<a href=\"https://colab.research.google.com/github/Osvaldo1417/Tarea-de-Riesgo-de-Mercado-SH/blob/master/Tarea_de_Riesgo_de_Mercado_SH.ipynb\" target=\"_parent\"><img src=\"https://colab.research.google.com/assets/colab-badge.svg\" alt=\"Open In Colab\"/></a>"
      ]
    },
    {
      "cell_type": "code",
      "source": [
        "%load_ext rpy2.ipython"
      ],
      "metadata": {
        "id": "1voJKrXuJpNo"
      },
      "execution_count": 1,
      "outputs": []
    },
    {
      "cell_type": "markdown",
      "metadata": {
        "id": "dPEF1ujr7wvM"
      },
      "source": [
        "Paso de carga de librerías en R de todas las que se utilizarán"
      ]
    },
    {
      "cell_type": "code",
      "metadata": {
        "id": "57AsDOlcRWL9"
      },
      "source": [
        "%%R\n",
        "install.packages(\"quantmod\")\n",
        "library(quantmod)\n",
        "\n",
        "install.packages(\"data.table\")\n",
        "library(data.table)\n",
        "\n",
        "install.packages(\"PerformanceAnalytics\")\n",
        "library(\"PerformanceAnalytics\")\n",
        "\n",
        "install.packages(\"Deriv\")\n",
        "library(Deriv)\n",
        "\n",
        "library(dplyr)\n",
        "\n",
        "con = gzcon(url('https://github.com/systematicinvestor/SIT/raw/master/sit.gz', 'rb'))\n",
        "source(con)\n",
        "close(con)"
      ],
      "execution_count": null,
      "outputs": []
    },
    {
      "cell_type": "markdown",
      "source": [
        "# Funciones"
      ],
      "metadata": {
        "id": "oIVN1Fc9KiWf"
      }
    },
    {
      "cell_type": "code",
      "metadata": {
        "id": "Qw6AthHnXMx4"
      },
      "source": [
        "%%R\n",
        "#FUNCIÓN DE INTERPOLACIÓN ALAMBRADA\n",
        "\n",
        "talamb=function(nodos,curva,plazos) #función de interpolación de tasas por el método alamabrada\n",
        "{\n",
        "  n=max(ncol(plazos),1)\n",
        "  m=max(ncol(nodos),1)\n",
        "  TC=matrix(0,1,n)\n",
        "  TL=matrix(0,1,n)\n",
        "  TF=matrix(0,1,n)\n",
        "  for (j in 1:n)\n",
        "  {\n",
        "    i=1\n",
        "    repeat\n",
        "    {\n",
        "      if(nodos[i]<= plazos[j] && plazos[j] <=nodos[i+1])\n",
        "      {\n",
        "        TC[j]=curva[i]\n",
        "        TL[j]=curva[i+1]\n",
        "        TF[j]=((((1+TL[j]*nodos[i+1]/360)/(1+TC[j]*nodos[i]/360))^((plazos[j]-nodos[i])/(nodos[i+1]-nodos[i]))*(1+TC[j]*nodos[i]/360))-1)*360/plazos[j]\n",
        "        break\n",
        "      }\n",
        "      else if (plazos[j]<nodos[1])\n",
        "      {\n",
        "        TC[j]=curva[1]\n",
        "        TL[j]=curva[1]\n",
        "        TF[j]=curva[1]\n",
        "        break\n",
        "      }\n",
        "      else if (plazos[j]>nodos[m])\n",
        "      {\n",
        "        TC[j]=curva[m]\n",
        "        TL[j]=curva[m]\n",
        "        TF[j]=curva[m]\n",
        "        break\n",
        "      }\n",
        "      else\n",
        "      {i=i+1}\n",
        "    }\n",
        "  }\n",
        "  as.matrix(t(as.numeric(rbind(TF))))\n",
        "}\n",
        "\n",
        "\n",
        "#funciones necesarias\n",
        "diagv=function(x)\t\t\t#función para diagonalizar un vector\n",
        "{\n",
        "  n01=nrow(as.matrix(x))\n",
        "  m01=ncol(as.matrix(x))\n",
        "  dimmax=max(n01,m01)\n",
        "  res=matrix(0,dimmax,dimmax)\n",
        "  for (i in 1:dimmax)\n",
        "  {\n",
        "    res[i,i]=x[i]\n",
        "  }\n",
        "  res\n",
        "}\n",
        "\n",
        "#función de cuantil más cercano\n",
        "equantile <- function(v,p=.5,ns=nrow(as.matrix(v))) \n",
        "{ \n",
        "  if ( !is.numeric(p) || any( p<0 | p>1) ) \n",
        "    stop(\"Percentil tiene que ser 0<=p<=1\") \n",
        "  ranking <- order(v) \n",
        "  vw=matrix(0,ns,1)\n",
        "  vw[1:ns]=seq(1/ns,ns)  \n",
        "  sumw <- cumsum(vw[ranking]) \n",
        "  plist <- sumw / sumw[ length(sumw) ] \n",
        "  v [ ranking [ which.max( plist >= p ) ] ]  \n",
        "} \n",
        "\n",
        "\n",
        "wquantile <- function(v,w=rep(1,length(v)),p=.5) \n",
        "{ \n",
        "  if ( !is.numeric(w) || length(v) != length(w) ) \n",
        "    stop(\"Los valores y los pesos tienen que tener misma longitud\") \n",
        "  if ( !is.numeric(p) || any( p<0 | p>1) ) \n",
        "    stop(\"Percentil tiene que ser 0<=p<=1\") \n",
        "  if ( min(w) < 0 ) stop(\"Los pesos tiene que ser mayores que 0\") \n",
        "  ranking <- order(v) \n",
        "  sumw <- cumsum(w[ranking]) \n",
        "  plist <- sumw / sumw[ length(sumw) ] \n",
        "  v [ ranking [ which.max( plist >= p ) ] ]  \n",
        "}\n",
        "\n",
        "\n",
        "#CVaR con alisado\n",
        "wcvar <- function(v,w=rep(1,length(v)),p=.5) \n",
        "{ \n",
        "  if ( !is.numeric(w) || length(v) != length(w) ) \n",
        "    stop(\"Los valores y los pesos tienen que tener misma longitud\") \n",
        "  if ( !is.numeric(p) || any( p<0 | p>1) ) \n",
        "    stop(\"Percentil tiene que ser 0<=p<=1\") \n",
        "  if ( min(w) < 0 ) stop(\"Los pesos tiene que ser mayores que 0\") \n",
        "  ranking <- order(v) \n",
        "  sumw <- cumsum(w[ranking]) \n",
        "  plist <- sumw / sumw[ length(sumw) ] \n",
        "  loss= v [ ranking [ which( plist < p ) ] ]  \n",
        "  esc=w [ ranking [ which( plist < p ) ] ]  \n",
        "  sum(loss*esc)/(sum(esc))\n",
        "} \n",
        "\n",
        "genera_esc <- function(lamda,w0,n){\n",
        "  p_esc=matrix(0,n,1)\n",
        "  for (i in (1:n))\n",
        "  {\n",
        "    p_esc[i]=w0*lambda^(i-1)\n",
        "  }\n",
        "  return(p_esc)\n",
        "}"
      ],
      "execution_count": null,
      "outputs": []
    },
    {
      "cell_type": "markdown",
      "source": [
        "# Carga de Datos"
      ],
      "metadata": {
        "id": "-gqVtjJibKoF"
      }
    },
    {
      "cell_type": "markdown",
      "source": [
        "## Acciones y Divisas"
      ],
      "metadata": {
        "id": "RHAzGErHglrT"
      }
    },
    {
      "cell_type": "code",
      "source": [
        "%%R\n",
        "fval=as.Date(\"20220331\",format=\"%Y%m%d\") #Fecha de valoración\n",
        "itpl=0 #poner 0 si se quiere interpolación lineal o 1 si se quiere tasa alambrada\n",
        "alpha=0.98 #Nivel de confianza para obtener estimaciones de riesgo\n",
        "\n",
        "acc_names <- c(\"America\",\"Carso\",\"Walmart\")\n",
        "div_names <- c(\"Euros\",\"Libras\",\"Dolares\")\n",
        "\n",
        "#ACCIONES Y DIVISAS\n",
        "#Cargar los símbolos de yahoo finance para EQ\n",
        "Sym_acciones<-c  (\"AMXL.MX\", \"GCARSOA1.MX\", \"WALMEX.MX\" )#tienen que ir en orden alfabético\n",
        "pos_acc=c(-5000,1000,1200) #monto inicial invertido en acciones\n",
        "#Cargar los símbolos de yahoo finance para FX\n",
        "Sym_divisas<-c(\"EURUSD=X\",\"GBPUSD=X\",\"USDMXN=X\" ) #tienen que ir en orden alfabético\n",
        "pos_div=c(700,-600,1500) #monto inicial invertido en divisas\n",
        "nh=3660 #días de historia"
      ],
      "metadata": {
        "id": "QuNbO84OLBsx"
      },
      "execution_count": null,
      "outputs": []
    },
    {
      "cell_type": "code",
      "source": [
        "%%R\n",
        "#CARGA DE DATOS DE ACCIONES\n",
        "pos=cbind(t(pos_div),t(pos_acc))\n",
        "start_date=fval-nh #fecha inicial\n",
        "#Creación del objeto para guardar los datos\n",
        "acciones<-new.env()\n",
        "divisas<-new.env()\n",
        "#obtener los datos\n",
        "getSymbols.yahoo(Sym_acciones,env=acciones,from=start_date,to=fval+1)\n",
        "getSymbols.yahoo(Sym_divisas,env=divisas,from=start_date,to=fval)\n",
        "\n",
        "#limpiarlos, alinearnos y quedarnos con el precio de cierre \n",
        "bt.prep(acciones,align='remove.na',fill.gaps = T)\n",
        "bt.prep(divisas,align='remove.na',fill.gaps=T)\n",
        "\n",
        "precios_acc = acciones$prices\n",
        "precios_div = divisas$prices\n",
        "\n",
        "precios_div=cbind(precios_div[,1]*precios_div[,3],\n",
        "                     precios_div[,2]*precios_div[,3],precios_div[,3])\n",
        "\n",
        "precios_acc_div = merge(precios_acc,precios_div,join = \"inner\")\n",
        "tail(precios_acc_div)"
      ],
      "metadata": {
        "id": "9bX51boVQ4Va",
        "colab": {
          "base_uri": "https://localhost:8080/"
        },
        "outputId": "50dfb35f-3831-4cce-f306-1d698046c296"
      },
      "execution_count": null,
      "outputs": [
        {
          "output_type": "stream",
          "name": "stdout",
          "text": [
            "           AMXL.MX GCARSOA1.MX WALMEX.MX EURUSD.X GBPUSD.X USDMXN.X\n",
            "2022-03-24   20.91       75.61     78.56 22.26207 26.71136 20.22664\n",
            "2022-03-25   21.00       75.77     78.59 22.09215 26.47899 20.06630\n",
            "2022-03-28   20.72       75.81     79.83 21.99689 26.39227 20.03015\n",
            "2022-03-29   20.70       74.29     78.58 22.08800 26.32673 20.09125\n",
            "2022-03-30   20.75       73.53     80.34 22.14488 26.14256 19.96560\n",
            "2022-03-31   21.12       74.41     81.92 22.18767 26.11766 19.87815\n"
          ]
        }
      ]
    },
    {
      "cell_type": "code",
      "source": [
        "%%R\n",
        "aux2=data.table(Date=as.Date(index(precios_acc_div)),coredata(precios_acc_div))\n",
        "colnames(aux2) <- c(\"Date\",\"America\",\"Carso\",\"Walmart\",\"Euros\",\"Libras\",\"Dolares\")\n",
        "tail(aux2)"
      ],
      "metadata": {
        "id": "4Izwvzr9M4k9",
        "colab": {
          "base_uri": "https://localhost:8080/"
        },
        "outputId": "10adae06-fa56-4518-f884-9dc8beafcc3d"
      },
      "execution_count": null,
      "outputs": [
        {
          "output_type": "stream",
          "name": "stdout",
          "text": [
            "         Date America Carso Walmart    Euros   Libras  Dolares\n",
            "1: 2022-03-24   20.91 75.61   78.56 22.26207 26.71136 20.22664\n",
            "2: 2022-03-25   21.00 75.77   78.59 22.09215 26.47899 20.06630\n",
            "3: 2022-03-28   20.72 75.81   79.83 21.99689 26.39227 20.03015\n",
            "4: 2022-03-29   20.70 74.29   78.58 22.08800 26.32673 20.09125\n",
            "5: 2022-03-30   20.75 73.53   80.34 22.14488 26.14256 19.96560\n",
            "6: 2022-03-31   21.12 74.41   81.92 22.18767 26.11766 19.87815\n"
          ]
        }
      ]
    },
    {
      "cell_type": "markdown",
      "source": [
        "## Bonos"
      ],
      "metadata": {
        "id": "zyq5WHzBgqbt"
      }
    },
    {
      "cell_type": "code",
      "source": [
        "#CETES\n",
        "base=\"RiesgosFinancieros/2020-2/Insumos/tasa_guber.txt\"\n",
        "\n",
        "#BONDES D\n",
        "btasadescst=\"RiesgosFinancieros/2020-2/Insumos/tasa_guber_st.txt\"\n",
        "btasafondeo=\"RiesgosFinancieros/2020-2/Insumos/tfondeo.txt\"\n",
        "plazos_bdm=cbind( 358,\t405,\t550,\t1200,\t1800) #Vencimiento del bono\n",
        "plazocupon_bdm=cbind( 28,\t28, 28, 28, 28) #plazos_bdm fijos de cada cupón\n",
        "contratos_bdm=cbind(220, -290, 290, -460, 100) #posición invertida\n",
        "nominal_bdm=100"
      ],
      "metadata": {
        "id": "PsrxaP23FuSO"
      },
      "execution_count": null,
      "outputs": []
    },
    {
      "cell_type": "code",
      "source": [
        ""
      ],
      "metadata": {
        "id": "CtesYwz_GMbq"
      },
      "execution_count": null,
      "outputs": []
    },
    {
      "cell_type": "markdown",
      "source": [
        "## Futuros"
      ],
      "metadata": {
        "id": "q9S6cwTKgxUO"
      }
    },
    {
      "cell_type": "markdown",
      "source": [
        "## Swap's"
      ],
      "metadata": {
        "id": "it1wwRCngxbx"
      }
    },
    {
      "cell_type": "markdown",
      "source": [
        "## Opciones"
      ],
      "metadata": {
        "id": "LJ8Si1mTg8bz"
      }
    },
    {
      "cell_type": "markdown",
      "source": [
        "# Integración de insumos"
      ],
      "metadata": {
        "id": "qffwGKKZgGY4"
      }
    },
    {
      "cell_type": "code",
      "source": [
        "%%R\n",
        "fechas= data.table(Date=as.Date(aux2[aux2,on=.(Date),nomatch=0]$Date)) #Fechas acciones, equity\n",
        "tail(fechas)"
      ],
      "metadata": {
        "colab": {
          "base_uri": "https://localhost:8080/"
        },
        "id": "sAjKhtL4e_og",
        "outputId": "080a0027-5d22-40ec-d262-50d45fed0a88"
      },
      "execution_count": null,
      "outputs": [
        {
          "output_type": "stream",
          "name": "stdout",
          "text": [
            "         Date\n",
            "1: 2022-03-24\n",
            "2: 2022-03-25\n",
            "3: 2022-03-28\n",
            "4: 2022-03-29\n",
            "5: 2022-03-30\n",
            "6: 2022-03-31\n"
          ]
        }
      ]
    },
    {
      "cell_type": "markdown",
      "source": [
        "## Segreración de Datos"
      ],
      "metadata": {
        "id": "rAcb5Pi7hBd_"
      }
    },
    {
      "cell_type": "markdown",
      "source": [
        "### Acciones y Divisas"
      ],
      "metadata": {
        "id": "WAmYeQF_hGsH"
      }
    },
    {
      "cell_type": "code",
      "source": [
        "%%R\n",
        "n=nrow(fechas) #Historia de todos\n",
        "\n",
        "#historia de acciones y divisas\n",
        "precios_acc_div = fechas[aux2,on=.(Date),nomatch=0][order(-Date)]\n",
        "precios_acc_div = precios_acc_div%>%select(-Date)\n",
        "precios_acc_div"
      ],
      "metadata": {
        "colab": {
          "base_uri": "https://localhost:8080/"
        },
        "id": "iZNsImDTcMkS",
        "outputId": "b6f91a54-865e-4df0-8aa9-1e2063c15564"
      },
      "execution_count": null,
      "outputs": [
        {
          "output_type": "stream",
          "name": "stdout",
          "text": [
            "      America Carso Walmart    Euros   Libras  Dolares\n",
            "   1:   21.12 74.41   81.92 22.18767 26.11766 19.87815\n",
            "   2:   20.75 73.53   80.34 22.14488 26.14256 19.96560\n",
            "   3:   20.70 74.29   78.58 22.08800 26.32673 20.09125\n",
            "   4:   20.72 75.81   79.83 21.99689 26.39227 20.03015\n",
            "   5:   21.00 75.77   78.59 22.09215 26.47899 20.06630\n",
            "  ---                                                 \n",
            "2511:   15.80 40.00   43.00 17.04491 20.32820 12.79050\n",
            "2512:   15.73 39.97   41.58 16.99530 20.34285 12.75090\n",
            "2513:   15.68 39.99   41.79 16.97394 20.27933 12.70500\n",
            "2514:   15.63 40.14   41.49 16.80676 20.09019 12.65280\n",
            "2515:   15.31 39.94   41.77 16.81659 20.15701 12.73520\n"
          ]
        }
      ]
    },
    {
      "cell_type": "markdown",
      "source": [
        "### Bonos"
      ],
      "metadata": {
        "id": "waXjUUbdhNzP"
      }
    },
    {
      "cell_type": "markdown",
      "source": [
        "### Futuros"
      ],
      "metadata": {
        "id": "o9MRQQfzhNzP"
      }
    },
    {
      "cell_type": "markdown",
      "source": [
        "### Swap's"
      ],
      "metadata": {
        "id": "hHMRtZ2ohNzP"
      }
    },
    {
      "cell_type": "markdown",
      "source": [
        "### Opciones"
      ],
      "metadata": {
        "id": "axQcIZEHhNzQ"
      }
    },
    {
      "cell_type": "markdown",
      "source": [
        "# Simulación Historica"
      ],
      "metadata": {
        "id": "6dcOTazagPHL"
      }
    },
    {
      "cell_type": "markdown",
      "source": [
        "## Acciones y Divisas"
      ],
      "metadata": {
        "id": "VyiF-SWegSg2"
      }
    },
    {
      "cell_type": "code",
      "source": [
        "%%R\n",
        "x0_acc_div=precios_acc_div[1,]\n",
        "DeltaX_acc_div=as.matrix(log(precios_acc_div[1:(n-1)]/precios_acc_div[2:(n)]))\n",
        "V0_acc_div=cbind(t(pos_acc),t(pos_div))*x0_acc_div\n",
        "m_acc=length(pos_acc)\n",
        "m_div=length(pos_div)\n",
        "\n",
        "print(\"Precio Actual\")\n",
        "print(x0_acc_div)\n",
        "\n",
        "print(\"Valor del portafolio\")\n",
        "print(V0_acc_div)"
      ],
      "metadata": {
        "colab": {
          "base_uri": "https://localhost:8080/"
        },
        "id": "YSwMh1DcfjL0",
        "outputId": "b8508f24-2e07-4307-c3a4-c1c469ba21d0"
      },
      "execution_count": null,
      "outputs": [
        {
          "output_type": "stream",
          "name": "stdout",
          "text": [
            "[1] \"Precio Actual\"\n",
            "   America Carso Walmart    Euros   Libras  Dolares\n",
            "1:   21.12 74.41   81.92 22.18767 26.11766 19.87815\n",
            "[1] \"Valor del portafolio\"\n",
            "   America Carso Walmart    Euros   Libras  Dolares\n",
            "1: -105600 74410   98304 15531.37 -15670.6 29817.23\n"
          ]
        }
      ]
    },
    {
      "cell_type": "markdown",
      "source": [
        "## Bonos"
      ],
      "metadata": {
        "id": "vzNjISiFhXaJ"
      }
    },
    {
      "cell_type": "markdown",
      "source": [
        "## Futuros"
      ],
      "metadata": {
        "id": "r7nVDF__hXaJ"
      }
    },
    {
      "cell_type": "markdown",
      "source": [
        "## Swap's"
      ],
      "metadata": {
        "id": "CodvqixqhXaK"
      }
    },
    {
      "cell_type": "markdown",
      "source": [
        "## Opciones"
      ],
      "metadata": {
        "id": "O8rGxAp_hXaK"
      }
    },
    {
      "cell_type": "markdown",
      "source": [
        "# Medición de Riesgo\n"
      ],
      "metadata": {
        "id": "rR8FpnXglE2_"
      }
    },
    {
      "cell_type": "markdown",
      "source": [
        "## Acciones y Divisas"
      ],
      "metadata": {
        "id": "5UVpwclJlVFM"
      }
    },
    {
      "cell_type": "code",
      "source": [
        "%%R\n",
        "#DIMENSION DE TODOS LOS INSTRUMENTOS\n",
        "#Son 8 instrumentos financieros (9 si separamos acciones y divisas)\n",
        "n_if=matrix(0,6,1)\n",
        "n_if[1]=ncol(precios_acc_div) #acciones y divisas\n",
        "#n_if[2]=ncol(X_bd_ext) #bonde\n",
        "#n_if[3]=ncol(X_sw) #swaps\n",
        "#n_if[4]=ncol(X_oir) #opciones tasa de interés\n",
        "#n_if[5]=ncol(X_futtdc) #Forwards de tipo de cambio\n",
        "#n_if[6]=ncol(X_futind) #Forwards de índices\n",
        "rownames(n_if) <- c(\"Acciones y Divisas\",\"Bonos\",\"Futuros TDC\",\"Futuros IPC\",\"Swap's\",\"Opciones\")\n",
        "\n",
        "#valor del portafolios\n",
        "\n",
        "#V0_port=cbind(V0_acc_div, V0_bd, V0_sw, V0_oir,V0_fwtdc,V0_fwind)\n",
        "V0_port=cbind(V0_acc_div)\n",
        "V0T_port=sum(V0_port)\n",
        "\n",
        "\n",
        "#INTEGRACIÓN DE TODOS LOS FACTORES DE RIESGO EN UNA MATRIZ\n",
        "#X_port=cbind(precios_acc_div,X_bd_ext,X_sw,X_oir,X_futtdc,X_futind) #Factores de riesgo del portafolios de 8(9) instrumentos financieros\n",
        "X_port=cbind(precios_acc_div) #Factores de riesgo del portafolios de 8(9) instrumentos financieros\n",
        "\n",
        "#Cálculo de variaciones Delta_X DEL PORTAFOLIOS\n",
        "DeltaX_port=as.matrix(log(X_port[1:(n-1)]/X_port[2:(n)]))\n",
        "DeltaX_port[is.nan(DeltaX_port)] <- 0 #quitamos NaN\n",
        "DeltaX_port[is.na(DeltaX_port)] <- 0 #quitamos Na\n",
        "DeltaX_port[is.infinite(DeltaX_port)] <- 0 #quitamos Na\n",
        "\n",
        "\n",
        "Ns=nrow(DeltaX_port) #Definimos número de escenarios históricos\n",
        "#alpha=0.98 #Nivel de Confianza para las medidas de riesgo\n",
        "\n",
        "DeltaX_s=DeltaX_port\n",
        "print(\"Matriz de Rendimientos del Portafolio\")\n",
        "print(head(DeltaX_s))\n",
        "print(\"Número de Instrumentos\")\n",
        "print(ncol(DeltaX_s))\n",
        "print(\"Número de Datos\")\n",
        "print(nrow(DeltaX_s))\n",
        "print(\"Número de instrumentos por Factores de Riesgo\")\n",
        "print(n_if)"
      ],
      "metadata": {
        "colab": {
          "base_uri": "https://localhost:8080/"
        },
        "id": "uhFpjC8Jlo4t",
        "outputId": "b251628f-9abc-485f-faf0-7b8ed77fa587"
      },
      "execution_count": null,
      "outputs": [
        {
          "output_type": "stream",
          "name": "stdout",
          "text": [
            "[1] \"Matriz de Rendimientos del Portafolio\"\n",
            "           America         Carso       Walmart        Euros        Libras\n",
            "[1,]  0.0176742595  0.0118969226  0.0194755577  0.001930412 -0.0009526159\n",
            "[2,]  0.0024124981 -0.0102828940  0.0221503396  0.002572132 -0.0070202441\n",
            "[3,] -0.0009656205 -0.0202538171 -0.0157821591  0.004133322 -0.0024862505\n",
            "[4,] -0.0134230686  0.0005277873  0.0156549847 -0.004321403 -0.0032804763\n",
            "[5,]  0.0042949243  0.0021138336  0.0003817754 -0.007661797 -0.0087375911\n",
            "[6,]  0.0086455870  0.0254501012  0.0072820509 -0.004376409 -0.0068161484\n",
            "          Dolares\n",
            "[1,] -0.004389554\n",
            "[2,] -0.006273605\n",
            "[3,]  0.003045759\n",
            "[4,] -0.001803153\n",
            "[5,] -0.007958856\n",
            "[6,] -0.002249892\n",
            "[1] \"Número de Instrumentos\"\n",
            "[1] 6\n",
            "[1] \"Número de Datos\"\n",
            "[1] 2514\n",
            "[1] \"Número de instrumentos por Factores de Riesgo\"\n",
            "                   [,1]\n",
            "Acciones y Divisas    6\n",
            "Bonos                 0\n",
            "Futuros TDC           0\n",
            "Futuros IPC           0\n",
            "Swap's                0\n",
            "Opciones              0\n"
          ]
        }
      ]
    },
    {
      "cell_type": "code",
      "source": [
        "%%R\n",
        "m=m_acc+m_div    #PASO CLAVE\n",
        "X_s_acc_div=matrix(0,Ns,m)\n",
        "V_acc_div=matrix(0,Ns,m)\n",
        "Vfr1_acc_div=matrix(0,Ns,m_acc)\n",
        "Vfr2_acc_div=matrix(0,Ns,m_div)\n",
        "PG_acc_div=matrix(0,Ns,m) #Pèrdidas y ganancias\n",
        "PGfr1_acc_div=matrix(0,Ns,m_acc)\n",
        "PGfr2_acc_div=matrix(0,Ns,m_div)\n",
        "PGT_acc_div=matrix(0,Ns,1)\n",
        "PGfr1T_acc_div=matrix(0,Ns,1)\n",
        "PGfr2T_acc_div=matrix(0,Ns,1)"
      ],
      "metadata": {
        "id": "dHAKFwlCo3Iw"
      },
      "execution_count": null,
      "outputs": []
    },
    {
      "cell_type": "code",
      "source": [
        "%%R\n",
        "DeltaX_s_acc_div=DeltaX_s[,(1:m)]\n",
        "x0_acc_div=precios_acc_div[1,]\n",
        "\n",
        "for (i in 1:Ns)\n",
        "{\n",
        "  X_s_acc_div[i,]=as.matrix(x0_acc_div*exp(DeltaX_s_acc_div[i,]))\n",
        "  V_acc_div[i,]=cbind(t(pos_acc),t(pos_div))*X_s_acc_div[i,]\n",
        "\n",
        "  Vfr1_acc_div[i,]=t(pos_acc)*X_s_acc_div[i,1:m_acc]\n",
        "  Vfr2_acc_div[i,]=t(pos_div)*X_s_acc_div[i,(m_acc+1):m]\n",
        "\n",
        "  PG_acc_div[i,]=as.matrix(V_acc_div[i,]-V0_acc_div)\n",
        "\n",
        "  PGfr1_acc_div[i,]=as.matrix(Vfr1_acc_div[i,]-V0_acc_div[,1:m_acc])\n",
        "  PGfr2_acc_div[i,]=as.matrix(Vfr2_acc_div[i,]-V0_acc_div[,(m_acc+1):m])\n",
        "\n",
        "  PGT_acc_div[i,]=sum(PG_acc_div[i,])\n",
        "\n",
        "  PGfr1T_acc_div[i,]=sum(PGfr1_acc_div[i,])\n",
        "  PGfr2T_acc_div[i,]=sum(PGfr2_acc_div[i,])\n",
        "}"
      ],
      "metadata": {
        "id": "DOLNF-VBpLQ7"
      },
      "execution_count": null,
      "outputs": []
    },
    {
      "cell_type": "code",
      "source": [
        "%%R\n",
        "print(\"Perdida/Ganancias de acciones y divisas\")\n",
        "print(head(PG_acc_div))\n",
        "print(\"Perdidas/Ganancias de acciones\")\n",
        "print(head(PGfr1_acc_div))\n",
        "print(\"Perdidas/Ganancias de divisas\")\n",
        "print(head(PGfr2_acc_div))\n",
        "print(\"Perdidas/Ganancias totales de acciones y divisas\")\n",
        "print(head(PGT_acc_div))\n",
        "print(\"Perdidas/Ganancias totales de acciones\")\n",
        "print(head(PGfr1T_acc_div))\n",
        "print(\"Perdidas/Ganancias totales de divisas\")\n",
        "print(head(PGfr2T_acc_div))"
      ],
      "metadata": {
        "colab": {
          "base_uri": "https://localhost:8080/"
        },
        "id": "pDFzhM42uPyU",
        "outputId": "de2ccbbe-b497-4738-a038-55a4877dd402"
      },
      "execution_count": null,
      "outputs": [
        {
          "output_type": "stream",
          "name": "stdout",
          "text": [
            "[1] \"Perdida/Ganancias de acciones y divisas\"\n",
            "           [,1]        [,2]        [,3]       [,4]      [,5]       [,6]\n",
            "[1,] -1882.9931   890.53688  1933.29002   30.01090  14.92095 -130.59748\n",
            "[2,]  -255.0674  -761.22966  2201.76179   40.00016 109.62618 -186.47594\n",
            "[3,]   101.9203 -1491.92700 -1539.27087   64.32902  38.91264   90.95452\n",
            "[4,]  1408.0051    39.28302  1551.05679  -66.97251  51.32280  -53.71657\n",
            "[5,]  -454.5194   157.45672    37.53721 -118.54352 136.32683 -236.36914\n",
            "[6,]  -916.9320  1918.04583   718.46750  -67.82311 106.44992  -67.01014\n",
            "[1] \"Perdidas/Ganancias de acciones\"\n",
            "           [,1]        [,2]        [,3]\n",
            "[1,] -1882.9931   890.53688  1933.29002\n",
            "[2,]  -255.0674  -761.22966  2201.76179\n",
            "[3,]   101.9203 -1491.92700 -1539.27087\n",
            "[4,]  1408.0051    39.28302  1551.05679\n",
            "[5,]  -454.5194   157.45672    37.53721\n",
            "[6,]  -916.9320  1918.04583   718.46750\n",
            "[1] \"Perdidas/Ganancias de divisas\"\n",
            "           [,1]      [,2]       [,3]\n",
            "[1,]   30.01090  14.92095 -130.59748\n",
            "[2,]   40.00016 109.62618 -186.47594\n",
            "[3,]   64.32902  38.91264   90.95452\n",
            "[4,]  -66.97251  51.32280  -53.71657\n",
            "[5,] -118.54352 136.32683 -236.36914\n",
            "[6,]  -67.82311 106.44992  -67.01014\n",
            "[1] \"Perdidas/Ganancias totales de acciones y divisas\"\n",
            "           [,1]\n",
            "[1,]   855.1681\n",
            "[2,]  1148.6152\n",
            "[3,] -2735.0814\n",
            "[4,]  2928.9786\n",
            "[5,]  -478.1113\n",
            "[6,]  1691.1980\n",
            "[1] \"Perdidas/Ganancias totales de acciones\"\n",
            "           [,1]\n",
            "[1,]   940.8338\n",
            "[2,]  1185.4648\n",
            "[3,] -2929.2776\n",
            "[4,]  2998.3449\n",
            "[5,]  -259.5255\n",
            "[6,]  1719.5813\n",
            "[1] \"Perdidas/Ganancias totales de divisas\"\n",
            "           [,1]\n",
            "[1,]  -85.66562\n",
            "[2,]  -36.84961\n",
            "[3,]  194.19618\n",
            "[4,]  -69.36628\n",
            "[5,] -218.58583\n",
            "[6,]  -28.38333\n"
          ]
        }
      ]
    },
    {
      "cell_type": "code",
      "source": [
        "%%R\n",
        "w0=1-alpha\n",
        "n = Ns\n",
        "lambda =uniroot(function(x) w0*(1-x^(n))/(1-x)-1, c(0,0.99), tol = 1e-28)$root\n",
        "\n",
        "p_esc=genera_esc(lambda,w0,n)\n",
        "print(\"Pesos para el Alisado\")\n",
        "print(head(p_esc))\n",
        "print(tail(p_esc))\n",
        "print(\"Validación de los pesos\")\n",
        "sum(p_esc) #validamos que sume 1"
      ],
      "metadata": {
        "colab": {
          "base_uri": "https://localhost:8080/"
        },
        "id": "IZmOn31Yy6z6",
        "outputId": "9153b644-c129-430d-ca75-25a9f46a725f"
      },
      "execution_count": null,
      "outputs": [
        {
          "output_type": "stream",
          "name": "stdout",
          "text": [
            "[1] \"Pesos para el Alisado\"\n",
            "           [,1]\n",
            "[1,] 0.02000000\n",
            "[2,] 0.01960000\n",
            "[3,] 0.01920800\n",
            "[4,] 0.01882384\n",
            "[5,] 0.01844736\n",
            "[6,] 0.01807842\n",
            "                [,1]\n",
            "[2509,] 1.977096e-24\n",
            "[2510,] 1.937554e-24\n",
            "[2511,] 1.898803e-24\n",
            "[2512,] 1.860827e-24\n",
            "[2513,] 1.823611e-24\n",
            "[2514,] 1.787139e-24\n",
            "[1] \"Validación de los pesos\"\n",
            "[1] 1\n"
          ]
        }
      ]
    },
    {
      "cell_type": "code",
      "source": [
        "%%R\n",
        "#VaR por posición\n",
        "VaRCont_acc_div=matrix(0,1,m)\n",
        "VaRfr1_acc_div=matrix(0,1,m_acc)\n",
        "VaRfr2_acc_div=matrix(0,1,m_div)\n",
        "\n",
        "CVaRCont_acc_div=matrix(0,1,m)\n",
        "CVaRfr1_acc_div=matrix(0,1,m_acc)\n",
        "CVaRfr2_acc_div=matrix(0,1,m_div)\n",
        "\n",
        "VaRCont_CA_acc_div=matrix(0,1,m)\n",
        "VaRfr1_CA_acc_div=matrix(0,1,m_acc)\n",
        "VaRfr2_CA_acc_div=matrix(0,1,m_div)\n",
        "\n",
        "CVaRCont_CA_acc_div=matrix(0,1,m)\n",
        "CVaRfr1_CA_acc_div=matrix(0,1,m_acc)\n",
        "CVaRfr2_CA_acc_div=matrix(0,1,m_div)"
      ],
      "metadata": {
        "id": "lvEooEq7uyzW"
      },
      "execution_count": null,
      "outputs": []
    },
    {
      "cell_type": "code",
      "source": [
        "%%R"
      ],
      "metadata": {
        "colab": {
          "base_uri": "https://localhost:8080/"
        },
        "id": "QHCrZCZY4cC7",
        "outputId": "25432eee-1e88-4d53-c496-5a3b526a6496"
      },
      "execution_count": null,
      "outputs": [
        {
          "output_type": "stream",
          "name": "stdout",
          "text": [
            "          [,1]      [,2]      [,3]\n",
            "[1,] -3349.254 -3017.479 -3146.197\n"
          ]
        }
      ]
    },
    {
      "cell_type": "code",
      "source": [
        "%%R\n",
        "for (i in (1:m))\n",
        "{\n",
        "  #VaR de accines y divisas sin alisado\n",
        "  VaRCont_acc_div[i]=equantile(PG_acc_div[,i],1-alpha,Ns)\n",
        "  #CVaR de acciones y divisas sin alisado\n",
        "  CVaRCont_acc_div[i]= mean(merge(which(PG_acc_div[,i]<VaRCont_acc_div[i]),cbind(seq(1,Ns),PG_acc_div[,i]), by.x=1,by.y=1)[,2])\n",
        "  #VaR de acciones y divisas con alisado\n",
        "  VaRCont_CA_acc_div[i]=wquantile(PG_acc_div[,i],p_esc, 1-alpha)\n",
        "  #CVaR de acciones y divisas con alisado\n",
        "  CVaRCont_CA_acc_div[i]= wcvar(PG_acc_div[,i],p_esc, 1-alpha)\n",
        "}\n",
        "\n",
        "#VaR por acciones\n",
        "VaRfr1_acc_div <- as.matrix(t(VaRCont_acc_div[1:m_acc]))\n",
        "#VaR por divisas\n",
        "VaRfr2_acc_div <- as.matrix(t(VaRCont_acc_div[(m_acc+1):m]))\n",
        "\n",
        "#CVar por acciones\n",
        "CVaRfr1_acc_div <- as.matrix(t(CVaRCont_acc_div[1:m_acc]))\n",
        "#CVar por divisas\n",
        "CVaRfr2_acc_div <- as.matrix(t(CVaRCont_acc_div[(m_acc+1):m]))\n",
        "\n",
        "#Var con alisado por acciones\n",
        "VaRfr1_CA_acc_div <- as.matrix(t(VaRCont_CA_acc_div[1:m_acc]))\n",
        "#Var con alsiado por divisas\n",
        "VaRfr2_CA_acc_div <- as.matrix(t(VaRCont_CA_acc_div[(m_acc+1):m]))\n",
        "\n",
        "#CVar con alisado por acciones\n",
        "CVaRfr1_CA_acc_div <- as.matrix(t(CVaRCont_CA_acc_div[1:m_acc]))\n",
        "#CVar con alisado por divisas\n",
        "CVaRfr2_CA_acc_div <- as.matrix(t(CVaRCont_CA_acc_div[(m_acc+1):m]))\n",
        "\n",
        "#Var sin alisado total\n",
        "VaRTotal_acc_div=equantile(PGT_acc_div,1-alpha,Ns)\n",
        "VaRTotalfr1_acc_div=equantile(PGfr1T_acc_div,1-alpha,Ns)\n",
        "VaRTotalfr2_acc_div=equantile(PGfr2T_acc_div,1-alpha,Ns)\n",
        "\n",
        "#CVar sin alisado total\n",
        "CVaRTotal_acc_div= mean(merge(which(PGT_acc_div<VaRTotal_acc_div),cbind(seq(1,Ns),PGT_acc_div), by.x=1,by.y=1)[,2])\n",
        "CVaRTotalfr1_acc_div= mean(PGfr1T_acc_div[which(PGfr1T_acc_div<VaRTotalfr1_acc_div),])\n",
        "CVaRTotalfr2_acc_div= mean(PGfr2T_acc_div[which(PGfr2T_acc_div<VaRTotalfr2_acc_div),])\n",
        "\n",
        "#Var con alisado total\n",
        "VaRTotal_CA_acc_div=wquantile(PGT_acc_div,p_esc,1-alpha)\n",
        "VaRTotalfr1_CA_acc_div=wquantile(PGfr1T_acc_div,p_esc,1-alpha)\n",
        "VaRTotalfr2_CA_acc_div=wquantile(PGfr2T_acc_div,p_esc,1-alpha)\n",
        "\n",
        "#CVar con alisado total\n",
        "CVaRTotal_CA_acc_div= wcvar(PGT_acc_div,p_esc,1-alpha)\n",
        "CVaRTotalfr1_CA_acc_div= wcvar(PGfr1T_acc_div,p_esc,1-alpha)\n",
        "CVaRTotalfr2_CA_acc_div= wcvar(PGfr2T_acc_div,p_esc,1-alpha)"
      ],
      "metadata": {
        "id": "CBInuRDQu8FR"
      },
      "execution_count": null,
      "outputs": []
    },
    {
      "cell_type": "markdown",
      "source": [
        "### Valor en Riesgo"
      ],
      "metadata": {
        "id": "52rLdFMd3OC1"
      }
    },
    {
      "cell_type": "code",
      "source": [
        "%%R\n",
        "colnames(VaRCont_acc_div) <- c(acc_names,div_names)\n",
        "colnames(VaRfr1_acc_div) <- acc_names\n",
        "colnames(VaRfr2_acc_div) <- div_names\n",
        "colnames(VaRCont_CA_acc_div) <- c(acc_names,div_names)\n",
        "colnames(VaRfr1_CA_acc_div) <- acc_names\n",
        "colnames(VaRfr2_CA_acc_div) <- div_names\n",
        "\n",
        "colnames(CVaRCont_acc_div) <- c(acc_names,div_names)\n",
        "colnames(CVaRfr1_acc_div) <- acc_names\n",
        "colnames(CVaRfr2_acc_div) <- div_names\n",
        "colnames(CVaRCont_CA_acc_div) <- c(acc_names,div_names)\n",
        "colnames(CVaRfr1_CA_acc_div) <- acc_names\n",
        "colnames(CVaRfr2_CA_acc_div) <- div_names"
      ],
      "metadata": {
        "id": "R0UzsB8P5C-p"
      },
      "execution_count": null,
      "outputs": []
    },
    {
      "cell_type": "code",
      "source": [
        "%%R\n",
        "print(\"VaR por acciones y divisas\")\n",
        "VaR_acc_div <- as.matrix(rbind(VaRCont_acc_div,VaRCont_CA_acc_div,V0_acc_div))\n",
        "rownames(VaR_acc_div) <- c(\"Sin alisado\",\"Con alisado\",\"Valor portafolio\")\n",
        "print(VaR_acc_div)\n",
        "\n",
        "print(\"VaR Total\")\n",
        "VaR_Total_acc_div <- as.matrix(rbind(cbind(VaRTotal_acc_div,VaRTotalfr1_acc_div,VaRTotalfr2_acc_div),\n",
        "                                     cbind(VaRTotal_CA_acc_div,VaRTotalfr1_CA_acc_div,VaRTotalfr2_CA_acc_div),\n",
        "                                     cbind(sum(V0_acc_div),sum(V0_acc_div[,1:m_acc]),sum(V0_acc_div[,(m_acc+1):m]))))\n",
        "rownames(VaR_Total_acc_div) <- c(\"Sin alisado\",\"Con alisado\",\"Valor portafolio\")\n",
        "colnames(VaR_Total_acc_div) <- c(\"Total\",\"Acciones\",\"Divisas\")\n",
        "print(VaR_Total_acc_div)"
      ],
      "metadata": {
        "colab": {
          "base_uri": "https://localhost:8080/"
        },
        "id": "m9T-flPp3SqS",
        "outputId": "d2e0cf5d-94ba-4ebe-d7bd-ebb8317787cf"
      },
      "execution_count": null,
      "outputs": [
        {
          "output_type": "stream",
          "name": "stdout",
          "text": [
            "[1] \"VaR por acciones y divisas\"\n",
            "                     America     Carso   Walmart      Euros      Libras\n",
            "Sin alisado        -3349.254 -3017.479 -3146.197  -292.0318   -282.2936\n",
            "Con alisado        -3487.312 -2990.556 -3177.200  -156.9451   -134.5073\n",
            "Valor portafolio -105600.005 74410.004 98303.998 15531.3719 -15670.5984\n",
            "                    Dolares\n",
            "Sin alisado       -453.4187\n",
            "Con alisado       -356.7110\n",
            "Valor portafolio 29817.2265\n",
            "[1] \"VaR Total\"\n",
            "                     Total  Acciones    Divisas\n",
            "Sin alisado      -4571.742 -4704.415  -503.0257\n",
            "Con alisado      -4949.976 -4973.593  -379.4284\n",
            "Valor portafolio 96791.997 67113.997 29677.9999\n"
          ]
        }
      ]
    },
    {
      "cell_type": "markdown",
      "source": [
        "### Valor en Riesgo Condicional"
      ],
      "metadata": {
        "id": "NZtcRols5f1D"
      }
    },
    {
      "cell_type": "code",
      "source": [
        "%%R\n",
        "print(\"CVaR por acciones y divisas\")\n",
        "CVaR_acc_div <- as.matrix(rbind(CVaRCont_acc_div,CVaRCont_CA_acc_div,V0_acc_div))\n",
        "rownames(CVaR_acc_div) <- c(\"Sin alisado\",\"Con alisado\",\"Valor portafolio\")\n",
        "print(CVaR_acc_div)\n",
        "\n",
        "print(\"CVaR Total\")\n",
        "CVaR_Total_acc_div <- as.matrix(rbind(cbind(CVaRTotal_acc_div,CVaRTotalfr1_acc_div,CVaRTotalfr2_acc_div),\n",
        "                                     cbind(CVaRTotal_CA_acc_div,CVaRTotalfr1_CA_acc_div,CVaRTotalfr2_CA_acc_div),\n",
        "                                     cbind(sum(V0_acc_div),sum(V0_acc_div[,1:m_acc]),sum(V0_acc_div[,(m_acc+1):m]))))\n",
        "rownames(CVaR_Total_acc_div) <- c(\"Sin alisado\",\"Con alisado\",\"Valor portafolio\")\n",
        "colnames(CVaR_Total_acc_div) <- c(\"Total\",\"Acciones\",\"Divisas\")\n",
        "print(CVaR_Total_acc_div)"
      ],
      "metadata": {
        "colab": {
          "base_uri": "https://localhost:8080/"
        },
        "id": "Lvpk8jsG05wP",
        "outputId": "fb3bda33-29e6-4318-e199-b4b94887b8ab"
      },
      "execution_count": null,
      "outputs": [
        {
          "output_type": "stream",
          "name": "stdout",
          "text": [
            "[1] \"CVaR por acciones y divisas\"\n",
            "                     America     Carso   Walmart      Euros      Libras\n",
            "Sin alisado        -4528.041 -4166.973 -4428.774  -356.0485   -419.0875\n",
            "Con alisado        -4024.923 -3692.181 -3434.240  -215.0101   -164.5758\n",
            "Valor portafolio -105600.005 74410.004 98303.998 15531.3719 -15670.5984\n",
            "                    Dolares\n",
            "Sin alisado       -598.4633\n",
            "Con alisado       -578.8262\n",
            "Valor portafolio 29817.2265\n",
            "[1] \"CVaR Total\"\n",
            "                     Total  Acciones    Divisas\n",
            "Sin alisado      -6341.516 -6511.754  -638.6302\n",
            "Con alisado      -6050.123 -6090.790  -473.4383\n",
            "Valor portafolio 96791.997 67113.997 29677.9999\n"
          ]
        }
      ]
    }
  ]
}