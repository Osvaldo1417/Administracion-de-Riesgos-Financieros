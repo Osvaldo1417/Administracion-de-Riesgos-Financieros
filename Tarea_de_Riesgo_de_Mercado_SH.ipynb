{
  "nbformat": 4,
  "nbformat_minor": 0,
  "metadata": {
    "colab": {
      "name": "Tarea de Riesgo de Mercado SH.ipynb",
      "provenance": [],
      "collapsed_sections": [
        "WIySRmG6s0pF",
        "oIVN1Fc9KiWf",
        "-gqVtjJibKoF",
        "RHAzGErHglrT",
        "zyq5WHzBgqbt",
        "q9S6cwTKgxUO",
        "it1wwRCngxbx",
        "LJ8Si1mTg8bz",
        "qffwGKKZgGY4",
        "rAcb5Pi7hBd_",
        "WAmYeQF_hGsH",
        "waXjUUbdhNzP",
        "o9MRQQfzhNzP",
        "hHMRtZ2ohNzP",
        "axQcIZEHhNzQ",
        "6dcOTazagPHL",
        "VyiF-SWegSg2",
        "vzNjISiFhXaJ",
        "r7nVDF__hXaJ",
        "CodvqixqhXaK",
        "O8rGxAp_hXaK",
        "rR8FpnXglE2_",
        "5UVpwclJlVFM",
        "3mK7IdqOE71U",
        "2wiQA57nFF34",
        "52rLdFMd3OC1",
        "NZtcRols5f1D",
        "vIOp-JoLP3Rn",
        "hYPC8qt7FW4-",
        "MJVWFbGVFaG7",
        "7EjUBKs7v795",
        "9SCztYj9wA8u",
        "-94AEf5D5kRM",
        "zN0a5WMdaBnt",
        "p1yyfBwZFi82",
        "9jkzmqQeFjQF",
        "UygRuzhMFjg8",
        "qkhJbo6rFjp_",
        "rMaH40XtaVRE",
        "M9pLJsY4aVRF",
        "rhfpCNjeaVRG",
        "i1_bLOD_aVRH",
        "pPmzIHGvaVRH",
        "J59yuWU05uL-",
        "1M9i_ZnMFxxK",
        "XodHVE5yFxxL",
        "Zlw6q91qFxxL",
        "0w1_vL57FxxL",
        "KgRoLgtS5wRi",
        "09bX8YMdF2oF",
        "EUxbPs9rF6an",
        "vSAT5jMcQKGE",
        "uDrogW2uQMag",
        "vKRRoMjQmddo",
        "B-xKPzyeq7Ky",
        "QmIjcQVDq_gt",
        "9J38yWfarDNd",
        "mFOejG2grF0Y"
      ],
      "toc_visible": true,
      "authorship_tag": "ABX9TyMIZfW+p5M65n0ABkpT18U/",
      "include_colab_link": true
    },
    "kernelspec": {
      "name": "python3",
      "display_name": "Python 3"
    },
    "language_info": {
      "name": "python"
    }
  },
  "cells": [
    {
      "cell_type": "markdown",
      "metadata": {
        "id": "view-in-github",
        "colab_type": "text"
      },
      "source": [
        "<a href=\"https://colab.research.google.com/github/Osvaldo1417/Tarea-de-Riesgo-de-Mercado-SH/blob/master/Tarea_de_Riesgo_de_Mercado_SH.ipynb\" target=\"_parent\"><img src=\"https://colab.research.google.com/assets/colab-badge.svg\" alt=\"Open In Colab\"/></a>"
      ]
    },
    {
      "cell_type": "markdown",
      "source": [
        "# Tarea 1 - Riesgo de Mercado\n",
        "- Cedeño Ramírez Osvaldo\n",
        "- Felipe Santiago Edson Yair\n",
        "- Morelos Granados José Carlos\n",
        "- Pacheco Tovar Alejandra Citlalli\n"
      ],
      "metadata": {
        "id": "WIySRmG6s0pF"
      }
    },
    {
      "cell_type": "code",
      "source": [
        "%load_ext rpy2.ipython\n",
        "!rm -rf Tarea-de-Riesgo-de-Mercado-SH\n",
        "#https://github.com/Osvaldo1417/Tarea-de-Riesgo-de-Mercado-SH/blob/master/Tarea_de_Riesgo_de_Mercado_SH.ipynb\n",
        "!git clone \"https://github.com/Osvaldo1417/Tarea-de-Riesgo-de-Mercado-SH/\""
      ],
      "metadata": {
        "id": "1voJKrXuJpNo"
      },
      "execution_count": null,
      "outputs": []
    },
    {
      "cell_type": "code",
      "metadata": {
        "id": "57AsDOlcRWL9"
      },
      "source": [
        "%%R\n",
        "install.packages(\"quantmod\")\n",
        "library(quantmod)\n",
        "\n",
        "install.packages(\"data.table\")\n",
        "library(data.table)\n",
        "\n",
        "install.packages(\"PerformanceAnalytics\")\n",
        "library(\"PerformanceAnalytics\")\n",
        "\n",
        "install.packages(\"Deriv\")\n",
        "library(Deriv)\n",
        "\n",
        "library(dplyr)\n",
        "\n",
        "con = gzcon(url('https://github.com/systematicinvestor/SIT/raw/master/sit.gz', 'rb'))\n",
        "source(con)\n",
        "close(con)"
      ],
      "execution_count": null,
      "outputs": []
    },
    {
      "cell_type": "markdown",
      "source": [
        "## Funciones"
      ],
      "metadata": {
        "id": "oIVN1Fc9KiWf"
      }
    },
    {
      "cell_type": "code",
      "metadata": {
        "id": "Qw6AthHnXMx4"
      },
      "source": [
        "%%R\n",
        "#FUNCIÓN DE INTERPOLACIÓN ALAMBRADA\n",
        "\n",
        "talamb=function(nodos,curva,plazos) #función de interpolación de tasas por el método alamabrada\n",
        "{\n",
        "  n=max(ncol(plazos),1)\n",
        "  m=max(ncol(nodos),1)\n",
        "  TC=matrix(0,1,n)\n",
        "  TL=matrix(0,1,n)\n",
        "  TF=matrix(0,1,n)\n",
        "  for (j in 1:n)\n",
        "  {\n",
        "    i=1\n",
        "    repeat\n",
        "    {\n",
        "      if(nodos[i]<= plazos[j] && plazos[j] <=nodos[i+1])\n",
        "      {\n",
        "        TC[j]=curva[i]\n",
        "        TL[j]=curva[i+1]\n",
        "        TF[j]=((((1+TL[j]*nodos[i+1]/360)/(1+TC[j]*nodos[i]/360))^((plazos[j]-nodos[i])/(nodos[i+1]-nodos[i]))*(1+TC[j]*nodos[i]/360))-1)*360/plazos[j]\n",
        "        break\n",
        "      }\n",
        "      else if (plazos[j]<nodos[1])\n",
        "      {\n",
        "        TC[j]=curva[1]\n",
        "        TL[j]=curva[1]\n",
        "        TF[j]=curva[1]\n",
        "        break\n",
        "      }\n",
        "      else if (plazos[j]>nodos[m])\n",
        "      {\n",
        "        TC[j]=curva[m]\n",
        "        TL[j]=curva[m]\n",
        "        TF[j]=curva[m]\n",
        "        break\n",
        "      }\n",
        "      else\n",
        "      {i=i+1}\n",
        "    }\n",
        "  }\n",
        "  as.matrix(t(as.numeric(rbind(TF))))\n",
        "}\n",
        "\n",
        "\n",
        "#funciones necesarias\n",
        "diagv=function(x)\t\t\t#función para diagonalizar un vector\n",
        "{\n",
        "  n01=nrow(as.matrix(x))\n",
        "  m01=ncol(as.matrix(x))\n",
        "  dimmax=max(n01,m01)\n",
        "  res=matrix(0,dimmax,dimmax)\n",
        "  for (i in 1:dimmax)\n",
        "  {\n",
        "    res[i,i]=x[i]\n",
        "  }\n",
        "  res\n",
        "}\n",
        "\n",
        "#función de cuantil más cercano\n",
        "equantile <- function(v,p=.5,ns=nrow(as.matrix(v))) \n",
        "{ \n",
        "  if ( !is.numeric(p) || any( p<0 | p>1) ) \n",
        "    stop(\"Percentil tiene que ser 0<=p<=1\") \n",
        "  ranking <- order(v) \n",
        "  vw=matrix(0,ns,1)\n",
        "  vw[1:ns]=seq(1/ns,ns)  \n",
        "  sumw <- cumsum(vw[ranking]) \n",
        "  plist <- sumw / sumw[ length(sumw) ] \n",
        "  v [ ranking [ which.max( plist >= p ) ] ]  \n",
        "} \n",
        "\n",
        "\n",
        "wquantile <- function(v,w=rep(1,length(v)),p=.5) \n",
        "{ \n",
        "  if ( !is.numeric(w) || length(v) != length(w) ) \n",
        "    stop(\"Los valores y los pesos tienen que tener misma longitud\") \n",
        "  if ( !is.numeric(p) || any( p<0 | p>1) ) \n",
        "    stop(\"Percentil tiene que ser 0<=p<=1\") \n",
        "  if ( min(w) < 0 ) stop(\"Los pesos tiene que ser mayores que 0\") \n",
        "  ranking <- order(v) \n",
        "  sumw <- cumsum(w[ranking]) \n",
        "  plist <- sumw / sumw[ length(sumw) ] \n",
        "  v [ ranking [ which.max( plist >= p ) ] ]  \n",
        "}\n",
        "\n",
        "\n",
        "#CVaR con alisado\n",
        "wcvar <- function(v,w=rep(1,length(v)),p=.5) \n",
        "{ \n",
        "  if ( !is.numeric(w) || length(v) != length(w) ) \n",
        "    stop(\"Los valores y los pesos tienen que tener misma longitud\") \n",
        "  if ( !is.numeric(p) || any( p<0 | p>1) ) \n",
        "    stop(\"Percentil tiene que ser 0<=p<=1\") \n",
        "  if ( min(w) < 0 ) stop(\"Los pesos tiene que ser mayores que 0\") \n",
        "  ranking <- order(v) \n",
        "  sumw <- cumsum(w[ranking]) \n",
        "  plist <- sumw / sumw[ length(sumw) ] \n",
        "  loss= v [ ranking [ which( plist < p ) ] ]  \n",
        "  esc=w [ ranking [ which( plist < p ) ] ]  \n",
        "  sum(loss*esc)/(sum(esc))\n",
        "} \n",
        "\n",
        "genera_esc <- function(lamda,w0,n){\n",
        "  p_esc=matrix(0,n,1)\n",
        "  for (i in (1:n))\n",
        "  {\n",
        "    p_esc[i]=w0*lambda^(i-1)\n",
        "  }\n",
        "  return(p_esc)\n",
        "}"
      ],
      "execution_count": null,
      "outputs": []
    },
    {
      "cell_type": "markdown",
      "source": [
        "# Carga de Datos"
      ],
      "metadata": {
        "id": "-gqVtjJibKoF"
      }
    },
    {
      "cell_type": "code",
      "source": [
        "%%R\n",
        "fval=as.Date(\"20220331\",format=\"%Y%m%d\") #Fecha de valoración\n",
        "itpl=1 #poner 0 si se quiere interpolación lineal o 1 si se quiere tasa alambrada\n",
        "alpha=0.98 #Nivel de confianza para obtener estimaciones de riesgo"
      ],
      "metadata": {
        "id": "U5JA6z_CgLbt"
      },
      "execution_count": null,
      "outputs": []
    },
    {
      "cell_type": "markdown",
      "source": [
        "## Acciones y Divisas"
      ],
      "metadata": {
        "id": "RHAzGErHglrT"
      }
    },
    {
      "cell_type": "code",
      "source": [
        "%%R\n",
        "acc_names <- c(\"America\",\"Carso\",\"Walmart\")\n",
        "div_names <- c(\"Euros\",\"Libras\",\"Dolares\")\n",
        "\n",
        "#ACCIONES Y DIVISAS\n",
        "#Cargar los símbolos de yahoo finance para EQ\n",
        "Sym_acciones<-c  (\"AMXL.MX\", \"GCARSOA1.MX\", \"WALMEX.MX\" )#tienen que ir en orden alfabético\n",
        "pos_acc=c(-5000,1000,1200) #monto inicial invertido en acciones\n",
        "#Cargar los símbolos de yahoo finance para FX\n",
        "Sym_divisas<-c(\"EURUSD=X\",\"GBPUSD=X\",\"USDMXN=X\" ) #tienen que ir en orden alfabético\n",
        "pos_div=c(700,-600,1500) #monto inicial invertido en divisas\n",
        "nh=3660 #días de historia"
      ],
      "metadata": {
        "id": "QuNbO84OLBsx"
      },
      "execution_count": null,
      "outputs": []
    },
    {
      "cell_type": "code",
      "source": [
        "%%R\n",
        "#CARGA DE DATOS DE ACCIONES\n",
        "pos=cbind(t(pos_div),t(pos_acc))\n",
        "start_date=fval-nh #fecha inicial\n",
        "#Creación del objeto para guardar los datos\n",
        "acciones<-new.env()\n",
        "divisas<-new.env()\n",
        "\n",
        "#obtener los datos\n",
        "getSymbols.yahoo(Sym_acciones,env=acciones,from=start_date,to=fval)\n",
        "getSymbols.yahoo(Sym_divisas,env=divisas,from=start_date,to=fval)\n",
        "\n",
        "#limpiarlos, alinearnos y quedarnos con el precio de cierre \n",
        "bt.prep(acciones,align='remove.na',fill.gaps = T)\n",
        "bt.prep(divisas,align='remove.na',fill.gaps=T)\n",
        "\n",
        "precios_acc = acciones$prices\n",
        "precios_div = divisas$prices\n",
        "\n",
        "precios_div=cbind(precios_div[,1]*precios_div[,3],\n",
        "                     precios_div[,2]*precios_div[,3],precios_div[,3])\n",
        "\n",
        "precios_acc_div = merge(precios_acc,precios_div,join = \"inner\")\n",
        "tail(precios_acc_div)"
      ],
      "metadata": {
        "id": "9bX51boVQ4Va",
        "colab": {
          "base_uri": "https://localhost:8080/"
        },
        "outputId": "050b9a4f-2207-456a-a738-89631d437f14"
      },
      "execution_count": null,
      "outputs": [
        {
          "output_type": "stream",
          "name": "stdout",
          "text": [
            "           AMXL.MX GCARSOA1.MX WALMEX.MX EURUSD.X GBPUSD.X USDMXN.X\n",
            "2022-03-23   20.73       73.71     77.99 22.35971 26.89405 20.27220\n",
            "2022-03-24   20.91       75.61     78.56 22.26207 26.71136 20.22664\n",
            "2022-03-25   21.00       75.77     78.59 22.09215 26.47899 20.06630\n",
            "2022-03-28   20.72       75.81     79.83 21.99689 26.39227 20.03015\n",
            "2022-03-29   20.70       74.29     78.58 22.08800 26.32673 20.09125\n",
            "2022-03-30   20.75       73.53     80.34 22.14488 26.14256 19.96560\n"
          ]
        }
      ]
    },
    {
      "cell_type": "code",
      "source": [
        "%%R\n",
        "aux2=data.table(Date=as.Date(index(precios_acc_div)),coredata(precios_acc_div))\n",
        "colnames(aux2) <- c(\"Date\",\"America\",\"Carso\",\"Walmart\",\"Euros\",\"Libras\",\"Dolares\")\n",
        "tail(aux2)"
      ],
      "metadata": {
        "id": "4Izwvzr9M4k9",
        "colab": {
          "base_uri": "https://localhost:8080/"
        },
        "outputId": "0e620638-b340-4994-f1f0-9233ffc3d20e"
      },
      "execution_count": null,
      "outputs": [
        {
          "output_type": "stream",
          "name": "stdout",
          "text": [
            "         Date America Carso Walmart    Euros   Libras  Dolares\n",
            "1: 2022-03-23   20.73 73.71   77.99 22.35971 26.89405 20.27220\n",
            "2: 2022-03-24   20.91 75.61   78.56 22.26207 26.71136 20.22664\n",
            "3: 2022-03-25   21.00 75.77   78.59 22.09215 26.47899 20.06630\n",
            "4: 2022-03-28   20.72 75.81   79.83 21.99689 26.39227 20.03015\n",
            "5: 2022-03-29   20.70 74.29   78.58 22.08800 26.32673 20.09125\n",
            "6: 2022-03-30   20.75 73.53   80.34 22.14488 26.14256 19.96560\n"
          ]
        }
      ]
    },
    {
      "cell_type": "markdown",
      "source": [
        "## Bonos"
      ],
      "metadata": {
        "id": "zyq5WHzBgqbt"
      }
    },
    {
      "cell_type": "code",
      "source": [
        "%%R\n",
        "#CETES\n",
        "tasa_guber_bcc=\"Tarea-de-Riesgo-de-Mercado-SH/tasa_guber.txt\"\n",
        "plazos_bcc=cbind(180)\n",
        "contratos_bcc=cbind(1)\n",
        "nominal_bcc=1500 #CETE\n",
        "\n",
        "# BONO M\n",
        "tasa_fija_bm=\"Tarea-de-Riesgo-de-Mercado-SH/tasa_yield.txt\"\n",
        "tfcupon_bm=cbind( 0.065) #Tasafija del cupón\n",
        "plazos_bm=cbind( 3600) #Vencimiento del bono\n",
        "plazocupon_bm=cbind(360) #plazos fijos de cada cupón\n",
        "contratos_bm=cbind(1) #posición invertida\n",
        "nominal_bm=1000\n",
        "\n",
        "#BONDES D\n",
        "base_tasa_desc=\"Tarea-de-Riesgo-de-Mercado-SH/tasa_guber_st.txt\"\n",
        "base_tasa_fondeo=\"Tarea-de-Riesgo-de-Mercado-SH/tfondeo.txt\"\n",
        "plazo_bdm= 707 #Vencimiento del bono\n",
        "plazocupon_bdm = 28 #plazos_bdm fijos de cada cupón\n",
        "contratos_bdm = -1 #posición invertida\n",
        "nominal_bdm = 1000"
      ],
      "metadata": {
        "id": "PsrxaP23FuSO"
      },
      "execution_count": null,
      "outputs": []
    },
    {
      "cell_type": "code",
      "source": [
        "%%R\n",
        "#Bono Cupon CERO\n",
        "data<-read.table(tasa_guber_bcc)\n",
        "n<-nrow(data)\n",
        "m_orig=ncol(data)\n",
        "X_orig_bcc=mutate(data.frame(data[2:n,]), Date=as.Date(V1,format=\"%Y%m%d\"))\n",
        "X_orig_bcc=X_orig_bcc%>%select(-V1)\n",
        "nodos_bcc=data.frame(data[1,2:m_orig])\n",
        "\n",
        "## BONO M\n",
        "data1<-read.table(tasa_fija_bm)\n",
        "n<-nrow(data1)\n",
        "m_orig=ncol(data1)\n",
        "X_orig_bm=mutate(data.frame(data1[2:n,]), Date=as.Date(V1,format=\"%Y%m%d\"))\n",
        "X_orig_bm=X_orig_bm%>%select(-V1)\n",
        "nodos_bm=data.frame(data1[1,2:m_orig])\n",
        "n=n-1\n",
        "\n",
        "##BONDE\n",
        "data1<-read.table(tasa_guber_bcc)\n",
        "n_bd<-nrow(data1)\n",
        "m_bd=ncol(data1)\n",
        "X1_orig=mutate(data.frame(data1[2:n,]), Date=as.Date(V1,format=\"%Y%m%d\"))\n",
        "X1_orig=X1_orig%>%select(-V1)\n",
        "nodos1_bd=data.frame(data1[1,2:m_bd])\n",
        "n_bd=n_bd-1\n",
        "\n",
        "data2<-read.table(base_tasa_fondeo)\n",
        "n2<-nrow(data2)\n",
        "X2_orig_bd=data.frame(data2[2:n2,])\n",
        "X2_orig_bd=mutate(X2_orig_bd, Date=as.Date(V1,format=\"%Y%m%d\"), V2=as.numeric(V2))\n",
        "X2_orig_bd=X2_orig_bd%>%select(-V1)\n",
        "tfh=seq(min(X2_orig_bd$Date), max(X2_orig_bd$Date), \"days\")\n",
        "tfhd=data.frame(ID=1:count(tfh),fecha=tfh)\n",
        "\n",
        "data3<-read.table(base_tasa_desc)\n",
        "n3<-nrow(data3)\n",
        "m3_bd=ncol(data3)\n",
        "X3_orig_bd=as.data.table(mutate(data3[2:n,],Date=as.Date(V1,format=\"%Y%m%d\")))\n",
        "X3_orig_bd=X3_orig_bd%>%select(-V1)\n",
        "nodos3_bd=data.frame(data3[1,2:m3_bd])\n",
        "n3=n3-1\n",
        "\n",
        "#Cruzar la sucesión de todos los días versus el de tasa de fondeo\n",
        "tfhd=setDT(tfhd)[, Date := tfh][order(-Date)]\n",
        "X2_orig_bd=setDT(X2_orig_bd)[, Date := Date][order(-Date)]\n",
        "X2_orig_bd=X2_orig_bd[tfhd, on = .(Date), roll = Inf]\n",
        "\n",
        "tf_act=X2_orig_bd[fecha==fval,]$V2/100\n",
        "tf_int=X2_orig_bd[fecha<=fval & fecha>=(fval-plazocupon_bdm[1])]$V2/100"
      ],
      "metadata": {
        "id": "CtesYwz_GMbq"
      },
      "execution_count": null,
      "outputs": []
    },
    {
      "cell_type": "markdown",
      "source": [
        "## Futuros"
      ],
      "metadata": {
        "id": "q9S6cwTKgxUO"
      }
    },
    {
      "cell_type": "code",
      "source": [
        "%%R\n",
        "#FUTUROS DE TDC\n",
        "bext=\"Tarea-de-Riesgo-de-Mercado-SH/tasa_libor.txt\" \n",
        "bdom=\"Tarea-de-Riesgo-de-Mercado-SH/tasa_fwd.txt\"\n",
        "SymbolsFX_ftdc_find <- c(\"^MXX\",\"USDMXN=X\")\n",
        "plazos_fowd = cbind(5)\n",
        "contratos_fowd = cbind(100 )\n",
        "kst_fwd=cbind(20.83)\n",
        "nominal_fwd=cbind(1)\n",
        "trlib=1\n",
        "\n",
        "#FUTUROS DE IPC\n",
        "btsp=\"Tarea-de-Riesgo-de-Mercado-SH/tasa_guber.txt\"\n",
        "plazos_fwd_ind= cbind(53) \n",
        "contratos_fwd_ind= cbind(-50)\n",
        "kst_fwd_ind=cbind(49525)\n",
        "nominal_fwd_ind=cbind(1)"
      ],
      "metadata": {
        "id": "8S9u7jxR5d69"
      },
      "execution_count": null,
      "outputs": []
    },
    {
      "cell_type": "code",
      "source": [
        "%%R\n",
        "### CARGA DE DATOS TDC\n",
        "data1<-read.table(bext)\n",
        "data2<-read.table(bdom)\n",
        "\n",
        "n1=nrow(data1)\n",
        "n2=nrow(data2)\n",
        "m1_ftdc=ncol(data1)\n",
        "m2_ftdc=ncol(data2)\n",
        "n=min(n1,n2)-1\n",
        "\n",
        "###NODOS###\n",
        "nodos1_ftdc=data.frame(data1[1,2:m1_ftdc])\n",
        "nodos2_ftdc=data.frame(data2[1,2:m2_ftdc])\n",
        "\n",
        "####MATRICES DEL MISMO TAMAÑO\n",
        "x1_ftdc=as.data.table(mutate(data1[2:n1,1:m1_ftdc],Date=as.Date(V1,format=\"%Y%m%d\")))\n",
        "x1_ftdc=x1_ftdc%>%select(-V1)\n",
        "x2_ftdc=as.data.table(mutate(data2[2:n1,1:m2_ftdc],Date=as.Date(V1,format=\"%Y%m%d\")))\n",
        "x2_ftdc=x2_ftdc%>%select(-V1)\n",
        "\n",
        "\n",
        "# CARGA DE DATOS DE  FORWARD DE IPC\n",
        "data1<-read.table(btsp)\n",
        "n<-nrow(data1)\n",
        "m_gov=ncol(data1)\n",
        "x_orig_gov=as.data.table(mutate(data1[2:n,1:m_gov],Date=as.Date(V1,format=\"%Y%m%d\")))\n",
        "x_orig_gov=x_orig_gov%>%select(-V1)\n",
        "nodos_gov=data.frame(data1[1,2:m_gov])\n",
        "\n",
        "#Cargar los símbolos de yahoo finance para EQ\n",
        "dataEnvFX_EQ<-new.env()\n",
        "getSymbols.yahoo(SymbolsFX_ftdc_find,env=dataEnvFX_EQ,from=start_date, to=fval)\n",
        "bt.prep(dataEnvFX_EQ,align='remove.na',fill.gaps=T)\n",
        "\n",
        "X3_find=data.table(Date=as.Date(index(dataEnvFX_EQ$prices[,1])),coredata(dataEnvFX_EQ$prices[,1]))\n",
        "X3_find = X3_find[order(-Date)]\n",
        "\n",
        "###Para Dolar\n",
        "X3_ftdc=data.table(Date=as.Date(index(dataEnvFX_EQ$prices[,2])),coredata(dataEnvFX_EQ$prices[,2]))\n",
        "X3_ftdc = X3_ftdc[order(-Date)]"
      ],
      "metadata": {
        "id": "sX2nlyMx-VDq"
      },
      "execution_count": null,
      "outputs": []
    },
    {
      "cell_type": "markdown",
      "source": [
        "## Swap's"
      ],
      "metadata": {
        "id": "it1wwRCngxbx"
      }
    },
    {
      "cell_type": "code",
      "source": [
        "%%R\n",
        "btasadesc_sw=\"Tarea-de-Riesgo-de-Mercado-SH/tasa_TIIE_SW_OP.txt\"\n",
        "btasacupvar_sw=\"Tarea-de-Riesgo-de-Mercado-SH/tasa_DIRS_SW_OP.txt\"\n",
        "tasafija_sw=cbind(0.066,0.059) #se establece la tasa fija a pagar para cada swap\n",
        "plazos_sw=cbind(588,270) #se establece el número de días que vivirá el swap\n",
        "plazocupon_sw=cbind(28,28) #se establece el número de días que se pagará cada cupón\n",
        "contratos_sw=cbind(16000000,12000000) #se establece el número de contratos_sw de cada swap\n",
        "nominal_sw=cbind(1,1) #se establece el nominal_sw de cada swap\n",
        "por_sw=cbind(0,0) #se establece 0 si se paga tasa fija y 1 si se paga tasa variable"
      ],
      "metadata": {
        "id": "ln2eWa3FbXyO"
      },
      "execution_count": null,
      "outputs": []
    },
    {
      "cell_type": "code",
      "source": [
        "%%R\n",
        "#CARGA DE DATOS PARA SWAP\n",
        "data1<-read.table(btasadesc_sw)###tasa tie\n",
        "n1<-nrow(data1)\n",
        "m1_orig_sw=ncol(data1)\n",
        "X1_orig_sw=data.table(mutate(data1[2:n1,1:m1_orig_sw],Date=as.Date(V1,format=\"%Y%m%d\")))\n",
        "X1_orig_sw=X1_orig_sw%>%select(-V1)\n",
        "nodos1_sw=data.frame(data1[1,2:m1_orig_sw])\n",
        "\n",
        "data2<-read.table(btasacupvar_sw)\n",
        "n2<-nrow(data2)\n",
        "m2_orig_sw=ncol(data2)\n",
        "X2_orig_sw=data.table(mutate(data2[2:n1,1:m1_orig_sw],Date=as.Date(V1,format=\"%Y%m%d\")))\n",
        "X2_orig_sw=X2_orig_sw%>%select(-V1)\n",
        "nodos2_sw=data.frame(data2[1,2:m2_orig_sw])"
      ],
      "metadata": {
        "id": "jyzbI-FvbvL7"
      },
      "execution_count": null,
      "outputs": []
    },
    {
      "cell_type": "markdown",
      "source": [
        "## Opciones"
      ],
      "metadata": {
        "id": "LJ8Si1mTg8bz"
      }
    },
    {
      "cell_type": "code",
      "source": [
        "%%R\n",
        "#OPCIONES\n",
        "base_desc_opc=\"Tarea-de-Riesgo-de-Mercado-SH/tasa_TIIE_SW_OP.txt\"\n",
        "base_spot_opc=\"Tarea-de-Riesgo-de-Mercado-SH/tasa_DIRS_SW_OP.txt\"\n",
        "base_vot_opc=\"Tarea-de-Riesgo-de-Mercado-SH/tvoltiie_opc.txt\"\n",
        "plazos_opc=cbind( 1700, 700) #T-t\n",
        "pr_opc=28 #plazo de referencia  \n",
        "dct_opc=360 #d_base\n",
        "cp_opc=cbind(0,1) # 0 si es call (cap) o put (floor)\n",
        "K_opc=cbind( 0.058, 0.06)\n",
        "contratos_opc=cbind(1000, 500)\n",
        "nominal_opc=1\n",
        "cs_opc=1 #1 si es continua la tasa 0 si es simple"
      ],
      "metadata": {
        "id": "GjE7UG0Hthj5"
      },
      "execution_count": null,
      "outputs": []
    },
    {
      "cell_type": "code",
      "source": [
        "%%R\n",
        "#CARGA DE DATOS PARA OPCIONES DE TASA DE INTERÉS\n",
        "#carga de rho\t\n",
        "data1<-read.table(base_desc_opc)\n",
        "n<-nrow(data1)\n",
        "m1_orig_opc=ncol(data1)\n",
        "x1_orig_opc=data.table(mutate(data1[2:n,],Date=as.Date(V1,format=\"%Y%m%d\")))\n",
        "x1_orig_opc=x1_orig_opc%>%select(-V1)\n",
        "nodos1_opc=data.frame(data1[1,2:m1_orig_opc])\n",
        "\n",
        "#carga de tasas spot\n",
        "data2<-read.table(base_spot_opc)\n",
        "n<-nrow(data2)\n",
        "m2_orig_opc=ncol(data2)\n",
        "x2_orig_opc=data.table(mutate(data2[2:n,],Date=as.Date(V1,format=\"%Y%m%d\")))\n",
        "x2_orig_opc=x2_orig_opc%>%select(-V1)\n",
        "nodos2_opc=data.frame(data2[1,2:m2_orig_opc])\n",
        "\n",
        "#carga de volatilidades de spot\n",
        "data3<-read.table(base_vot_opc)\n",
        "n<-nrow(data3)\n",
        "m3_orig_opc=ncol(data3)\n",
        "x3_orig_opc=data.table(mutate(data3[2:n,],Date=as.Date(V1,format=\"%Y%m%d\")))\n",
        "x3_orig_opc=x3_orig_opc%>%select(-V1)\n",
        "nodos3_opc=data.frame(data3[1,2:m3_orig_opc])"
      ],
      "metadata": {
        "id": "ktIQ-89Stj-w"
      },
      "execution_count": null,
      "outputs": []
    },
    {
      "cell_type": "markdown",
      "source": [
        "# Integración de insumos"
      ],
      "metadata": {
        "id": "qffwGKKZgGY4"
      }
    },
    {
      "cell_type": "code",
      "source": [
        "%%R\n",
        "fechas=data.table(Date=as.Date(aux2[X_orig_bcc,on=.(Date),nomatch=0]$Date)) #Fechas acciones, equity, bcc\n",
        "fechas=data.table(Date=as.Date(fechas[X_orig_bm,on=.(Date),nomatch=0]$Date)) #Fechas acciones, equity, bcc, bm\n",
        "fechas=data.table(Date=as.Date(fechas[X3_orig_bd,on=.(Date),nomatch=0]$Date)) #Fechas acciones, equity, bcc, bm, bd\n",
        "\n",
        "fechas=data.table(Date=as.Date(fechas[X3_find,on=.(Date),nomatch=0]$Date)) #Fechas acciones, equity, bcc, bm, bd, find\n",
        "fechas=data.table(Date=as.Date(fechas[x1_ftdc,on=.(Date),nomatch=0]$Date)) #Fechas acciones, equity, bcc, bm, bd, find, ext\n",
        "fechas=data.table(Date=as.Date(fechas[x2_ftdc,on=.(Date),nomatch=0]$Date)) #Fechas acciones, equity, bcc, bm, bd, find, ext, dom\n",
        "fechas=data.table(Date=as.Date(fechas[X3_ftdc,on=.(Date),nomatch=0]$Date)) #Fechas acciones, equity, bcc, bm, bd, find, ext, dom, tdc\n",
        "\n",
        "fechas=data.table(Date=as.Date(fechas[X1_orig_sw,on=.(Date),nomatch=0]$Date)) #Fechas acciones, equity, bcc, bm, bd, find, ext, dom, tdc, sw desc\n",
        "fechas=data.table(Date=as.Date(fechas[X2_orig_sw,on=.(Date),nomatch=0]$Date)) #Fechas acciones, equity, bcc, bm, bd, find, ext, dom, tdc, sw desc, sw cup\n",
        "\n",
        "fechas=data.table(Date=as.Date(fechas[x1_orig_opc,on=.(Date),nomatch=0]$Date)) #Fechas acciones, equity, bcc, bm, bd, find, ext, dom, tdc, sw desc, sw cup, opc desc\n",
        "fechas=data.table(Date=as.Date(fechas[x2_orig_opc,on=.(Date),nomatch=0]$Date)) #Fechas acciones, equity, bcc, bm, bd, find, ext, dom, tdc, sw desc, sw cup, opc desc, opc spot\n",
        "fechas=data.table(Date=as.Date(fechas[x3_orig_opc,on=.(Date),nomatch=0]$Date)) #Fechas acciones, equity, bcc, bm, bd, find, ext, dom, tdc, sw desc, sw cup, opc desc, opc spot, opc volt\n",
        "\n",
        "print(head(fechas))\n",
        "print(tail(fechas))"
      ],
      "metadata": {
        "colab": {
          "base_uri": "https://localhost:8080/"
        },
        "id": "sAjKhtL4e_og",
        "outputId": "7517f8de-c3a2-4259-9daf-d00bca7d3d51"
      },
      "execution_count": null,
      "outputs": [
        {
          "output_type": "stream",
          "name": "stdout",
          "text": [
            "         Date\n",
            "1: 2022-03-30\n",
            "2: 2022-03-29\n",
            "3: 2022-03-28\n",
            "4: 2022-03-25\n",
            "5: 2022-03-24\n",
            "6: 2022-03-23\n",
            "         Date\n",
            "1: 2021-04-12\n",
            "2: 2021-04-09\n",
            "3: 2021-04-08\n",
            "4: 2021-04-07\n",
            "5: 2021-04-06\n",
            "6: 2021-04-05\n"
          ]
        }
      ]
    },
    {
      "cell_type": "markdown",
      "source": [
        "## Segreración de Datos"
      ],
      "metadata": {
        "id": "rAcb5Pi7hBd_"
      }
    },
    {
      "cell_type": "code",
      "source": [
        "%%R\n",
        "n=nrow(fechas) #Historia de todos"
      ],
      "metadata": {
        "id": "_To2HKyg0tQr"
      },
      "execution_count": null,
      "outputs": []
    },
    {
      "cell_type": "markdown",
      "source": [
        "### Acciones y Divisas"
      ],
      "metadata": {
        "id": "WAmYeQF_hGsH"
      }
    },
    {
      "cell_type": "code",
      "source": [
        "%%R\n",
        "#historia de acciones y divisas\n",
        "precios_acc_div = fechas[aux2,on=.(Date),nomatch=0][order(-Date)]\n",
        "precios_acc_div = precios_acc_div%>%select(-Date)\n",
        "precios_acc_div"
      ],
      "metadata": {
        "colab": {
          "base_uri": "https://localhost:8080/"
        },
        "id": "iZNsImDTcMkS",
        "outputId": "914a1b09-5039-49ec-efce-e6df87aa1661"
      },
      "execution_count": null,
      "outputs": [
        {
          "output_type": "stream",
          "name": "stdout",
          "text": [
            "     America Carso Walmart    Euros   Libras  Dolares\n",
            "  1:   20.75 73.53   80.34 22.14488 26.14256 19.96560\n",
            "  2:   20.70 74.29   78.58 22.08800 26.32673 20.09125\n",
            "  3:   20.72 75.81   79.83 21.99689 26.39227 20.03015\n",
            "  4:   21.00 75.77   78.59 22.09215 26.47899 20.06630\n",
            "  5:   20.91 75.61   78.56 22.26207 26.71136 20.22664\n",
            " ---                                                 \n",
            "249:   14.11 57.39   63.94 23.94925 27.60465 20.09894\n",
            "250:   14.41 59.39   66.11 23.99821 27.77805 20.21130\n",
            "251:   14.10 59.62   63.97 23.95562 27.90382 20.17446\n",
            "252:   14.17 58.93   65.11 23.99920 28.25341 20.30573\n",
            "253:   14.28 57.78   66.86 23.89553 28.08468 20.30522\n"
          ]
        }
      ]
    },
    {
      "cell_type": "markdown",
      "source": [
        "### Bonos"
      ],
      "metadata": {
        "id": "waXjUUbdhNzP"
      }
    },
    {
      "cell_type": "code",
      "source": [
        "%%R\n",
        "#historia de curva gubernamental\n",
        "X_orig_bcc=fechas[X_orig_bcc,on=.(Date),nomatch=0][order(-Date)]\n",
        "X_orig_bcc=X_orig_bcc%>%select(-Date)\n",
        "\n",
        "## Historia Bono M\n",
        "X_orig_bm=fechas[X_orig_bm,on=.(Date),nomatch=0][order(-Date)]\n",
        "X_orig_bm=X_orig_bm%>%select(-Date)\n",
        "\n",
        "#Historia de curvas de bonde\n",
        "#CONSIDERAR LA CURVA GUBERNAMENTAL X1_ORIG_GOV\n",
        "X1_orig=fechas[X1_orig,on=.(Date),nomatch=0][order(-Date)]\n",
        "X1_orig=X1_orig%>%select(-Date)\n",
        "\n",
        "X2_orig_bd=fechas[X2_orig_bd,on=.(Date),nomatch=0][order(-Date)]\n",
        "X2_orig_bd=X2_orig_bd%>%select(-Date)\n",
        "\n",
        "X3_orig_bd=fechas[X3_orig_bd,on=.(Date),nomatch=0][order(-Date)]\n",
        "X3_orig_bd=X3_orig_bd%>%select(-Date)"
      ],
      "metadata": {
        "id": "QtM0-MrOaOCw"
      },
      "execution_count": null,
      "outputs": []
    },
    {
      "cell_type": "markdown",
      "source": [
        "### Futuros"
      ],
      "metadata": {
        "id": "o9MRQQfzhNzP"
      }
    },
    {
      "cell_type": "code",
      "source": [
        "%%R\n",
        "#historia de curva gubernamental\n",
        "x_orig_gov=fechas[x_orig_gov,on=.(Date),nomatch=0][order(-Date)]\n",
        "x_orig_gov=x_orig_gov%>%select(-Date)\n",
        "\n",
        "#historia de curvas de forward tdc\n",
        "x1_ftdc=fechas[x1_ftdc,on=.(Date),nomatch=0][order(-Date)]\n",
        "x1_ftdc=x1_ftdc%>%select(-Date)/100\n",
        "x2_ftdc=fechas[x2_ftdc,on=.(Date),nomatch=0][order(-Date)]\n",
        "x2_ftdc=x2_ftdc%>%select(-Date)/100\n",
        "X3_ftdc=fechas[X3_ftdc,on=.(Date),nomatch=0][order(-Date)]\n",
        "X3_ftdc=X3_ftdc%>%select(-Date)\n",
        "\n",
        "#historia de curvas de forward ind\n",
        "X3_find=fechas[X3_find,on=.(Date),nomatch=0][order(-Date)]\n",
        "X3_find=X3_find%>%select(-Date)"
      ],
      "metadata": {
        "id": "VdKibzWvQjPn"
      },
      "execution_count": null,
      "outputs": []
    },
    {
      "cell_type": "markdown",
      "source": [
        "### Swap's"
      ],
      "metadata": {
        "id": "hHMRtZ2ohNzP"
      }
    },
    {
      "cell_type": "code",
      "source": [
        "%%R\n",
        "X1_orig_sw=fechas[X1_orig_sw,on=.(Date),nomatch=0][order(-Date)]\n",
        "X1_orig_sw=X1_orig_sw%>%select(-Date)/100\n",
        "X2_orig_sw=fechas[X2_orig_sw,on=.(Date),nomatch=0][order(-Date)]\n",
        "X2_orig_sw=X2_orig_sw%>%select(-Date)/100"
      ],
      "metadata": {
        "id": "9cO351Vidt38"
      },
      "execution_count": null,
      "outputs": []
    },
    {
      "cell_type": "markdown",
      "source": [
        "### Opciones"
      ],
      "metadata": {
        "id": "axQcIZEHhNzQ"
      }
    },
    {
      "cell_type": "code",
      "source": [
        "%%R\n",
        "#historia de opciones\n",
        "#Taas vp\n",
        "x1_orig_opc=fechas[x1_orig_opc,on=.(Date),nomatch=0][order(-Date)]\n",
        "x1_orig_opc=x1_orig_opc%>%select(-Date)/100\n",
        "\n",
        "#Tasa spot\n",
        "x2_orig_opc=fechas[x2_orig_opc,on=.(Date),nomatch=0][order(-Date)]\n",
        "x2_orig_opc=x2_orig_opc%>%select(-Date)/100\n",
        "\n",
        "#Volt\n",
        "x3_orig_opc=fechas[x3_orig_opc,on=.(Date),nomatch=0][order(-Date)]\n",
        "x3_orig_opc=x3_orig_opc%>%select(-Date)"
      ],
      "metadata": {
        "id": "MIj04dwIzdMy"
      },
      "execution_count": null,
      "outputs": []
    },
    {
      "cell_type": "markdown",
      "source": [
        "# Simulación Historica"
      ],
      "metadata": {
        "id": "6dcOTazagPHL"
      }
    },
    {
      "cell_type": "markdown",
      "source": [
        "## Acciones y Divisas"
      ],
      "metadata": {
        "id": "VyiF-SWegSg2"
      }
    },
    {
      "cell_type": "code",
      "source": [
        "%%R\n",
        "x0_acc_div=precios_acc_div[1,]\n",
        "DeltaX_acc_div=as.matrix(log(precios_acc_div[1:(n-1)]/precios_acc_div[2:(n)]))\n",
        "V0_acc_div=cbind(t(pos_acc),t(pos_div))*x0_acc_div\n",
        "m_acc=length(pos_acc)\n",
        "m_div=length(pos_div)\n",
        "\n",
        "print(\"Precio Actual\")\n",
        "print(x0_acc_div)\n",
        "\n",
        "print(\"Valor del portafolio\")\n",
        "print(V0_acc_div)"
      ],
      "metadata": {
        "colab": {
          "base_uri": "https://localhost:8080/"
        },
        "id": "YSwMh1DcfjL0",
        "outputId": "cd1c6ceb-99ba-4cf0-a5bd-3b8cae895e75"
      },
      "execution_count": null,
      "outputs": [
        {
          "output_type": "stream",
          "name": "stdout",
          "text": [
            "[1] \"Precio Actual\"\n",
            "   America Carso Walmart    Euros   Libras Dolares\n",
            "1:   20.75 73.53   80.34 22.14488 26.14256 19.9656\n",
            "[1] \"Valor del portafolio\"\n",
            "   America Carso Walmart    Euros    Libras Dolares\n",
            "1: -103750 73530   96408 15501.42 -15685.53 29948.4\n"
          ]
        }
      ]
    },
    {
      "cell_type": "markdown",
      "source": [
        "## Bonos"
      ],
      "metadata": {
        "id": "vzNjISiFhXaJ"
      }
    },
    {
      "cell_type": "code",
      "source": [
        "%%R\n",
        "## CETE\n",
        "m_bcc=ncol(plazos_bcc)\n",
        "X_bcc=matrix(0,n,m_bcc)\n",
        "for (i in 1:n){\n",
        "    X_bcc[i,]=if(itpl==0){approx(as.matrix(nodos_bcc),as.matrix(X_orig_bcc[i,]),plazos_bcc)$y}else{talamb(as.matrix(nodos_bcc),as.matrix(X_orig_bcc[i,]),plazos_bcc)}\n",
        "}\n",
        "\n",
        "bonocupcero = function(i,t)\n",
        "{\n",
        "1/(1+i*t/360)\n",
        "}\n",
        "\n",
        "x0_bcc=X_bcc[1,]\n",
        "V0_bcc=bonocupcero(x0_bcc,plazos_bcc)*contratos_bcc*nominal_bcc #Valor actual de cada bono\n",
        "print(\"Valor del CETE\")\n",
        "print(V0_bcc)\n",
        "\n",
        "##Bono M\n",
        "m=ncol(plazos_bm)\n",
        "X_bm=matrix(0,n,m)\n",
        "for (i in 1:(n)){\n",
        "  X_bm[i,]=if(itpl==0){approx(as.matrix(nodos_bm),as.matrix(X_orig_bm[i,]),plazos_bm)$y}else{talamb(as.matrix(nodos_bm),as.matrix(X_orig_bm[i,]),plazos_bm)}\n",
        "}\n",
        "\n",
        "#Función de valoración por tasa yield\n",
        "bonoMyield=function(x, plazos, plazocupon, tfcupon, nominal, contratos) #valoración bono tasa fija\n",
        "{\n",
        "N=as.integer(plazos/plazocupon)+1\n",
        "a=(1-(1+x*plazocupon/360)^(-N))/(plazocupon*x/360)\n",
        "p1=plazos-plazocupon*(N-1)   \n",
        "((contratos*nominal*tfcupon*plazocupon/360)*a+(contratos*nominal)/((1+x*plazocupon/360)^N))*(1+x*plazocupon/360)^(1-p1/plazocupon)   \n",
        "}\n",
        "\n",
        "x0_bm=X_bm[1,] #tasas de descuento valor actual\n",
        "V0_bm = bonoMyield(x0_bm,plazos_bm, plazocupon_bm, tfcupon_bm, nominal_bm, contratos_bm)\n",
        "print(\"Valor del Bono M\")\n",
        "print(V0_bm)\n",
        "\n",
        "\n",
        "#BONDE D CÁLCULO\n",
        "m=1\n",
        "\n",
        "N_bd=as.integer(plazo_bdm/plazocupon_bdm)+1 #número de cupones a pagar\n",
        "VTplazos_bdm=matrix(0,1,sum(N_bd)) #vector de todos los plazos_bdm de todos los contratos_bdm\n",
        "contratos_bdmT=matrix(0,1,sum(N_bd)) #vector de todos los contratos_bdm de todos los flujos de todos los contratos_bdm\n",
        "nominal_bdmT=matrix(0,1,sum(N_bd)) #vector de todos los nominal_bdmes de todos los flujos de todos los contratos_bdm\n",
        "plazocupon_bdmT=matrix(0,1,sum(N_bd)) #vector de todos los plazos_bdmcupon de todos los flujos de todos los contratos_bdm\n",
        "tasafijaT_bd=matrix(0,1,sum(N_bd)) #vector de tasas fijas de todos los flujos de todos los contratos_bdm\n",
        "ulNomT_bd=matrix(0,1,sum(N_bd)) #vector de contratos_bdm a final de flujo\n",
        "\n",
        "plazini_bd=plazo_bdm-plazocupon_bdm*(N_bd-1) #vector de plazos_bdm iniciales\n",
        "ddv=plazocupon_bdm-plazini_bd #dias trasncurridos del cupón vigente\n",
        "tfcupon=matrix(0,1,m)  #El primero cupón de cada bono\n",
        "tfcupondev=matrix(0,1,m) #cupón de los días devengados\n",
        "tfcupgen=((1+tf_act/360)^(plazocupon_bdm[1])-1)*360/plazocupon_bdm[1] #el segundo al último cupón de todos los bonos\n",
        "\n",
        "for (j in (1:m)){\n",
        "  tfcupondev[j]=(prod(1+tf_int[(1:ddv[j])]/360)-1)*360/ddv[j]\n",
        "  tfcupon[j]=((1+tfcupondev[j]*ddv[j]/360)*(1+tf_act/360)^(plazocupon_bdm[1]-ddv[j])-1)*360/plazocupon_bdm[1]\n",
        "}\n",
        "\n",
        "for (j in (1:m)){\n",
        "  if (j==1){\n",
        "    VTplazos_bdm[,1:sum(N_bd[1:j])]=seq(plazini_bd[j],plazo_bdm[j], by=plazocupon_bdm[j])\n",
        "    contratos_bdmT[,1:sum(N_bd[1:j])]=seq(contratos_bdm[j],contratos_bdm[j])\n",
        "    plazocupon_bdmT[,1:sum(N_bd[1:j])]=seq(plazocupon_bdm[j],plazocupon_bdm[j])\n",
        "    ulNomT_bd[,sum(N_bd[1:j])]=contratos_bdm[j]\n",
        "    tasafijaT_bd[,1]=tfcupon[j]\n",
        "    tasafijaT_bd[,2:sum(N_bd[1:j])]=seq(tfcupgen,tfcupgen)\n",
        "  }\n",
        "  else{\n",
        "    VTplazos_bdm[,(sum(N_bd[1:j-1])+1):sum(N_bd[1:j])]=seq(plazini_bd[j],plazo_bdm[j], by=plazocupon_bdm[j])\n",
        "    contratos_bdmT[,(sum(N_bd[1:j-1])+1):sum(N_bd[1:j])]=seq(contratos_bdm[j],contratos_bdm[j])\t\t\t\t\t\n",
        "    plazocupon_bdmT[,(sum(N_bd[1:j-1])+1):sum(N_bd[1:j])]=seq(plazocupon_bdm[j],plazocupon_bdm[j])\n",
        "    tasafijaT_bd[,(sum(N_bd[1:j-1])+1)]=tfcupon[j]\n",
        "    tasafijaT_bd[,(sum(N_bd[1:j-1])+2):sum(N_bd[1:j])]=seq(tfcupgen,tfcupgen)\n",
        "    ulNomT_bd[,sum(N_bd[1:j])]=contratos_bdm[j]\n",
        "  }\n",
        "}\n",
        "\n",
        "Xvp_bd=matrix(0,n,ncol(VTplazos_bdm))\n",
        "Xst_bd=matrix(0,n,ncol(VTplazos_bdm))\n",
        "\n",
        "for (i in (1:n)){\n",
        "  Xvp_bd[i,]=if(itpl==0){approx(as.matrix(nodos1_bd),as.matrix(X1_orig[i,]),VTplazos_bdm,rule=2)$y}else{talamb(as.matrix(nodos1_bd),as.matrix(X1_orig[i,]),VTplazos_bdm)}\n",
        "  Xst_bd[i,]=if(itpl==0){approx(as.matrix(nodos3_bd),as.matrix(X3_orig_bd[i,]),VTplazos_bdm,rule=2)$y}else{talamb(as.matrix(nodos3_bd),as.matrix(X3_orig_bd[i,]),VTplazos_bdm)}\n",
        "}\n",
        "\n",
        "X_bd_tc=matrix(1,n,ncol(contratos_bdmT))*X2_orig_bd$V2/100\n",
        "X_bd_ext=cbind(X_bd_tc,as.matrix(Xvp_bd),as.matrix(Xst_bd))\n",
        "\n",
        "bondeD=function(contratos_bdmT,  nominal_bdm, tf_act, plazocupon_bdmT, VTplazos_bdm, Xvp, Xst, N,ddv){\n",
        "  tfcupon=matrix(0,1,m)  #El primero cupón de cada bono\n",
        "  tfcupondev=matrix(0,1,m) #cupón de los días devengados\n",
        "  tfcupgen=((1+tf_act/360)^(plazocupon_bdm[1])-1)*360/plazocupon_bdm[1] #el segundo al último cupón de todos los bonos\n",
        "  tasafijaT=matrix(0,1,sum(N))\n",
        "  #calcula cupones de bonos\n",
        "  for (j in (1:m))\n",
        "  {\n",
        "    tfcupondev[j]=(prod(1+tf_int[(1:ddv[j])]/360)-1)*360/ddv[j]\n",
        "    tfcupon[j]=((1+tfcupondev[j]*ddv[j]/360)*(1+tf_act/360)^(plazocupon_bdm[1]-ddv[j])-1)*360/plazocupon_bdm[1]\n",
        "  }\n",
        "  \n",
        "  \n",
        "  for (j in (1:m))\n",
        "  {\n",
        "    if (j==1)\n",
        "    {\n",
        "      tasafijaT[,1]=tfcupon[j]\n",
        "      tasafijaT[,2:sum(N[1:j])]=seq(tfcupgen,tfcupgen)\n",
        "    }\n",
        "    else\n",
        "    {\n",
        "      tasafijaT[,(sum(N[1:j-1])+1)]=tfcupon[j]\n",
        "      tasafijaT[,(sum(N[1:j-1])+2):sum(N[1:j])]=seq(tfcupgen,tfcupgen)\n",
        "    }\n",
        "  }\n",
        "  \n",
        "  \n",
        "  V0=matrix(0,1,count(N))\n",
        "  V0f=((((contratos_bdmT*(tasafijaT)*(plazocupon_bdmT/360))+ulNomT_bd)/(1+(Xvp+Xst)*VTplazos_bdm/360)))*nominal_bdm\n",
        "  for (j in (1:count(N)))\n",
        "  {\n",
        "    if(j==1)\n",
        "    {\n",
        "      V0[j]=sum(V0f[j:N[j]])\n",
        "    }\n",
        "    else\n",
        "    {\n",
        "      V0[j]=sum(V0f[(sum(N[1:j-1])+1):(sum(N[1:j]))])\n",
        "    }\n",
        "  }\n",
        "  V0\n",
        "} \n",
        "\n",
        "\n",
        "V0_bd=bondeD(contratos_bdmT, nominal_bdm, tf_act, plazocupon_bdmT, VTplazos_bdm, Xvp_bd[1,], Xst_bd[1,], N_bd,ddv)\n",
        "print(\"Valor del BONDE\")\n",
        "print(V0_bd)\n",
        "\n",
        "\n",
        "m_bcc <- ncol(X_bcc)\n",
        "m_bm <- ncol(X_bm)\n",
        "m_bd <- ncol(X_bd_ext)\n",
        "X_bonos <- cbind(X_bcc,X_bm,X_bd_ext)\n",
        "V0_bonos <- cbind(V0_bcc,V0_bm,V0_bd)\n",
        "colnames(V0_bonos) =c(\"CETE\",\"Bono M\",\"BONDE\")"
      ],
      "metadata": {
        "colab": {
          "base_uri": "https://localhost:8080/"
        },
        "id": "FINGaX-YdLrh",
        "outputId": "cda0d632-e407-4323-e543-907ca912daa8"
      },
      "execution_count": null,
      "outputs": [
        {
          "output_type": "stream",
          "name": "stdout",
          "text": [
            "[1] \"Valor del CETE\"\n",
            "         [,1]\n",
            "[1,] 1442.687\n",
            "[1] \"Valor del Bono M\"\n",
            "        [,1]\n",
            "[1,] 987.779\n",
            "[1] \"Valor del BONDE\"\n",
            "          [,1]\n",
            "[1,] -942.9513\n"
          ]
        }
      ]
    },
    {
      "cell_type": "markdown",
      "source": [
        "## Futuros"
      ],
      "metadata": {
        "id": "r7nVDF__hXaJ"
      }
    },
    {
      "cell_type": "code",
      "source": [
        "%%R\n",
        "## TDC\n",
        "m=ncol(plazos_fowd)\n",
        "X1_fwtdc=matrix(0,n,m)\n",
        "X2_fwtdc=matrix(0,n,m)\n",
        "\n",
        "\n",
        "for (j in 1:n)\n",
        "{\n",
        "  X1_fwtdc[j,]=if(itpl==0){approx(as.matrix(nodos1_ftdc),as.matrix(x1_ftdc[j,]),plazos_fowd,rule=2)$y}else{talamb(as.matrix(nodos1_ftdc),as.matrix(x1_ftdc[j,]),plazos_fowd)}\n",
        "  X2_fwtdc[j,]=if(itpl==0){approx(as.matrix(nodos2_ftdc),as.matrix(x2_ftdc[j,]),plazos_fowd,rule=2)$y}else{talamb(as.matrix(nodos2_ftdc),as.matrix(x2_ftdc[j,]),plazos_fowd)}\n",
        "  if(trlib==1){X1_fwtdc[j,]=((1+X1_fwtdc[j,])^(plazos_fowd/180)-1)*360/plazos_fowd} #transformación de act 180 a 360\n",
        "}\n",
        "\n",
        "\n",
        "futuroTC = function(t,tl,tn,s,k) #t=dias por vencer, tn=tasa nacional para tipo de cambio forward, tl= tasa extranjera pra tipo de cambio forward, S=spot\n",
        "{\n",
        "  f=s*((1+tn*t/360)/(1+tl*t/360)) #Se obtiene el tipo de cambio forward\n",
        "  t(as.numeric((f-k)/(1+t*tn/360))) #Se obtiene el valor del payoff a valor presente con el valor z que define si es largo o corto\n",
        "}\n",
        "\n",
        "X3_ftdc=as.matrix(X3_ftdc)\n",
        "X_futtdc=cbind(X1_fwtdc,X2_fwtdc,X3_ftdc)\n",
        "\n",
        "V0_fwtdc=futuroTC(plazos_fowd,X1_fwtdc[1,],X2_fwtdc[1,],X3_ftdc[1,],kst_fwd)*contratos_fowd*nominal_fwd\n",
        "print(\"Valor inicial FTDC\")\n",
        "print(V0_fwtdc)\n",
        "\n",
        "## IND\n",
        "m_ind=ncol(plazos_fwd_ind)\n",
        "X1_fwind=matrix(0,n,m_ind) #DIVIDENDOS\n",
        "X2_fwind=matrix(0,n,m_ind)\n",
        "\n",
        "for (j in 1:n)\n",
        "{\n",
        "  X2_fwind[j,]=if(itpl==0){approx(as.matrix(nodos_gov),as.matrix(x_orig_gov[j,]),plazos_fwd_ind,rule=2)$y}else{talamb(as.matrix(nodos_gov),as.matrix(x_orig_gov[j,]),plazos_fwd_ind)}\n",
        "}\n",
        "\n",
        "X3_find=as.matrix(X3_find)\n",
        "X_futind=cbind(X1_fwind,X2_fwind,matrix(X3_find,n,ncol(X2_fwind)))\n",
        "\n",
        "V0_fwind=futuroTC(plazos_fwd_ind,X1_fwind[1,],X2_fwind[1,],X3_find[1,],kst_fwd_ind)*contratos_fwd_ind*nominal_fwd_ind\n",
        "print(\"Valor inicial FIND\")\n",
        "print(V0_fwind)\n",
        "\n",
        "colnames(V0_fwtdc) = c(\"Futuro tdc\")\n",
        "colnames(V0_fwind) = c(\"Futuro ind\")"
      ],
      "metadata": {
        "colab": {
          "base_uri": "https://localhost:8080/"
        },
        "id": "WME1a2ciR1St",
        "outputId": "a6701922-b1da-4004-8cb8-a253102181b3"
      },
      "execution_count": null,
      "outputs": [
        {
          "output_type": "stream",
          "name": "stdout",
          "text": [
            "[1] \"Valor inicial FTDC\"\n",
            "          [,1]\n",
            "[1,] -85.62005\n",
            "[1] \"Valor inicial FIND\"\n",
            "          [,1]\n",
            "[1,] -342420.5\n"
          ]
        }
      ]
    },
    {
      "cell_type": "markdown",
      "source": [
        "## Swap's"
      ],
      "metadata": {
        "id": "CodvqixqhXaK"
      }
    },
    {
      "cell_type": "code",
      "source": [
        "%%R\n",
        "nodosvp=nodos1_sw\n",
        "nodostc=nodos2_sw\n",
        "curvavp=as.matrix(X1_orig_sw)\n",
        "curvatc=X2_orig_sw\n",
        "n1=nrow(curvavp)\n",
        "n2=nrow(curvatc)\n",
        "\n",
        "\n",
        "m=max(ncol(plazos_sw),1) #número de contratos_sw swap a valorar\n",
        "N=matrix(0,1,m) #es un vector de m valores donde se cargarán los m número de cupones a pagar para cada contrato\n",
        "for (j in (1:m))\n",
        "{\n",
        "  N[j]=as.integer(plazos_sw[j]/plazocupon_sw[j])+1 #número de cupones a pagar\n",
        "}\n",
        "VTplazos_sw=matrix(0,1,sum(N)) #vector de todos los plazos_sw de todos los contratos_sw\n",
        "contratos_swT=matrix(0,1,sum(N)) #vector de todos los contratos_sw de todos los flujos de todos los contratos_sw\n",
        "nominal_swT=matrix(0,1,sum(N)) #vector de todos los nominal_swes de todos los flujos de todos los contratos_sw\n",
        "por_swT=matrix(0,1,sum(N)) #vector de todos los dummy si paga o recibe de todos los flujos de todos los contratos_sw\n",
        "plazocupon_swT=matrix(0,1,sum(N)) #vector de todos los plazos_swcupon de todos los flujos de todos los contratos_sw\n",
        "tasafija_swT=matrix(0,1,sum(N)) #vector de tasas fijas de todos los flujos de todos los contratos_sw\n",
        "VTplazos_swc=matrix(0,1,sum(N)) #vector de todos los plazos_sw cortos de todos los contratos_sw\n",
        "\n",
        "plazini=plazos_sw-plazocupon_sw*(N-1) #vector de plazos_sw iniciales\n",
        "\n",
        "for (j in (1:m))\n",
        "{\n",
        "  if (j==1)\n",
        "  {\n",
        "    VTplazos_sw[,1:sum(N[1:j])]=seq(plazini[j],plazos_sw[j], by=plazocupon_sw[j])\n",
        "    VTplazos_swc[,1:sum(N[1:j])]=c(0,VTplazos_sw[,1:(sum(N[1:j])-1)])\n",
        "    contratos_swT[,1:sum(N[1:j])]=seq(contratos_sw[j],contratos_sw[j])\n",
        "    nominal_swT[,1:sum(N[1:j])]=seq(nominal_sw[j],nominal_sw[j])\n",
        "    por_swT[,1:sum(N[1:j])]=seq(por_sw[j],por_sw[j])\n",
        "    plazocupon_swT[,1:sum(N[1:j])]=seq(plazocupon_sw[j],plazocupon_sw[j])\n",
        "    tasafija_swT[,1:sum(N[1:j])]=seq(tasafija_sw[j],tasafija_sw[j])\n",
        "  }\n",
        "  else\n",
        "  {\n",
        "    VTplazos_sw[,(sum(N[1:j-1])+1):sum(N[1:j])]=seq(plazini[j],plazos_sw[j], by=plazocupon_sw[j])\n",
        "    VTplazos_swc[,(sum(N[1:j-1])+1):sum(N[1:j])]=c(0,VTplazos_sw[,(sum(N[1:j-1])+1):(sum(N[1:j])-1)])\n",
        "    contratos_swT[,(sum(N[1:j-1])+1):sum(N[1:j])]=seq(contratos_sw[j],contratos_sw[j])\t\t\t\t\t\n",
        "    nominal_swT[,(sum(N[1:j-1])+1):sum(N[1:j])]=seq(nominal_sw[j],nominal_sw[j])\n",
        "    por_swT[,(sum(N[1:j-1])+1):sum(N[1:j])]=seq(por_sw[j],por_sw[j])\n",
        "    plazocupon_swT[,(sum(N[1:j-1])+1):sum(N[1:j])]=seq(plazocupon_sw[j],plazocupon_sw[j])\n",
        "    tasafija_swT[,(sum(N[1:j-1])+1):sum(N[1:j])]=seq(tasafija_sw[j],tasafija_sw[j])\n",
        "  }\n",
        "}\n",
        "\n",
        "Xvp=matrix(0,n,ncol(VTplazos_sw))\n",
        "Xtc=matrix(0,n,ncol(VTplazos_sw))\n",
        "Xtcc=matrix(0,n,ncol(VTplazos_sw))\n",
        "XtfwdT=matrix(0,n,ncol(VTplazos_sw))\n",
        "\n",
        "for (i in (1:n))\n",
        "{\n",
        "  Xvp[i,]=if(itpl==0){approx(as.matrix(nodosvp),as.matrix(curvavp[i,]),VTplazos_sw,rule=2)$y}else{talamb(as.matrix(nodosvp),as.matrix(curvavp[i,]),VTplazos_sw)}\n",
        "  Xtc[i,]=if(itpl==0){approx(as.matrix(nodostc),as.matrix(curvatc[i,]),VTplazos_sw,rule=2)$y}else{talamb(as.matrix(nodostc),as.matrix(curvatc[i,]),VTplazos_sw)}\n",
        "  Xtcc[i,]=if(itpl==0){approx(as.matrix(nodostc),as.matrix(curvatc[i,]),VTplazos_swc, rule=2)$y}else{talamb(as.matrix(nodostc),as.matrix(curvatc[i,]),VTplazos_swc)}\n",
        "  \n",
        "  XtfwdT[i,]=((1+Xtc[i,]*VTplazos_sw/360)/(1+Xtcc[i,]*VTplazos_swc/360)-1)*360/plazocupon_swT \n",
        "  for (j in (1:ncol(VTplazos_sw)))\n",
        "  {\n",
        "    if (VTplazos_sw[j]<= plazocupon_swT[j])\n",
        "    {\n",
        "      XtfwdT[i,j]=Xtc[i,j]\n",
        "    }\n",
        "    else\n",
        "    {\n",
        "      j=sum(N[1:j])\n",
        "    }\n",
        "  }\n",
        "}\n",
        "\n",
        "X_sw=cbind(XtfwdT,Xvp)\n",
        "\n",
        "swap=function(por_swT, contratos_swT, nominal_swT, XtfwdT, tasafija_swT, plazocupon_swT, VTplazos_sw, Xvp, N)\n",
        "{\n",
        "  V0=matrix(0,1,ncol(N))\n",
        "  V0f=(((contratos_swT*(XtfwdT-tasafija_swT)*(plazocupon_swT/360)))/(1+Xvp*VTplazos_sw/360))*nominal_swT*(-1)^por_swT\n",
        "  for (j in (1:ncol(N)))\n",
        "  {\n",
        "    if(j==1)\n",
        "    {\n",
        "      V0[j]=sum(V0f[j:N[j]])\n",
        "    }\n",
        "    else\n",
        "    {\n",
        "      V0[j]=sum(V0f[(sum(N[1:j-1])+1):(sum(N[1:j]))])\n",
        "    }\n",
        "  }\n",
        "  V0\n",
        "}\n",
        "\n",
        "\n",
        "V0_sw=swap(por_swT, contratos_swT, nominal_swT, XtfwdT[1,], tasafija_swT, plazocupon_swT, VTplazos_sw, Xvp[1,], N)\n",
        "colnames(V0_sw) = c(\"Swap Largo\",\"Swap Corto\")\n",
        "print(\"Valor inicial de los Swap's\")\n",
        "print(V0_sw)"
      ],
      "metadata": {
        "colab": {
          "base_uri": "https://localhost:8080/"
        },
        "id": "xMu0wS3peAby",
        "outputId": "dbc56da0-9464-4faf-f1b5-f4f1bdeba1bf"
      },
      "execution_count": null,
      "outputs": [
        {
          "output_type": "stream",
          "name": "stdout",
          "text": [
            "[1] \"Valor inicial de los Swap's\"\n",
            "     Swap Largo Swap Corto\n",
            "[1,]  -30707.58   80806.18\n"
          ]
        }
      ]
    },
    {
      "cell_type": "markdown",
      "source": [
        "## Opciones"
      ],
      "metadata": {
        "id": "O8rGxAp_hXaK"
      }
    },
    {
      "cell_type": "code",
      "source": [
        "%%R\n",
        "##opciones de tasa de interés\n",
        "#interpolación de tasas y volatilidades\n",
        "m=ncol(plazos_opc)\n",
        "x1=matrix(0,n,m)\n",
        "x2tc=matrix(0,n,m)\n",
        "x2tl=matrix(0,n,m)\n",
        "x2=matrix(0,n,m)\n",
        "x3=matrix(0,n,m)\n",
        "for (i in 1:(n))\n",
        "{\n",
        "  x1[i,]=if(itpl==0){approx(as.matrix(nodos1_opc),as.matrix(x1_orig_opc[i,]),plazos_opc,rule=2)$y}else{talamb(as.matrix(nodos1_opc),as.matrix(x1_orig_opc[i,]),plazos_opc)}\n",
        "  x2tc[i,]=if(itpl==0){approx(as.matrix(nodos2_opc),as.matrix(x2_orig_opc[i,]),plazos_opc,rule=2)$y}else{talamb(as.matrix(nodos2_opc),as.matrix(x2_orig_opc[i,]),plazos_opc)}\n",
        "  x2tl[i,]=if(itpl==0){approx(as.matrix(nodos2_opc),as.matrix(x2_orig_opc[i,]),(plazos_opc+pr_opc),rule=2)$y}else{talamb(as.matrix(nodos2_opc),as.matrix(x2_orig_opc[i,]),(plazos_opc+pr_opc))}\n",
        "  x3[i,]=if(itpl==0){approx(as.matrix(nodos3_opc),as.matrix(x3_orig_opc[i,]),plazos_opc,rule=2)$y}else{talamb(as.matrix(nodos3_opc),as.matrix(x3_orig_opc[i,]),plazos_opc)}\n",
        "  \n",
        "  x2[i,]=((1+x2tl[i,]*(plazos_opc+pr_opc)/360)/(1+x2tc[i,]*(plazos_opc)/360)-1)*360/pr_opc\n",
        "}\n",
        "\n",
        "\n",
        "x01=x1[1,] #tasas de descuento\n",
        "x02=x2[1,] #tasas spot\n",
        "x03=x3[1,] #volatilidades\n",
        "\n",
        "X_opc=cbind(x1,x2,x3)\n",
        "\n",
        "opctint = function(d,S,K_oir,vol,t,cp_oir,cs_oir,pr_oir,dct_oir)\t#función de una opción europea\n",
        "{\n",
        "  d1=if(cs_oir==1){(log(S/K_oir)+vol^2*t/(365*2))*(1/(vol*sqrt(t/365)))}else{(log(S/K_oir)+vol^2*t/(360*2))*(1/(vol*sqrt(t/360)))}\n",
        "  d2=if(cs_oir==1){(log(S/K_oir)-vol^2*t/(365*2))*(1/(vol*sqrt(t/365)))}else{(log(S/K_oir)-vol^2*t/(360*2))*(1/(vol*sqrt(t/360)))}\n",
        "  vp=if(cs_oir==1){log(1+d*t/360)*365/t}else{d}  \n",
        "  (if(cs_oir==1){(S*pnorm(d1*(-1)^cp_oir)-K_oir*pnorm(d2*(-1)^cp_oir))*(exp(-vp*t/365))*(-1)^cp_oir}else{(S*pnorm(d1*(-1)^cp_oir)-K_oir*pnorm(d2*(-1)^cp_oir))*(1/(1+vp*t/360))*(-1)^cp_oir})*(pr_oir/dct_oir)/(1+S*pr_oir/dct_oir)\n",
        "}\n",
        "\n",
        "\n",
        "V0_opc=opctint(x01,x02,K_opc,x03,plazos_opc,cp_opc,cs_opc,pr_opc,dct_opc)*contratos_opc*nominal_opc #Valor del portafolio\n",
        "colnames(V0_opc) = c(\"Call Largo\",\"Put Largo\")\n",
        "\n",
        "print(\"Valor del portafolio\")\n",
        "print(V0_opc)"
      ],
      "metadata": {
        "colab": {
          "base_uri": "https://localhost:8080/"
        },
        "id": "q9t9cE-t0PKR",
        "outputId": "3c1274e9-03b7-43a2-c3d4-418dc9531b5b"
      },
      "execution_count": null,
      "outputs": [
        {
          "output_type": "stream",
          "name": "stdout",
          "text": [
            "[1] \"Valor del portafolio\"\n",
            "     Call Largo Put Largo\n",
            "[1,]  0.5692717 0.3053353\n"
          ]
        }
      ]
    },
    {
      "cell_type": "markdown",
      "source": [
        "# Medición de Riesgo\n"
      ],
      "metadata": {
        "id": "rR8FpnXglE2_"
      }
    },
    {
      "cell_type": "code",
      "source": [
        "%%R\n",
        "#DIMENSION DE TODOS LOS INSTRUMENTOS\n",
        "#Son 8 instrumentos financieros (9 si separamos acciones y divisas)\n",
        "n_if=matrix(0,6,1)\n",
        "n_if[1]=ncol(precios_acc_div) #acciones y divisas\n",
        "n_if[2]=ncol(X_bonos) #bonos\n",
        "n_if[3]=ncol(X_futtdc) #Forwards de tipo de cambio\n",
        "n_if[4]=ncol(X_futind) #Forwards de índices\n",
        "n_if[5]=ncol(X_sw) #swaps\n",
        "n_if[6]=ncol(X_opc) #opciones tasa de interés\n",
        "\n",
        "rownames(n_if) <- c(\"Acciones y Divisas\",\"Bonos\",\"Futuros TDC\",\"Futuros IPC\",\"Swap's\",\"Opciones\")\n",
        "\n",
        "#valor del portafolios\n",
        "\n",
        "V0_port=cbind(V0_acc_div,V0_bonos,V0_fwtdc,V0_fwind,V0_sw,V0_opc)\n",
        "V0T_port=sum(V0_port)\n",
        "\n",
        "\n",
        "#INTEGRACIÓN DE TODOS LOS FACTORES DE RIESGO EN UNA MATRIZ\n",
        "X_port=cbind(precios_acc_div,X_bonos,X_futtdc,X_futind,X_sw,X_opc) #Factores de riesgo del portafolios de 8(9) instrumentos financieros\n",
        "\n",
        "#Cálculo de variaciones Delta_X DEL PORTAFOLIOS\n",
        "DeltaX_port=as.matrix(log(X_port[1:(n-1)]/X_port[2:(n)]))\n",
        "DeltaX_port[is.nan(DeltaX_port)] <- 0 #quitamos NaN\n",
        "DeltaX_port[is.na(DeltaX_port)] <- 0 #quitamos Na\n",
        "DeltaX_port[is.infinite(DeltaX_port)] <- 0 #quitamos Na\n",
        "\n",
        "\n",
        "Ns=nrow(DeltaX_port) #Definimos número de escenarios históricos\n",
        "#alpha=0.98 #Nivel de Confianza para las medidas de riesgo\n",
        "\n",
        "DeltaX_s=DeltaX_port\n",
        "#print(\"Matriz de Rendimientos del Portafolio\")\n",
        "#print(head(DeltaX_s))\n",
        "print(\"Número de Factores de Riesgo\")\n",
        "print(ncol(DeltaX_s))\n",
        "print(\"Número de Datos\")\n",
        "print(nrow(DeltaX_s))\n",
        "print(\"Número de Factores de Riesgo por Insumo\")\n",
        "print(n_if)\n",
        "print(\"Valor inicial\")\n",
        "print(V0_port)\n",
        "print(\"Valor inicial del portafolio\")\n",
        "print(V0T_port)"
      ],
      "metadata": {
        "colab": {
          "base_uri": "https://localhost:8080/"
        },
        "id": "uhFpjC8Jlo4t",
        "outputId": "29f41065-f3ed-4c7a-e97d-59f3db3c806b"
      },
      "execution_count": null,
      "outputs": [
        {
          "output_type": "stream",
          "name": "stdout",
          "text": [
            "[1] \"Número de Factores de Riesgo\"\n",
            "[1] 162\n",
            "[1] \"Número de Datos\"\n",
            "[1] 252\n",
            "[1] \"Número de Factores de Riesgo por Insumo\"\n",
            "                   [,1]\n",
            "Acciones y Divisas    6\n",
            "Bonos                80\n",
            "Futuros TDC           3\n",
            "Futuros IPC           3\n",
            "Swap's               64\n",
            "Opciones              6\n",
            "[1] \"Valor inicial\"\n",
            "   America Carso Walmart    Euros    Libras Dolares     CETE  Bono M     BONDE\n",
            "1: -103750 73530   96408 15501.42 -15685.53 29948.4 1442.687 987.779 -942.9513\n",
            "   Futuro tdc Futuro ind Swap Largo Swap Corto Call Largo Put Largo\n",
            "1:  -85.62005  -342420.5  -30707.58   80806.18  0.5692717 0.3053353\n",
            "[1] \"Valor inicial del portafolio\"\n",
            "[1] -194966.9\n"
          ]
        }
      ]
    },
    {
      "cell_type": "markdown",
      "source": [
        "## Acciones y Divisas"
      ],
      "metadata": {
        "id": "5UVpwclJlVFM"
      }
    },
    {
      "cell_type": "markdown",
      "source": [
        "### Perdidas y Ganacias"
      ],
      "metadata": {
        "id": "3mK7IdqOE71U"
      }
    },
    {
      "cell_type": "code",
      "source": [
        "%%R\n",
        "m=m_acc+m_div    #PASO CLAVE\n",
        "X_s_acc_div=matrix(0,Ns,m)\n",
        "V_acc_div=matrix(0,Ns,m)\n",
        "Vfr1_acc_div=matrix(0,Ns,m_acc)\n",
        "Vfr2_acc_div=matrix(0,Ns,m_div)\n",
        "PG_acc_div=matrix(0,Ns,m) #Pèrdidas y ganancias\n",
        "PGfr1_acc_div=matrix(0,Ns,m_acc)\n",
        "PGfr2_acc_div=matrix(0,Ns,m_div)\n",
        "PGT_acc_div=matrix(0,Ns,1)\n",
        "PGfr1T_acc_div=matrix(0,Ns,1)\n",
        "PGfr2T_acc_div=matrix(0,Ns,1)"
      ],
      "metadata": {
        "id": "dHAKFwlCo3Iw"
      },
      "execution_count": null,
      "outputs": []
    },
    {
      "cell_type": "code",
      "source": [
        "%%R\n",
        "DeltaX_s_acc_div=DeltaX_s[,(1:m)]\n",
        "x0_acc_div=precios_acc_div[1,]\n",
        "\n",
        "for (i in 1:Ns)\n",
        "{\n",
        "  X_s_acc_div[i,]=as.matrix(x0_acc_div*exp(DeltaX_s_acc_div[i,]))\n",
        "  V_acc_div[i,]=cbind(t(pos_acc),t(pos_div))*X_s_acc_div[i,]\n",
        "\n",
        "  Vfr1_acc_div[i,]=t(pos_acc)*X_s_acc_div[i,1:m_acc]\n",
        "  Vfr2_acc_div[i,]=t(pos_div)*X_s_acc_div[i,(m_acc+1):m]\n",
        "\n",
        "  PG_acc_div[i,]=as.matrix(V_acc_div[i,]-V0_acc_div)\n",
        "\n",
        "  PGfr1_acc_div[i,]=as.matrix(Vfr1_acc_div[i,]-V0_acc_div[,1:m_acc])\n",
        "  PGfr2_acc_div[i,]=as.matrix(Vfr2_acc_div[i,]-V0_acc_div[,(m_acc+1):m])\n",
        "\n",
        "  PGT_acc_div[i,]=sum(PG_acc_div[i,])\n",
        "\n",
        "  PGfr1T_acc_div[i,]=sum(PGfr1_acc_div[i,])\n",
        "  PGfr2T_acc_div[i,]=sum(PGfr2_acc_div[i,])\n",
        "}"
      ],
      "metadata": {
        "id": "DOLNF-VBpLQ7"
      },
      "execution_count": null,
      "outputs": []
    },
    {
      "cell_type": "code",
      "source": [
        "%%R\n",
        "print(\"Perdida/Ganancias de acciones y divisas\")\n",
        "print(head(PG_acc_div))\n",
        "print(\"Perdidas/Ganancias de acciones\")\n",
        "print(head(PGfr1_acc_div))\n",
        "print(\"Perdidas/Ganancias de divisas\")\n",
        "print(head(PGfr2_acc_div))\n",
        "print(\"Perdidas/Ganancias totales de acciones y divisas\")\n",
        "print(head(PGT_acc_div))\n",
        "print(\"Perdidas/Ganancias totales de acciones\")\n",
        "print(head(PGfr1T_acc_div))\n",
        "print(\"Perdidas/Ganancias totales de divisas\")\n",
        "print(head(PGfr2T_acc_div))"
      ],
      "metadata": {
        "colab": {
          "base_uri": "https://localhost:8080/"
        },
        "id": "pDFzhM42uPyU",
        "outputId": "322ffd79-d44e-4e6f-b3c0-efaf15597170"
      },
      "execution_count": null,
      "outputs": [
        {
          "output_type": "stream",
          "name": "stdout",
          "text": [
            "[1] \"Perdida/Ganancias de acciones y divisas\"\n",
            "          [,1]        [,2]        [,3]       [,4]      [,5]       [,6]\n",
            "[1,] -250.5988  -752.22702  2159.29612   39.92302 109.73066 -187.29628\n",
            "[2,]  100.1348 -1474.28282 -1509.58275   64.20496  38.94973   91.35464\n",
            "[3,] 1383.3383    38.81845  1521.14135  -66.84335  51.37171  -53.95288\n",
            "[4,] -446.5567   155.59457    36.81323 -118.31490 136.45676 -237.40898\n",
            "[5,] -900.8683  1895.36219   704.61032  -67.69231 106.55138  -67.30493\n",
            "[6,]  498.0797 -1341.71972 -1099.85161  -65.91186 -31.89473 -161.19052\n",
            "[1] \"Perdidas/Ganancias de acciones\"\n",
            "          [,1]        [,2]        [,3]\n",
            "[1,] -250.5988  -752.22702  2159.29612\n",
            "[2,]  100.1348 -1474.28282 -1509.58275\n",
            "[3,] 1383.3383    38.81845  1521.14135\n",
            "[4,] -446.5567   155.59457    36.81323\n",
            "[5,] -900.8683  1895.36219   704.61032\n",
            "[6,]  498.0797 -1341.71972 -1099.85161\n",
            "[1] \"Perdidas/Ganancias de divisas\"\n",
            "           [,1]      [,2]       [,3]\n",
            "[1,]   39.92302 109.73066 -187.29628\n",
            "[2,]   64.20496  38.94973   91.35464\n",
            "[3,]  -66.84335  51.37171  -53.95288\n",
            "[4,] -118.31490 136.45676 -237.40898\n",
            "[5,]  -67.69231 106.55138  -67.30493\n",
            "[6,]  -65.91186 -31.89473 -161.19052\n",
            "[1] \"Perdidas/Ganancias totales de acciones y divisas\"\n",
            "          [,1]\n",
            "[1,]  1118.828\n",
            "[2,] -2689.221\n",
            "[3,]  2873.874\n",
            "[4,]  -473.416\n",
            "[5,]  1670.658\n",
            "[6,] -2202.489\n",
            "[1] \"Perdidas/Ganancias totales de acciones\"\n",
            "           [,1]\n",
            "[1,]  1156.4703\n",
            "[2,] -2883.7308\n",
            "[3,]  2943.2981\n",
            "[4,]  -254.1489\n",
            "[5,]  1699.1042\n",
            "[6,] -1943.4916\n",
            "[1] \"Perdidas/Ganancias totales de divisas\"\n",
            "           [,1]\n",
            "[1,]  -37.64261\n",
            "[2,]  194.50933\n",
            "[3,]  -69.42451\n",
            "[4,] -219.26712\n",
            "[5,]  -28.44587\n",
            "[6,] -258.99712\n"
          ]
        }
      ]
    },
    {
      "cell_type": "markdown",
      "source": [
        "### VaR y CVaR"
      ],
      "metadata": {
        "id": "2wiQA57nFF34"
      }
    },
    {
      "cell_type": "code",
      "source": [
        "%%R\n",
        "w0=1-alpha\n",
        "n = Ns\n",
        "lambda =uniroot(function(x) w0*(1-x^(n))/(1-x)-1, c(0,0.99), tol = 1e-28)$root\n",
        "\n",
        "p_esc=genera_esc(lambda,w0,n)\n",
        "print(\"Pesos para el Alisado\")\n",
        "print(head(p_esc))\n",
        "print(tail(p_esc))\n",
        "print(\"Validación de los pesos\")\n",
        "sum(p_esc) #validamos que sume 1"
      ],
      "metadata": {
        "colab": {
          "base_uri": "https://localhost:8080/"
        },
        "id": "IZmOn31Yy6z6",
        "outputId": "50685065-47d3-40d8-eadb-25e930329bdd"
      },
      "execution_count": null,
      "outputs": [
        {
          "output_type": "stream",
          "name": "stdout",
          "text": [
            "[1] \"Pesos para el Alisado\"\n",
            "           [,1]\n",
            "[1,] 0.02000000\n",
            "[2,] 0.01960254\n",
            "[3,] 0.01921298\n",
            "[4,] 0.01883117\n",
            "[5,] 0.01845694\n",
            "[6,] 0.01809014\n",
            "               [,1]\n",
            "[247,] 0.0001433842\n",
            "[248,] 0.0001405348\n",
            "[249,] 0.0001377419\n",
            "[250,] 0.0001350046\n",
            "[251,] 0.0001323217\n",
            "[252,] 0.0001296921\n",
            "[1] \"Validación de los pesos\"\n",
            "[1] 1\n"
          ]
        }
      ]
    },
    {
      "cell_type": "code",
      "source": [
        "%%R\n",
        "#VaR por posición\n",
        "VaRCont_acc_div=matrix(0,1,m)\n",
        "VaRfr1_acc_div=matrix(0,1,m_acc)\n",
        "VaRfr2_acc_div=matrix(0,1,m_div)\n",
        "\n",
        "CVaRCont_acc_div=matrix(0,1,m)\n",
        "CVaRfr1_acc_div=matrix(0,1,m_acc)\n",
        "CVaRfr2_acc_div=matrix(0,1,m_div)\n",
        "\n",
        "VaRCont_CA_acc_div=matrix(0,1,m)\n",
        "VaRfr1_CA_acc_div=matrix(0,1,m_acc)\n",
        "VaRfr2_CA_acc_div=matrix(0,1,m_div)\n",
        "\n",
        "CVaRCont_CA_acc_div=matrix(0,1,m)\n",
        "CVaRfr1_CA_acc_div=matrix(0,1,m_acc)\n",
        "CVaRfr2_CA_acc_div=matrix(0,1,m_div)"
      ],
      "metadata": {
        "id": "lvEooEq7uyzW"
      },
      "execution_count": null,
      "outputs": []
    },
    {
      "cell_type": "code",
      "source": [
        "%%R\n",
        "for (i in (1:m))\n",
        "{\n",
        "  #VaR de accines y divisas sin alisado\n",
        "  VaRCont_acc_div[i]=equantile(PG_acc_div[,i],1-alpha,Ns)\n",
        "  #CVaR de acciones y divisas sin alisado\n",
        "  CVaRCont_acc_div[i]= mean(merge(which(PG_acc_div[,i]<VaRCont_acc_div[i]),cbind(seq(1,Ns),PG_acc_div[,i]), by.x=1,by.y=1)[,2])\n",
        "  #VaR de acciones y divisas con alisado\n",
        "  VaRCont_CA_acc_div[i]=wquantile(PG_acc_div[,i],p_esc, 1-alpha)\n",
        "  #CVaR de acciones y divisas con alisado\n",
        "  CVaRCont_CA_acc_div[i]= wcvar(PG_acc_div[,i],p_esc, 1-alpha)\n",
        "}\n",
        "\n",
        "#VaR por acciones\n",
        "VaRfr1_acc_div <- as.matrix(t(VaRCont_acc_div[1:m_acc]))\n",
        "#VaR por divisas\n",
        "VaRfr2_acc_div <- as.matrix(t(VaRCont_acc_div[(m_acc+1):m]))\n",
        "\n",
        "#CVar por acciones\n",
        "CVaRfr1_acc_div <- as.matrix(t(CVaRCont_acc_div[1:m_acc]))\n",
        "#CVar por divisas\n",
        "CVaRfr2_acc_div <- as.matrix(t(CVaRCont_acc_div[(m_acc+1):m]))\n",
        "\n",
        "#Var con alisado por acciones\n",
        "VaRfr1_CA_acc_div <- as.matrix(t(VaRCont_CA_acc_div[1:m_acc]))\n",
        "#Var con alsiado por divisas\n",
        "VaRfr2_CA_acc_div <- as.matrix(t(VaRCont_CA_acc_div[(m_acc+1):m]))\n",
        "\n",
        "#CVar con alisado por acciones\n",
        "CVaRfr1_CA_acc_div <- as.matrix(t(CVaRCont_CA_acc_div[1:m_acc]))\n",
        "#CVar con alisado por divisas\n",
        "CVaRfr2_CA_acc_div <- as.matrix(t(CVaRCont_CA_acc_div[(m_acc+1):m]))\n",
        "\n",
        "#Var sin alisado total\n",
        "VaRTotal_acc_div=equantile(PGT_acc_div,1-alpha,Ns)\n",
        "VaRTotalfr1_acc_div=equantile(PGfr1T_acc_div,1-alpha,Ns)\n",
        "VaRTotalfr2_acc_div=equantile(PGfr2T_acc_div,1-alpha,Ns)\n",
        "\n",
        "#CVar sin alisado total\n",
        "CVaRTotal_acc_div= mean(merge(which(PGT_acc_div<VaRTotal_acc_div),cbind(seq(1,Ns),PGT_acc_div), by.x=1,by.y=1)[,2])\n",
        "CVaRTotalfr1_acc_div= mean(PGfr1T_acc_div[which(PGfr1T_acc_div<VaRTotalfr1_acc_div),])\n",
        "CVaRTotalfr2_acc_div= mean(PGfr2T_acc_div[which(PGfr2T_acc_div<VaRTotalfr2_acc_div),])\n",
        "\n",
        "#Var con alisado total\n",
        "VaRTotal_CA_acc_div=wquantile(PGT_acc_div,p_esc,1-alpha)\n",
        "VaRTotalfr1_CA_acc_div=wquantile(PGfr1T_acc_div,p_esc,1-alpha)\n",
        "VaRTotalfr2_CA_acc_div=wquantile(PGfr2T_acc_div,p_esc,1-alpha)\n",
        "\n",
        "#CVar con alisado total\n",
        "CVaRTotal_CA_acc_div= wcvar(PGT_acc_div,p_esc,1-alpha)\n",
        "CVaRTotalfr1_CA_acc_div= wcvar(PGfr1T_acc_div,p_esc,1-alpha)\n",
        "CVaRTotalfr2_CA_acc_div= wcvar(PGfr2T_acc_div,p_esc,1-alpha)"
      ],
      "metadata": {
        "id": "CBInuRDQu8FR"
      },
      "execution_count": null,
      "outputs": []
    },
    {
      "cell_type": "markdown",
      "source": [
        "#### Valor en Riesgo"
      ],
      "metadata": {
        "id": "52rLdFMd3OC1"
      }
    },
    {
      "cell_type": "code",
      "source": [
        "%%R\n",
        "colnames(VaRCont_acc_div) <- c(acc_names,div_names)\n",
        "colnames(VaRfr1_acc_div) <- acc_names\n",
        "colnames(VaRfr2_acc_div) <- div_names\n",
        "colnames(VaRCont_CA_acc_div) <- c(acc_names,div_names)\n",
        "colnames(VaRfr1_CA_acc_div) <- acc_names\n",
        "colnames(VaRfr2_CA_acc_div) <- div_names\n",
        "\n",
        "colnames(CVaRCont_acc_div) <- c(acc_names,div_names)\n",
        "colnames(CVaRfr1_acc_div) <- acc_names\n",
        "colnames(CVaRfr2_acc_div) <- div_names\n",
        "colnames(CVaRCont_CA_acc_div) <- c(acc_names,div_names)\n",
        "colnames(CVaRfr1_CA_acc_div) <- acc_names\n",
        "colnames(CVaRfr2_CA_acc_div) <- div_names"
      ],
      "metadata": {
        "id": "R0UzsB8P5C-p"
      },
      "execution_count": null,
      "outputs": []
    },
    {
      "cell_type": "code",
      "source": [
        "%%R\n",
        "print(\"VaR por acciones y divisas\")\n",
        "VaR_acc_div <- as.matrix(rbind(VaRCont_acc_div,VaRCont_CA_acc_div,V0_acc_div))\n",
        "rownames(VaR_acc_div) <- c(\"Sin alisado\",\"Con alisado\",\"Valor portafolio\")\n",
        "print(VaR_acc_div)\n",
        "\n",
        "print(\"VaR Total\")\n",
        "VaR_Total_acc_div <- as.matrix(rbind(cbind(VaRTotal_acc_div,VaRTotalfr1_acc_div,VaRTotalfr2_acc_div),\n",
        "                                     cbind(VaRTotal_CA_acc_div,VaRTotalfr1_CA_acc_div,VaRTotalfr2_CA_acc_div),\n",
        "                                     cbind(sum(V0_acc_div),sum(V0_acc_div[,1:m_acc]),sum(V0_acc_div[,(m_acc+1):m]))))\n",
        "rownames(VaR_Total_acc_div) <- c(\"Sin alisado\",\"Con alisado\",\"Valor portafolio\")\n",
        "colnames(VaR_Total_acc_div) <- c(\"Total\",\"Acciones\",\"Divisas\")\n",
        "print(VaR_Total_acc_div)"
      ],
      "metadata": {
        "colab": {
          "base_uri": "https://localhost:8080/"
        },
        "id": "m9T-flPp3SqS",
        "outputId": "80d3e0cc-6b45-41e2-e939-68222b14f02b"
      },
      "execution_count": null,
      "outputs": [
        {
          "output_type": "stream",
          "name": "stdout",
          "text": [
            "[1] \"VaR por acciones y divisas\"\n",
            "                     America     Carso   Walmart      Euros      Libras\n",
            "Sin alisado        -2940.283 -2955.189 -2616.769  -149.0083   -160.1994\n",
            "Con alisado        -3426.218 -2955.189 -3115.921  -156.6425   -134.6355\n",
            "Valor portafolio -103750.000 73529.999 96407.995 15501.4188 -15685.5336\n",
            "                    Dolares\n",
            "Sin alisado       -317.2778\n",
            "Con alisado       -358.2803\n",
            "Valor portafolio 29948.3985\n",
            "[1] \"VaR Total\"\n",
            "                     Total  Acciones    Divisas\n",
            "Sin alisado      -4306.785 -4559.199  -357.8263\n",
            "Con alisado      -4864.925 -4888.826  -380.3611\n",
            "Valor portafolio 95952.278 66187.994 29764.2837\n"
          ]
        }
      ]
    },
    {
      "cell_type": "markdown",
      "source": [
        "#### Valor en Riesgo Condicional"
      ],
      "metadata": {
        "id": "NZtcRols5f1D"
      }
    },
    {
      "cell_type": "code",
      "source": [
        "%%R\n",
        "print(\"CVaR por acciones y divisas\")\n",
        "CVaR_acc_div <- as.matrix(rbind(CVaRCont_acc_div,CVaRCont_CA_acc_div,V0_acc_div))\n",
        "rownames(CVaR_acc_div) <- c(\"Sin alisado\",\"Con alisado\",\"Valor portafolio\")\n",
        "print(CVaR_acc_div)\n",
        "\n",
        "print(\"CVaR Total\")\n",
        "CVaR_Total_acc_div <- as.matrix(rbind(cbind(CVaRTotal_acc_div,CVaRTotalfr1_acc_div,CVaRTotalfr2_acc_div),\n",
        "                                     cbind(CVaRTotal_CA_acc_div,CVaRTotalfr1_CA_acc_div,CVaRTotalfr2_CA_acc_div),\n",
        "                                     cbind(sum(V0_acc_div),sum(V0_acc_div[,1:m_acc]),sum(V0_acc_div[,(m_acc+1):m]))))\n",
        "rownames(CVaR_Total_acc_div) <- c(\"Sin alisado\",\"Con alisado\",\"Valor portafolio\")\n",
        "colnames(CVaR_Total_acc_div) <- c(\"Total\",\"Acciones\",\"Divisas\")\n",
        "print(CVaR_Total_acc_div)"
      ],
      "metadata": {
        "colab": {
          "base_uri": "https://localhost:8080/"
        },
        "id": "Lvpk8jsG05wP",
        "outputId": "ab733e65-c291-4f13-88c6-02d2c123d5d7"
      },
      "execution_count": null,
      "outputs": [
        {
          "output_type": "stream",
          "name": "stdout",
          "text": [
            "[1] \"CVaR por acciones y divisas\"\n",
            "                     America     Carso   Walmart      Euros      Libras\n",
            "Sin alisado        -4142.288 -3435.131 -3111.195  -189.9811   -179.9433\n",
            "Con alisado        -3953.370 -3644.459 -3342.528  -215.4005   -162.7023\n",
            "Valor portafolio -103750.000 73529.999 96407.995 15501.4188 -15685.5336\n",
            "                    Dolares\n",
            "Sin alisado       -442.8901\n",
            "Con alisado       -586.3976\n",
            "Valor portafolio 29948.3985\n",
            "[1] \"CVaR Total\"\n",
            "                     Total  Acciones   Divisas\n",
            "Sin alisado      -5307.676 -5309.633  -423.176\n",
            "Con alisado      -5961.303 -6001.609  -476.785\n",
            "Valor portafolio 95952.278 66187.994 29764.284\n"
          ]
        }
      ]
    },
    {
      "cell_type": "markdown",
      "source": [
        "## Bonos"
      ],
      "metadata": {
        "id": "vIOp-JoLP3Rn"
      }
    },
    {
      "cell_type": "markdown",
      "source": [
        "### Perdidas y Ganancias"
      ],
      "metadata": {
        "id": "hYPC8qt7FW4-"
      }
    },
    {
      "cell_type": "code",
      "source": [
        "%%R\n",
        "#Cálculo de matriz de pérdidas y ganancias BONDES\n",
        "#dimensión\n",
        "m=count(N_bd)    #PASO CLAVE\n",
        "X_s_bon=matrix(0,Ns,n_if[2]) #Factores de riesgo simulados con base en DeltaX_s x0*(1+Delta_Xs)   #PASO CLAVE\n",
        "Vfr1_bon=matrix(0,Ns,m) #BCC\n",
        "Vfr2_bon=matrix(0,Ns,m) #BM\n",
        "Vfr3_bon=matrix(0,Ns,m) #BD fonde\n",
        "Vfr4_bon=matrix(0,Ns,m) #BD gober\n",
        "Vfr5_bon=matrix(0,Ns,m) #BD desc\n",
        "\n",
        "PGfr1_bon=matrix(0,Ns,m)\n",
        "PGfr2_bon=matrix(0,Ns,m)\n",
        "PGfr3_bon=matrix(0,Ns,m)\n",
        "PGfr4_bon=matrix(0,Ns,m)\n",
        "PGfr5_bon=matrix(0,Ns,m)\n",
        "\n",
        "PGT_bon=matrix(0,Ns,1)\n",
        "PGfr1T_bon=matrix(0,Ns,1)\n",
        "PGfr2T_bon=matrix(0,Ns,1)\n",
        "PGfr3T_bon=matrix(0,Ns,1)"
      ],
      "metadata": {
        "id": "3Z8xAUHPQWI2"
      },
      "execution_count": null,
      "outputs": []
    },
    {
      "cell_type": "code",
      "source": [
        "%%R\n",
        "DeltaX_s_bd=DeltaX_s[,sum(n_if[1:1],1):sum(n_if[1:2])]    #PASO CLAVE\n",
        "x0_bon=X_bonos[1,]    #PASO CLAVE\n",
        "\n",
        "for (i in 1:Ns){\n",
        "  X_s_bon[i,]=x0_bon*exp(DeltaX_s_bd[i,])\n",
        "  \n",
        "  Vfr1_bon[i,] = bonocupcero(X_s_bon[i,m_bcc],plazos_bcc)*contratos_bcc*nominal_bcc\n",
        "  Vfr2_bon[i,] = bonoMyield(X_s_bon[i,(m_bcc+1)],plazos_bm, plazocupon_bm, tfcupon_bm, nominal_bm, contratos_bm)\n",
        "  Vfr3_bon[i,] = bondeD(contratos_bdmT, nominal_bdm, X_s_bon[i,(m_bcc+m_bm+1)], plazocupon_bdmT, VTplazos_bdm,\n",
        "                        x0_bon[((n_if[2]-m_bcc-m_bm)/3+1+m_bcc+m_bm):((n_if[2]-m_bcc-m_bm)*2/3+m_bcc+m_bm)], x0_bon[((n_if[2]-m_bcc-m_bm)*2/3+m_bcc+m_bm+1):(n_if[2])], N_bd,ddv)\n",
        "  Vfr4_bon[i,] = bondeD(contratos_bdmT, nominal_bdm, x0_bon[(m_bcc+m_bm+1)], plazocupon_bdmT, VTplazos_bdm, \n",
        "                        X_s_bon[i,((n_if[2]-m_bcc-m_bm)/3+1+m_bcc+m_bm):((n_if[2]-m_bcc-m_bm)*2/3+m_bcc+m_bm)], x0_bon[((n_if[2]-m_bcc-m_bm)*2/3+m_bcc+m_bm+1):(n_if[2])], N_bd,ddv)\n",
        "  Vfr5_bon[i,] = bondeD(contratos_bdmT, nominal_bdm, x0_bon[(m_bcc+m_bm+1)], plazocupon_bdmT, VTplazos_bdm,\n",
        "                        x0_bon[((n_if[2]-m_bcc-m_bm)/3+1+m_bcc+m_bm):((n_if[2]-m_bcc-m_bm)*2/3+m_bcc+m_bm)], X_s_bon[i,((n_if[2]-m_bcc-m_bm)*2/3+m_bcc+m_bm+1):(n_if[2])], N_bd,ddv)\n",
        "\n",
        "  PGfr1_bon[i,]=Vfr1_bon[i,]-V0_bonos[m_bcc]\n",
        "  PGfr2_bon[i,]=Vfr2_bon[i,]-V0_bonos[m_bcc+m_bm]\n",
        "  PGfr3_bon[i,]=Vfr3_bon[i,]-V0_bonos[m_bcc+m_bm+1]\n",
        "  PGfr4_bon[i,]=Vfr4_bon[i,]-V0_bonos[m_bcc+m_bm+1]\n",
        "  PGfr5_bon[i,]=Vfr5_bon[i,]-V0_bonos[m_bcc+m_bm+1]\n",
        "\n",
        "  PGfr1T_bon[i,] = sum(PGfr1_bon[i,])\n",
        "  PGfr2T_bon[i,] = sum(PGfr2_bon[i,])\n",
        "  PGfr3T_bon[i,] = sum(PGfr3_bon[i,])+sum(PGfr4_bon[i,])+sum(PGfr5_bon[i,])\n",
        "  PGT_bon[i,] = PGfr1T_bon[i,]+PGfr2T_bon[i,]+PGfr3T_bon[i,]\n",
        "}"
      ],
      "metadata": {
        "id": "qHurfrw0Uzcm"
      },
      "execution_count": null,
      "outputs": []
    },
    {
      "cell_type": "code",
      "source": [
        "%%R\n",
        "PG_bonos <- cbind(PGfr1_bon,PGfr2_bon,PGfr3_bon,PGfr4_bon,PGfr5_bon)\n",
        "colnames(PG_bonos) <- c(\"CETE\",\"Bono M\",\"BONDE Fondeo\",\"BONDE Gober\",\"BONDE Desc\")\n",
        "print(\"Perdida/Ganancia por Factor de Riesgo\")\n",
        "print(head(PG_bonos))\n",
        "\n",
        "PGT_bonos <- cbind(PGT_bon,PGfr1T_bon,PGfr2T_bon,PGfr3T_bon)\n",
        "colnames(PGT_bonos) <- c(\"Total\",\"CETE\",\"Bono M\",\"BONDE\")\n",
        "print(\"Perdida/Ganancia Total\")\n",
        "print(head(PGT_bonos))"
      ],
      "metadata": {
        "colab": {
          "base_uri": "https://localhost:8080/"
        },
        "id": "g-CS-j6Yek6r",
        "outputId": "257fb2fc-764f-495a-9652-d2c63033e4af"
      },
      "execution_count": null,
      "outputs": [
        {
          "output_type": "stream",
          "name": "stdout",
          "text": [
            "[1] \"Perdida/Ganancia por Factor de Riesgo\"\n",
            "           CETE     Bono M BONDE Fondeo BONDE Gober BONDE Desc\n",
            "[1,] -0.3791894   4.293729    0.3556992   0.7239486  0.7171492\n",
            "[2,]  0.0000000 -15.994889    0.5343740   1.6890238  1.0677705\n",
            "[3,]  0.6252523  14.069734    1.0709471  -0.9550684  0.1116873\n",
            "[4,]  0.1247247   3.188755   -9.3915458   0.1164714  0.4980342\n",
            "[5,]  0.2483463   2.827442   -0.2660945   1.5263942  1.0087932\n",
            "[6,] -0.1244216   8.535070    1.6850271   0.7309603  0.7189688\n",
            "[1] \"Perdida/Ganancia Total\"\n",
            "          Total       CETE     Bono M     BONDE\n",
            "[1,]   5.711336 -0.3791894   4.293729  1.796797\n",
            "[2,] -12.703721  0.0000000 -15.994889  3.291168\n",
            "[3,]  14.922553  0.6252523  14.069734  0.227566\n",
            "[4,]  -5.463560  0.1247247   3.188755 -8.777040\n",
            "[5,]   5.344881  0.2483463   2.827442  2.269093\n",
            "[6,]  11.545604 -0.1244216   8.535070  3.134956\n"
          ]
        }
      ]
    },
    {
      "cell_type": "markdown",
      "source": [
        "### VaR y CVaR"
      ],
      "metadata": {
        "id": "MJVWFbGVFaG7"
      }
    },
    {
      "cell_type": "code",
      "source": [
        "%%R\n",
        "w0=1-alpha\n",
        "lambda =uniroot(function(x) w0*(1-x^(Ns))/(1-x)-1, c(0,0.99), tol = 1e-28)$root\n",
        "\n",
        "p_esc=genera_esc(lambda,w0,Ns)\n",
        "print(\"Pesos para el Alisado\")\n",
        "print(head(p_esc))\n",
        "print(tail(p_esc))\n",
        "print(\"Validación de los pesos\")\n",
        "sum(p_esc) #validamos que sume 1"
      ],
      "metadata": {
        "colab": {
          "base_uri": "https://localhost:8080/"
        },
        "id": "94PzN2Z0ld30",
        "outputId": "d0600c96-d5e5-4c2f-9b71-11f8bc68c5e4"
      },
      "execution_count": null,
      "outputs": [
        {
          "output_type": "stream",
          "name": "stdout",
          "text": [
            "[1] \"Pesos para el Alisado\"\n",
            "           [,1]\n",
            "[1,] 0.02000000\n",
            "[2,] 0.01960254\n",
            "[3,] 0.01921298\n",
            "[4,] 0.01883117\n",
            "[5,] 0.01845694\n",
            "[6,] 0.01809014\n",
            "               [,1]\n",
            "[247,] 0.0001433842\n",
            "[248,] 0.0001405348\n",
            "[249,] 0.0001377419\n",
            "[250,] 0.0001350046\n",
            "[251,] 0.0001323217\n",
            "[252,] 0.0001296921\n",
            "[1] \"Validación de los pesos\"\n",
            "[1] 1\n"
          ]
        }
      ]
    },
    {
      "cell_type": "code",
      "source": [
        "%%R\n",
        "#VaR por posición\n",
        "VaRfr1_bd=matrix(0,1,m)\n",
        "VaRfr2_bd=matrix(0,1,m)\n",
        "VaRfr3_bd=matrix(0,1,m)\n",
        "VaRfr4_bd=matrix(0,1,m)\n",
        "VaRfr5_bd=matrix(0,1,m)\n",
        "\n",
        "CVaRfr1_bd=matrix(0,1,m)\n",
        "CVaRfr2_bd=matrix(0,1,m)\n",
        "CVaRfr3_bd=matrix(0,1,m)\n",
        "CVaRfr4_bd=matrix(0,1,m)\n",
        "CVaRfr5_bd=matrix(0,1,m)\n",
        "\n",
        "VaRfr1_CA_bd=matrix(0,1,m)\n",
        "VaRfr2_CA_bd=matrix(0,1,m)\n",
        "VaRfr3_CA_bd=matrix(0,1,m)\n",
        "VaRfr4_CA_bd=matrix(0,1,m)\n",
        "VaRfr5_CA_bd=matrix(0,1,m)\n",
        "\n",
        "CVaRfr1_CA_bd=matrix(0,1,m)\n",
        "CVaRfr2_CA_bd=matrix(0,1,m)\n",
        "CVaRfr3_CA_bd=matrix(0,1,m)\n",
        "CVaRfr4_CA_bd=matrix(0,1,m)\n",
        "CVaRfr5_CA_bd=matrix(0,1,m)"
      ],
      "metadata": {
        "id": "5ltewjxRlBIw"
      },
      "execution_count": null,
      "outputs": []
    },
    {
      "cell_type": "code",
      "source": [
        "%%R\n",
        "for (i in (1:m))\n",
        "{\n",
        "  VaRfr1_bd[i]=equantile(PGfr1_bon[,i],1-alpha,Ns)\n",
        "  VaRfr2_bd[i]=equantile(PGfr2_bon[,i],1-alpha,Ns)\n",
        "  VaRfr3_bd[i]=equantile(PGfr3_bon[,i],1-alpha,Ns)\n",
        "  VaRfr4_bd[i]=equantile(PGfr4_bon[,i],1-alpha,Ns)\n",
        "  VaRfr5_bd[i]=equantile(PGfr5_bon[,i],1-alpha,Ns)\n",
        "  \n",
        "  CVaRfr1_bd[i]= mean(merge(which(PGfr1_bon[,i]<VaRfr1_bd[i]),cbind(seq(1,Ns),PGfr1_bon[,i]), by.x=1,by.y=1)[,2])\n",
        "  CVaRfr2_bd[i]= mean(merge(which(PGfr2_bon[,i]<VaRfr2_bd[i]),cbind(seq(1,Ns),PGfr2_bon[,i]), by.x=1,by.y=1)[,2])\n",
        "  CVaRfr3_bd[i]= mean(merge(which(PGfr3_bon[,i]<VaRfr3_bd[i]),cbind(seq(1,Ns),PGfr3_bon[,i]), by.x=1,by.y=1)[,2])\n",
        "  CVaRfr4_bd[i]= mean(merge(which(PGfr4_bon[,i]<VaRfr4_bd[i]),cbind(seq(1,Ns),PGfr4_bon[,i]), by.x=1,by.y=1)[,2])\n",
        "  CVaRfr5_bd[i]= mean(merge(which(PGfr5_bon[,i]<VaRfr5_bd[i]),cbind(seq(1,Ns),PGfr5_bon[,i]), by.x=1,by.y=1)[,2])\n",
        "  \n",
        "  VaRfr1_CA_bd[i]=wquantile(PGfr1_bon[,i],p_esc, 1-alpha)\n",
        "  VaRfr2_CA_bd[i]=wquantile(PGfr2_bon[,i],p_esc, 1-alpha)\n",
        "  VaRfr3_CA_bd[i]=wquantile(PGfr3_bon[,i],p_esc, 1-alpha)\n",
        "  VaRfr4_CA_bd[i]=wquantile(PGfr4_bon[,i],p_esc, 1-alpha)\n",
        "  VaRfr5_CA_bd[i]=wquantile(PGfr5_bon[,i],p_esc, 1-alpha)\n",
        "\n",
        "  CVaRfr1_CA_bd[i]= wcvar(PGfr1_bon[,i],p_esc, 1-alpha)\n",
        "  CVaRfr2_CA_bd[i]= wcvar(PGfr2_bon[,i],p_esc, 1-alpha)\n",
        "  CVaRfr3_CA_bd[i]= wcvar(PGfr3_bon[,i],p_esc, 1-alpha)\n",
        "  CVaRfr4_CA_bd[i]= wcvar(PGfr4_bon[,i],p_esc, 1-alpha)\n",
        "  CVaRfr5_CA_bd[i]= wcvar(PGfr5_bon[,i],p_esc, 1-alpha)\n",
        "}\n",
        "\n",
        "\n",
        "VaRT_bd=equantile(PGT_bon[,i],1-alpha,Ns)\n",
        "VaRfr1T_bd=equantile(PGfr1T_bon[,i],1-alpha,Ns)\n",
        "VaRfr2T_bd=equantile(PGfr2T_bon[,i],1-alpha,Ns)\n",
        "VaRfr3T_bd=equantile(PGfr3T_bon[,i],1-alpha,Ns)\n",
        "\n",
        "CVaRT_bd= mean(merge(which(PGT_bon[,i]<VaRT_bd[i]),cbind(seq(1,Ns),PGT_bon[,i]), by.x=1,by.y=1)[,2])\n",
        "CVaRfr1T_bd= mean(merge(which(PGfr1T_bon[,i]<VaRfr1T_bd[i]),cbind(seq(1,Ns),PGfr1T_bon[,i]), by.x=1,by.y=1)[,2])\n",
        "CVaRfr2T_bd= mean(merge(which(PGfr2T_bon[,i]<VaRfr2T_bd[i]),cbind(seq(1,Ns),PGfr2T_bon[,i]), by.x=1,by.y=1)[,2])\n",
        "CVaRfr3T_bd= mean(merge(which(PGfr3T_bon[,i]<VaRfr3T_bd[i]),cbind(seq(1,Ns),PGfr3T_bon[,i]), by.x=1,by.y=1)[,2])\n",
        "\n",
        "VaRT_CA_bd=wquantile(PGT_bon[,i],p_esc, 1-alpha)\n",
        "VaRfr1T_CA_bd=wquantile(PGfr1T_bon[,i],p_esc, 1-alpha)\n",
        "VaRfr2T_CA_bd=wquantile(PGfr2T_bon[,i],p_esc, 1-alpha)\n",
        "VaRfr3T_CA_bd=wquantile(PGfr3T_bon[,i],p_esc, 1-alpha)\n",
        "\n",
        "CVaRT_CA_bd= wcvar(PGT_bon[,i],p_esc, 1-alpha)\n",
        "CVaRfr1T_CA_bd= wcvar(PGfr1T_bon[,i],p_esc, 1-alpha)\n",
        "CVaRfr2T_CA_bd= wcvar(PGfr2T_bon[,i],p_esc, 1-alpha)\n",
        "CVaRfr3T_CA_bd= wcvar(PGfr3T_bon[,i],p_esc, 1-alpha)"
      ],
      "metadata": {
        "id": "7ICSQYxHlLjJ"
      },
      "execution_count": null,
      "outputs": []
    },
    {
      "cell_type": "markdown",
      "source": [
        "#### Valor en Riesgo"
      ],
      "metadata": {
        "id": "7EjUBKs7v795"
      }
    },
    {
      "cell_type": "code",
      "source": [
        "%%R\n",
        "VaR_bonos <- rbind(cbind(VaRfr1_bd,VaRfr2_bd,VaRfr3_bd,VaRfr4_bd,VaRfr5_bd),\n",
        "                   cbind(VaRfr1_CA_bd,VaRfr2_CA_bd,VaRfr3_CA_bd,VaRfr4_CA_bd,VaRfr5_CA_bd))\n",
        "colnames(VaR_bonos) <- c(\"CETE\",\"Bono M\",\"BONDE Fondeo\",\"BONDE Gober\",\"BONDE Desc\")\n",
        "rownames(VaR_bonos) <- c(\"Sin alisado\",\"Con alisado\")\n",
        "print(\"VaR por Bonos\")\n",
        "print(VaR_bonos)\n",
        "\n",
        "VaRT_bonos <- rbind(cbind(VaRT_bd,VaRfr1T_bd,VaRfr2T_bd,VaRfr3T_bd),\n",
        "                   cbind(VaRT_CA_bd,VaRfr1T_CA_bd,VaRfr2T_CA_bd,VaRfr3T_CA_bd),\n",
        "                    cbind(sum(V0_bonos),V0_bonos))\n",
        "colnames(VaRT_bonos) <- c(\"Total\",\"CETE\",\"Bono M\",\"BONDE\")\n",
        "rownames(VaRT_bonos) <- c(\"Sin alisado\",\"Con alisado\",\"Valor portafolio\")\n",
        "print(\"VaR Total\")\n",
        "print(VaRT_bonos)"
      ],
      "metadata": {
        "colab": {
          "base_uri": "https://localhost:8080/"
        },
        "id": "xM-o5WSLm3c7",
        "outputId": "70d68714-54e4-46bb-cdb3-8258e442229a"
      },
      "execution_count": null,
      "outputs": [
        {
          "output_type": "stream",
          "name": "stdout",
          "text": [
            "[1] \"VaR por Bonos\"\n",
            "                  CETE    Bono M BONDE Fondeo BONDE Gober  BONDE Desc\n",
            "Sin alisado -0.9858742 -18.99431    -5.215431   -1.312346 -0.01696735\n",
            "Con alisado -0.6318718 -23.81862    -9.391546   -2.555974 -0.46734004\n",
            "[1] \"VaR Total\"\n",
            "                      Total         CETE    Bono M       BONDE\n",
            "Sin alisado       -15.31192   -0.9858742 -18.99431   -2.773137\n",
            "Con alisado       -16.85803   -0.6318718 -23.81862   -8.777040\n",
            "Valor portafolio 1487.51443 1442.6867562 987.77898 -942.951308\n"
          ]
        }
      ]
    },
    {
      "cell_type": "markdown",
      "source": [
        "#### Valor en Riesgo Condicional"
      ],
      "metadata": {
        "id": "9SCztYj9wA8u"
      }
    },
    {
      "cell_type": "code",
      "source": [
        "%%R\n",
        "CVaR_bonos <- rbind(cbind(CVaRfr1_bd,CVaRfr2_bd,CVaRfr3_bd,CVaRfr4_bd,CVaRfr5_bd),\n",
        "                   cbind(CVaRfr1_CA_bd,CVaRfr2_CA_bd,CVaRfr3_CA_bd,CVaRfr4_CA_bd,CVaRfr5_CA_bd))\n",
        "colnames(CVaR_bonos) <- c(\"CETE\",\"Bono M\",\"BONDE Fondeo\",\"BONDE Gober\",\"BONDE Desc\")\n",
        "rownames(CVaR_bonos) <- c(\"Sin alisado\",\"Con alisado\")\n",
        "print(\"CVaR por Bonos\")\n",
        "print(CVaR_bonos)\n",
        "\n",
        "CVaRT_bonos <- rbind(cbind(CVaRT_bd,CVaRfr1T_bd,CVaRfr2T_bd,CVaRfr3T_bd),\n",
        "                   cbind(CVaRT_CA_bd,CVaRfr1T_CA_bd,CVaRfr2T_CA_bd,CVaRfr3T_CA_bd),\n",
        "                    cbind(sum(V0_bonos),V0_bonos))\n",
        "colnames(CVaRT_bonos) <- c(\"Total\",\"CETE\",\"Bono M\",\"BONDE\")\n",
        "rownames(CVaRT_bonos) <- c(\"Sin alisado\",\"Con alisado\",\"Valor portafolio\")\n",
        "print(\"CVaR Total\")\n",
        "print(CVaRT_bonos)"
      ],
      "metadata": {
        "colab": {
          "base_uri": "https://localhost:8080/"
        },
        "id": "Sv0wzn9owDJz",
        "outputId": "deb29bf6-3b3b-4cfd-9e3d-0fa9ac687ef9"
      },
      "execution_count": null,
      "outputs": [
        {
          "output_type": "stream",
          "name": "stdout",
          "text": [
            "[1] \"CVaR por Bonos\"\n",
            "                 CETE    Bono M BONDE Fondeo BONDE Gober BONDE Desc\n",
            "Sin alisado -1.394495 -23.48337    -8.277346   -2.394343 -0.4098040\n",
            "Con alisado -1.054235 -39.40616   -10.218519   -3.767521 -0.9039726\n",
            "[1] \"CVaR Total\"\n",
            "                      Total        CETE    Bono M       BONDE\n",
            "Sin alisado       -21.17724   -1.394495 -23.48337   -6.209117\n",
            "Con alisado       -36.26743   -1.054235 -39.40616  -10.245926\n",
            "Valor portafolio 1487.51443 1442.686756 987.77898 -942.951308\n"
          ]
        }
      ]
    },
    {
      "cell_type": "markdown",
      "source": [
        "## Futuros"
      ],
      "metadata": {
        "id": "-94AEf5D5kRM"
      }
    },
    {
      "cell_type": "markdown",
      "source": [
        "### Tipo de Cambio"
      ],
      "metadata": {
        "id": "zN0a5WMdaBnt"
      }
    },
    {
      "cell_type": "markdown",
      "source": [
        "#### Perdidas y Ganacias"
      ],
      "metadata": {
        "id": "p1yyfBwZFi82"
      }
    },
    {
      "cell_type": "code",
      "source": [
        "%%R\n",
        "m=ncol(plazos_fowd)  #PASO CLAVE\n",
        "X_s_fwtdc=matrix(0,Ns,n_if[3]) #Factores de riesgo simulados con base en DeltaX_s x0*(1+Delta_Xs) #PASO CLAVE\n",
        "V_fwtdc=matrix(0,Ns,m)\n",
        "Vfr1_fwtdc=matrix(0,Ns,m)\n",
        "Vfr2_fwtdc=matrix(0,Ns,m)\n",
        "Vfr3_fwtdc=matrix(0,Ns,m)\n",
        "\n",
        "PG_fwtdc=matrix(0,Ns,m) #Pèrdidas y ganancias\n",
        "PGfr1_fwtdc=matrix(0,Ns,m)\n",
        "PGfr2_fwtdc=matrix(0,Ns,m)\n",
        "PGfr3_fwtdc=matrix(0,Ns,m)"
      ],
      "metadata": {
        "id": "NR8OYPPHaiD7"
      },
      "execution_count": null,
      "outputs": []
    },
    {
      "cell_type": "code",
      "source": [
        "%%R\n",
        "DeltaX_s_fwtdc=DeltaX_s[,sum(n_if[1:2],1):sum(n_if[1:3])]  #PASO CLAVE\n",
        "x0_fwtdc=X_futtdc[1,] #PASO CLAVE\n",
        "\n",
        "for (i in 1:Ns)\n",
        "{0\n",
        "  X_s_fwtdc[i,]=x0_fwtdc*exp(DeltaX_s_fwtdc[i,])\n",
        "  Vfr1_fwtdc[i,]=futuroTC(plazos_fowd,X_s_fwtdc[i,1:((n_if[3]-1)/2)],x0_fwtdc[((n_if[3]-1)/2+1):(n_if[3]-1)],x0_fwtdc[(n_if[3])],kst_fwd)*contratos_fowd*nominal_fwd\n",
        "  Vfr2_fwtdc[i,]=futuroTC(plazos_fowd,x0_fwtdc[1:((n_if[3]-1)/2)],X_s_fwtdc[i,((n_if[3]-1)/2+1):(n_if[3]-1)],x0_fwtdc[(n_if[3])],kst_fwd)*contratos_fowd*nominal_fwd\n",
        "  Vfr3_fwtdc[i,]=futuroTC(plazos_fowd,x0_fwtdc[1:((n_if[3]-1)/2)],x0_fwtdc[((n_if[3]-1)/2+1):(n_if[3]-1)],X_s_fwtdc[i,(n_if[3])],kst_fwd)*contratos_fowd*nominal_fwd\n",
        " \n",
        "  PGfr1_fwtdc[i,]=Vfr1_fwtdc[i,]-V0_fwtdc\n",
        "  PGfr2_fwtdc[i,]=Vfr2_fwtdc[i,]-V0_fwtdc\n",
        "  PGfr3_fwtdc[i,]=Vfr3_fwtdc[i,]-V0_fwtdc\n",
        "  PG_fwtdc[i,]=PGfr1_fwtdc[i,]+PGfr2_fwtdc[i,]+PGfr3_fwtdc[i,]\n",
        "}"
      ],
      "metadata": {
        "id": "2fv7VVHrag2O"
      },
      "execution_count": null,
      "outputs": []
    },
    {
      "cell_type": "code",
      "source": [
        "%%R\n",
        "PG_ftdf = cbind(PG_fwtdc,PGfr1_fwtdc,PGfr2_fwtdc,PGfr3_fwtdc)\n",
        "colnames(PG_ftdf) = c(\"Total\",\"Tasa Ext\",\"Tasa Dom\",\"USDMXN\")\n",
        "\n",
        "print(\"Perdidas/Ganancias por factor de riesgo\")\n",
        "print(head(PG_ftdf))"
      ],
      "metadata": {
        "colab": {
          "base_uri": "https://localhost:8080/"
        },
        "id": "w20k8GoRdtcD",
        "outputId": "4fc82a0b-875b-4234-800f-bda0ae86c572"
      },
      "execution_count": null,
      "outputs": [
        {
          "output_type": "stream",
          "name": "stdout",
          "text": [
            "[1] \"Perdidas/Ganancias por factor de riesgo\"\n",
            "          Total     Tasa Ext      Tasa Dom     USDMXN\n",
            "[1,] -12.472994  0.003416017  0.0032870582 -12.479697\n",
            "[2,]   6.079246 -0.004859228 -0.0029256568   6.087031\n",
            "[3,]  -3.592153  0.003020117 -0.0002511701  -3.594922\n",
            "[4,] -15.819707 -0.003317791  0.0023559740 -15.818745\n",
            "[5,]  -4.484325  0.001619650 -0.0013643720  -4.484580\n",
            "[6,] -10.736455  0.001690482  0.0021045568 -10.740250\n"
          ]
        }
      ]
    },
    {
      "cell_type": "markdown",
      "source": [
        "#### VaR y CVaR"
      ],
      "metadata": {
        "id": "9jkzmqQeFjQF"
      }
    },
    {
      "cell_type": "code",
      "source": [
        "%%R\n",
        "w0=1-alpha\n",
        "lambda =uniroot(function(x) w0*(1-x^(Ns))/(1-x)-1, c(0,0.99), tol = 1e-28)$root\n",
        "\n",
        "p_esc=genera_esc(lambda,w0,Ns)"
      ],
      "metadata": {
        "id": "T4UKlrS-elQb"
      },
      "execution_count": null,
      "outputs": []
    },
    {
      "cell_type": "code",
      "source": [
        "%%R\n",
        "VaRTotal_ftdc=equantile(PG_fwtdc,1-alpha,Ns)\n",
        "VaRTotalfr1_ftdc=equantile(PGfr1_fwtdc,1-alpha,Ns)\n",
        "VaRTotalfr2_ftdc=equantile(PGfr2_fwtdc,1-alpha,Ns)\n",
        "VaRTotalfr3_ftdc=equantile(PGfr3_fwtdc,1-alpha,Ns)\n",
        "\n",
        "CVaRTotal_ftdc= mean(merge(which(PG_fwtdc<VaRTotal_ftdc),cbind(seq(1,Ns),PG_fwtdc), by.x=1,by.y=1)[,2])\n",
        "CVaRTotalfr1_ftdc= mean(PGfr1_fwtdc[which(PGfr1_fwtdc<VaRTotalfr1_ftdc),])\n",
        "CVaRTotalfr2_ftdc= mean(PGfr2_fwtdc[which(PGfr2_fwtdc<VaRTotalfr2_ftdc),])\n",
        "CVaRTotalfr3_ftdc= mean(PGfr3_fwtdc[which(PGfr3_fwtdc<VaRTotalfr3_ftdc),])\n",
        "\n",
        "VaRTotal_CA_ftdc=wquantile(PG_fwtdc,p_esc, 1-alpha)\n",
        "VaRTotalfr1_CA_ftdc=wquantile(PGfr1_fwtdc,p_esc, 1-alpha)\n",
        "VaRTotalfr2_CA_ftdc=wquantile(PGfr2_fwtdc,p_esc, 1-alpha)\n",
        "VaRTotalfr3_CA_ftdc=wquantile(PGfr3_fwtdc,p_esc, 1-alpha)\n",
        "\n",
        "CVaRTotal_CA_ftdc= wcvar(PG_fwtdc,p_esc, 1-alpha)\n",
        "CVaRTotalfr1_CA_ftdc= wcvar(PGfr1_fwtdc,p_esc, 1-alpha)\n",
        "CVaRTotalfr2_CA_ftdc= wcvar(PGfr2_fwtdc,p_esc, 1-alpha)\n",
        "CVaRTotalfr3_CA_ftdc= wcvar(PGfr3_fwtdc,p_esc, 1-alpha)"
      ],
      "metadata": {
        "id": "hYdNcFXVetAI"
      },
      "execution_count": null,
      "outputs": []
    },
    {
      "cell_type": "markdown",
      "source": [
        "##### Valor en Riesgo"
      ],
      "metadata": {
        "id": "UygRuzhMFjg8"
      }
    },
    {
      "cell_type": "code",
      "source": [
        "%%R\n",
        "VaRT_fwtd = rbind(cbind(VaRTotal_ftdc,VaRTotalfr1_ftdc,VaRTotalfr2_ftdc,VaRTotalfr3_ftdc),\n",
        "                  cbind(VaRTotal_CA_ftdc,VaRTotalfr1_CA_ftdc,VaRTotalfr2_CA_ftdc,VaRTotalfr3_CA_ftdc))\n",
        "colnames(VaRT_fwtd)= c(\"Total\",\"Tasa Ext\",\"Tasa Dom\",\"USDMXN\")\n",
        "rownames(VaRT_fwtd)= c(\"Sin alisado\",\"Con alisado\")\n",
        "print(\"VaR total por factor de riesgo\")\n",
        "print(VaRT_fwtd)"
      ],
      "metadata": {
        "colab": {
          "base_uri": "https://localhost:8080/"
        },
        "id": "j-BF-vYigE1t",
        "outputId": "c90636d1-4601-4fff-9aba-c45b29ac717a"
      },
      "execution_count": null,
      "outputs": [
        {
          "output_type": "stream",
          "name": "stdout",
          "text": [
            "[1] \"VaR total por factor de riesgo\"\n",
            "                Total     Tasa Ext     Tasa Dom    USDMXN\n",
            "Sin alisado -21.13304 -0.013086772 -0.006965825 -21.14047\n",
            "Con alisado -23.87276 -0.006094794 -0.005026612 -23.87250\n"
          ]
        }
      ]
    },
    {
      "cell_type": "markdown",
      "source": [
        "##### Valor en Riesgo Condicional"
      ],
      "metadata": {
        "id": "qkhJbo6rFjp_"
      }
    },
    {
      "cell_type": "code",
      "source": [
        "%%R\n",
        "CVaRT_fwtd = rbind(cbind(CVaRTotal_ftdc,CVaRTotalfr1_ftdc,CVaRTotalfr2_ftdc,CVaRTotalfr3_ftdc),\n",
        "                  cbind(CVaRTotal_CA_ftdc,CVaRTotalfr1_CA_ftdc,CVaRTotalfr2_CA_ftdc,CVaRTotalfr3_CA_ftdc))\n",
        "colnames(CVaRT_fwtd)= c(\"Total\",\"Tasa Ext\",\"Tasa Dom\",\"USDMXN\")\n",
        "rownames(CVaRT_fwtd)= c(\"Sin alisado\",\"Con alisado\")\n",
        "print(\"CVaR total por factor de riesgo\")\n",
        "print(CVaRT_fwtd)"
      ],
      "metadata": {
        "colab": {
          "base_uri": "https://localhost:8080/"
        },
        "id": "DN8uuBsBg25L",
        "outputId": "1736e7ad-ef3e-422c-e344-c80dce370d15"
      },
      "execution_count": null,
      "outputs": [
        {
          "output_type": "stream",
          "name": "stdout",
          "text": [
            "[1] \"CVaR total por factor de riesgo\"\n",
            "                Total    Tasa Ext     Tasa Dom    USDMXN\n",
            "Sin alisado -29.51245 -0.01583276 -0.012655965 -29.51011\n",
            "Con alisado -39.07397 -0.01120875 -0.006884605 -39.07213\n"
          ]
        }
      ]
    },
    {
      "cell_type": "markdown",
      "source": [
        "### Indices"
      ],
      "metadata": {
        "id": "rMaH40XtaVRE"
      }
    },
    {
      "cell_type": "markdown",
      "source": [
        "#### Perdidas y Ganacias"
      ],
      "metadata": {
        "id": "M9pLJsY4aVRF"
      }
    },
    {
      "cell_type": "code",
      "source": [
        "%%R\n",
        "#Cálculo de matriz de pérdidas y ganancias FUTUROS IPC\n",
        "m=ncol(plazos_fwd_ind)  #PASO CLAVE\n",
        "X_s_fwind=matrix(0,Ns,n_if[4]) #Factores de riesgo simulados con base en DeltaX_s x0*(1+Delta_Xs) #PASO CLAVE\n",
        "Vfr1_fwind=matrix(0,Ns,m)#Dividendos\n",
        "Vfr2_fwind=matrix(0,Ns,m)#Tasa guver\n",
        "Vfr3_fwind=matrix(0,Ns,m)#IPC\n",
        "\n",
        "PGT_fwind=matrix(0,Ns,1)\n",
        "PGfr1T_fwind=matrix(0,Ns,1)\n",
        "PGfr2T_fwind=matrix(0,Ns,1)\n",
        "PGfr3T_fwind=matrix(0,Ns,1)"
      ],
      "metadata": {
        "id": "j1L2FZB_ihzv"
      },
      "execution_count": null,
      "outputs": []
    },
    {
      "cell_type": "code",
      "source": [
        "%%R\n",
        "DeltaX_s_fwind=DeltaX_s[,sum(n_if[1:3],1):sum(n_if[1:4])]  #PASO CLAVE\n",
        "x0_fwind=X_futind[1,] #PASO CLAVE\n",
        "\n",
        "for (i in 1:Ns)\n",
        "{\n",
        "  X_s_fwind[i,]=x0_fwind* exp(DeltaX_s_fwind[i,])\n",
        "  Vfr1_fwind[i,]=futuroTC(plazos_fwd_ind,X_s_fwind[i,1:(n_if[4]/3)],x0_fwind[(n_if[4]/3+1):(n_if[4]*2/3)],x0_fwind[(n_if[4]*2/3+1):n_if[4]],kst_fwd_ind)*contratos_fwd_ind*nominal_fwd_ind \n",
        "  Vfr2_fwind[i,]=futuroTC(plazos_fwd_ind,x0_fwind[1:(n_if[4]/3)],X_s_fwind[i,(n_if[4]/3+1):(n_if[4]*2/3)],x0_fwind[(n_if[4]*2/3+1):n_if[4]],kst_fwd_ind)*contratos_fwd_ind*nominal_fwd_ind \n",
        "  Vfr3_fwind[i,]=futuroTC(plazos_fwd_ind,x0_fwind[1:(n_if[4]/3)],x0_fwind[(n_if[4]/3+1):(n_if[4]*2/3)],X_s_fwind[i,(n_if[4]*2/3+1):n_if[4]],kst_fwd_ind)*contratos_fwd_ind*nominal_fwd_ind \n",
        " \n",
        "  PGfr1T_fwind[i,]=Vfr1_fwind[i,]-V0_fwind\n",
        "  PGfr2T_fwind[i,]=Vfr2_fwind[i,]-V0_fwind\n",
        "  PGfr3T_fwind[i,]=Vfr3_fwind[i,]-V0_fwind\n",
        "  PGT_fwind[i,] = PGfr1T_fwind[i,]+PGfr2T_fwind[i,]+PGfr3T_fwind[i,]\n",
        "}"
      ],
      "metadata": {
        "id": "e2RFxwQiim_8"
      },
      "execution_count": null,
      "outputs": []
    },
    {
      "cell_type": "code",
      "source": [
        "%%R\n",
        "PG_find = cbind(PGT_fwind,PGfr2T_fwind,PGfr3T_fwind)\n",
        "colnames(PG_find) = c(\"Total\",\"Tasa Guver\",\"IPC\")\n",
        "\n",
        "print(\"Perdidas/Ganancias por factor de riesgo\")\n",
        "print(head(PG_find))"
      ],
      "metadata": {
        "colab": {
          "base_uri": "https://localhost:8080/"
        },
        "id": "_33uSwAWkZ0r",
        "outputId": "6cd837bb-b5ca-4fcb-e7ff-521d41e72b14"
      },
      "execution_count": null,
      "outputs": [
        {
          "output_type": "stream",
          "name": "stdout",
          "text": [
            "[1] \"Perdidas/Ganancias por factor de riesgo\"\n",
            "         Total Tasa Guver       IPC\n",
            "[1,]  14818.02   85.07877  14732.94\n",
            "[2,] -21353.19    0.00000 -21353.19\n",
            "[3,] -12416.47  123.15860 -12539.63\n",
            "[4,]  19726.17   40.98793  19685.18\n",
            "[5,] -34163.14    0.00000 -34163.14\n",
            "[6,]  28200.67 -236.49715  28437.17\n"
          ]
        }
      ]
    },
    {
      "cell_type": "markdown",
      "source": [
        "#### VaR y CVaR"
      ],
      "metadata": {
        "id": "rhfpCNjeaVRG"
      }
    },
    {
      "cell_type": "code",
      "source": [
        "%%R\n",
        "w0=1-alpha\n",
        "lambda =uniroot(function(x) w0*(1-x^(Ns))/(1-x)-1, c(0,0.99), tol = 1e-28)$root\n",
        "\n",
        "p_esc=genera_esc(lambda,w0,Ns)"
      ],
      "metadata": {
        "id": "jylW16l_k4Xd"
      },
      "execution_count": null,
      "outputs": []
    },
    {
      "cell_type": "code",
      "source": [
        "%%R\n",
        "VaRTotal_find=equantile(PGT_fwind,1-alpha,Ns)\n",
        "VaRTotalfr1_find=equantile(PGfr1T_fwind,1-alpha,Ns)\n",
        "VaRTotalfr2_find=equantile(PGfr2T_fwind,1-alpha,Ns)\n",
        "VaRTotalfr3_find=equantile(PGfr3T_fwind,1-alpha,Ns)\n",
        "\n",
        "CVaRTotal_find= mean(merge(which(PGT_fwind<VaRTotal_find),cbind(seq(1,Ns),PGT_fwind), by.x=1,by.y=1)[,2])\n",
        "CVaRTotalfr1_find= mean(PGfr1T_fwind[which(PGfr1T_fwind<VaRTotalfr1_find),])\n",
        "CVaRTotalfr2_find= mean(PGfr2T_fwind[which(PGfr2T_fwind<VaRTotalfr2_find),])\n",
        "CVaRTotalfr3_find= mean(PGfr3T_fwind[which(PGfr3T_fwind<VaRTotalfr3_find),])\n",
        "\n",
        "VaRTotal_CA_find=wquantile(PGT_fwind,p_esc, 1-alpha)\n",
        "VaRTotalfr1_CA_find=wquantile(PGfr1T_fwind,p_esc, 1-alpha)\n",
        "VaRTotalfr2_CA_find=wquantile(PGfr2T_fwind,p_esc, 1-alpha)\n",
        "VaRTotalfr3_CA_find=wquantile(PGfr3T_fwind,p_esc, 1-alpha)\n",
        "\n",
        "CVaRTotal_CA_find= wcvar(PGT_fwind,p_esc, 1-alpha)\n",
        "CVaRTotalfr1_CA_find= wcvar(PGfr1T_fwind,p_esc, 1-alpha)\n",
        "CVaRTotalfr2_CA_find= wcvar(PGfr2T_fwind,p_esc, 1-alpha)\n",
        "CVaRTotalfr3_CA_find= wcvar(PGfr3T_fwind,p_esc, 1-alpha)"
      ],
      "metadata": {
        "id": "r9bAMz7ck5ld"
      },
      "execution_count": null,
      "outputs": []
    },
    {
      "cell_type": "markdown",
      "source": [
        "##### Valor en Riesgo"
      ],
      "metadata": {
        "id": "i1_bLOD_aVRH"
      }
    },
    {
      "cell_type": "code",
      "source": [
        "%%R\n",
        "VaRT_find = rbind(cbind(VaRTotal_find,VaRTotalfr2_find,VaRTotalfr3_find),\n",
        "                  cbind(VaRTotal_CA_find,VaRTotalfr2_CA_find,VaRTotalfr3_CA_find))\n",
        "colnames(VaRT_find)= c(\"Total\",\"Tasa Guver\",\"IPC\")\n",
        "rownames(VaRT_find)= c(\"Sin alisado\",\"Con alisado\")\n",
        "print(\"VaR total por factor de riesgo\")\n",
        "print(VaRT_find)"
      ],
      "metadata": {
        "colab": {
          "base_uri": "https://localhost:8080/"
        },
        "id": "lwkINvPilZgz",
        "outputId": "51f052b3-e180-41ed-c7ab-f6984c0f082d"
      },
      "execution_count": null,
      "outputs": [
        {
          "output_type": "stream",
          "name": "stdout",
          "text": [
            "[1] \"VaR total por factor de riesgo\"\n",
            "                Total Tasa Guver       IPC\n",
            "Sin alisado -48533.45  -713.0422 -48533.45\n",
            "Con alisado -56586.15  -407.6839 -56598.17\n"
          ]
        }
      ]
    },
    {
      "cell_type": "markdown",
      "source": [
        "##### Valor en Riesgo Condicional"
      ],
      "metadata": {
        "id": "pPmzIHGvaVRH"
      }
    },
    {
      "cell_type": "code",
      "source": [
        "%%R\n",
        "CVaRT_find = rbind(cbind(CVaRTotal_find,CVaRTotalfr2_find,CVaRTotalfr3_find),\n",
        "                  cbind(CVaRTotal_CA_find,CVaRTotalfr2_CA_find,CVaRTotalfr3_CA_find))\n",
        "colnames(CVaRT_find)= c(\"Total\",\"Tasa Guver\",\"IPC\")\n",
        "rownames(CVaRT_find)= c(\"Sin alisado\",\"Con alisado\")\n",
        "print(\"CVaR total por factor de riesgo\")\n",
        "print(CVaRT_find)"
      ],
      "metadata": {
        "colab": {
          "base_uri": "https://localhost:8080/"
        },
        "id": "AHg5wa7mmFGa",
        "outputId": "5f0bbd85-5aa4-40d4-a578-f8eb403d6f8b"
      },
      "execution_count": null,
      "outputs": [
        {
          "output_type": "stream",
          "name": "stdout",
          "text": [
            "[1] \"CVaR total por factor de riesgo\"\n",
            "                Total Tasa Guver       IPC\n",
            "Sin alisado -54158.33  -812.8563 -54038.47\n",
            "Con alisado -59830.00  -487.0099 -59745.58\n"
          ]
        }
      ]
    },
    {
      "cell_type": "markdown",
      "source": [
        "## Swap's"
      ],
      "metadata": {
        "id": "J59yuWU05uL-"
      }
    },
    {
      "cell_type": "markdown",
      "source": [
        "### Perdidas y Ganacias"
      ],
      "metadata": {
        "id": "1M9i_ZnMFxxK"
      }
    },
    {
      "cell_type": "code",
      "source": [
        "%%R\n",
        "m=ncol(N)    #PASO CLAVE\n",
        "X_s_sw=matrix(0,Ns,n_if[5]) #Factores de riesgo simulados con base en DeltaX_s x0*(1+Delta_Xs)   #PASO CLAVE\n",
        "V_sw=matrix(0,Ns,m)\n",
        "Vfr1_sw=matrix(0,Ns,m)#descuento\n",
        "Vfr2_sw=matrix(0,Ns,m)#cupon\n",
        "PG_sw=matrix(0,Ns,m) #Pèrdidas y ganancias\n",
        "PGfr1_sw=matrix(0,Ns,m)\n",
        "PGfr2_sw=matrix(0,Ns,m)\n",
        "PGT_sw=matrix(0,Ns,1)\n",
        "PGfr1T_sw=matrix(0,Ns,1)\n",
        "PGfr2T_sw=matrix(0,Ns,1)"
      ],
      "metadata": {
        "id": "0ZBCQbwbh8cc"
      },
      "execution_count": null,
      "outputs": []
    },
    {
      "cell_type": "code",
      "source": [
        "%%R\n",
        "DeltaX_s_sw=DeltaX_s[,sum(n_if[1:4],1):sum(n_if[1:5])]  #PASO CLAVE\n",
        "x0_sw=X_sw[1,]  #PASO CLAVE\n",
        "\n",
        "for (i in 1:Ns)\n",
        "{\n",
        "  X_s_sw[i,]=x0_sw*exp(DeltaX_s_sw[i,])\n",
        "  Vfr1_sw[i,]=swap(por_swT, contratos_swT, nominal_swT,X_s_sw[i,1:(n_if[5]/2)], tasafija_swT, plazocupon_swT, VTplazos_sw, Xvp[1,],N)\n",
        "  Vfr2_sw[i,]=swap(por_swT, contratos_swT, nominal_swT,  XtfwdT[1,], tasafija_swT, plazocupon_swT, VTplazos_sw, X_s_sw[i,(n_if[5]/2+1):(n_if[5])],N)\n",
        "\n",
        "  PGfr1_sw[i,]=Vfr1_sw[i,]-V0_sw\n",
        "  PGfr2_sw[i,]=Vfr2_sw[i,]-V0_sw\n",
        "  PG_sw[i,]= PGfr1_sw[i,] +PGfr2_sw[i,]\n",
        " \n",
        "  PGfr1T_sw[i,]=sum(PGfr1_sw[i,])\n",
        "  PGfr2T_sw[i,]=sum(PGfr2_sw[i,])\n",
        "  PGT_sw[i,]=PGfr1T_sw[i,] +PGfr2T_sw[i,]\n",
        "}"
      ],
      "metadata": {
        "id": "Oqk4dMuniBnR"
      },
      "execution_count": null,
      "outputs": []
    },
    {
      "cell_type": "code",
      "source": [
        "%%R\n",
        "PG_swaps = cbind(cbind(PG_sw[,1],PGfr1_sw[,1],PGfr2_sw[,1]),\n",
        "                 cbind(PG_sw[,2],PGfr1_sw[,2],PGfr2_sw[,2]))\n",
        "colnames(PG_swaps) = c(\"Total\",\"Descuento\",\"Cupon\",\n",
        "                       \"Total\",\"Descuento\",\"Cupon\")\n",
        "\n",
        "print(\"Perdidas/Ganancias por factor de riesgo del Swap Largo\")\n",
        "print(head(PG_swaps[,1:3]))\n",
        "print(\"Perdidas/Ganancias por factor de riesgo del Swap Corto\")\n",
        "print(head(PG_swaps[,4:6]))\n",
        "\n",
        "PGT_swaps = cbind(PGT_sw,PGfr1T_sw,PGfr2T_sw)\n",
        "colnames(PGT_swaps) = c(\"Total\",\"Descuento\",\"Cupon\")\n",
        "\n",
        "print(\"Perdidas/Ganancias por factor de riesgo de ambos Swap's\")\n",
        "print(head(PGT_swaps))"
      ],
      "metadata": {
        "colab": {
          "base_uri": "https://localhost:8080/"
        },
        "id": "nXUbLwhZtVdW",
        "outputId": "8f9879a5-9eb0-4c7d-8553-b0d6f931c1d1"
      },
      "execution_count": null,
      "outputs": [
        {
          "output_type": "stream",
          "name": "stdout",
          "text": [
            "[1] \"Perdidas/Ganancias por factor de riesgo del Swap Largo\"\n",
            "         Total Descuento      Cupon\n",
            "[1,]  6001.698  5981.068  20.630015\n",
            "[2,] -8555.502 -8532.036 -23.465816\n",
            "[3,]  5975.708  5957.308  18.399675\n",
            "[4,]  7783.750  7791.472  -7.722755\n",
            "[5,] -5241.648 -5244.921   3.272886\n",
            "[6,]  8015.198  8011.229   3.969290\n",
            "[1] \"Perdidas/Ganancias por factor de riesgo del Swap Corto\"\n",
            "          Total  Descuento      Cupon\n",
            "[1,]  1081.3376  1091.3818 -10.044139\n",
            "[2,]  -738.6132  -749.1694  10.556173\n",
            "[3,]  1049.1986  1056.1719  -6.973299\n",
            "[4,] -1122.0735 -1125.9787   3.905174\n",
            "[5,]   481.2211   482.8943  -1.673209\n",
            "[6,]   892.8434   896.7854  -3.942024\n",
            "[1] \"Perdidas/Ganancias por factor de riesgo de ambos Swap's\"\n",
            "         Total Descuento        Cupon\n",
            "[1,]  7083.035  7072.450  10.58587622\n",
            "[2,] -9294.115 -9281.206 -12.90964305\n",
            "[3,]  7024.907  7013.480  11.42637652\n",
            "[4,]  6661.676  6665.494  -3.81758187\n",
            "[5,] -4760.427 -4762.026   1.59967692\n",
            "[6,]  8908.042  8908.014   0.02726654\n"
          ]
        }
      ]
    },
    {
      "cell_type": "markdown",
      "source": [
        "### VaR y CVaR"
      ],
      "metadata": {
        "id": "XodHVE5yFxxL"
      }
    },
    {
      "cell_type": "code",
      "source": [
        "%%R\n",
        "w0=1-alpha\n",
        "lambda =uniroot(function(x) w0*(1-x^(Ns))/(1-x)-1, c(0,0.99), tol = 1e-28)$root\n",
        "\n",
        "p_esc=genera_esc(lambda,w0,Ns)\n",
        "print(\"Pesos para el Alisado\")\n",
        "print(head(p_esc))\n",
        "print(tail(p_esc))\n",
        "print(\"Validación de los pesos\")\n",
        "sum(p_esc) #validamos que sume 1"
      ],
      "metadata": {
        "colab": {
          "base_uri": "https://localhost:8080/"
        },
        "id": "jbL4qfy2yXyG",
        "outputId": "b5723914-4884-47f1-d7ac-a38a887e0ad3"
      },
      "execution_count": null,
      "outputs": [
        {
          "output_type": "stream",
          "name": "stdout",
          "text": [
            "[1] \"Pesos para el Alisado\"\n",
            "           [,1]\n",
            "[1,] 0.02000000\n",
            "[2,] 0.01960254\n",
            "[3,] 0.01921298\n",
            "[4,] 0.01883117\n",
            "[5,] 0.01845694\n",
            "[6,] 0.01809014\n",
            "               [,1]\n",
            "[247,] 0.0001433842\n",
            "[248,] 0.0001405348\n",
            "[249,] 0.0001377419\n",
            "[250,] 0.0001350046\n",
            "[251,] 0.0001323217\n",
            "[252,] 0.0001296921\n",
            "[1] \"Validación de los pesos\"\n",
            "[1] 1\n"
          ]
        }
      ]
    },
    {
      "cell_type": "code",
      "source": [
        "%%R\n",
        "VaRCont_sw=matrix(0,1,m)\n",
        "VaRfr1_sw=matrix(0,1,m)\n",
        "VaRfr2_sw=matrix(0,1,m)\n",
        "\n",
        "CVaRCont_sw=matrix(0,1,m)\n",
        "CVaRfr1_sw=matrix(0,1,m)\n",
        "CVaRfr2_sw=matrix(0,1,m)\n",
        "\n",
        "VaRCont_CA_sw=matrix(0,1,m)\n",
        "VaRfr1_CA_sw=matrix(0,1,m)\n",
        "VaRfr2_CA_sw=matrix(0,1,m)\n",
        "\n",
        "CVaRCont_CA_sw=matrix(0,1,m)\n",
        "CVaRfr1_CA_sw=matrix(0,1,m)\n",
        "CVaRfr2_CA_sw=matrix(0,1,m)"
      ],
      "metadata": {
        "id": "pa6HDlNAyfdx"
      },
      "execution_count": null,
      "outputs": []
    },
    {
      "cell_type": "code",
      "source": [
        "%%R\n",
        "for (i in (1:m)){\n",
        "  VaRCont_sw[i]=equantile(PG_sw[,i],1-alpha,Ns)\n",
        "  VaRfr1_sw[i]=equantile(PGfr1_sw[,i],1-alpha,Ns)\n",
        "  VaRfr2_sw[i]=equantile(PGfr2_sw[,i],1-alpha,Ns)\n",
        "\n",
        "  CVaRCont_sw[i]= mean(merge(which(PG_sw[,i]<VaRCont_sw[i]),cbind(seq(1,Ns),PG_sw[,i]), by.x=1,by.y=1)[,2])\n",
        "  CVaRfr1_sw[i]= mean(merge(which(PGfr1_sw[,i]<VaRfr1_sw[i]),cbind(seq(1,Ns),PGfr1_sw[,i]), by.x=1,by.y=1)[,2])\n",
        "  CVaRfr2_sw[i]= mean(merge(which(PGfr2_sw[,i]<VaRfr2_sw[i]),cbind(seq(1,Ns),PGfr2_sw[,i]), by.x=1,by.y=1)[,2])\n",
        "  \n",
        "  VaRCont_CA_sw[i]=wquantile(PG_sw[,i],p_esc, 1-alpha)\n",
        "  VaRfr1_CA_sw[i]=wquantile(PGfr1_sw[,i],p_esc, 1-alpha)\n",
        "  VaRfr2_CA_sw[i]=wquantile(PGfr2_sw[,i],p_esc, 1-alpha)\n",
        "  \n",
        "  CVaRCont_CA_sw[i]= wcvar(PG_sw[,i],p_esc, 1-alpha)\n",
        "  CVaRfr1_CA_sw[i]= wcvar(PGfr1_sw[,i],p_esc, 1-alpha)\n",
        "  CVaRfr2_CA_sw[i]= wcvar(PGfr2_sw[,i],p_esc, 1-alpha)\n",
        "}\n",
        "\n",
        "VaRTotal_sw=equantile(PGT_sw,1-alpha,Ns)\n",
        "VaRTotalfr1_sw=equantile(PGfr1T_sw,1-alpha,Ns)\n",
        "VaRTotalfr2_sw=equantile(PGfr2T_sw,1-alpha,Ns)\n",
        "\n",
        "CVaRTotal_sw= mean(merge(which(PGT_sw<VaRTotal_sw),cbind(seq(1,Ns),PGT_sw), by.x=1,by.y=1)[,2])\n",
        "CVaRTotalfr1_sw= mean(PGfr1T_sw[which(PGfr1T_sw<VaRTotalfr1_sw),])\n",
        "CVaRTotalfr2_sw= mean(PGfr2T_sw[which(PGfr2T_sw<VaRTotalfr2_sw),])\n",
        "\n",
        "VaRTotal_CA_sw=wquantile(PGT_sw,p_esc, 1-alpha)\n",
        "VaRTotalfr1_CA_sw=wquantile(PGfr1T_sw,p_esc, 1-alpha)\n",
        "VaRTotalfr2_CA_sw=wquantile(PGfr2T_sw,p_esc, 1-alpha)\n",
        "\n",
        "CVaRTotal_CA_sw= wcvar(PGT_sw,p_esc, 1-alpha)\n",
        "CVaRTotalfr1_CA_sw= wcvar(PGfr1T_sw,p_esc, 1-alpha)\n",
        "CVaRTotalfr2_CA_sw= wcvar(PGfr2T_sw,p_esc, 1-alpha)"
      ],
      "metadata": {
        "id": "aA9OnTkxylty"
      },
      "execution_count": null,
      "outputs": []
    },
    {
      "cell_type": "markdown",
      "source": [
        "#### Valor en Riesgo"
      ],
      "metadata": {
        "id": "Zlw6q91qFxxL"
      }
    },
    {
      "cell_type": "code",
      "source": [
        "%%R\n",
        "VaR_swaps = rbind(cbind(cbind(VaRCont_sw[,1],VaRfr1_sw[,1],VaRfr2_sw[,1]),\n",
        "                           cbind(VaRCont_sw[,2],VaRfr1_sw[,2],VaRfr2_sw[,2])),\n",
        "                     cbind(cbind(VaRCont_CA_sw[,1],VaRfr1_CA_sw[,1],VaRfr2_CA_sw[,1]),\n",
        "                           cbind(VaRCont_CA_sw[,2],VaRfr1_CA_sw[,2],VaRfr2_CA_sw[,2])))\n",
        "\n",
        "colnames(VaR_swaps) = c(\"Total\",\"Descuento\",\"Cuppn\",\n",
        "                           \"Total\",\"Descuento\",\"Cupon\")\n",
        "rownames(VaR_swaps) = c(\"Sin alisado\",\"Con alisado\")\n",
        "\n",
        "print(\"VaR por factor de riesgo del Swap Largo\")\n",
        "print(VaR_swaps[,1:3])\n",
        "print(\"VaR por factor de riesgo del Swap Corto\")\n",
        "print(VaR_swaps[,4:6])\n",
        "\n",
        "VaRT_swaps = rbind(cbind(VaRTotal_sw,VaRTotalfr1_sw,VaRTotalfr2_sw),\n",
        "                   cbind(VaRTotal_CA_sw,VaRTotalfr1_CA_sw,VaRTotalfr2_CA_sw))\n",
        "\n",
        "colnames(VaRT_swaps) = c(\"Total\",\"Descuento\",\"Cupon\")\n",
        "rownames(VaRT_swaps) = c(\"Sin alisado\",\"Con alisado\")\n",
        "\n",
        "print(\"VaR Total por factor de riesgo\")\n",
        "print(VaRT_swaps)"
      ],
      "metadata": {
        "colab": {
          "base_uri": "https://localhost:8080/"
        },
        "id": "F4-_U7pS1PZk",
        "outputId": "58706834-5477-4fca-eeda-8bacbe567746"
      },
      "execution_count": null,
      "outputs": [
        {
          "output_type": "stream",
          "name": "stdout",
          "text": [
            "[1] \"VaR por factor de riesgo del Swap Largo\"\n",
            "                Total Descuento     Cuppn\n",
            "Sin alisado -33313.64 -33229.87 -75.95218\n",
            "Con alisado -18799.54 -18808.31 -41.93137\n",
            "[1] \"VaR por factor de riesgo del Swap Corto\"\n",
            "                Total Descuento      Cupon\n",
            "Sin alisado -9229.461 -9262.860  -92.45431\n",
            "Con alisado -4606.768 -4633.583 -134.79707\n",
            "[1] \"VaR Total por factor de riesgo\"\n",
            "                Total Descuento     Cupon\n",
            "Sin alisado -45447.07 -45395.41 -51.66569\n",
            "Con alisado -22211.71 -22207.68 -36.80440\n"
          ]
        }
      ]
    },
    {
      "cell_type": "markdown",
      "source": [
        "#### Valor en Riesgo Condicional"
      ],
      "metadata": {
        "id": "0w1_vL57FxxL"
      }
    },
    {
      "cell_type": "code",
      "source": [
        "%%R\n",
        "CVaR_swaps = rbind(cbind(cbind(CVaRCont_sw[,1],CVaRfr1_sw[,1],CVaRfr2_sw[,1]),\n",
        "                           cbind(CVaRCont_sw[,2],CVaRfr1_sw[,2],CVaRfr2_sw[,2])),\n",
        "                     cbind(cbind(CVaRCont_CA_sw[,1],CVaRfr1_CA_sw[,1],CVaRfr2_CA_sw[,1]),\n",
        "                           cbind(CVaRCont_CA_sw[,2],CVaRfr1_CA_sw[,2],CVaRfr2_CA_sw[,2])))\n",
        "\n",
        "colnames(CVaR_swaps) = c(\"Total\",\"Descuento\",\"Cuppn\",\n",
        "                           \"Total\",\"Descuento\",\"Cupon\")\n",
        "rownames(CVaR_swaps) = c(\"Sin alisado\",\"Con alisado\")\n",
        "\n",
        "print(\"CVaR por factor de riesgo del Swap Largo\")\n",
        "print(CVaR_swaps[,1:3])\n",
        "print(\"CVaR por factor de riesgo del Swap Corto\")\n",
        "print(CVaR_swaps[,4:6])\n",
        "\n",
        "CVaRT_swaps = rbind(cbind(CVaRTotal_sw,CVaRTotalfr1_sw,CVaRTotalfr2_sw),\n",
        "                    cbind(CVaRTotal_CA_sw,CVaRTotalfr1_CA_sw,CVaRTotalfr2_CA_sw))\n",
        "\n",
        "colnames(CVaRT_swaps) = c(\"Total\",\"Descuento\",\"Cupon\")\n",
        "rownames(CVaRT_swaps) = c(\"Sin alisado\",\"Con alisado\")\n",
        "\n",
        "print(\"CVaR Total por factor de riesgo\")\n",
        "print(CVaRT_swaps)"
      ],
      "metadata": {
        "colab": {
          "base_uri": "https://localhost:8080/"
        },
        "id": "7QgP7MRf1W87",
        "outputId": "77135403-746d-4f10-c09c-561de277e6ad"
      },
      "execution_count": null,
      "outputs": [
        {
          "output_type": "stream",
          "name": "stdout",
          "text": [
            "[1] \"CVaR por factor de riesgo del Swap Largo\"\n",
            "                Total Descuento      Cuppn\n",
            "Sin alisado -49104.84 -49063.95 -140.06410\n",
            "Con alisado -26586.06 -26560.60  -67.76589\n",
            "[1] \"CVaR por factor de riesgo del Swap Corto\"\n",
            "                 Total  Descuento     Cupon\n",
            "Sin alisado -14699.832 -14724.094 -139.2222\n",
            "Con alisado  -7287.583  -7308.788 -170.8773\n",
            "[1] \"CVaR Total por factor de riesgo\"\n",
            "                Total Descuento     Cupon\n",
            "Sin alisado -61048.71 -61025.77 -89.57798\n",
            "Con alisado -31341.61 -31323.35 -50.49137\n"
          ]
        }
      ]
    },
    {
      "cell_type": "markdown",
      "source": [
        "## Opciones"
      ],
      "metadata": {
        "id": "KgRoLgtS5wRi"
      }
    },
    {
      "cell_type": "markdown",
      "source": [
        "### Perdidas y Ganancias"
      ],
      "metadata": {
        "id": "09bX8YMdF2oF"
      }
    },
    {
      "cell_type": "code",
      "source": [
        "%%R\n",
        "m=ncol(plazos_opc)  #PASO CLAVE\n",
        "\n",
        "X_s_opc=matrix(0,Ns,n_if[6]) #Factores de riesgo simulados con base en DeltaX_s x0*(1+Delta_Xs) #PASO CLAVE\n",
        "V_opc=matrix(0,Ns,m)\n",
        "Vfr1_opc=matrix(0,Ns,m)#Descuento\n",
        "Vfr2_opc=matrix(0,Ns,m)#Spot\n",
        "Vfr3_opc=matrix(0,Ns,m)#Volatilidad\n",
        "\n",
        "PG_opc=matrix(0,Ns,m) #Pèrdidas y ganancias\n",
        "PGfr1_opc=matrix(0,Ns,m)\n",
        "PGfr2_opc=matrix(0,Ns,m)\n",
        "PGfr3_opc=matrix(0,Ns,m)\n",
        "\n",
        "PGT_opc=matrix(0,Ns,1)\n",
        "PGfr1T_opc=matrix(0,Ns,1)\n",
        "PGfr2T_opc=matrix(0,Ns,1)\n",
        "PGfr3T_opc=matrix(0,Ns,1)"
      ],
      "metadata": {
        "id": "bsR7_GN36B10"
      },
      "execution_count": null,
      "outputs": []
    },
    {
      "cell_type": "code",
      "source": [
        "%%R\n",
        "DeltaX_s_opc=DeltaX_s[,sum(n_if[1:5],1):sum(n_if[1:6])]  #PASO CLAVE\n",
        "x0_opc=X_opc[1,] #PASO CLAVE\n",
        "\n",
        "for (i in 1:Ns)\n",
        "{\n",
        "  X_s_opc[i,]=x0_opc*exp(DeltaX_s_opc[i,])  \n",
        "  \n",
        "  Vfr1_opc[i,]=opctint(X_s_opc[i,(1:(n_if[6]/3))],x0_opc[((n_if[6]/3+1):(n_if[6]/3*2))],\n",
        "                       K_opc,x0_opc[((n_if[6]*2/3+1):(n_if[6]))],plazos_opc,cp_opc,cs_opc,pr_opc,\n",
        "                       dct_opc)*contratos_opc*nominal_opc #Valor del portafolio  \n",
        "  \n",
        "  \n",
        "  Vfr2_opc[i,]=opctint(x0_opc[(1:(n_if[6]/3))],X_s_opc[i,((n_if[6]/3+1):(n_if[6]/3*2))],\n",
        "                       K_opc,x0_opc[((n_if[6]*2/3+1):(n_if[6]))],plazos_opc,cp_opc,cs_opc,pr_opc,\n",
        "                       dct_opc)*contratos_opc*nominal_opc #Valor del portafolio  \n",
        "  \n",
        "  \n",
        "  Vfr3_opc[i,]=opctint(x0_opc[(1:(n_if[6]/3))],x0_opc[((n_if[6]/3+1):(n_if[6]/3*2))],\n",
        "                       K_opc,X_s_opc[i,((n_if[6]*2/3+1):(n_if[6]))],plazos_opc,cp_opc,cs_opc,pr_opc,\n",
        "                       dct_opc)*contratos_opc*nominal_opc #Valor del portafolio  \n",
        "  \n",
        "  \n",
        "  PGfr1_opc[i,]=Vfr1_opc[i,]-V0_opc\n",
        "  PGfr2_opc[i,]=Vfr2_opc[i,]-V0_opc\n",
        "  PGfr3_opc[i,]=Vfr3_opc[i,]-V0_opc\n",
        "  PG_opc[i,]=PGfr1_opc[i,]+PGfr2_opc[i,]+PGfr3_opc[i,]\n",
        " \n",
        "  PGfr1T_opc[i,]=sum(PGfr1_opc[i,])\n",
        "  PGfr2T_opc[i,]=sum(PGfr2_opc[i,])\n",
        "  PGfr3T_opc[i,]=sum(PGfr3_opc[i,])\n",
        "  PGT_opc[i,]=PGfr1T_opc[i,]+PGfr2T_opc[i,]+PGfr3T_opc[i,]\n",
        "}"
      ],
      "metadata": {
        "id": "cHHHZX9-6hbu"
      },
      "execution_count": null,
      "outputs": []
    },
    {
      "cell_type": "code",
      "source": [
        "%%R\n",
        "PG_opciones = cbind(cbind(PG_opc[,1],PGfr1_opc[,1],PGfr2_opc[,1],PGfr3_opc[,1]),\n",
        "      cbind(PG_opc[,2],PGfr1_opc[,2],PGfr2_opc[,2],PGfr3_opc[,2]))\n",
        "colnames(PG_opciones) = c(\"Total\",\"Descuento\",\"Spot\",\"Volatilidad\",\n",
        "                          \"Total\",\"Descuento\",\"Spot\",\"Volatilidad\")\n",
        "\n",
        "print(\"Perdidas/Ganancias de la Opcion Call Larga\")\n",
        "print(head(PG_opciones[,1:4]))\n",
        "\n",
        "print(\"Perdidas/Ganancias de la Opcion Put Larga\")\n",
        "print(head(PG_opciones[,5:8]))\n",
        "\n",
        "PGT_opciones = cbind(PGT_opc,PGfr1T_opc,PGfr2T_opc,PGfr3T_opc)\n",
        "colnames(PGT_opciones) = c(\"Total\",\"Descuento\",\"Spot\",\"Volatilidad\")\n",
        "\n",
        "print(\"Perdidas/Ganancias de ambas Opciones\")\n",
        "print(head(PGT_opciones))"
      ],
      "metadata": {
        "colab": {
          "base_uri": "https://localhost:8080/"
        },
        "id": "hhiskyV_66qP",
        "outputId": "4cd26416-38a0-4786-a6a8-1c4475c3e7d0"
      },
      "execution_count": null,
      "outputs": [
        {
          "output_type": "stream",
          "name": "stdout",
          "text": [
            "[1] \"Perdidas/Ganancias de la Opcion Call Larga\"\n",
            "            Total     Descuento         Spot  Volatilidad\n",
            "[1,]  0.004664340 -0.0007585051  0.005422845  0.000000000\n",
            "[2,]  0.026460623  0.0009932316  0.025467391  0.000000000\n",
            "[3,] -0.033389035 -0.0001334488 -0.029654899 -0.003600687\n",
            "[4,] -0.008176296  0.0004237505 -0.008600046  0.000000000\n",
            "[5,] -0.038124154 -0.0004260798 -0.037698075  0.000000000\n",
            "[6,] -0.023962427  0.0002320849 -0.024194512  0.000000000\n",
            "[1] \"Perdidas/Ganancias de la Opcion Put Larga\"\n",
            "            Total     Descuento          Spot   Volatilidad\n",
            "[1,] -0.009512355 -1.884984e-04 -0.0093238567  0.000000e+00\n",
            "[2,]  0.001180598  2.317466e-04  0.0009488512  0.000000e+00\n",
            "[3,] -0.032729463 -1.848473e-04 -0.0095721221 -2.297249e-02\n",
            "[4,] -0.007705522  7.113734e-05 -0.0074242809 -3.523780e-04\n",
            "[5,]  0.001818141 -2.987308e-05  0.0021671615 -3.191472e-04\n",
            "[6,] -0.007975981 -2.220466e-05 -0.0079047475 -4.902871e-05\n",
            "[1] \"Perdidas/Ganancias de ambas Opciones\"\n",
            "            Total     Descuento         Spot   Volatilidad\n",
            "[1,] -0.004848015 -0.0009470035 -0.003901011  0.000000e+00\n",
            "[2,]  0.027641220  0.0012249782  0.026416242  0.000000e+00\n",
            "[3,] -0.066118498 -0.0003182961 -0.039227021 -2.657318e-02\n",
            "[4,] -0.015881817  0.0004948879 -0.016024327 -3.523780e-04\n",
            "[5,] -0.036306013 -0.0004559529 -0.035530913 -3.191472e-04\n",
            "[6,] -0.031938408  0.0002098802 -0.032099259 -4.902871e-05\n"
          ]
        }
      ]
    },
    {
      "cell_type": "markdown",
      "source": [
        "### VaR y CVaR"
      ],
      "metadata": {
        "id": "EUxbPs9rF6an"
      }
    },
    {
      "cell_type": "code",
      "source": [
        "%%R\n",
        "w0=1-alpha\n",
        "lambda =uniroot(function(x) w0*(1-x^(Ns))/(1-x)-1, c(0,0.99), tol = 1e-28)$root\n",
        "\n",
        "p_esc=genera_esc(lambda,w0,Ns)\n",
        "print(\"Pesos para el Alisado\")\n",
        "print(head(p_esc))\n",
        "print(tail(p_esc))\n",
        "print(\"Validación de los pesos\")\n",
        "sum(p_esc) #validamos que sume 1"
      ],
      "metadata": {
        "colab": {
          "base_uri": "https://localhost:8080/"
        },
        "id": "k3fhGpODGj0G",
        "outputId": "6cd48944-d198-4874-ddcb-25491c5df808"
      },
      "execution_count": null,
      "outputs": [
        {
          "output_type": "stream",
          "name": "stdout",
          "text": [
            "[1] \"Pesos para el Alisado\"\n",
            "           [,1]\n",
            "[1,] 0.02000000\n",
            "[2,] 0.01960254\n",
            "[3,] 0.01921298\n",
            "[4,] 0.01883117\n",
            "[5,] 0.01845694\n",
            "[6,] 0.01809014\n",
            "               [,1]\n",
            "[247,] 0.0001433842\n",
            "[248,] 0.0001405348\n",
            "[249,] 0.0001377419\n",
            "[250,] 0.0001350046\n",
            "[251,] 0.0001323217\n",
            "[252,] 0.0001296921\n",
            "[1] \"Validación de los pesos\"\n",
            "[1] 1\n"
          ]
        }
      ]
    },
    {
      "cell_type": "code",
      "source": [
        "%%R\n",
        "#VaR por posición\n",
        "VaRCont_opc=matrix(0,1,m)\n",
        "VaRfr1_opc=matrix(0,1,m)\n",
        "VaRfr2_opc=matrix(0,1,m)\n",
        "VaRfr3_opc=matrix(0,1,m)\n",
        "\n",
        "CVaRCont_opc=matrix(0,1,m)\n",
        "CVaRfr1_opc=matrix(0,1,m)\n",
        "CVaRfr2_opc=matrix(0,1,m)\n",
        "CVaRfr3_opc=matrix(0,1,m)\n",
        "\n",
        "VaRCont_CA_opc=matrix(0,1,m)\n",
        "VaRfr1_CA_opc=matrix(0,1,m)\n",
        "VaRfr2_CA_opc=matrix(0,1,m)\n",
        "VaRfr3_CA_opc=matrix(0,1,m)\n",
        "\n",
        "CVaRCont_CA_opc=matrix(0,1,m)\n",
        "CVaRfr1_CA_opc=matrix(0,1,m)\n",
        "CVaRfr2_CA_opc=matrix(0,1,m)\n",
        "CVaRfr3_CA_opc=matrix(0,1,m)"
      ],
      "metadata": {
        "id": "RzL1VxR1F_4y"
      },
      "execution_count": null,
      "outputs": []
    },
    {
      "cell_type": "code",
      "source": [
        "%%R\n",
        "for (i in (1:m)){\n",
        "  VaRCont_opc[i]=equantile(PG_opc[,i],1-alpha,Ns)\n",
        "  VaRfr1_opc[i]=equantile(PGfr1_opc[,i],1-alpha,Ns)\n",
        "  VaRfr2_opc[i]=equantile(PGfr2_opc[,i],1-alpha,Ns)\n",
        "  VaRfr3_opc[i]=equantile(PGfr3_opc[,i],1-alpha,Ns)\n",
        "\n",
        "  CVaRCont_opc[i]= mean(merge(which(PG_opc[,i]<VaRCont_opc[i]),cbind(seq(1,Ns),PG_opc[,i]), by.x=1,by.y=1)[,2])\n",
        "  CVaRfr1_opc[i]= mean(merge(which(PGfr1_opc[,i]<VaRfr1_opc[i]),cbind(seq(1,Ns),PGfr1_opc[,i]), by.x=1,by.y=1)[,2])\n",
        "  CVaRfr2_opc[i]= mean(merge(which(PGfr2_opc[,i]<VaRfr2_opc[i]),cbind(seq(1,Ns),PGfr2_opc[,i]), by.x=1,by.y=1)[,2])\n",
        "  CVaRfr3_opc[i]= mean(merge(which(PGfr3_opc[,i]<VaRfr3_opc[i]),cbind(seq(1,Ns),PGfr3_opc[,i]), by.x=1,by.y=1)[,2])\n",
        "  \n",
        "  VaRCont_CA_opc[i]=wquantile(PG_opc[,i],p_esc, 1-alpha)\n",
        "  VaRfr1_CA_opc[i]=wquantile(PGfr1_opc[,i],p_esc, 1-alpha)\n",
        "  VaRfr2_CA_opc[i]=wquantile(PGfr2_opc[,i],p_esc, 1-alpha)\n",
        "  VaRfr3_CA_opc[i]=wquantile(PGfr3_opc[,i],p_esc, 1-alpha)\n",
        "  \n",
        "  CVaRCont_CA_opc[i]= wcvar(PG_opc[,i],p_esc, 1-alpha)\n",
        "  CVaRfr1_CA_opc[i]= wcvar(PGfr1_opc[,i],p_esc, 1-alpha)\n",
        "  CVaRfr2_CA_opc[i]= wcvar(PGfr2_opc[,i],p_esc, 1-alpha)\n",
        "  CVaRfr3_CA_opc[i]= wcvar(PGfr3_opc[,i],p_esc, 1-alpha)\n",
        "}\n",
        "\n",
        "VaRTotal_opc=equantile(PGT_opc,1-alpha,Ns)\n",
        "VaRTotalfr1_opc=equantile(PGfr1T_opc,1-alpha,Ns)\n",
        "VaRTotalfr2_opc=equantile(PGfr2T_opc,1-alpha,Ns)\n",
        "VaRTotalfr3_opc=equantile(PGfr3T_opc,1-alpha,Ns)\n",
        "\n",
        "CVaRTotal_opc= mean(merge(which(PGT_opc<VaRTotal_opc),cbind(seq(1,Ns),PGT_opc), by.x=1,by.y=1)[,2])\n",
        "CVaRTotalfr1_opc= mean(PGfr1T_opc[which(PGfr1T_opc<VaRTotalfr1_opc),])\n",
        "CVaRTotalfr2_opc= mean(PGfr2T_opc[which(PGfr2T_opc<VaRTotalfr2_opc),])\n",
        "CVaRTotalfr3_opc= mean(PGfr3T_opc[which(PGfr3T_opc<VaRTotalfr3_opc),])\n",
        "\n",
        "VaRTotal_CA_opc=wquantile(PGT_opc,p_esc, 1-alpha)\n",
        "VaRTotalfr1_CA_opc=wquantile(PGfr1T_opc,p_esc, 1-alpha)\n",
        "VaRTotalfr2_CA_opc=wquantile(PGfr2T_opc,p_esc, 1-alpha)\n",
        "VaRTotalfr3_CA_opc=wquantile(PGfr3T_opc,p_esc, 1-alpha)\n",
        "\n",
        "CVaRTotal_CA_opc= wcvar(PGT_opc,p_esc, 1-alpha)\n",
        "CVaRTotalfr1_CA_opc= wcvar(PGfr1T_opc,p_esc, 1-alpha)\n",
        "CVaRTotalfr2_CA_opc= wcvar(PGfr2T_opc,p_esc, 1-alpha)\n",
        "CVaRTotalfr3_CA_opc= wcvar(PGfr3T_opc,p_esc, 1-alpha)"
      ],
      "metadata": {
        "id": "RLHfG3jIG0OL"
      },
      "execution_count": null,
      "outputs": []
    },
    {
      "cell_type": "markdown",
      "source": [
        "#### Valor en Riesgo"
      ],
      "metadata": {
        "id": "vSAT5jMcQKGE"
      }
    },
    {
      "cell_type": "code",
      "source": [
        "%%R\n",
        "VaR_opciones = rbind(cbind(cbind(VaRCont_opc[,1],VaRfr1_opc[,1],VaRfr2_opc[,1],VaRfr3_opc[,1]),\n",
        "                           cbind(VaRCont_opc[,2],VaRfr1_opc[,2],VaRfr2_opc[,2],VaRfr3_opc[,2])),\n",
        "                     cbind(cbind(VaRCont_CA_opc[,1],VaRfr1_CA_opc[,1],VaRfr2_CA_opc[,1],VaRfr3_CA_opc[,1]),\n",
        "                           cbind(VaRCont_CA_opc[,2],VaRfr1_CA_opc[,2],VaRfr2_CA_opc[,2],VaRfr3_CA_opc[,2])))\n",
        "\n",
        "colnames(VaR_opciones) = c(\"Total\",\"Descuento\",\"Spot\",\"Volatilidad\",\n",
        "                           \"Total\",\"Descuento\",\"Spot\",\"Volatilidad\")\n",
        "rownames(VaR_opciones) = c(\"Sin alisado\",\"Con alisado\")\n",
        "\n",
        "print(\"VaR por factor de riesgo de la Opcion Call Larga\")\n",
        "print(VaR_opciones[,1:4])\n",
        "print(\"VaR por factor de riesgo de la Opcion Put Larga\")\n",
        "print(VaR_opciones[,5:8])\n",
        "\n",
        "VaRT_opciones = rbind(cbind(VaRTotal_opc,VaRTotalfr1_opc,VaRTotalfr2_opc,VaRTotalfr3_opc),\n",
        "cbind(VaRTotal_CA_opc,VaRTotalfr1_CA_opc,VaRTotalfr2_CA_opc,VaRTotalfr3_CA_opc))\n",
        "\n",
        "colnames(VaRT_opciones) = c(\"Total\",\"Descuento\",\"Spot\",\"Volatilidad\")\n",
        "rownames(VaRT_opciones) = c(\"Sin alisado\",\"Con alisado\")\n",
        "\n",
        "print(\"VaR Total por factor de riesgo\")\n",
        "print(VaRT_opciones)"
      ],
      "metadata": {
        "colab": {
          "base_uri": "https://localhost:8080/"
        },
        "id": "5GUrItWSQGGU",
        "outputId": "21dfdf50-0733-45bc-e8b3-dc3cf643849a"
      },
      "execution_count": null,
      "outputs": [
        {
          "output_type": "stream",
          "name": "stdout",
          "text": [
            "[1] \"VaR por factor de riesgo de la Opcion Call Larga\"\n",
            "                  Total    Descuento        Spot Volatilidad\n",
            "Sin alisado -0.10196399 -0.005327541 -0.08015717 -0.03510929\n",
            "Con alisado -0.05965828 -0.008526384 -0.06051118 -0.03510929\n",
            "[1] \"VaR por factor de riesgo de la Opcion Put Larga\"\n",
            "                  Total    Descuento        Spot Volatilidad\n",
            "Sin alisado -0.05155968 -0.001679613 -0.03470948 -0.03093173\n",
            "Con alisado -0.05003329 -0.002319850 -0.04774320 -0.02677947\n",
            "[1] \"VaR Total por factor de riesgo\"\n",
            "                 Total    Descuento        Spot Volatilidad\n",
            "Sin alisado -0.1120958 -0.007097615 -0.08971926 -0.05829906\n",
            "Con alisado -0.0661185 -0.010846234 -0.05432375 -0.04182118\n"
          ]
        }
      ]
    },
    {
      "cell_type": "markdown",
      "source": [
        "#### Valor en Riesgo Condicional"
      ],
      "metadata": {
        "id": "uDrogW2uQMag"
      }
    },
    {
      "cell_type": "code",
      "source": [
        "%%R\n",
        "CVaR_opciones = rbind(cbind(cbind(CVaRCont_opc[,1],CVaRfr1_opc[,1],CVaRfr2_opc[,1],CVaRfr3_opc[,1]),\n",
        "                            cbind(CVaRCont_opc[,2],CVaRfr1_opc[,2],CVaRfr2_opc[,2],CVaRfr3_opc[,2])),\n",
        "                      cbind(cbind(CVaRCont_CA_opc[,1],CVaRfr1_CA_opc[,1],CVaRfr2_CA_opc[,1],CVaRfr3_CA_opc[,1]),\n",
        "                            cbind(CVaRCont_CA_opc[,2],CVaRfr1_CA_opc[,2],CVaRfr2_CA_opc[,2],CVaRfr3_CA_opc[,2])))\n",
        "\n",
        "colnames(CVaR_opciones) = c(\"Total\",\"Descuento\",\"Spot\",\"Volatilidad\",\n",
        "                            \"Total\",\"Descuento\",\"Spot\",\"Volatilidad\")\n",
        "rownames(CVaR_opciones) = c(\"Sin alisado\",\"Con alisado\")\n",
        "\n",
        "print(\"CVaR por factor de riesgo de la Opcion Call Larga\")\n",
        "print(CVaR_opciones[,1:4])\n",
        "print(\"CVaR por factor de riesgo de la Opcion Put Larga\")\n",
        "print(CVaR_opciones[,5:8])\n",
        "\n",
        "CVaRT_opciones = rbind(cbind(CVaRTotal_opc,CVaRTotalfr1_opc,CVaRTotalfr2_opc,CVaRTotalfr3_opc),\n",
        "cbind(CVaRTotal_CA_opc,CVaRTotalfr1_CA_opc,CVaRTotalfr2_CA_opc,CVaRTotalfr3_CA_opc))\n",
        "\n",
        "colnames(CVaRT_opciones) = c(\"Total\",\"Descuento\",\"Spot\",\"Volatilidad\")\n",
        "rownames(CVaRT_opciones) = c(\"Sin alisado\",\"Con alisado\")\n",
        "\n",
        "print(\"CVaR Total por factor de riesgo\")\n",
        "print(CVaRT_opciones)"
      ],
      "metadata": {
        "colab": {
          "base_uri": "https://localhost:8080/"
        },
        "id": "E0Tq-uR_QPLd",
        "outputId": "50e4e67f-8de0-4975-d978-5d80bd66e49b"
      },
      "execution_count": null,
      "outputs": [
        {
          "output_type": "stream",
          "name": "stdout",
          "text": [
            "[1] \"CVaR por factor de riesgo de la Opcion Call Larga\"\n",
            "                  Total    Descuento        Spot Volatilidad\n",
            "Sin alisado -0.16010771 -0.009768791 -0.10770040 -0.11959976\n",
            "Con alisado -0.08834064 -0.012522948 -0.07008346 -0.09660929\n",
            "[1] \"CVaR por factor de riesgo de la Opcion Put Larga\"\n",
            "                  Total    Descuento        Spot Volatilidad\n",
            "Sin alisado -0.06979303 -0.002448670 -0.05063078 -0.06007099\n",
            "Con alisado -0.06188290 -0.003027432 -0.05863159 -0.04051655\n",
            "[1] \"CVaR Total por factor de riesgo\"\n",
            "                 Total   Descuento        Spot Volatilidad\n",
            "Sin alisado -0.2102796 -0.01207105 -0.10358508 -0.15679631\n",
            "Con alisado -0.1063106 -0.01574871 -0.06708854 -0.08337621\n"
          ]
        }
      ]
    },
    {
      "cell_type": "markdown",
      "source": [
        "## Portafolio"
      ],
      "metadata": {
        "id": "vKRRoMjQmddo"
      }
    },
    {
      "cell_type": "code",
      "source": [
        "%%R\n",
        "w0=1-alpha\n",
        "lambda =uniroot(function(x) w0*(1-x^(Ns))/(1-x)-1, c(0,0.99), tol = 1e-28)$root\n",
        "\n",
        "p_esc=genera_esc(lambda,w0,Ns)"
      ],
      "metadata": {
        "id": "w9QJ-VDCp44N"
      },
      "execution_count": null,
      "outputs": []
    },
    {
      "cell_type": "code",
      "source": [
        "%%R\n",
        "#Medición de riesgo por factor de riesgo de todo el portafolios\n",
        "#Acciones\n",
        "#1. Acciones \n",
        "PGPort_ACC=PGfr1T_acc_div + Vfr3_fwind #Pérdidas y ganancias\n",
        "VaRPort_ACC=equantile(PGPort_ACC,1-alpha,Ns) #VaR\n",
        "CVaRPort_ACC= mean(PGPort_ACC[which(PGPort_ACC<VaRPort_ACC)]) #CVaR\n",
        "VaRPort_CA_ACC=wquantile(PGPort_ACC,p_esc, 1-alpha)\n",
        "CVaRPort_CA_ACC= wcvar(PGPort_ACC,p_esc, 1-alpha)\n",
        "\n",
        "#Tasa de Interés\n",
        "#1. Dado que swaps y bondes son de tasa de interés usaremos PGT_bd y PGT_sw\n",
        "#2. Para futuros usaremos PGfr1T_fwtdc y PGfr2T_fwtdc\n",
        "PGPort_TI=PGT_bon+PGfr1_fwtdc+PGfr2_fwtdc+PGfr2T_fwind+PGT_sw+PGfr1T_opc+PGfr2T_opc\n",
        "VaRPort_TI=equantile(PGPort_TI,1-alpha,Ns) #VaR\n",
        "CVaRPort_TI= mean(PGPort_TI[which(PGPort_TI<VaRPort_TI)]) #CVaR\n",
        "VaRPort_CA_TI=wquantile(PGPort_TI,p_esc, 1-alpha)\n",
        "CVaRPort_CA_TI= wcvar(PGPort_TI,p_esc, 1-alpha)\n",
        "\n",
        "#Tipo de cambio\n",
        "#1. Dado que swaps y bondes son de tasa de interés no usamos nada\n",
        "#2. Para futuros usamos sólo PGfr3T_fwtdc\n",
        "PGPort_TDC=PGfr2T_acc_div + PGfr3_fwtdc  #Pérdidas y ganancias\n",
        "VaRPort_TDC=equantile(PGPort_TDC,1-alpha,Ns) #VaR\n",
        "CVaRPort_TDC= mean(PGPort_TDC[which(PGPort_TDC<VaRPort_TDC)]) #CVaR\n",
        "VaRPort_CA_TDC=wquantile(PGPort_TDC,p_esc, 1-alpha)\n",
        "CVaRPort_CA_TDC= wcvar(PGPort_TDC,p_esc, 1-alpha)\n",
        "\n",
        "#Volatilidad\n",
        "#1. Sólo aplica la volatilidad de Opciones de tasa de interés\n",
        "PGPort_VOL=PGfr3T_opc  #Pérdidas y ganancias\n",
        "VaRPort_VOL=equantile(PGPort_VOL,1-alpha,Ns) #VaR\n",
        "CVaRPort_VOL= mean(PGPort_VOL[which(PGPort_VOL<VaRPort_VOL)]) #CVaR\n",
        "VaRPort_CA_VOL=wquantile(PGPort_VOL,p_esc, 1-alpha)\n",
        "CVaRPort_CA_VOL= wcvar(PGPort_VOL,p_esc, 1-alpha)\n",
        "\n",
        "#Medición de riesgo de todo el portafolios\n",
        "#Sumar todos los PGT de todos los instrumentos\n",
        "PGT_Port=PGPort_ACC+PGPort_TI+PGPort_TDC+PGPort_VOL\n",
        "VaRTotal_Port=equantile(PGT_Port,1-alpha,Ns) #VaR\n",
        "CVaRTotal_Port= mean(PGT_Port[which(PGT_Port<VaRTotal_Port)]) #CVaR\n",
        "VaRTotal_CA_Port=wquantile(PGT_Port,p_esc, 1-alpha)\n",
        "CVaRTotal_CA_Port= wcvar(PGT_Port,p_esc, 1-alpha)"
      ],
      "metadata": {
        "id": "FOo4SWj0mhTt"
      },
      "execution_count": null,
      "outputs": []
    },
    {
      "cell_type": "markdown",
      "source": [
        "### Perdidas y Ganancias"
      ],
      "metadata": {
        "id": "B-xKPzyeq7Ky"
      }
    },
    {
      "cell_type": "code",
      "source": [
        "%%R\n",
        "V0_portafolio= cbind(V0T_port,sum(V0_port[,c(1:3,11)]),sum(V0_port[,c(4,5,6,10)]),\n",
        "                     sum(V0_port[,c(7,8,9,12,13,14,15)]),0)\n",
        "colnames(V0_portafolio) = c(\"Total\",\"Acciones\",\"Divisas\",\"Tasas de interes\",\"Volatilidad\")\n",
        "print(\"Valor del portafolio\")\n",
        "print(V0_portafolio)"
      ],
      "metadata": {
        "colab": {
          "base_uri": "https://localhost:8080/"
        },
        "id": "dEqsi5bK20eX",
        "outputId": "984f3d47-ba0a-4eda-a3a7-69eb29fbae4c"
      },
      "execution_count": null,
      "outputs": [
        {
          "output_type": "stream",
          "name": "stdout",
          "text": [
            "[1] \"Valor del portafolio\"\n",
            "         Total  Acciones  Divisas Tasas de interes Volatilidad\n",
            "[1,] -194966.9 -276232.5 29678.66         51586.99           0\n"
          ]
        }
      ]
    },
    {
      "cell_type": "code",
      "source": [
        "%%R\n",
        "PGT_portafolio = cbind(PGT_Port,PGPort_ACC,PGPort_TI,PGPort_TDC,PGPort_VOL)\n",
        "colnames(PGT_portafolio)= c(\"Total\",\"Acciones\",\"Tasas Interes\",\"Tipo de Cambio\",\"Volatilidad\")\n",
        "print(\"Perdidas/Ganancias del portafolio\")\n",
        "print(head(PGT_portafolio))"
      ],
      "metadata": {
        "colab": {
          "base_uri": "https://localhost:8080/"
        },
        "id": "yfBFN2mcrLqI",
        "outputId": "1a9edaf2-3a51-4145-9510-09fc1be6a2c6"
      },
      "execution_count": null,
      "outputs": [
        {
          "output_type": "stream",
          "name": "stdout",
          "text": [
            "[1] \"Perdidas/Ganancias del portafolio\"\n",
            "         Total  Acciones Tasas Interes Tipo de Cambio   Volatilidad\n",
            "[1,] -319407.4 -326531.1      7173.827      -50.12231  0.000000e+00\n",
            "[2,] -375763.6 -366657.4     -9306.799      200.59636  0.000000e+00\n",
            "[3,] -344926.9 -352016.8      7162.951      -73.01944 -2.657318e-02\n",
            "[4,] -316527.4 -322989.5      6697.184     -235.08586 -3.523780e-04\n",
            "[5,] -379672.6 -374884.5     -4755.117      -32.93045 -3.191472e-04\n",
            "[6,] -307513.5 -315926.8      8683.062     -269.73737 -4.902871e-05\n"
          ]
        }
      ]
    },
    {
      "cell_type": "markdown",
      "source": [
        "### VaR y CVaR"
      ],
      "metadata": {
        "id": "QmIjcQVDq_gt"
      }
    },
    {
      "cell_type": "markdown",
      "source": [
        "#### Valor en Riesgo"
      ],
      "metadata": {
        "id": "9J38yWfarDNd"
      }
    },
    {
      "cell_type": "code",
      "source": [
        "%%R\n",
        "VaRT_portafolio = rbind(cbind(VaRTotal_Port,VaRPort_ACC,VaRPort_TI,VaRPort_TDC,VaRPort_VOL),\n",
        "                        cbind(VaRTotal_CA_Port,VaRPort_CA_ACC,VaRPort_CA_TI,VaRPort_CA_TDC,VaRPort_CA_VOL))\n",
        "colnames(VaRT_portafolio)=c(\"Total\",\"Acciones\",\"Tasas Interes\",\"Tipo de Cambio\",\"Volatilidad\")\n",
        "rownames(VaRT_portafolio)=c(\"Sin alisado\",\"Con alisado\")\n",
        "print(\"VaR del portafolio\")\n",
        "print(VaRT_portafolio)"
      ],
      "metadata": {
        "colab": {
          "base_uri": "https://localhost:8080/"
        },
        "id": "F3R5W3j3r3m4",
        "outputId": "b4b2b474-089e-439f-9851-9c9d6b363e2b"
      },
      "execution_count": null,
      "outputs": [
        {
          "output_type": "stream",
          "name": "stdout",
          "text": [
            "[1] \"VaR del portafolio\"\n",
            "                Total  Acciones Tasas Interes Tipo de Cambio Volatilidad\n",
            "Sin alisado -406612.3 -390213.6     -44488.54      -376.9144 -0.05829906\n",
            "Con alisado -406612.3 -397407.4     -22080.35      -399.2845 -0.04182118\n"
          ]
        }
      ]
    },
    {
      "cell_type": "markdown",
      "source": [
        "#### Valor en Riesgo Condicional"
      ],
      "metadata": {
        "id": "mFOejG2grF0Y"
      }
    },
    {
      "cell_type": "code",
      "source": [
        "%%R\n",
        "CVaRT_portafolio = rbind(cbind(CVaRTotal_Port,CVaRPort_ACC,CVaRPort_TI,CVaRPort_TDC,CVaRPort_VOL),\n",
        "                        cbind(CVaRTotal_CA_Port,CVaRPort_CA_ACC,CVaRPort_CA_TI,CVaRPort_CA_TDC,CVaRPort_CA_VOL))\n",
        "colnames(CVaRT_portafolio)=c(\"Total\",\"Acciones\",\"Tasas Interes\",\"Tipo de Cambio\",\"Volatilidad\")\n",
        "rownames(CVaRT_portafolio)=c(\"Sin alisado\",\"Con alisado\")\n",
        "print(\"CVaR del portafolio\")\n",
        "print(CVaRT_portafolio)"
      ],
      "metadata": {
        "colab": {
          "base_uri": "https://localhost:8080/"
        },
        "id": "9fD-o7tgqgmw",
        "outputId": "4c174f4d-d78f-48eb-d9ed-51c67be299e0"
      },
      "execution_count": null,
      "outputs": [
        {
          "output_type": "stream",
          "name": "stdout",
          "text": [
            "[1] \"CVaR del portafolio\"\n",
            "                Total  Acciones Tasas Interes Tipo de Cambio Volatilidad\n",
            "Sin alisado -414685.7 -395103.1     -60912.69      -451.4009 -0.15679631\n",
            "Con alisado -410316.0 -397454.6     -31318.07      -516.1567 -0.08337621\n"
          ]
        }
      ]
    }
  ]
}