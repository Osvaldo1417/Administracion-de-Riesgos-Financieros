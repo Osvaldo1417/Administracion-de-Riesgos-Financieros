{
  "nbformat": 4,
  "nbformat_minor": 0,
  "metadata": {
    "colab": {
      "name": "Tarea 1.3 - Riesgo de Mercado: Simulación MonteCarlo",
      "provenance": [],
      "collapsed_sections": [
        "WIySRmG6s0pF",
        "oIVN1Fc9KiWf",
        "-gqVtjJibKoF",
        "RHAzGErHglrT",
        "zyq5WHzBgqbt",
        "q9S6cwTKgxUO",
        "it1wwRCngxbx",
        "LJ8Si1mTg8bz",
        "qffwGKKZgGY4",
        "rAcb5Pi7hBd_",
        "WAmYeQF_hGsH",
        "waXjUUbdhNzP",
        "o9MRQQfzhNzP",
        "hHMRtZ2ohNzP",
        "axQcIZEHhNzQ",
        "LrQ9UOJzx4TP",
        "n6RzMTQryRHu",
        "bK7fVGntyUXk",
        "digPKs0bzoB0",
        "Rc9CUiWlzoX_",
        "ZSFjQaChzooh",
        "-HnAGss4yWwD",
        "as5QaPbJ5EKs",
        "4pSJp2u-5EZW",
        "nW7JiMm3yXao",
        "TdZAfi4vyXvZ",
        "KtNs1xiO88gM",
        "oramAfxU9EN7",
        "yq4MDaHLDDJY",
        "PkSI3oltMTli",
        "qXgKEmxZMUB7",
        "xJQbUeRmM2oY",
        "DFuX7T97M-Mb",
        "AMnRaQZoM-bO",
        "s3CnTOGWM28G",
        "Pr2gNX6tM3MG",
        "bsD1Jr8tM3bx"
      ],
      "authorship_tag": "ABX9TyMSmlIs+gb4WMtLLLaLswsQ",
      "include_colab_link": true
    },
    "kernelspec": {
      "name": "python3",
      "display_name": "Python 3"
    },
    "language_info": {
      "name": "python"
    }
  },
  "cells": [
    {
      "cell_type": "markdown",
      "metadata": {
        "id": "view-in-github",
        "colab_type": "text"
      },
      "source": [
        "<a href=\"https://colab.research.google.com/github/Osvaldo1417/Administracion-de-Riesgos-Financieros/blob/master/Tarea_1_3_Riesgo_de_Mercado_Simulaci%C3%B3n_MonteCarlo.ipynb\" target=\"_parent\"><img src=\"https://colab.research.google.com/assets/colab-badge.svg\" alt=\"Open In Colab\"/></a>"
      ]
    },
    {
      "cell_type": "markdown",
      "source": [
        "# Tarea 1.3 - Riesgo de Mercado\n",
        "## Simulación MonteCarlo: Cholesky y Componentes Principales\n",
        "- Cedeño Ramírez Osvaldo\n",
        "- Felipe Santiago Edson Yair\n",
        "- Morelos Granados José Carlos\n",
        "- Pacheco Tovar Alejandra Citlalli\n"
      ],
      "metadata": {
        "id": "WIySRmG6s0pF"
      }
    },
    {
      "cell_type": "code",
      "source": [
        "%load_ext rpy2.ipython\n",
        "!rm -rf Administracion-de-Riesgos-Financieros\n",
        "!git clone \"https://github.com/Osvaldo1417/Administracion-de-Riesgos-Financieros/\""
      ],
      "metadata": {
        "id": "1voJKrXuJpNo",
        "colab": {
          "base_uri": "https://localhost:8080/"
        },
        "outputId": "b2bee1d3-fb12-4377-bc09-ccddd333f9b1"
      },
      "execution_count": 1,
      "outputs": [
        {
          "output_type": "stream",
          "name": "stdout",
          "text": [
            "Cloning into 'Administracion-de-Riesgos-Financieros'...\n",
            "remote: Enumerating objects: 851, done.\u001b[K\n",
            "remote: Counting objects: 100% (24/24), done.\u001b[K\n",
            "remote: Compressing objects: 100% (24/24), done.\u001b[K\n",
            "remote: Total 851 (delta 10), reused 0 (delta 0), pack-reused 827\u001b[K\n",
            "Receiving objects: 100% (851/851), 41.48 MiB | 18.81 MiB/s, done.\n",
            "Resolving deltas: 100% (542/542), done.\n"
          ]
        }
      ]
    },
    {
      "cell_type": "code",
      "metadata": {
        "id": "57AsDOlcRWL9"
      },
      "source": [
        "%%R\n",
        "install.packages(\"quantmod\")\n",
        "library(quantmod)\n",
        "\n",
        "install.packages(\"data.table\")\n",
        "library(data.table)\n",
        "\n",
        "install.packages(\"PerformanceAnalytics\")\n",
        "library(\"PerformanceAnalytics\")\n",
        "\n",
        "install.packages(\"Deriv\")\n",
        "library(Deriv)\n",
        "\n",
        "library(dplyr)\n",
        "\n",
        "con = gzcon(url('https://github.com/systematicinvestor/SIT/raw/master/sit.gz', 'rb'))\n",
        "source(con)\n",
        "close(con)"
      ],
      "execution_count": null,
      "outputs": []
    },
    {
      "cell_type": "markdown",
      "source": [
        "## Funciones"
      ],
      "metadata": {
        "id": "oIVN1Fc9KiWf"
      }
    },
    {
      "cell_type": "code",
      "metadata": {
        "id": "Qw6AthHnXMx4"
      },
      "source": [
        "%%R\n",
        "#FUNCIÓN DE INTERPOLACIÓN ALAMBRADA\n",
        "\n",
        "talamb=function(nodos,curva,plazos) #función de interpolación de tasas por el método alamabrada\n",
        "{\n",
        "  n=max(ncol(plazos),1)\n",
        "  m=max(ncol(nodos),1)\n",
        "  TC=matrix(0,1,n)\n",
        "  TL=matrix(0,1,n)\n",
        "  TF=matrix(0,1,n)\n",
        "  for (j in 1:n)\n",
        "  {\n",
        "    i=1\n",
        "    repeat\n",
        "    {\n",
        "      if(nodos[i]<= plazos[j] && plazos[j] <=nodos[i+1])\n",
        "      {\n",
        "        TC[j]=curva[i]\n",
        "        TL[j]=curva[i+1]\n",
        "        TF[j]=((((1+TL[j]*nodos[i+1]/360)/(1+TC[j]*nodos[i]/360))^((plazos[j]-nodos[i])/(nodos[i+1]-nodos[i]))*(1+TC[j]*nodos[i]/360))-1)*360/plazos[j]\n",
        "        break\n",
        "      }\n",
        "      else if (plazos[j]<nodos[1])\n",
        "      {\n",
        "        TC[j]=curva[1]\n",
        "        TL[j]=curva[1]\n",
        "        TF[j]=curva[1]\n",
        "        break\n",
        "      }\n",
        "      else if (plazos[j]>nodos[m])\n",
        "      {\n",
        "        TC[j]=curva[m]\n",
        "        TL[j]=curva[m]\n",
        "        TF[j]=curva[m]\n",
        "        break\n",
        "      }\n",
        "      else\n",
        "      {i=i+1}\n",
        "    }\n",
        "  }\n",
        "  as.matrix(t(as.numeric(rbind(TF))))\n",
        "}\n",
        "\n",
        "\n",
        "#funciones necesarias\n",
        "diagv=function(x)\t\t\t#función para diagonalizar un vector\n",
        "{\n",
        "  n01=nrow(as.matrix(x))\n",
        "  m01=ncol(as.matrix(x))\n",
        "  dimmax=max(n01,m01)\n",
        "  res=matrix(0,dimmax,dimmax)\n",
        "  for (i in 1:dimmax)\n",
        "  {\n",
        "    res[i,i]=x[i]\n",
        "  }\n",
        "  res\n",
        "}\n",
        "\n",
        "#función de cuantil más cercano\n",
        "equantile <- function(v,p=.5,ns=nrow(as.matrix(v))) \n",
        "{ \n",
        "  if ( !is.numeric(p) || any( p<0 | p>1) ) \n",
        "    stop(\"Percentil tiene que ser 0<=p<=1\") \n",
        "  ranking <- order(v) \n",
        "  vw=matrix(0,ns,1)\n",
        "  vw[1:ns]=seq(1/ns,ns)  \n",
        "  sumw <- cumsum(vw[ranking]) \n",
        "  plist <- sumw / sumw[ length(sumw) ] \n",
        "  v [ ranking [ which.max( plist >= p ) ] ]  \n",
        "} \n",
        "\n",
        "\n",
        "wquantile <- function(v,w=rep(1,length(v)),p=.5) \n",
        "{ \n",
        "  if ( !is.numeric(w) || length(v) != length(w) ) \n",
        "    stop(\"Los valores y los pesos tienen que tener misma longitud\") \n",
        "  if ( !is.numeric(p) || any( p<0 | p>1) ) \n",
        "    stop(\"Percentil tiene que ser 0<=p<=1\") \n",
        "  if ( min(w) < 0 ) stop(\"Los pesos tiene que ser mayores que 0\") \n",
        "  ranking <- order(v) \n",
        "  sumw <- cumsum(w[ranking]) \n",
        "  plist <- sumw / sumw[ length(sumw) ] \n",
        "  v [ ranking [ which.max( plist >= p ) ] ]  \n",
        "}\n",
        "\n",
        "\n",
        "#CVaR con alisado\n",
        "wcvar <- function(v,w=rep(1,length(v)),p=.5) \n",
        "{ \n",
        "  if ( !is.numeric(w) || length(v) != length(w) ) \n",
        "    stop(\"Los valores y los pesos tienen que tener misma longitud\") \n",
        "  if ( !is.numeric(p) || any( p<0 | p>1) ) \n",
        "    stop(\"Percentil tiene que ser 0<=p<=1\") \n",
        "  if ( min(w) < 0 ) stop(\"Los pesos tiene que ser mayores que 0\") \n",
        "  ranking <- order(v) \n",
        "  sumw <- cumsum(w[ranking]) \n",
        "  plist <- sumw / sumw[ length(sumw) ] \n",
        "  loss= v [ ranking [ which( plist < p ) ] ]  \n",
        "  esc=w [ ranking [ which( plist < p ) ] ]  \n",
        "  sum(loss*esc)/(sum(esc))\n",
        "} \n",
        "\n",
        "genera_esc <- function(lamda,w0,n){\n",
        "  p_esc=matrix(0,n,1)\n",
        "  for (i in (1:n))\n",
        "  {\n",
        "    p_esc[i]=w0*lambda^(i-1)\n",
        "  }\n",
        "  return(p_esc)\n",
        "}"
      ],
      "execution_count": 3,
      "outputs": []
    },
    {
      "cell_type": "markdown",
      "source": [
        "# Carga de Datos"
      ],
      "metadata": {
        "id": "-gqVtjJibKoF"
      }
    },
    {
      "cell_type": "code",
      "source": [
        "%%R\n",
        "fval=as.Date(\"20220331\",format=\"%Y%m%d\") #Fecha de valoración\n",
        "itpl=1 #poner 0 si se quiere interpolación lineal o 1 si se quiere tasa alambrada\n",
        "alpha=0.98 #Nivel de confianza para obtener estimaciones de riesgo"
      ],
      "metadata": {
        "id": "U5JA6z_CgLbt"
      },
      "execution_count": 111,
      "outputs": []
    },
    {
      "cell_type": "markdown",
      "source": [
        "## Acciones y Divisas"
      ],
      "metadata": {
        "id": "RHAzGErHglrT"
      }
    },
    {
      "cell_type": "code",
      "source": [
        "%%R\n",
        "acc_names <- c(\"America\",\"Carso\",\"Walmart\")\n",
        "div_names <- c(\"Euros\",\"Libras\",\"Dolares\")\n",
        "\n",
        "#ACCIONES Y DIVISAS\n",
        "#Cargar los símbolos de yahoo finance para EQ\n",
        "Sym_acciones<-c  (\"AMXL.MX\", \"GCARSOA1.MX\", \"WALMEX.MX\" )#tienen que ir en orden alfabético\n",
        "pos_acc=c(-5000,1000,1200) #monto inicial invertido en acciones\n",
        "#Cargar los símbolos de yahoo finance para FX\n",
        "Sym_divisas<-c(\"EURUSD=X\",\"GBPUSD=X\",\"USDMXN=X\" ) #tienen que ir en orden alfabético\n",
        "pos_div=c(700,-600,1500) #monto inicial invertido en divisas\n",
        "nh=3660 #días de historia"
      ],
      "metadata": {
        "id": "QuNbO84OLBsx"
      },
      "execution_count": 112,
      "outputs": []
    },
    {
      "cell_type": "code",
      "source": [
        "%%R\n",
        "#CARGA DE DATOS DE ACCIONES\n",
        "pos=cbind(t(pos_div),t(pos_acc))\n",
        "start_date=fval-nh #fecha inicial\n",
        "#Creación del objeto para guardar los datos\n",
        "acciones<-new.env()\n",
        "divisas<-new.env()\n",
        "\n",
        "#obtener los datos\n",
        "getSymbols.yahoo(Sym_acciones,env=acciones,from=start_date,to=fval)\n",
        "getSymbols.yahoo(Sym_divisas,env=divisas,from=start_date,to=fval)\n",
        "\n",
        "#limpiarlos, alinearnos y quedarnos con el precio de cierre \n",
        "bt.prep(acciones,align='remove.na',fill.gaps = T)\n",
        "bt.prep(divisas,align='remove.na',fill.gaps=T)\n",
        "\n",
        "precios_acc = acciones$prices\n",
        "precios_div = divisas$prices\n",
        "\n",
        "precios_div=cbind(precios_div[,1]*precios_div[,3],\n",
        "                     precios_div[,2]*precios_div[,3],precios_div[,3])\n",
        "\n",
        "precios_acc_div = merge(precios_acc,precios_div,join = \"inner\")\n",
        "tail(precios_acc_div)"
      ],
      "metadata": {
        "id": "9bX51boVQ4Va",
        "colab": {
          "base_uri": "https://localhost:8080/"
        },
        "outputId": "900f92a5-604b-4c5d-c61d-fc1c840e07f6"
      },
      "execution_count": 113,
      "outputs": [
        {
          "output_type": "stream",
          "name": "stdout",
          "text": [
            "           AMXL.MX GCARSOA1.MX WALMEX.MX EURUSD.X GBPUSD.X USDMXN.X\n",
            "2022-03-23   20.73       73.71     77.99 22.35971 26.89405 20.27220\n",
            "2022-03-24   20.91       75.61     78.56 22.26207 26.71136 20.22664\n",
            "2022-03-25   21.00       75.77     78.59 22.09215 26.47899 20.06630\n",
            "2022-03-28   20.72       75.81     79.83 21.99689 26.39227 20.03015\n",
            "2022-03-29   20.70       74.29     78.58 22.08800 26.32673 20.09125\n",
            "2022-03-30   20.75       73.53     80.34 22.14488 26.14256 19.96560\n"
          ]
        }
      ]
    },
    {
      "cell_type": "code",
      "source": [
        "%%R\n",
        "aux2=data.table(Date=as.Date(index(precios_acc_div)),coredata(precios_acc_div))\n",
        "colnames(aux2) <- c(\"Date\",\"America\",\"Carso\",\"Walmart\",\"Euros\",\"Libras\",\"Dolares\")\n",
        "tail(aux2)"
      ],
      "metadata": {
        "id": "4Izwvzr9M4k9",
        "colab": {
          "base_uri": "https://localhost:8080/"
        },
        "outputId": "032ce998-8f93-4468-9c65-3c65b79dfc79"
      },
      "execution_count": 114,
      "outputs": [
        {
          "output_type": "stream",
          "name": "stdout",
          "text": [
            "         Date America Carso Walmart    Euros   Libras  Dolares\n",
            "1: 2022-03-23   20.73 73.71   77.99 22.35971 26.89405 20.27220\n",
            "2: 2022-03-24   20.91 75.61   78.56 22.26207 26.71136 20.22664\n",
            "3: 2022-03-25   21.00 75.77   78.59 22.09215 26.47899 20.06630\n",
            "4: 2022-03-28   20.72 75.81   79.83 21.99689 26.39227 20.03015\n",
            "5: 2022-03-29   20.70 74.29   78.58 22.08800 26.32673 20.09125\n",
            "6: 2022-03-30   20.75 73.53   80.34 22.14488 26.14256 19.96560\n"
          ]
        }
      ]
    },
    {
      "cell_type": "markdown",
      "source": [
        "## Bonos"
      ],
      "metadata": {
        "id": "zyq5WHzBgqbt"
      }
    },
    {
      "cell_type": "code",
      "source": [
        "%%R\n",
        "#CETES\n",
        "tasa_guber_bcc=\"Administracion-de-Riesgos-Financieros/tasa_guber.txt\"\n",
        "plazos_bcc=cbind(180)\n",
        "contratos_bcc=cbind(1)\n",
        "nominal_bcc=1500 #CETE\n",
        "\n",
        "# BONO M\n",
        "tasa_fija_bm=\"Administracion-de-Riesgos-Financieros/tasa_yield.txt\"\n",
        "tfcupon_bm=cbind( 0.065) #Tasafija del cupón\n",
        "plazos_bm=cbind( 3600) #Vencimiento del bono\n",
        "plazocupon_bm=cbind(360) #plazos fijos de cada cupón\n",
        "contratos_bm=cbind(1) #posición invertida\n",
        "nominal_bm=1000\n",
        "\n",
        "#BONDES D\n",
        "base_tasa_desc=\"Administracion-de-Riesgos-Financieros/tasa_guber_st.txt\"\n",
        "base_tasa_fondeo=\"Administracion-de-Riesgos-Financieros/tfondeo.txt\"\n",
        "plazo_bdm= 707 #Vencimiento del bono\n",
        "plazocupon_bdm = 28 #plazos_bdm fijos de cada cupón\n",
        "contratos_bdm = -1 #posición invertida\n",
        "nominal_bdm = 1000"
      ],
      "metadata": {
        "id": "PsrxaP23FuSO"
      },
      "execution_count": 115,
      "outputs": []
    },
    {
      "cell_type": "code",
      "source": [
        "%%R\n",
        "#Bono Cupon CERO\n",
        "data<-read.table(tasa_guber_bcc)\n",
        "n<-nrow(data)\n",
        "m_orig=ncol(data)\n",
        "X_orig_bcc=mutate(data.frame(data[2:n,]), Date=as.Date(V1,format=\"%Y%m%d\"))\n",
        "X_orig_bcc=X_orig_bcc%>%select(-V1)\n",
        "nodos_bcc=data.frame(data[1,2:m_orig])\n",
        "\n",
        "## BONO M\n",
        "data1<-read.table(tasa_fija_bm)\n",
        "n<-nrow(data1)\n",
        "m_orig=ncol(data1)\n",
        "X_orig_bm=mutate(data.frame(data1[2:n,]), Date=as.Date(V1,format=\"%Y%m%d\"))\n",
        "X_orig_bm=X_orig_bm%>%select(-V1)\n",
        "nodos_bm=data.frame(data1[1,2:m_orig])\n",
        "n=n-1\n",
        "\n",
        "##BONDE\n",
        "data1<-read.table(tasa_guber_bcc)\n",
        "n_bd<-nrow(data1)\n",
        "m_bd=ncol(data1)\n",
        "X1_orig=mutate(data.frame(data1[2:n,]), Date=as.Date(V1,format=\"%Y%m%d\"))\n",
        "X1_orig=X1_orig%>%select(-V1)\n",
        "nodos1_bd=data.frame(data1[1,2:m_bd])\n",
        "n_bd=n_bd-1\n",
        "\n",
        "data2<-read.table(base_tasa_fondeo)\n",
        "n2<-nrow(data2)\n",
        "X2_orig_bd=data.frame(data2[2:n2,])\n",
        "X2_orig_bd=mutate(X2_orig_bd, Date=as.Date(V1,format=\"%Y%m%d\"), V2=as.numeric(V2))\n",
        "X2_orig_bd=X2_orig_bd%>%select(-V1)\n",
        "tfh=seq(min(X2_orig_bd$Date), max(X2_orig_bd$Date), \"days\")\n",
        "tfhd=data.frame(ID=1:count(tfh),fecha=tfh)\n",
        "\n",
        "data3<-read.table(base_tasa_desc)\n",
        "n3<-nrow(data3)\n",
        "m3_bd=ncol(data3)\n",
        "X3_orig_bd=as.data.table(mutate(data3[2:n,],Date=as.Date(V1,format=\"%Y%m%d\")))\n",
        "X3_orig_bd=X3_orig_bd%>%select(-V1)\n",
        "nodos3_bd=data.frame(data3[1,2:m3_bd])\n",
        "n3=n3-1\n",
        "\n",
        "#Cruzar la sucesión de todos los días versus el de tasa de fondeo\n",
        "tfhd=setDT(tfhd)[, Date := tfh][order(-Date)]\n",
        "X2_orig_bd=setDT(X2_orig_bd)[, Date := Date][order(-Date)]\n",
        "X2_orig_bd=X2_orig_bd[tfhd, on = .(Date), roll = Inf]\n",
        "\n",
        "tf_act=X2_orig_bd[fecha==fval,]$V2/100\n",
        "tf_int=X2_orig_bd[fecha<=fval & fecha>=(fval-plazocupon_bdm[1])]$V2/100"
      ],
      "metadata": {
        "id": "CtesYwz_GMbq"
      },
      "execution_count": 116,
      "outputs": []
    },
    {
      "cell_type": "markdown",
      "source": [
        "## Futuros"
      ],
      "metadata": {
        "id": "q9S6cwTKgxUO"
      }
    },
    {
      "cell_type": "code",
      "source": [
        "%%R\n",
        "#FUTUROS DE TDC\n",
        "bext=\"Administracion-de-Riesgos-Financieros/tasa_libor.txt\" \n",
        "bdom=\"Administracion-de-Riesgos-Financieros/tasa_fwd.txt\"\n",
        "SymbolsFX_ftdc_find <- c(\"^MXX\",\"USDMXN=X\")\n",
        "plazos_fowd = cbind(5)\n",
        "contratos_fowd = cbind(100)\n",
        "kst_fwd=cbind(20.83)\n",
        "nominal_fwd=cbind(1)\n",
        "trlib=1\n",
        "\n",
        "#FUTUROS DE IPC\n",
        "btsp=\"Administracion-de-Riesgos-Financieros/tasa_guber.txt\"\n",
        "plazos_fwd_ind= cbind(53) \n",
        "contratos_fwd_ind= cbind(-50)\n",
        "kst_fwd_ind=cbind(49525)\n",
        "nominal_fwd_ind=cbind(1)"
      ],
      "metadata": {
        "id": "8S9u7jxR5d69"
      },
      "execution_count": 117,
      "outputs": []
    },
    {
      "cell_type": "code",
      "source": [
        "%%R\n",
        "### CARGA DE DATOS TDC\n",
        "data1<-read.table(bext)\n",
        "data2<-read.table(bdom)\n",
        "\n",
        "n1=nrow(data1)\n",
        "n2=nrow(data2)\n",
        "m1_ftdc=ncol(data1)\n",
        "m2_ftdc=ncol(data2)\n",
        "n=min(n1,n2)-1\n",
        "\n",
        "###NODOS###\n",
        "nodos1_ftdc=data.frame(data1[1,2:m1_ftdc])\n",
        "nodos2_ftdc=data.frame(data2[1,2:m2_ftdc])\n",
        "\n",
        "####MATRICES DEL MISMO TAMAÑO\n",
        "x1_ftdc=as.data.table(mutate(data1[2:n1,1:m1_ftdc],Date=as.Date(V1,format=\"%Y%m%d\")))\n",
        "x1_ftdc=x1_ftdc%>%select(-V1)\n",
        "x2_ftdc=as.data.table(mutate(data2[2:n1,1:m2_ftdc],Date=as.Date(V1,format=\"%Y%m%d\")))\n",
        "x2_ftdc=x2_ftdc%>%select(-V1)\n",
        "\n",
        "\n",
        "# CARGA DE DATOS DE  FORWARD DE IPC\n",
        "data1<-read.table(btsp)\n",
        "n<-nrow(data1)\n",
        "m_gov=ncol(data1)\n",
        "x_orig_gov=as.data.table(mutate(data1[2:n,1:m_gov],Date=as.Date(V1,format=\"%Y%m%d\")))\n",
        "x_orig_gov=x_orig_gov%>%select(-V1)\n",
        "nodos_gov=data.frame(data1[1,2:m_gov])\n",
        "\n",
        "#Cargar los símbolos de yahoo finance para EQ\n",
        "dataEnvFX_EQ<-new.env()\n",
        "getSymbols.yahoo(SymbolsFX_ftdc_find,env=dataEnvFX_EQ,from=start_date, to=fval)\n",
        "bt.prep(dataEnvFX_EQ,align='remove.na',fill.gaps=T)\n",
        "\n",
        "X3_find=data.table(Date=as.Date(index(dataEnvFX_EQ$prices[,1])),coredata(dataEnvFX_EQ$prices[,1]))\n",
        "X3_find = X3_find[order(-Date)]\n",
        "\n",
        "###Para Dolar\n",
        "X3_ftdc=data.table(Date=as.Date(index(dataEnvFX_EQ$prices[,2])),coredata(dataEnvFX_EQ$prices[,2]))\n",
        "X3_ftdc = X3_ftdc[order(-Date)]"
      ],
      "metadata": {
        "id": "sX2nlyMx-VDq"
      },
      "execution_count": 118,
      "outputs": []
    },
    {
      "cell_type": "markdown",
      "source": [
        "## Swap's"
      ],
      "metadata": {
        "id": "it1wwRCngxbx"
      }
    },
    {
      "cell_type": "code",
      "source": [
        "%%R\n",
        "btasadesc_sw=\"Administracion-de-Riesgos-Financieros/tasa_TIIE_SW_OP.txt\"\n",
        "btasacupvar_sw=\"Administracion-de-Riesgos-Financieros/tasa_DIRS_SW_OP.txt\"\n",
        "tasafija_sw=cbind(0.066,0.059) #se establece la tasa fija a pagar para cada swap\n",
        "plazos_sw=cbind(588,270) #se establece el número de días que vivirá el swap\n",
        "plazocupon_sw=cbind(28,28) #se establece el número de días que se pagará cada cupón\n",
        "contratos_sw=cbind(16000000,-12000000) #se establece el número de contratos_sw de cada swap\n",
        "nominal_sw=cbind(1,1) #se establece el nominal_sw de cada swap\n",
        "por_sw=cbind(0,0) #se establece 0 si se paga tasa fija y 1 si se paga tasa variable"
      ],
      "metadata": {
        "id": "ln2eWa3FbXyO"
      },
      "execution_count": 119,
      "outputs": []
    },
    {
      "cell_type": "code",
      "source": [
        "%%R\n",
        "#CARGA DE DATOS PARA SWAP\n",
        "data1<-read.table(btasadesc_sw)###tasa tie\n",
        "n1<-nrow(data1)\n",
        "m1_orig_sw=ncol(data1)\n",
        "X1_orig_sw=data.table(mutate(data1[2:n1,1:m1_orig_sw],Date=as.Date(V1,format=\"%Y%m%d\")))\n",
        "X1_orig_sw=X1_orig_sw%>%select(-V1)\n",
        "nodos1_sw=data.frame(data1[1,2:m1_orig_sw])\n",
        "\n",
        "data2<-read.table(btasacupvar_sw)\n",
        "n2<-nrow(data2)\n",
        "m2_orig_sw=ncol(data2)\n",
        "X2_orig_sw=data.table(mutate(data2[2:n1,1:m1_orig_sw],Date=as.Date(V1,format=\"%Y%m%d\")))\n",
        "X2_orig_sw=X2_orig_sw%>%select(-V1)\n",
        "nodos2_sw=data.frame(data2[1,2:m2_orig_sw])"
      ],
      "metadata": {
        "id": "jyzbI-FvbvL7"
      },
      "execution_count": 120,
      "outputs": []
    },
    {
      "cell_type": "markdown",
      "source": [
        "## Opciones"
      ],
      "metadata": {
        "id": "LJ8Si1mTg8bz"
      }
    },
    {
      "cell_type": "code",
      "source": [
        "%%R\n",
        "#OPCIONES\n",
        "base_desc_opc=\"Administracion-de-Riesgos-Financieros/tasa_TIIE_SW_OP.txt\"\n",
        "base_spot_opc=\"Administracion-de-Riesgos-Financieros/tasa_DIRS_SW_OP.txt\"\n",
        "base_vot_opc=\"Administracion-de-Riesgos-Financieros/tvoltiie_opc.txt\"\n",
        "plazos_opc=cbind( 1700, 700) #T-t\n",
        "pr_opc=28 #plazo de referencia  \n",
        "dct_opc=360 #d_base\n",
        "cp_opc=cbind(0,1) # 0 si es call (cap) o put (floor)\n",
        "K_opc=cbind( 0.058, 0.06)\n",
        "contratos_opc=cbind(1000, 500)\n",
        "nominal_opc=1\n",
        "cs_opc=1 #1 si es continua la tasa 0 si es simple"
      ],
      "metadata": {
        "id": "GjE7UG0Hthj5"
      },
      "execution_count": 121,
      "outputs": []
    },
    {
      "cell_type": "code",
      "source": [
        "%%R\n",
        "#CARGA DE DATOS PARA OPCIONES DE TASA DE INTERÉS\n",
        "#carga de rho\t\n",
        "data1<-read.table(base_desc_opc)\n",
        "n<-nrow(data1)\n",
        "m1_orig_opc=ncol(data1)\n",
        "x1_orig_opc=data.table(mutate(data1[2:n,],Date=as.Date(V1,format=\"%Y%m%d\")))\n",
        "x1_orig_opc=x1_orig_opc%>%select(-V1)\n",
        "nodos1_opc=data.frame(data1[1,2:m1_orig_opc])\n",
        "\n",
        "#carga de tasas spot\n",
        "data2<-read.table(base_spot_opc)\n",
        "n<-nrow(data2)\n",
        "m2_orig_opc=ncol(data2)\n",
        "x2_orig_opc=data.table(mutate(data2[2:n,],Date=as.Date(V1,format=\"%Y%m%d\")))\n",
        "x2_orig_opc=x2_orig_opc%>%select(-V1)\n",
        "nodos2_opc=data.frame(data2[1,2:m2_orig_opc])\n",
        "\n",
        "#carga de volatilidades de spot\n",
        "data3<-read.table(base_vot_opc)\n",
        "n<-nrow(data3)\n",
        "m3_orig_opc=ncol(data3)\n",
        "x3_orig_opc=data.table(mutate(data3[2:n,],Date=as.Date(V1,format=\"%Y%m%d\")))\n",
        "x3_orig_opc=x3_orig_opc%>%select(-V1)\n",
        "nodos3_opc=data.frame(data3[1,2:m3_orig_opc])"
      ],
      "metadata": {
        "id": "ktIQ-89Stj-w"
      },
      "execution_count": 122,
      "outputs": []
    },
    {
      "cell_type": "markdown",
      "source": [
        "# Integración de insumos"
      ],
      "metadata": {
        "id": "qffwGKKZgGY4"
      }
    },
    {
      "cell_type": "code",
      "source": [
        "%%R\n",
        "fechas=data.table(Date=as.Date(aux2[X_orig_bcc,on=.(Date),nomatch=0]$Date)) #Fechas acciones, equity, bcc\n",
        "fechas=data.table(Date=as.Date(fechas[X_orig_bm,on=.(Date),nomatch=0]$Date)) #Fechas acciones, equity, bcc, bm\n",
        "fechas=data.table(Date=as.Date(fechas[X3_orig_bd,on=.(Date),nomatch=0]$Date)) #Fechas acciones, equity, bcc, bm, bd\n",
        "\n",
        "fechas=data.table(Date=as.Date(fechas[X3_find,on=.(Date),nomatch=0]$Date)) #Fechas acciones, equity, bcc, bm, bd, find\n",
        "fechas=data.table(Date=as.Date(fechas[x1_ftdc,on=.(Date),nomatch=0]$Date)) #Fechas acciones, equity, bcc, bm, bd, find, ext\n",
        "fechas=data.table(Date=as.Date(fechas[x2_ftdc,on=.(Date),nomatch=0]$Date)) #Fechas acciones, equity, bcc, bm, bd, find, ext, dom\n",
        "fechas=data.table(Date=as.Date(fechas[X3_ftdc,on=.(Date),nomatch=0]$Date)) #Fechas acciones, equity, bcc, bm, bd, find, ext, dom, tdc\n",
        "\n",
        "fechas=data.table(Date=as.Date(fechas[X1_orig_sw,on=.(Date),nomatch=0]$Date)) #Fechas acciones, equity, bcc, bm, bd, find, ext, dom, tdc, sw desc\n",
        "fechas=data.table(Date=as.Date(fechas[X2_orig_sw,on=.(Date),nomatch=0]$Date)) #Fechas acciones, equity, bcc, bm, bd, find, ext, dom, tdc, sw desc, sw cup\n",
        "\n",
        "fechas=data.table(Date=as.Date(fechas[x1_orig_opc,on=.(Date),nomatch=0]$Date)) #Fechas acciones, equity, bcc, bm, bd, find, ext, dom, tdc, sw desc, sw cup, opc desc\n",
        "fechas=data.table(Date=as.Date(fechas[x2_orig_opc,on=.(Date),nomatch=0]$Date)) #Fechas acciones, equity, bcc, bm, bd, find, ext, dom, tdc, sw desc, sw cup, opc desc, opc spot\n",
        "fechas=data.table(Date=as.Date(fechas[x3_orig_opc,on=.(Date),nomatch=0]$Date)) #Fechas acciones, equity, bcc, bm, bd, find, ext, dom, tdc, sw desc, sw cup, opc desc, opc spot, opc volt\n",
        "\n",
        "print(head(fechas))\n",
        "print(tail(fechas))"
      ],
      "metadata": {
        "colab": {
          "base_uri": "https://localhost:8080/"
        },
        "id": "sAjKhtL4e_og",
        "outputId": "bb0bb26b-a64d-4233-fd58-087ec46ed742"
      },
      "execution_count": 123,
      "outputs": [
        {
          "output_type": "stream",
          "name": "stdout",
          "text": [
            "         Date\n",
            "1: 2022-03-30\n",
            "2: 2022-03-29\n",
            "3: 2022-03-28\n",
            "4: 2022-03-25\n",
            "5: 2022-03-24\n",
            "6: 2022-03-23\n",
            "         Date\n",
            "1: 2021-04-12\n",
            "2: 2021-04-09\n",
            "3: 2021-04-08\n",
            "4: 2021-04-07\n",
            "5: 2021-04-06\n",
            "6: 2021-04-05\n"
          ]
        }
      ]
    },
    {
      "cell_type": "markdown",
      "source": [
        "## Segreración de Datos"
      ],
      "metadata": {
        "id": "rAcb5Pi7hBd_"
      }
    },
    {
      "cell_type": "code",
      "source": [
        "%%R\n",
        "n=nrow(fechas) #Historia de todos\n",
        "n"
      ],
      "metadata": {
        "id": "_To2HKyg0tQr",
        "colab": {
          "base_uri": "https://localhost:8080/"
        },
        "outputId": "5e8e7d3d-6b0d-42f9-da73-3036631da3fe"
      },
      "execution_count": 124,
      "outputs": [
        {
          "output_type": "stream",
          "name": "stdout",
          "text": [
            "[1] 253\n"
          ]
        }
      ]
    },
    {
      "cell_type": "markdown",
      "source": [
        "### Acciones y Divisas"
      ],
      "metadata": {
        "id": "WAmYeQF_hGsH"
      }
    },
    {
      "cell_type": "code",
      "source": [
        "%%R\n",
        "#historia de acciones y divisas\n",
        "precios_acc_div = fechas[aux2,on=.(Date),nomatch=0][order(-Date)]\n",
        "precios_acc_div = precios_acc_div%>%select(-Date)\n",
        "precios_acc_div"
      ],
      "metadata": {
        "colab": {
          "base_uri": "https://localhost:8080/"
        },
        "id": "iZNsImDTcMkS",
        "outputId": "d9c003f8-ac71-4cba-a311-dc605e2b671f"
      },
      "execution_count": 125,
      "outputs": [
        {
          "output_type": "stream",
          "name": "stdout",
          "text": [
            "     America Carso Walmart    Euros   Libras  Dolares\n",
            "  1:   20.75 73.53   80.34 22.14488 26.14256 19.96560\n",
            "  2:   20.70 74.29   78.58 22.08800 26.32673 20.09125\n",
            "  3:   20.72 75.81   79.83 21.99689 26.39227 20.03015\n",
            "  4:   21.00 75.77   78.59 22.09215 26.47899 20.06630\n",
            "  5:   20.91 75.61   78.56 22.26207 26.71136 20.22664\n",
            " ---                                                 \n",
            "249:   14.11 57.39   63.94 23.94925 27.60465 20.09894\n",
            "250:   14.41 59.39   66.11 23.99821 27.77805 20.21130\n",
            "251:   14.10 59.62   63.97 23.95562 27.90382 20.17446\n",
            "252:   14.17 58.93   65.11 23.99920 28.25341 20.30573\n",
            "253:   14.28 57.78   66.86 23.89553 28.08468 20.30522\n"
          ]
        }
      ]
    },
    {
      "cell_type": "markdown",
      "source": [
        "### Bonos"
      ],
      "metadata": {
        "id": "waXjUUbdhNzP"
      }
    },
    {
      "cell_type": "code",
      "source": [
        "%%R\n",
        "#historia de curva gubernamental\n",
        "X_orig_bcc=fechas[X_orig_bcc,on=.(Date),nomatch=0][order(-Date)]\n",
        "X_orig_bcc=X_orig_bcc%>%select(-Date)\n",
        "\n",
        "## Historia Bono M\n",
        "X_orig_bm=fechas[X_orig_bm,on=.(Date),nomatch=0][order(-Date)]\n",
        "X_orig_bm=X_orig_bm%>%select(-Date)\n",
        "\n",
        "#Historia de curvas de bonde\n",
        "#CONSIDERAR LA CURVA GUBERNAMENTAL X1_ORIG_GOV\n",
        "X1_orig=fechas[X1_orig,on=.(Date),nomatch=0][order(-Date)]\n",
        "X1_orig=X1_orig%>%select(-Date)\n",
        "\n",
        "X2_orig_bd=fechas[X2_orig_bd,on=.(Date),nomatch=0][order(-Date)]\n",
        "X2_orig_bd=X2_orig_bd%>%select(-Date)\n",
        "\n",
        "X3_orig_bd=fechas[X3_orig_bd,on=.(Date),nomatch=0][order(-Date)]\n",
        "X3_orig_bd=X3_orig_bd%>%select(-Date)"
      ],
      "metadata": {
        "id": "QtM0-MrOaOCw"
      },
      "execution_count": 126,
      "outputs": []
    },
    {
      "cell_type": "markdown",
      "source": [
        "### Futuros"
      ],
      "metadata": {
        "id": "o9MRQQfzhNzP"
      }
    },
    {
      "cell_type": "code",
      "source": [
        "%%R\n",
        "#historia de curva gubernamental\n",
        "x_orig_gov=fechas[x_orig_gov,on=.(Date),nomatch=0][order(-Date)]\n",
        "x_orig_gov=x_orig_gov%>%select(-Date)\n",
        "\n",
        "#historia de curvas de forward tdc\n",
        "x1_ftdc=fechas[x1_ftdc,on=.(Date),nomatch=0][order(-Date)]\n",
        "x1_ftdc=x1_ftdc%>%select(-Date)/100\n",
        "x2_ftdc=fechas[x2_ftdc,on=.(Date),nomatch=0][order(-Date)]\n",
        "x2_ftdc=x2_ftdc%>%select(-Date)/100\n",
        "X3_ftdc=fechas[X3_ftdc,on=.(Date),nomatch=0][order(-Date)]\n",
        "X3_ftdc=X3_ftdc%>%select(-Date)\n",
        "\n",
        "#historia de curvas de forward ind\n",
        "X3_find=fechas[X3_find,on=.(Date),nomatch=0][order(-Date)]\n",
        "X3_find=X3_find%>%select(-Date)"
      ],
      "metadata": {
        "id": "VdKibzWvQjPn"
      },
      "execution_count": 127,
      "outputs": []
    },
    {
      "cell_type": "markdown",
      "source": [
        "### Swap's"
      ],
      "metadata": {
        "id": "hHMRtZ2ohNzP"
      }
    },
    {
      "cell_type": "code",
      "source": [
        "%%R\n",
        "X1_orig_sw=fechas[X1_orig_sw,on=.(Date),nomatch=0][order(-Date)]\n",
        "X1_orig_sw=X1_orig_sw%>%select(-Date)/100\n",
        "X2_orig_sw=fechas[X2_orig_sw,on=.(Date),nomatch=0][order(-Date)]\n",
        "X2_orig_sw=X2_orig_sw%>%select(-Date)/100"
      ],
      "metadata": {
        "id": "9cO351Vidt38"
      },
      "execution_count": 128,
      "outputs": []
    },
    {
      "cell_type": "markdown",
      "source": [
        "### Opciones"
      ],
      "metadata": {
        "id": "axQcIZEHhNzQ"
      }
    },
    {
      "cell_type": "code",
      "source": [
        "%%R\n",
        "#historia de opciones\n",
        "#Taas vp\n",
        "x1_orig_opc=fechas[x1_orig_opc,on=.(Date),nomatch=0][order(-Date)]\n",
        "x1_orig_opc=x1_orig_opc%>%select(-Date)/100\n",
        "\n",
        "#Tasa spot\n",
        "x2_orig_opc=fechas[x2_orig_opc,on=.(Date),nomatch=0][order(-Date)]\n",
        "x2_orig_opc=x2_orig_opc%>%select(-Date)/100\n",
        "\n",
        "#Volt\n",
        "x3_orig_opc=fechas[x3_orig_opc,on=.(Date),nomatch=0][order(-Date)]\n",
        "x3_orig_opc=x3_orig_opc%>%select(-Date)"
      ],
      "metadata": {
        "id": "MIj04dwIzdMy"
      },
      "execution_count": 129,
      "outputs": []
    },
    {
      "cell_type": "markdown",
      "source": [
        "# Valuación de Instrumentos"
      ],
      "metadata": {
        "id": "LrQ9UOJzx4TP"
      }
    },
    {
      "cell_type": "markdown",
      "source": [
        "## Acciones y Divisas"
      ],
      "metadata": {
        "id": "n6RzMTQryRHu"
      }
    },
    {
      "cell_type": "code",
      "source": [
        "%%R\n",
        "x0_acc_div <- precios_acc_div[1,]\n",
        "V0_acc_div <- cbind(t(pos_acc),t(pos_div))*x0_acc_div\n",
        "m_acc <- length(pos_acc)\n",
        "m_div <- length(pos_div)"
      ],
      "metadata": {
        "id": "2FHRqrtSyk-n"
      },
      "execution_count": 130,
      "outputs": []
    },
    {
      "cell_type": "markdown",
      "source": [
        "## Bonos"
      ],
      "metadata": {
        "id": "bK7fVGntyUXk"
      }
    },
    {
      "cell_type": "markdown",
      "source": [
        "### CETES"
      ],
      "metadata": {
        "id": "digPKs0bzoB0"
      }
    },
    {
      "cell_type": "code",
      "source": [
        "%%R\n",
        "m=ncol(plazos_bcc)\n",
        "x_bcc=matrix(0,n,m)\n",
        "for (i in 1:(n))\n",
        "{\n",
        "  x_bcc[i,]=if(itpl==0){approx(as.matrix(nodos_gov),as.matrix(x_orig_gov[i,]),plazos_bcc,rule=2)$y}else{talamb(as.matrix(nodos_gov),as.matrix(x_orig_gov[i,]),plazos_bcc)}\n",
        "}\n",
        "\n",
        "x0_bcc=x_bcc[1,]\n",
        "\n",
        "#función\n",
        "bonocupcero = function(i,t){\n",
        "  1/(1+i*t/360)\n",
        "}\n",
        "\n",
        "V0_bcc=as.matrix(bonocupcero(x0_bcc,plazos_bcc))*contratos_bcc*nominal_bcc #Valor actual de cada bono\n",
        "VT0_bcc=sum(V0_bcc) #Valor total del portafolio al tiempo 0"
      ],
      "metadata": {
        "id": "_DEenA6Vz3uV"
      },
      "execution_count": 131,
      "outputs": []
    },
    {
      "cell_type": "markdown",
      "source": [
        "### Bono M"
      ],
      "metadata": {
        "id": "Rc9CUiWlzoX_"
      }
    },
    {
      "cell_type": "code",
      "source": [
        "%%R\n",
        "m=ncol(plazos_bm)\n",
        "X_bm=matrix(0,n,m)\n",
        "for (i in 1:n){\n",
        "  X_bm[i,]=if(itpl==0){approx(as.matrix(nodos_bm),as.matrix(X_orig_bm[i,]),plazos_bm,rule=2)$y}else{talamb(as.matrix(nodos_bm),as.matrix(X_orig_bm[i,]),plazos_bm)}\n",
        "}\n",
        "\n",
        "#Función de valoración por tasa yield\n",
        "bonoMyield=function(x, plazos_bm, plazocupon_bm, tfcupon_bm, nominal_bm, contratos_bm){\n",
        "  N=as.integer(plazos_bm/plazocupon_bm)+1   \n",
        "  a=(1-(1+x*plazocupon_bm/360)^(-N))/(plazocupon_bm*x/360)\n",
        "  p1=plazos_bm-plazocupon_bm*(N-1)   \n",
        "  ((contratos_bm*nominal_bm*tfcupon_bm*plazocupon_bm/360)*a+(contratos_bm*nominal_bm)/((1+x*plazocupon_bm/360)^N))*(1+x*plazocupon_bm/360)^(1-p1/plazocupon_bm)   \n",
        "}\n",
        "\n",
        "x0_bm=t(as.matrix(X_bm[1,])) #tasas de descuento valor actual\n",
        "V0_bm=bonoMyield(x0_bm,plazos_bm, plazocupon_bm, tfcupon_bm, nominal_bm, contratos_bm)"
      ],
      "metadata": {
        "id": "AjteyjtK0oLO"
      },
      "execution_count": 132,
      "outputs": []
    },
    {
      "cell_type": "markdown",
      "source": [
        "### BONDE"
      ],
      "metadata": {
        "id": "ZSFjQaChzooh"
      }
    },
    {
      "cell_type": "code",
      "source": [
        "%%R\n",
        "#X2_pr=fechas[X2_orig_bd, on = .(Date),nomatch=0][order(-Date)] #Se alinea la tasa de fondeo por fecha con la tasa de valor presente.\n",
        "X2_pr=X2_orig_bd\n",
        "m=1\n",
        "\n",
        "N_bd=as.integer(plazo_bdm/plazocupon_bdm)+1 #número de cupones a pagar\n",
        "VTplazos_bdm=matrix(0,1,sum(N_bd)) #vector de todos los plazos_bdm de todos los contratos_bdm\n",
        "contratos_bdmT=matrix(0,1,sum(N_bd)) #vector de todos los contratos_bdm de todos los flujos de todos los contratos_bdm\n",
        "nominal_bdmT=matrix(0,1,sum(N_bd)) #vector de todos los nominal_bdmes de todos los flujos de todos los contratos_bdm\n",
        "plazocupon_bdmT=matrix(0,1,sum(N_bd)) #vector de todos los plazos_bdmcupon de todos los flujos de todos los contratos_bdm\n",
        "tasafijaT_bd=matrix(0,1,sum(N_bd)) #vector de tasas fijas de todos los flujos de todos los contratos_bdm\n",
        "ulNomT_bd=matrix(0,1,sum(N_bd)) #vector de contratos_bdm a final de flujo\n",
        "\n",
        "\n",
        "plazini_bd=plazo_bdm-plazocupon_bdm*(N_bd-1) #vector de plazos_bdm iniciales\n",
        "ddv=plazocupon_bdm-plazini_bd #dias trasncurridos del cupón vigente\n",
        "tfcupon=matrix(0,1,m)  #El primero cupón de cada bono\n",
        "tfcupondev=matrix(0,1,m) #cupón de los días devengados\n",
        "tfcupgen=((1+tf_act/360)^(plazocupon_bdm[1])-1)*360/plazocupon_bdm[1] #el segundo al último cupón de todos los bonos\n",
        "#calcula cupones de bonos\n",
        "for (j in (1:m)){\n",
        "  tfcupondev[j]=(prod(1+tf_int[(1:ddv[j])]/360)-1)*360/ddv[j]\n",
        "  tfcupon[j]=((1+tfcupondev[j]*ddv[j]/360)*(1+tf_act/360)^(plazocupon_bdm[1]-ddv[j])-1)*360/plazocupon_bdm[1]\n",
        "}\n",
        "\n",
        "\n",
        "for (j in (1:m))\n",
        "{\n",
        "  if (j==1)\n",
        "  {\n",
        "    VTplazos_bdm[,1:sum(N_bd[1:j])]=seq(plazini_bd[j],plazo_bdm[j], by=plazocupon_bdm[j])\n",
        "    contratos_bdmT[,1:sum(N_bd[1:j])]=seq(contratos_bdm[j],contratos_bdm[j])\n",
        "    plazocupon_bdmT[,1:sum(N_bd[1:j])]=seq(plazocupon_bdm[j],plazocupon_bdm[j])\n",
        "    ulNomT_bd[,sum(N_bd[1:j])]=contratos_bdm[j]\n",
        "    tasafijaT_bd[,1]=tfcupon[j]\n",
        "    tasafijaT_bd[,2:sum(N_bd[1:j])]=seq(tfcupgen,tfcupgen)\n",
        "  }\n",
        "  else\n",
        "  {\n",
        "    VTplazos_bdm[,(sum(N_bd[1:j-1])+1):sum(N_bd[1:j])]=seq(plazini_bd[j],plazo_bdm[j], by=plazocupon_bdm[j])\n",
        "    contratos_bdmT[,(sum(N_bd[1:j-1])+1):sum(N_bd[1:j])]=seq(contratos_bdm[j],contratos_bdm[j])\t\t\t\t\t\n",
        "    plazocupon_bdmT[,(sum(N_bd[1:j-1])+1):sum(N_bd[1:j])]=seq(plazocupon_bdm[j],plazocupon_bdm[j])\n",
        "    tasafijaT_bd[,(sum(N_bd[1:j-1])+1)]=tfcupon[j]\n",
        "    tasafijaT_bd[,(sum(N_bd[1:j-1])+2):sum(N_bd[1:j])]=seq(tfcupgen,tfcupgen)\n",
        "    ulNomT_bd[,sum(N_bd[1:j])]=contratos_bdm[j]\n",
        "  }\n",
        "}\n",
        "\n",
        "Xvp_bd=matrix(0,n,ncol(VTplazos_bdm))\n",
        "Xst_bd=matrix(0,n,ncol(VTplazos_bdm))\n",
        "\n",
        "for (i in (1:n)){\n",
        "  Xvp_bd[i,]=if(itpl==0){approx(as.matrix(nodos_gov),as.matrix(x_orig_gov[i,]),VTplazos_bdm,rule=2)$y}else{talamb(as.matrix(nodos_gov),as.matrix(x_orig_gov[i,]),VTplazos_bdm)}\n",
        "  Xst_bd[i,]=if(itpl==0){approx(as.matrix(nodos3_bd),as.matrix(X3_orig_bd[i,]),VTplazos_bdm,rule=2)$y}else{talamb(as.matrix(nodos3_bd),as.matrix(X3_orig_bd[i,]),VTplazos_bdm)}  \n",
        "}\n",
        "\n",
        "X_bd_tc=matrix(1,n,ncol(contratos_bdmT))*X2_pr$V2/100\n",
        "X_bd_ext=cbind(X_bd_tc,as.matrix(Xvp_bd),as.matrix(Xst_bd))\n",
        "\n",
        "bondeD=function(contratos_bdmT,  nominal_bdm, tf_act, plazocupon_bdmT, VTplazos_bdm, Xvp, Xst, N,ddv)\n",
        "{\n",
        "  tfcupon=matrix(0,1,m)  #El primero cupón de cada bono\n",
        "  tfcupondev=matrix(0,1,m) #cupón de los días devengados\n",
        "  tfcupgen=((1+tf_act/360)^(plazocupon_bdm[1])-1)*360/plazocupon_bdm[1] #el segundo al último cupón de todos los bonos\n",
        "  tasafijaT=matrix(0,1,sum(N))\n",
        "  #calcula cupones de bonos\n",
        "  for (j in (1:m))\n",
        "  {\n",
        "    tfcupondev[j]=(prod(1+tf_int[(1:ddv[j])]/360)-1)*360/ddv[j]\n",
        "    tfcupon[j]=((1+tfcupondev[j]*ddv[j]/360)*(1+tf_act/360)^(plazocupon_bdm[1]-ddv[j])-1)*360/plazocupon_bdm[1]\n",
        "  }\n",
        "  \n",
        "  \n",
        "  for (j in (1:m))\n",
        "  {\n",
        "    if (j==1)\n",
        "    {\n",
        "      tasafijaT[,1]=tfcupon[j]\n",
        "      tasafijaT[,2:sum(N[1:j])]=seq(tfcupgen,tfcupgen)\n",
        "    }\n",
        "    else\n",
        "    {\n",
        "      tasafijaT[,(sum(N[1:j-1])+1)]=tfcupon[j]\n",
        "      tasafijaT[,(sum(N[1:j-1])+2):sum(N[1:j])]=seq(tfcupgen,tfcupgen)\n",
        "    }\n",
        "  }\n",
        "  \n",
        "  \n",
        "  V0=matrix(0,1,count(N))\n",
        "  V0f=((((contratos_bdmT*(tasafijaT)*(plazocupon_bdmT/360))+ulNomT_bd)/(1+(Xvp+Xst)*VTplazos_bdm/360)))*nominal_bdm\n",
        "  for (j in (1:count(N)))\n",
        "  {\n",
        "    if(j==1)\n",
        "    {\n",
        "      V0[j]=sum(V0f[j:N[j]])\n",
        "    }\n",
        "    else\n",
        "    {\n",
        "      V0[j]=sum(V0f[(sum(N[1:j-1])+1):(sum(N[1:j]))])\n",
        "    }\n",
        "  }\n",
        "  V0\n",
        "} \n",
        "\n",
        "V0_bd=bondeD(contratos_bdmT, nominal_bdm, tf_act, plazocupon_bdmT, VTplazos_bdm, Xvp_bd[1,], Xst_bd[1,], N_bd,ddv)\n",
        "V0_bd"
      ],
      "metadata": {
        "colab": {
          "base_uri": "https://localhost:8080/"
        },
        "id": "iXjkMfyM1yjO",
        "outputId": "a553f371-61cb-47e3-fe29-fcc1fb064388"
      },
      "execution_count": 133,
      "outputs": [
        {
          "output_type": "stream",
          "name": "stdout",
          "text": [
            "          [,1]\n",
            "[1,] -942.9513\n"
          ]
        }
      ]
    },
    {
      "cell_type": "markdown",
      "source": [
        "## Futuros"
      ],
      "metadata": {
        "id": "-HnAGss4yWwD"
      }
    },
    {
      "cell_type": "markdown",
      "source": [
        "### Tipo de Cambio"
      ],
      "metadata": {
        "id": "as5QaPbJ5EKs"
      }
    },
    {
      "cell_type": "code",
      "source": [
        "%%R\n",
        "m=ncol(plazos_fowd)\n",
        "X1_fwtdc=matrix(0,n,m)\n",
        "X2_fwtdc=matrix(0,n,m)\n",
        "\n",
        "\n",
        "for (j in 1:n)\n",
        "{\n",
        "  X1_fwtdc[j,]=if(itpl==0){approx(as.matrix(nodos1_ftdc),as.matrix(x1_ftdc[j,]),plazos_fowd,rule=2)$y}else{talamb(as.matrix(nodos1_ftdc),as.matrix(x1_ftdc[j,]),plazos_fowd)}\n",
        "  X2_fwtdc[j,]=if(itpl==0){approx(as.matrix(nodos2_ftdc),as.matrix(x2_ftdc[j,]),plazos_fowd,rule=2)$y}else{talamb(as.matrix(nodos2_ftdc),as.matrix(x2_ftdc[j,]),plazos_fowd)}\n",
        "  if(trlib==1){X1_fwtdc[j,]=((1+X1_fwtdc[j,])^(plazos_fowd/180)-1)*360/plazos_fowd} #transformación de act 180 a 360\n",
        "}\n",
        "\n",
        "\n",
        "futuroTC = function(t,tl,tn,s,k) #t=dias por vencer, tn=tasa nacional para tipo de cambio forward, tl= tasa extranjera pra tipo de cambio forward, S=spot\n",
        "{\n",
        "  f=s*((1+tn*t/360)/(1+tl*t/360)) #Se obtiene el tipo de cambio forward\n",
        "  t(as.numeric((f-k)/(1+t*tn/360))) #Se obtiene el valor del payoff a valor presente con el valor z que define si es largo o corto\n",
        "}\n",
        "\n",
        "X3_ftdc=as.matrix(X3_ftdc)\n",
        "X_futtdc=cbind(X1_fwtdc,X2_fwtdc,X3_ftdc)\n",
        "\n",
        "V0_fwtdc=futuroTC(plazos_fowd,X1_fwtdc[1,],X2_fwtdc[1,],X3_ftdc[1,],kst_fwd)*contratos_fowd*nominal_fwd"
      ],
      "metadata": {
        "id": "GLSKlvXG5Q_S"
      },
      "execution_count": 134,
      "outputs": []
    },
    {
      "cell_type": "markdown",
      "source": [
        "### Indices"
      ],
      "metadata": {
        "id": "4pSJp2u-5EZW"
      }
    },
    {
      "cell_type": "code",
      "source": [
        "%%R\n",
        "m_ind=ncol(plazos_fwd_ind)\n",
        "X1_fwind=matrix(0,n,m_ind) #DIVIDENDOS\n",
        "X2_fwind=matrix(0,n,m_ind)\n",
        "\n",
        "for (j in 1:n)\n",
        "{\n",
        "  X2_fwind[j,]=if(itpl==0){approx(as.matrix(nodos_gov),as.matrix(x_orig_gov[j,]),plazos_fwd_ind,rule=2)$y}else{talamb(as.matrix(nodos_gov),as.matrix(x_orig_gov[j,]),plazos_fwd_ind)}\n",
        "}\n",
        "\n",
        "X3_find=as.matrix(X3_find)\n",
        "X_futind=cbind(X1_fwind,X2_fwind,matrix(X3_find,n,ncol(X2_fwind)))\n",
        "\n",
        "V0_fwind=futuroTC(plazos_fwd_ind,X1_fwind[1,],X2_fwind[1,],X3_find[1,],kst_fwd_ind)*contratos_fwd_ind*nominal_fwd_ind"
      ],
      "metadata": {
        "id": "tD_uAweK6Ewx"
      },
      "execution_count": 135,
      "outputs": []
    },
    {
      "cell_type": "markdown",
      "source": [
        "## Swap's"
      ],
      "metadata": {
        "id": "nW7JiMm3yXao"
      }
    },
    {
      "cell_type": "code",
      "source": [
        "%%R\n",
        "nodosvp=nodos1_sw\n",
        "nodostc=nodos2_sw\n",
        "curvavp=as.matrix(X1_orig_sw)\n",
        "curvatc=X2_orig_sw\n",
        "n1=nrow(curvavp)\n",
        "n2=nrow(curvatc)\n",
        "\n",
        "\n",
        "m=max(ncol(plazos_sw),1) #número de contratos_sw swap a valorar\n",
        "N=matrix(0,1,m) #es un vector de m valores donde se cargarán los m número de cupones a pagar para cada contrato\n",
        "for (j in (1:m))\n",
        "{\n",
        "  N[j]=as.integer(plazos_sw[j]/plazocupon_sw[j])+1 #número de cupones a pagar\n",
        "}\n",
        "VTplazos_sw=matrix(0,1,sum(N)) #vector de todos los plazos_sw de todos los contratos_sw\n",
        "contratos_swT=matrix(0,1,sum(N)) #vector de todos los contratos_sw de todos los flujos de todos los contratos_sw\n",
        "nominal_swT=matrix(0,1,sum(N)) #vector de todos los nominal_swes de todos los flujos de todos los contratos_sw\n",
        "por_swT=matrix(0,1,sum(N)) #vector de todos los dummy si paga o recibe de todos los flujos de todos los contratos_sw\n",
        "plazocupon_swT=matrix(0,1,sum(N)) #vector de todos los plazos_swcupon de todos los flujos de todos los contratos_sw\n",
        "tasafija_swT=matrix(0,1,sum(N)) #vector de tasas fijas de todos los flujos de todos los contratos_sw\n",
        "VTplazos_swc=matrix(0,1,sum(N)) #vector de todos los plazos_sw cortos de todos los contratos_sw\n",
        "\n",
        "plazini=plazos_sw-plazocupon_sw*(N-1) #vector de plazos_sw iniciales\n",
        "\n",
        "for (j in (1:m))\n",
        "{\n",
        "  if (j==1)\n",
        "  {\n",
        "    VTplazos_sw[,1:sum(N[1:j])]=seq(plazini[j],plazos_sw[j], by=plazocupon_sw[j])\n",
        "    VTplazos_swc[,1:sum(N[1:j])]=c(0,VTplazos_sw[,1:(sum(N[1:j])-1)])\n",
        "    contratos_swT[,1:sum(N[1:j])]=seq(contratos_sw[j],contratos_sw[j])\n",
        "    nominal_swT[,1:sum(N[1:j])]=seq(nominal_sw[j],nominal_sw[j])\n",
        "    por_swT[,1:sum(N[1:j])]=seq(por_sw[j],por_sw[j])\n",
        "    plazocupon_swT[,1:sum(N[1:j])]=seq(plazocupon_sw[j],plazocupon_sw[j])\n",
        "    tasafija_swT[,1:sum(N[1:j])]=seq(tasafija_sw[j],tasafija_sw[j])\n",
        "  }\n",
        "  else\n",
        "  {\n",
        "    VTplazos_sw[,(sum(N[1:j-1])+1):sum(N[1:j])]=seq(plazini[j],plazos_sw[j], by=plazocupon_sw[j])\n",
        "    VTplazos_swc[,(sum(N[1:j-1])+1):sum(N[1:j])]=c(0,VTplazos_sw[,(sum(N[1:j-1])+1):(sum(N[1:j])-1)])\n",
        "    contratos_swT[,(sum(N[1:j-1])+1):sum(N[1:j])]=seq(contratos_sw[j],contratos_sw[j])\t\t\t\t\t\n",
        "    nominal_swT[,(sum(N[1:j-1])+1):sum(N[1:j])]=seq(nominal_sw[j],nominal_sw[j])\n",
        "    por_swT[,(sum(N[1:j-1])+1):sum(N[1:j])]=seq(por_sw[j],por_sw[j])\n",
        "    plazocupon_swT[,(sum(N[1:j-1])+1):sum(N[1:j])]=seq(plazocupon_sw[j],plazocupon_sw[j])\n",
        "    tasafija_swT[,(sum(N[1:j-1])+1):sum(N[1:j])]=seq(tasafija_sw[j],tasafija_sw[j])\n",
        "  }\n",
        "}\n",
        "\n",
        "Xvp=matrix(0,n,ncol(VTplazos_sw))\n",
        "Xtc=matrix(0,n,ncol(VTplazos_sw))\n",
        "Xtcc=matrix(0,n,ncol(VTplazos_sw))\n",
        "XtfwdT=matrix(0,n,ncol(VTplazos_sw))\n",
        "\n",
        "for (i in (1:n))\n",
        "{\n",
        "  Xvp[i,]=if(itpl==0){approx(as.matrix(nodosvp),as.matrix(curvavp[i,]),VTplazos_sw,rule=2)$y}else{talamb(as.matrix(nodosvp),as.matrix(curvavp[i,]),VTplazos_sw)}\n",
        "  Xtc[i,]=if(itpl==0){approx(as.matrix(nodostc),as.matrix(curvatc[i,]),VTplazos_sw,rule=2)$y}else{talamb(as.matrix(nodostc),as.matrix(curvatc[i,]),VTplazos_sw)}\n",
        "  Xtcc[i,]=if(itpl==0){approx(as.matrix(nodostc),as.matrix(curvatc[i,]),VTplazos_swc, rule=2)$y}else{talamb(as.matrix(nodostc),as.matrix(curvatc[i,]),VTplazos_swc)}\n",
        "  \n",
        "  XtfwdT[i,]=((1+Xtc[i,]*VTplazos_sw/360)/(1+Xtcc[i,]*VTplazos_swc/360)-1)*360/plazocupon_swT \n",
        "  for (j in (1:ncol(VTplazos_sw)))\n",
        "  {\n",
        "    if (VTplazos_sw[j]<= plazocupon_swT[j])\n",
        "    {\n",
        "      XtfwdT[i,j]=Xtc[i,j]\n",
        "    }\n",
        "    else\n",
        "    {\n",
        "      j=sum(N[1:j])\n",
        "    }\n",
        "  }\n",
        "}\n",
        "\n",
        "X_sw=cbind(XtfwdT,Xvp)\n",
        "\n",
        "swap=function(por_swT, contratos_swT, nominal_swT, XtfwdT, tasafija_swT, plazocupon_swT, VTplazos_sw, Xvp, N)\n",
        "{\n",
        "  V0=matrix(0,1,ncol(N))\n",
        "  V0f=(((contratos_swT*(XtfwdT-tasafija_swT)*(plazocupon_swT/360)))/(1+Xvp*VTplazos_sw/360))*nominal_swT*(-1)^por_swT\n",
        "  for (j in (1:ncol(N)))\n",
        "  {\n",
        "    if(j==1)\n",
        "    {\n",
        "      V0[j]=sum(V0f[j:N[j]])\n",
        "    }\n",
        "    else\n",
        "    {\n",
        "      V0[j]=sum(V0f[(sum(N[1:j-1])+1):(sum(N[1:j]))])\n",
        "    }\n",
        "  }\n",
        "  V0\n",
        "}\n",
        "\n",
        "\n",
        "V0_sw=swap(por_swT, contratos_swT, nominal_swT, XtfwdT[1,], tasafija_swT, plazocupon_swT, VTplazos_sw, Xvp[1,], N)"
      ],
      "metadata": {
        "id": "BwDqRWKF6w7W"
      },
      "execution_count": 136,
      "outputs": []
    },
    {
      "cell_type": "markdown",
      "source": [
        "## Opciones"
      ],
      "metadata": {
        "id": "TdZAfi4vyXvZ"
      }
    },
    {
      "cell_type": "code",
      "source": [
        "%%R\n",
        "m=ncol(plazos_opc)\n",
        "x1=matrix(0,n,m)\n",
        "x2tc=matrix(0,n,m)\n",
        "x2tl=matrix(0,n,m)\n",
        "x2=matrix(0,n,m)\n",
        "x3=matrix(0,n,m)\n",
        "for (i in 1:(n))\n",
        "{\n",
        "  x1[i,]=if(itpl==0){approx(as.matrix(nodos1_opc),as.matrix(x1_orig_opc[i,]),plazos_opc,rule=2)$y}else{talamb(as.matrix(nodos1_opc),as.matrix(x1_orig_opc[i,]),plazos_opc)}\n",
        "  x2tc[i,]=if(itpl==0){approx(as.matrix(nodos2_opc),as.matrix(x2_orig_opc[i,]),plazos_opc,rule=2)$y}else{talamb(as.matrix(nodos2_opc),as.matrix(x2_orig_opc[i,]),plazos_opc)}\n",
        "  x2tl[i,]=if(itpl==0){approx(as.matrix(nodos2_opc),as.matrix(x2_orig_opc[i,]),(plazos_opc+pr_opc),rule=2)$y}else{talamb(as.matrix(nodos2_opc),as.matrix(x2_orig_opc[i,]),(plazos_opc+pr_opc))}\n",
        "  x3[i,]=if(itpl==0){approx(as.matrix(nodos3_opc),as.matrix(x3_orig_opc[i,]),plazos_opc,rule=2)$y}else{talamb(as.matrix(nodos3_opc),as.matrix(x3_orig_opc[i,]),plazos_opc)}\n",
        "  \n",
        "  x2[i,]=((1+x2tl[i,]*(plazos_opc+pr_opc)/360)/(1+x2tc[i,]*(plazos_opc)/360)-1)*360/pr_opc\n",
        "}\n",
        "\n",
        "\n",
        "x01=x1[1,] #tasas de descuento\n",
        "x02=x2[1,] #tasas spot\n",
        "x03=x3[1,] #volatilidades\n",
        "\n",
        "X_opc=cbind(x1,x2,x3)\n",
        "\n",
        "opctint = function(d,S,K_oir,vol,t,cp_oir,cs_oir,pr_oir,dct_oir)\t#función de una opción europea\n",
        "{\n",
        "  d1=if(cs_oir==1){(log(S/K_oir)+vol^2*t/(365*2))*(1/(vol*sqrt(t/365)))}else{(log(S/K_oir)+vol^2*t/(360*2))*(1/(vol*sqrt(t/360)))}\n",
        "  d2=if(cs_oir==1){(log(S/K_oir)-vol^2*t/(365*2))*(1/(vol*sqrt(t/365)))}else{(log(S/K_oir)-vol^2*t/(360*2))*(1/(vol*sqrt(t/360)))}\n",
        "  vp=if(cs_oir==1){log(1+d*t/360)*365/t}else{d}  \n",
        "  (if(cs_oir==1){(S*pnorm(d1*(-1)^cp_oir)-K_oir*pnorm(d2*(-1)^cp_oir))*(exp(-vp*t/365))*(-1)^cp_oir}else{(S*pnorm(d1*(-1)^cp_oir)-K_oir*pnorm(d2*(-1)^cp_oir))*(1/(1+vp*t/360))*(-1)^cp_oir})*(pr_oir/dct_oir)/(1+S*pr_oir/dct_oir)\n",
        "}\n",
        "\n",
        "\n",
        "V0_opc=opctint(x01,x02,K_opc,x03,plazos_opc,cp_opc,cs_opc,pr_opc,dct_opc)*contratos_opc*nominal_opc #Valor del portafolio"
      ],
      "metadata": {
        "id": "eBXMwLEK8Orm"
      },
      "execution_count": 137,
      "outputs": []
    },
    {
      "cell_type": "markdown",
      "source": [
        "# Simulación MonteCarlo"
      ],
      "metadata": {
        "id": "KtNs1xiO88gM"
      }
    },
    {
      "cell_type": "markdown",
      "source": [
        "## Integración de Factores"
      ],
      "metadata": {
        "id": "oramAfxU9EN7"
      }
    },
    {
      "cell_type": "code",
      "source": [
        "%%R\n",
        "#DIMENSION DE TODOS LOS INSTRUMENTOS\n",
        "#Son 8 instrumentos financieros (9 si separamos acciones y divisas)\n",
        "n_if=matrix(0,8,1)\n",
        "n_if[1]=ncol(precios_acc_div) #acciones y divisas\n",
        "n_if[2]=ncol(x_bcc) #cetes\n",
        "n_if[3]=ncol(X_bm) #bonos m\n",
        "n_if[4]=ncol(X_bd_ext) #bonde\n",
        "n_if[5]=ncol(X_futtdc) #fut tdc\n",
        "n_if[6]=ncol(X_futind) #fut ind\n",
        "n_if[7]=ncol(X_sw) #swaps\n",
        "n_if[8]=ncol(X_opc) #opciones tasa de interés\n",
        "\n",
        "#valor del portafolios\n",
        "\n",
        "V0_port=cbind(V0_acc_div,V0_bcc, V0_bm, V0_bd, V0_fwtdc, V0_fwind, V0_sw, V0_opc) #contrato\n",
        "V0T_port=sum(V0_port)\n",
        "\n",
        "\n",
        "#INTEGRACIÓN DE TODOS LOS FACTORES DE RIESGO EN UNA MATRIZ\n",
        "X_port=cbind(precios_acc_div,x_bcc,X_bm,X_bd_ext,X_futtdc,X_futind,X_sw,X_opc) #Factores de riesgo del portafolios de 8(9) instrumentos financieros"
      ],
      "metadata": {
        "id": "f0c92ABR9HhG"
      },
      "execution_count": 138,
      "outputs": []
    },
    {
      "cell_type": "code",
      "source": [
        "%%R\n",
        "MonteCarlo <- function(ChCP,normempi,Ns,DeltaX_port,eta){\n",
        "  mT=ncol(DeltaX_port)\n",
        "  VarDeltaX=if(ChCP==0){cor(DeltaX_port)}else{var(DeltaX_port)*(ncol(DeltaX_port)/(ncol(DeltaX_port)-1))}\n",
        "\n",
        "  if(ChCP==0) {#Cholesky\n",
        "    CVarDeltaX=as.matrix(chol(VarDeltaX,pivot=TRUE))\n",
        "    CVarDeltaX[is.nan(CVarDeltaX)] <- 0 #quitamos NaN\n",
        "    CVarDeltaX[is.na(CVarDeltaX)] <- 0 #quitamos Na\n",
        "    M=matrix(0, Ns,mT)\n",
        "    if(normempi==1){\n",
        "      for (i in 1:mT){\n",
        "        M[,i]=quantile(DeltaX_port[,i],runif(Ns))\n",
        "      }\n",
        "      Met='Cholesky Empírico'\n",
        "    } else\t{\n",
        "      for (i in 1:mT){\n",
        "        M[,i]=rnorm(Ns)*sd(DeltaX_port[,i])*(mT/(mT-1))+mean(DeltaX_port[,i])\n",
        "      }\n",
        "      Met='Cholesky Normal'\n",
        "    }\n",
        "    DeltaX_s=M%*%CVarDeltaX  #Factores de riesgo simulados\n",
        "  } else { #componentes principales\n",
        "    G<-eigen(VarDeltaX)      #eigenvectores\n",
        "    g1<-G$values                  #eigenvalores\n",
        "    g1p=g1/sum(g1)\n",
        "  \n",
        "    g1pac=cumsum(g1p) #suma acumulada de varianza\n",
        "  \n",
        "    k=which.max(g1pac>eta) #valor mínimo k\n",
        "  \n",
        "    y=as.matrix((DeltaX_port-colMeans(DeltaX_port)))%*%G$vectors[,1:k] #componentes principales\n",
        "    M=matrix(0, Ns,k)\n",
        "    if(normempi==0){\n",
        "      for (i in 1:k){\n",
        "        M[,i]=rnorm(Ns)*sd(y[,i])+mean(y[,i])\n",
        "      }\n",
        "      Met='Componentes Principales Normales'\n",
        "    } else\t{\n",
        "      for (i in 1:k){\n",
        "        M[,i]=quantile(y[,i],runif(Ns))\n",
        "      }\n",
        "      Met='Componentes Principales Empíricos'\n",
        "    }\n",
        "    DeltaX_s=M%*% t(G$vectors[,1:k]) #Factores de riesgo simulados\n",
        "  }\n",
        "  ret <- list()\n",
        "  ret[[1]] <- Met\n",
        "  ret[[2]] <- DeltaX_s\n",
        "  return(ret)\n",
        "}"
      ],
      "metadata": {
        "id": "mdtapClhFHDP"
      },
      "execution_count": 139,
      "outputs": []
    },
    {
      "cell_type": "code",
      "source": [
        "%%R\n",
        "#Cálculo de variaciones Delta_X DEL PORTAFOLIOS\n",
        "DeltaX_port=as.matrix(X_port[1:(n-1),]/X_port[2:(n),]-1)\n",
        "DeltaX_port[is.nan(DeltaX_port)] <- 0 #quitamos NaN\n",
        "DeltaX_port[is.na(DeltaX_port)] <- 0 #quitamos Na\n",
        "DeltaX_port[is.infinite(DeltaX_port)] <- 0 #quitamos Na\n",
        "\n",
        "\n",
        "Ns=10000 #Definimos número de simulaciones\n",
        "alpha=0.98 #Nivel de Confianza para las medidas de riesgo\n",
        "ChCP=1  #0 Cholesky, 1 Componentes Principales\n",
        "normempi=1 #0 normal, 1 empírico\n",
        "eta=.85 #Varianza explicada  (sólo aplica para Componentes Principales)\n",
        "\n",
        "aux <- MonteCarlo(ChCP,normempi,Ns,DeltaX_port,eta)\n",
        "Met <- aux[[1]]\n",
        "DeltaX_s <- aux[[2]]\n",
        "print(Met)\n",
        "\n",
        "#Ms1='Se explica el' \n",
        "#Ms2= 'de varianza'\n",
        "#Ms3= 'de suma de var-cov'\n",
        "\n",
        "#print(Ms1)\n",
        "#sum(diag(var(DeltaX_s)))/sum(diag(var(DeltaX_port))) #Comprobación de matriz de varianza-cov vs original\n",
        "#print(Ms2)\n",
        "\n",
        "#print(Ms1)\n",
        "#(matrix(1,1,ncol(DeltaX_s))%*%var(DeltaX_s)%*%t(matrix(1,1,ncol(DeltaX_s)))/matrix(1,1,ncol(DeltaX_s))%*%var(DeltaX_port)%*%t(matrix(1,1,ncol(DeltaX_s))))[1] #Comprobación de matriz de varianza-cov vs original\n",
        "#print(Ms3)\n",
        "#print(mT)\n",
        "#print(k) #número de variables simuladas CP"
      ],
      "metadata": {
        "colab": {
          "base_uri": "https://localhost:8080/"
        },
        "id": "f-ELvpRA-FXv",
        "outputId": "5cc82873-5b09-471f-f1dd-535b6fd9d1bb"
      },
      "execution_count": 255,
      "outputs": [
        {
          "output_type": "stream",
          "name": "stdout",
          "text": [
            "[1] \"Componentes Principales Empíricos\"\n"
          ]
        }
      ]
    },
    {
      "cell_type": "markdown",
      "source": [
        "# Medición de Riesgo\n",
        "\n"
      ],
      "metadata": {
        "id": "yq4MDaHLDDJY"
      }
    },
    {
      "cell_type": "code",
      "source": [
        "%%R\n",
        "Met"
      ],
      "metadata": {
        "colab": {
          "base_uri": "https://localhost:8080/"
        },
        "id": "SKnOIqIKO-I5",
        "outputId": "db46a0e9-0332-4ccd-d758-ac9d17361579"
      },
      "execution_count": 256,
      "outputs": [
        {
          "output_type": "stream",
          "name": "stdout",
          "text": [
            "[1] \"Componentes Principales Empíricos\"\n"
          ]
        }
      ]
    },
    {
      "cell_type": "markdown",
      "source": [
        "## Acciones y Divisas"
      ],
      "metadata": {
        "id": "PkSI3oltMTli"
      }
    },
    {
      "cell_type": "code",
      "source": [
        "%%R\n",
        "m=n_if[1]   #PASO CLAVE\n",
        "X_s_acc_div=matrix(0,Ns,n_if[1]) #Factores de riesgo simulados con base en DeltaX_s x0*(1+Delta_Xs)   #PASO CLAVE\n",
        "V_acc_div=matrix(0,Ns,m) #valor simulado a nivel contrato de acciones y tdc\n",
        "Vfr1_acc_div=matrix(0,Ns,m_div) #valor simulado a nivel contrato de tdc\n",
        "Vfr2_acc_div=matrix(0,Ns,m_acc) #valor simulado a nivel contrato de acciones\n",
        "\n",
        "PG_acc_div=matrix(0,Ns,m) #Pèrdidas y ganancias\n",
        "PGfr1_acc_div=matrix(0,Ns,m_div) \n",
        "PGfr2_acc_div=matrix(0,Ns,m_acc)\n",
        "\n",
        "PGT_acc_div=matrix(0,Ns,1) #TOTAL ACC Y DIV\n",
        "PGfr1T_acc_div=matrix(0,Ns,1) #total factor riesgo divisas\n",
        "PGfr2T_acc_div=matrix(0,Ns,1) #total factor riesgo acciones\n",
        "\n",
        "DeltaX_s_acc_div=DeltaX_s[,(1:n_if[1])]    #PASO CLAVE\n",
        "x0_acc_div=precios_acc_div[1,]   #PASO CLAVE\n",
        "\n",
        "for (i in 1:Ns){\n",
        "  X_s_acc_div[i,]=as.matrix(x0_acc_div*(1+DeltaX_s_acc_div[i,]))\n",
        "  X_s_acc_div[i,] = cbind(X_s_acc_div[i,(m_acc+1):(m_acc+m_div)],X_s_acc_div[i,1:m_acc])\n",
        "  #PASO CLAVE\n",
        "  V_acc_div[i,]=cbind(t(pos_div),t(pos_acc))*X_s_acc_div[i,]\n",
        "  #PASO CLAVE\n",
        "  Vfr1_acc_div[i,]=t(pos_div)*X_s_acc_div[i,1:m_div]\n",
        "  #PASO CLAVE\n",
        "  Vfr2_acc_div[i,]=t(pos_acc)*X_s_acc_div[i,(m_div+1):(m_div+m_acc)]\n",
        "  #PASO CLAVE\n",
        "  PG_acc_div[i,]=as.matrix(V_acc_div[i,]-cbind(V0_acc_div[,(m_acc+1):(m_acc+m_div)],V0_acc_div[,1:m_acc]))\n",
        "  PGfr1_acc_div[i,]=as.matrix(Vfr1_acc_div[i,]-V0_acc_div[,(m_acc+1):(m_div+m_acc)])\n",
        "  PGfr2_acc_div[i,]=as.matrix(Vfr2_acc_div[i,]-V0_acc_div[,1:m_acc])\n",
        "  PGT_acc_div[i,]=sum(PG_acc_div[i,])\n",
        "  PGfr1T_acc_div[i,]=sum(PGfr1_acc_div[i,])\n",
        "  PGfr2T_acc_div[i,]=sum(PGfr2_acc_div[i,])\n",
        "}\n",
        "\n",
        "#VaR por posición\n",
        "VaRCont_acc_div=matrix(0,1,m)\n",
        "VaRfr1_acc_div=matrix(0,1,m_div)\n",
        "VaRfr2_acc_div=matrix(0,1,m_acc)\n",
        "\n",
        "CVaRCont_acc_div=matrix(0,1,m)\n",
        "CVaRfr1_acc_div=matrix(0,1,m_div)\n",
        "CVaRfr2_acc_div=matrix(0,1,m_acc)\n",
        "for (i in (1:m)){\n",
        "  VaRCont_acc_div[i]=quantile(PG_acc_div[,i],1-alpha,Ns)\n",
        "  CVaRCont_acc_div[i]= mean(merge(which(PG_acc_div[,i]<VaRCont_acc_div[i]),cbind(seq(1,Ns),PG_acc_div[,i]), by.x=1,by.y=1)[,2])\n",
        "  if (i<=m_div){\n",
        "    VaRfr1_acc_div[i]=quantile(PGfr1_acc_div[,i],1-alpha,Ns)\n",
        "    CVaRfr1_acc_div[i]= mean(merge(which(PGfr1_acc_div[,i]<VaRfr1_acc_div[i]),cbind(seq(1,Ns),PGfr1_acc_div[,i]), by.x=1,by.y=1)[,2])\n",
        "  }\n",
        "  if (i<=m_acc){  \n",
        "    VaRfr2_acc_div[i]=quantile(PGfr2_acc_div[,i],1-alpha,Ns)\n",
        "    CVaRfr2_acc_div[i]= mean(merge(which(PGfr2_acc_div[,i]<VaRfr2_acc_div[i]),cbind(seq(1,Ns),PGfr2_acc_div[,i]), by.x=1,by.y=1)[,2])\n",
        "  }\n",
        "}\n",
        "\n",
        "\n",
        "#VaR Total\n",
        "VaRTotal_acc_div=quantile(PGT_acc_div,1-alpha,Ns)\n",
        "CVaRTotal_acc_div= mean(merge(which(PGT_acc_div<VaRTotal_acc_div),cbind(seq(1,Ns),PGT_acc_div), by.x=1,by.y=1)[,2])\n",
        "VaRTotalfr1_acc_div=quantile(PGfr1T_acc_div,1-alpha,Ns)\n",
        "CVaRTotalfr1_acc_div= mean(PGfr1T_acc_div[which(PGfr1T_acc_div<VaRTotalfr1_acc_div),])\n",
        "VaRTotalfr2_acc_div=quantile(PGfr2T_acc_div,1-alpha,Ns)\n",
        "CVaRTotalfr2_acc_div= mean(PGfr2T_acc_div[which(PGfr2T_acc_div<VaRTotalfr2_acc_div),])"
      ],
      "metadata": {
        "id": "JgxYmMmD3rWq"
      },
      "execution_count": 257,
      "outputs": []
    },
    {
      "cell_type": "code",
      "source": [
        "%%R\n",
        "VaR_acc_div <- rbind(VaRCont_acc_div,CVaRCont_acc_div)\n",
        "rownames(VaR_acc_div) <- c(\"VaR\",\"CVaR\")\n",
        "colnames(VaR_acc_div) <- c(div_names,acc_names)\n",
        "\n",
        "print(\"VaR de acciones y divisas\")\n",
        "print(VaR_acc_div)\n",
        "\n",
        "VaRT_acc_div <- rbind(cbind(VaRTotal_acc_div,VaRTotalfr1_acc_div,VaRTotalfr2_acc_div),cbind(CVaRTotal_acc_div,CVaRTotalfr1_acc_div,CVaRTotalfr2_acc_div))\n",
        "rownames(VaRT_acc_div) <- c(\"VaR\",\"CVaR\")\n",
        "colnames(VaRT_acc_div) <- c(\"Total\",\"Divisas\",\"Acciones\")\n",
        "\n",
        "print(\"VaR Total de acciones y divisas\")\n",
        "print(VaRT_acc_div)"
      ],
      "metadata": {
        "colab": {
          "base_uri": "https://localhost:8080/"
        },
        "id": "PI8nTOZI5dhw",
        "outputId": "02b710fb-2d11-4a5a-bb38-075e0fbc99ec"
      },
      "execution_count": 258,
      "outputs": [
        {
          "output_type": "stream",
          "name": "stdout",
          "text": [
            "[1] \"VaR de acciones y divisas\"\n",
            "         Euros    Libras   Dolares   America     Carso   Walmart\n",
            "VaR  -20.60366 -21.64630 -65.59278 -1142.584 -2729.956 -813.5986\n",
            "CVaR -27.05864 -27.31442 -78.97219 -1360.317 -3233.788 -958.8093\n",
            "[1] \"VaR Total de acciones y divisas\"\n",
            "         Total   Divisas  Acciones\n",
            "VaR  -2619.184 -68.52375 -2620.145\n",
            "CVaR -3105.404 -82.41651 -3122.039\n"
          ]
        }
      ]
    },
    {
      "cell_type": "markdown",
      "source": [
        "## Bonos"
      ],
      "metadata": {
        "id": "qXgKEmxZMUB7"
      }
    },
    {
      "cell_type": "code",
      "source": [
        "%%R\n",
        "\n",
        "#Cálculo de matriz de pérdidas y ganancias BONDES\n",
        "#dimensión\n",
        "m=count(N_bd)    #PASO CLAVE\n",
        "X_s_bd=matrix(0,Ns,n_if[4]) #Factores de riesgo simulados con base en DeltaX_s x0*(1+Delta_Xs)   #PASO CLAVE\n",
        "V_bd=matrix(0,Ns,m)\n",
        "Vfr1_bd=matrix(0,Ns,m)#Fondeo\n",
        "Vfr2_bd=matrix(0,Ns,m)#Guber\n",
        "Vfr3_bd=matrix(0,Ns,m)#Desc\n",
        "PG_bd=matrix(0,Ns,m) #Pèrdidas y ganancias\n",
        "PGfr1_bd=matrix(0,Ns,m)\n",
        "PGfr2_bd=matrix(0,Ns,m)\n",
        "PGfr3_bd=matrix(0,Ns,m)\n",
        "PGT_bd=matrix(0,Ns,1)\n",
        "PGfr1T_bd=matrix(0,Ns,1)\n",
        "PGfr2T_bd=matrix(0,Ns,1)\n",
        "PGfr3T_bd=matrix(0,Ns,1)\n",
        "\n",
        "DeltaX_s_bd=DeltaX_s[,sum(n_if[1:3],1):sum(n_if[1:4])]    #PASO CLAVE\n",
        "x0_bd=X_bd_ext[1,]    #PASO CLAVE\n",
        "\n",
        "for (i in 1:Ns)\n",
        "{\n",
        "  X_s_bd[i,]=x0_bd*(1+DeltaX_s_bd[i,])\n",
        "  #PASO CLAVE\n",
        "  V_bd[i,]=bondeD(contratos_bdmT, nominal_bdm, X_s_bd[i,1], plazocupon_bdmT, VTplazos_bdm, X_s_bd[i,(n_if[4]/3+1):(n_if[4]*2/3)], X_s_bd[i,(n_if[4]*2/3+1):(n_if[4])], N_bd,ddv)\n",
        "  #PASO CLAVE\n",
        "  Vfr1_bd[i,]=bondeD(contratos_bdmT, nominal_bdm, X_s_bd[i,1], plazocupon_bdmT, VTplazos_bdm, x0_bd[(n_if[4]/3+1):(n_if[4]*2/3)], x0_bd[(n_if[4]*2/3+1):(n_if[4])], N_bd,ddv)\n",
        "  #PASO CLAVE\n",
        "  Vfr2_bd[i,]=bondeD(contratos_bdmT, nominal_bdm, x0_bd[1], plazocupon_bdmT, VTplazos_bdm, X_s_bd[i,(n_if[4]/3+1):(n_if[4]*2/3)], x0_bd[(n_if[4]*2/3+1):(n_if[4])], N_bd,ddv)\n",
        "  #PASO CLAVE\n",
        "  Vfr3_bd[i,]=bondeD(contratos_bdmT, nominal_bdm, x0_bd[1], plazocupon_bdmT, VTplazos_bdm, x0_bd[(n_if[4]/3+1):(n_if[4]*2/3)], X_s_bd[i,(n_if[4]*2/3+1):(n_if[4])], N_bd,ddv)\n",
        "  #PASO CLAVE\n",
        "  PG_bd[i,]=V_bd[i,]-V0_bd\n",
        "  PGfr1_bd[i,]=Vfr1_bd[i,]-V0_bd\n",
        "  PGfr2_bd[i,]=Vfr2_bd[i,]-V0_bd\n",
        "  PGfr3_bd[i,]=Vfr3_bd[i,]-V0_bd\n",
        "  PGT_bd[i,]=sum(PG_bd[i,])\n",
        "  PGfr1T_bd[i,]=sum(PGfr1_bd[i,])\n",
        "  PGfr2T_bd[i,]=sum(PGfr2_bd[i,])\n",
        "  PGfr3T_bd[i,]=sum(PGfr3_bd[i,])\n",
        "}\n",
        "\n",
        "#VaR por posición\n",
        "VaRCont_bd=matrix(0,1,m)\n",
        "VaRfr1_bd=matrix(0,1,m)\n",
        "VaRfr2_bd=matrix(0,1,m)\n",
        "VaRfr3_bd=matrix(0,1,m)\n",
        "CVaRCont_bd=matrix(0,1,m)\n",
        "CVaRfr1_bd=matrix(0,1,m)\n",
        "CVaRfr2_bd=matrix(0,1,m)\n",
        "CVaRfr3_bd=matrix(0,1,m)\n",
        "for (i in (1:m)){\n",
        "  VaRCont_bd[i]=quantile(PG_bd[,i],1-alpha,Ns)\n",
        "  VaRfr1_bd[i]=quantile(PGfr1_bd[,i],1-alpha,Ns)\n",
        "  VaRfr2_bd[i]=quantile(PGfr2_bd[,i],1-alpha,Ns)\n",
        "  VaRfr3_bd[i]=quantile(PGfr3_bd[,i],1-alpha,Ns)\n",
        "  CVaRfr1_bd[i]= mean(merge(which(PGfr1_bd[,i]<VaRfr1_bd[i]),cbind(seq(1,Ns),PGfr1_bd[,i]), by.x=1,by.y=1)[,2])\n",
        "  CVaRfr2_bd[i]= mean(merge(which(PGfr2_bd[,i]<VaRfr2_bd[i]),cbind(seq(1,Ns),PGfr2_bd[,i]), by.x=1,by.y=1)[,2])\n",
        "  CVaRfr3_bd[i]= mean(merge(which(PGfr3_bd[,i]<VaRfr3_bd[i]),cbind(seq(1,Ns),PGfr3_bd[,i]), by.x=1,by.y=1)[,2])\n",
        "  CVaRCont_bd[i]= mean(merge(which(PG_bd[,i]<VaRCont_bd[i]),cbind(seq(1,Ns),PG_bd[,i]), by.x=1,by.y=1)[,2])\n",
        "}\n",
        "\n",
        "#VaR Total\n",
        "VaRTotal_bd=quantile(PGT_bd,1-alpha,Ns)\n",
        "CVaRTotal_bd= mean(merge(which(PGT_bd<VaRTotal_bd),cbind(seq(1,Ns),PGT_bd), by.x=1,by.y=1)[,2])\n",
        "VaRTotalfr1_bd=quantile(PGfr1T_bd,1-alpha,Ns)\n",
        "CVaRTotalfr1_bd= mean(PGfr1T_bd[which(PGfr1T_bd<VaRTotalfr1_bd),])\n",
        "VaRTotalfr2_bd=quantile(PGfr2T_bd,1-alpha,Ns)\n",
        "CVaRTotalfr2_bd= mean(PGfr2T_bd[which(PGfr2T_bd<VaRTotalfr2_bd),])\n",
        "VaRTotalfr3_bd=quantile(PGfr3T_bd,1-alpha,Ns)\n",
        "CVaRTotalfr3_bd= mean(PGfr3T_bd[which(PGfr2T_bd<VaRTotalfr2_bd),])"
      ],
      "metadata": {
        "id": "4e4C_5Yh8dXP"
      },
      "execution_count": 259,
      "outputs": []
    },
    {
      "cell_type": "code",
      "source": [
        "%%R\n",
        "VaR_bd <- rbind(cbind(VaRTotal_bd,VaRTotalfr1_bd,VaRTotalfr2_bd,VaRTotalfr3_bd),cbind(CVaRTotal_bd,CVaRTotalfr1_bd,CVaRTotalfr2_bd,CVaRTotalfr3_bd))\n",
        "colnames(VaR_bd) <- c(\"Total\",\"Fondeo\",\"Guber\",\"Desc\")\n",
        "rownames(VaR_bd) <- c(\"VaR\",\"CVaR\")\n",
        "\n",
        "print(\"VaR del BONDE\")\n",
        "print(VaR_bd)"
      ],
      "metadata": {
        "colab": {
          "base_uri": "https://localhost:8080/"
        },
        "id": "TKfH8W-xAIC8",
        "outputId": "ca827283-c4d3-4a7d-ee3b-6c861f58342c"
      },
      "execution_count": 260,
      "outputs": [
        {
          "output_type": "stream",
          "name": "stdout",
          "text": [
            "[1] \"VaR del BONDE\"\n",
            "         Total    Fondeo     Guber       Desc\n",
            "VaR  -5.816561 -5.162887 -2.014550 -0.2722541\n",
            "CVaR -8.652208 -7.998269 -2.697213 -0.5174403\n"
          ]
        }
      ]
    },
    {
      "cell_type": "markdown",
      "source": [
        "## Futuros"
      ],
      "metadata": {
        "id": "xJQbUeRmM2oY"
      }
    },
    {
      "cell_type": "markdown",
      "source": [
        "### Tipo de Cambio"
      ],
      "metadata": {
        "id": "DFuX7T97M-Mb"
      }
    },
    {
      "cell_type": "code",
      "source": [
        "%%R\n",
        "m=ncol(plazos_fowd)  #PASO CLAVE\n",
        "X_s_fwtdc=matrix(0,Ns,n_if[5]) #Factores de riesgo simulados con base en DeltaX_s x0*(1+Delta_Xs) #PASO CLAVE\n",
        "V_fwtdc=matrix(0,Ns,m)\n",
        "Vfr1_fwtdc=matrix(0,Ns,m)\n",
        "Vfr2_fwtdc=matrix(0,Ns,m)\n",
        "Vfr3_fwtdc=matrix(0,Ns,m)\n",
        "\n",
        "PG_fwtdc=matrix(0,Ns,m) #Pèrdidas y ganancias\n",
        "PGfr1_fwtdc=matrix(0,Ns,m)\n",
        "PGfr2_fwtdc=matrix(0,Ns,m)\n",
        "PGfr3_fwtdc=matrix(0,Ns,m)\n",
        "\n",
        "DeltaX_s_fwtdc=DeltaX_s[,sum(n_if[1:4],1):sum(n_if[1:5])]  #PASO CLAVE\n",
        "x0_fwtdc=X_futtdc[1,] #PASO CLAVE\n",
        "\n",
        "for (i in 1:Ns){\n",
        "  X_s_fwtdc[i,]=x0_fwtdc*exp(DeltaX_s_fwtdc[i,])\n",
        "  Vfr1_fwtdc[i,]=futuroTC(plazos_fowd,X_s_fwtdc[i,1:((n_if[5]-1)/2)],x0_fwtdc[((n_if[5]-1)/2+1):(n_if[5]-1)],x0_fwtdc[(n_if[5])],kst_fwd)*contratos_fowd*nominal_fwd\n",
        "  Vfr2_fwtdc[i,]=futuroTC(plazos_fowd,x0_fwtdc[1:((n_if[5]-1)/2)],X_s_fwtdc[i,((n_if[5]-1)/2+1):(n_if[5]-1)],x0_fwtdc[(n_if[5])],kst_fwd)*contratos_fowd*nominal_fwd\n",
        "  Vfr3_fwtdc[i,]=futuroTC(plazos_fowd,x0_fwtdc[1:((n_if[5]-1)/2)],x0_fwtdc[((n_if[5]-1)/2+1):(n_if[5]-1)],X_s_fwtdc[i,(n_if[5])],kst_fwd)*contratos_fowd*nominal_fwd\n",
        " \n",
        "  PGfr1_fwtdc[i,]=Vfr1_fwtdc[i,]-V0_fwtdc\n",
        "  PGfr2_fwtdc[i,]=Vfr2_fwtdc[i,]-V0_fwtdc\n",
        "  PGfr3_fwtdc[i,]=Vfr3_fwtdc[i,]-V0_fwtdc\n",
        "  PG_fwtdc[i,]=PGfr1_fwtdc[i,]+PGfr2_fwtdc[i,]+PGfr3_fwtdc[i,]\n",
        "}\n",
        "\n",
        "VaRTotal_ftdc=quantile(PG_fwtdc,1-alpha,Ns)\n",
        "VaRTotalfr1_ftdc=quantile(PGfr1_fwtdc,1-alpha,Ns)\n",
        "VaRTotalfr2_ftdc=quantile(PGfr2_fwtdc,1-alpha,Ns)\n",
        "VaRTotalfr3_ftdc=quantile(PGfr3_fwtdc,1-alpha,Ns)\n",
        "\n",
        "CVaRTotal_ftdc= mean(merge(which(PG_fwtdc<VaRTotal_ftdc),cbind(seq(1,Ns),PG_fwtdc), by.x=1,by.y=1)[,2])\n",
        "CVaRTotalfr1_ftdc= mean(PGfr1_fwtdc[which(PGfr1_fwtdc<VaRTotalfr1_ftdc),])\n",
        "CVaRTotalfr2_ftdc= mean(PGfr2_fwtdc[which(PGfr2_fwtdc<VaRTotalfr2_ftdc),])\n",
        "CVaRTotalfr3_ftdc= mean(PGfr3_fwtdc[which(PGfr3_fwtdc<VaRTotalfr3_ftdc),])"
      ],
      "metadata": {
        "id": "kO0v8_M5Bt6K"
      },
      "execution_count": 261,
      "outputs": []
    },
    {
      "cell_type": "code",
      "source": [
        "%%R\n",
        "VaR_ftdc <- rbind(cbind(VaRTotal_ftdc,VaRTotalfr1_ftdc,VaRTotalfr2_ftdc,VaRTotalfr3_ftdc),cbind(CVaRTotal_ftdc,CVaRTotalfr1_ftdc,CVaRTotalfr2_ftdc,CVaRTotalfr3_ftdc))\n",
        "colnames(VaR_ftdc) <- c(\"Total\",\"Tasa Ext\",\"Tasa Dom\",\"TDC\")\n",
        "rownames(VaR_ftdc) <- c(\"VaR\",\"CVaR\")\n",
        "\n",
        "print(\"VaR total y por factor de riesgos\")\n",
        "print(VaR_ftdc)"
      ],
      "metadata": {
        "colab": {
          "base_uri": "https://localhost:8080/"
        },
        "id": "FFQB8yCYDPID",
        "outputId": "52c0a55f-0b5f-45db-8a99-54808df278b7"
      },
      "execution_count": 262,
      "outputs": [
        {
          "output_type": "stream",
          "name": "stdout",
          "text": [
            "[1] \"VaR total y por factor de riesgos\"\n",
            "         Total     Tasa Ext    Tasa Dom       TDC\n",
            "VaR  -4.365900 -0.002087720 -0.02178657 -4.365715\n",
            "CVaR -5.256553 -0.002638632 -0.02776965 -5.254852\n"
          ]
        }
      ]
    },
    {
      "cell_type": "markdown",
      "source": [
        "### Indices"
      ],
      "metadata": {
        "id": "AMnRaQZoM-bO"
      }
    },
    {
      "cell_type": "code",
      "source": [
        "%%R\n",
        "#Cálculo de matriz de pérdidas y ganancias FUTUROS IPC\n",
        "m=ncol(plazos_fwd_ind)  #PASO CLAVE\n",
        "X_s_fwind=matrix(0,Ns,n_if[6]) #Factores de riesgo simulados con base en DeltaX_s x0*(1+Delta_Xs) #PASO CLAVE\n",
        "Vfr1_fwind=matrix(0,Ns,m)#Dividendos\n",
        "Vfr2_fwind=matrix(0,Ns,m)#Tasa guver\n",
        "Vfr3_fwind=matrix(0,Ns,m)#IPC\n",
        "\n",
        "PGT_fwind=matrix(0,Ns,1)\n",
        "PGfr1T_fwind=matrix(0,Ns,1)\n",
        "PGfr2T_fwind=matrix(0,Ns,1)\n",
        "PGfr3T_fwind=matrix(0,Ns,1)\n",
        "\n",
        "DeltaX_s_fwind=DeltaX_s[,sum(n_if[1:5],1):sum(n_if[1:6])]  #PASO CLAVE\n",
        "x0_fwind=X_futind[1,] #PASO CLAVE\n",
        "\n",
        "for (i in 1:Ns)\n",
        "{\n",
        "  X_s_fwind[i,]=x0_fwind* exp(DeltaX_s_fwind[i,])\n",
        "  Vfr1_fwind[i,]=futuroTC(plazos_fwd_ind,X_s_fwind[i,1:(n_if[6]/3)],x0_fwind[(n_if[6]/3+1):(n_if[6]*2/3)],x0_fwind[(n_if[6]*2/3+1):n_if[6]],kst_fwd_ind)*contratos_fwd_ind*nominal_fwd_ind \n",
        "  Vfr2_fwind[i,]=futuroTC(plazos_fwd_ind,x0_fwind[1:(n_if[6]/3)],X_s_fwind[i,(n_if[6]/3+1):(n_if[6]*2/3)],x0_fwind[(n_if[6]*2/3+1):n_if[6]],kst_fwd_ind)*contratos_fwd_ind*nominal_fwd_ind \n",
        "  Vfr3_fwind[i,]=futuroTC(plazos_fwd_ind,x0_fwind[1:(n_if[6]/3)],x0_fwind[(n_if[6]/3+1):(n_if[6]*2/3)],X_s_fwind[i,(n_if[6]*2/3+1):n_if[6]],kst_fwd_ind)*contratos_fwd_ind*nominal_fwd_ind \n",
        " \n",
        "  PGfr1T_fwind[i,]=Vfr1_fwind[i,]-V0_fwind\n",
        "  PGfr2T_fwind[i,]=Vfr2_fwind[i,]-V0_fwind\n",
        "  PGfr3T_fwind[i,]=Vfr3_fwind[i,]-V0_fwind\n",
        "  PGT_fwind[i,] = PGfr1T_fwind[i,]+PGfr2T_fwind[i,]+PGfr3T_fwind[i,]\n",
        "}\n",
        "\n",
        "VaRTotal_find=quantile(PGT_fwind,1-alpha,Ns)\n",
        "VaRTotalfr1_find=quantile(PGfr1T_fwind,1-alpha,Ns)\n",
        "VaRTotalfr2_find=quantile(PGfr2T_fwind,1-alpha,Ns)\n",
        "VaRTotalfr3_find=quantile(PGfr3T_fwind,1-alpha,Ns)\n",
        "\n",
        "CVaRTotal_find= mean(merge(which(PGT_fwind<VaRTotal_find),cbind(seq(1,Ns),PGT_fwind), by.x=1,by.y=1)[,2])\n",
        "CVaRTotalfr1_find= mean(PGfr1T_fwind[which(PGfr1T_fwind<VaRTotalfr1_find),])\n",
        "CVaRTotalfr2_find= mean(PGfr2T_fwind[which(PGfr2T_fwind<VaRTotalfr2_find),])\n",
        "CVaRTotalfr3_find= mean(PGfr3T_fwind[which(PGfr3T_fwind<VaRTotalfr3_find),])"
      ],
      "metadata": {
        "id": "v5sZPw3wEHZL"
      },
      "execution_count": 263,
      "outputs": []
    },
    {
      "cell_type": "code",
      "source": [
        "%%R\n",
        "VaR_find <- rbind(cbind(VaRTotal_find,VaRTotalfr1_find,VaRTotalfr2_find,VaRTotalfr3_find),cbind(CVaRTotal_find,CVaRTotalfr1_find,CVaRTotalfr2_find,CVaRTotalfr3_find))\n",
        "colnames(VaR_find) <- c(\"Total\",\"Dividendos\",\"Guber\",\"Ind\")\n",
        "rownames(VaR_find) <- c(\"VaR\",\"CVaR\")\n",
        "\n",
        "print(\"VaR total y por factor de riesgos\")\n",
        "print(VaR_find)"
      ],
      "metadata": {
        "colab": {
          "base_uri": "https://localhost:8080/"
        },
        "id": "NEmC8B_PEot6",
        "outputId": "7141e168-9f39-4779-c123-050d33304332"
      },
      "execution_count": 264,
      "outputs": [
        {
          "output_type": "stream",
          "name": "stdout",
          "text": [
            "[1] \"VaR total y por factor de riesgos\"\n",
            "         Total Dividendos     Guber       Ind\n",
            "VaR  -32396.09          0 -180.9219 -32354.20\n",
            "CVaR -36707.17        NaN -221.1787 -36633.41\n"
          ]
        }
      ]
    },
    {
      "cell_type": "markdown",
      "source": [
        "## Swap's"
      ],
      "metadata": {
        "id": "s3CnTOGWM28G"
      }
    },
    {
      "cell_type": "code",
      "source": [
        "%%R\n",
        "#Cálculo de matriz de pérdidas y ganancias SWAP\n",
        "\n",
        "#riesgo del swap\n",
        "m=ncol(N)    #PASO CLAVE\n",
        "X_s_sw=matrix(0,Ns,n_if[7]) #Factores de riesgo simulados con base en DeltaX_s x0*(1+Delta_Xs)   #PASO CLAVE\n",
        "V_sw=matrix(0,Ns,m)\n",
        "Vfr1_sw=matrix(0,Ns,m)#Descuento\n",
        "Vfr2_sw=matrix(0,Ns,m)#Cupon\n",
        "PG_sw=matrix(0,Ns,m) #Pèrdidas y ganancias\n",
        "PGfr1_sw=matrix(0,Ns,m)\n",
        "PGfr2_sw=matrix(0,Ns,m)\n",
        "PGT_sw=matrix(0,Ns,1)\n",
        "PGfr1T_sw=matrix(0,Ns,1)\n",
        "PGfr2T_sw=matrix(0,Ns,1)\n",
        "\n",
        "DeltaX_s_sw=DeltaX_s[,sum(n_if[1:6],1):sum(n_if[1:7])]    #PASO CLAVE\n",
        "x0_sw=as.numeric(c(XtfwdT[1,],Xvp[1,]))   #PASO CLAVE\n",
        "\n",
        "for (i in 1:Ns)\n",
        "{\n",
        "  X_s_sw[i,]=x0_sw*(1+DeltaX_s_sw[i,])\n",
        "  #PASO CLAVE\n",
        "  V_sw[i,]=swap(por_swT, contratos_swT, nominal_swT, X_s_sw[i,1:(n_if[7]/2)], tasafija_swT, plazocupon_swT, VTplazos_sw, X_s_sw[i,(n_if[7]/2+1):(n_if[7])],N)\n",
        "  #PASO CLAVE\n",
        "  Vfr1_sw[i,]=swap(por_swT, contratos_swT, nominal_swT,X_s_sw[i,1:(n_if[7]/2)], tasafija_swT, plazocupon_swT, VTplazos_sw, Xvp[1,],N)\n",
        "  #PASO CLAVE\n",
        "  Vfr2_sw[i,]=swap(por_swT, contratos_swT, nominal_swT,  XtfwdT[1,], tasafija_swT, plazocupon_swT, VTplazos_sw, X_s_sw[i,(n_if[7]/2+1):(n_if[7])],N)\n",
        "  #PASO CLAVE\n",
        "  PG_sw[i,]=V_sw[i,]-V0_sw\n",
        "  PGfr1_sw[i,]=Vfr1_sw[i,]-V0_sw\n",
        "  PGfr2_sw[i,]=Vfr2_sw[i,]-V0_sw\n",
        "  PGT_sw[i,]=sum(PG_sw[i,])\n",
        "  PGfr1T_sw[i,]=sum(PGfr1_sw[i,])\n",
        "  PGfr2T_sw[i,]=sum(PGfr2_sw[i,])\n",
        "}\n",
        "\n",
        "#VaR por posición\n",
        "VaRCont_sw=matrix(0,1,m)\n",
        "VaRfr1_sw=matrix(0,1,m)\n",
        "VaRfr2_sw=matrix(0,1,m)\n",
        "CVaRCont_sw=matrix(0,1,m)\n",
        "CVaRfr1_sw=matrix(0,1,m)\n",
        "CVaRfr2_sw=matrix(0,1,m)\n",
        "for (i in (1:m))\n",
        "{\n",
        "  VaRCont_sw[i]=quantile(PG_sw[,i],1-alpha,Ns)\n",
        "  VaRfr1_sw[i]=quantile(PGfr1_sw[,i],1-alpha,Ns)\n",
        "  VaRfr2_sw[i]=quantile(PGfr2_sw[,i],1-alpha,Ns)\n",
        "  CVaRfr1_sw[i]= mean(merge(which(PGfr1_sw[,i]<VaRfr1_sw[i]),cbind(seq(1,Ns),PGfr1_sw[,i]), by.x=1,by.y=1)[,2])\n",
        "  CVaRfr2_sw[i]= mean(merge(which(PGfr2_sw[,i]<VaRfr2_sw[i]),cbind(seq(1,Ns),PGfr2_sw[,i]), by.x=1,by.y=1)[,2])\n",
        "  CVaRCont_sw[i]= mean(merge(which(PG_sw[,i]<VaRCont_sw[i]),cbind(seq(1,Ns),PG_sw[,i]), by.x=1,by.y=1)[,2])\n",
        "}\n",
        "\n",
        "#VaR Total\n",
        "VaRTotal_sw=quantile(PGT_sw,1-alpha,Ns)\n",
        "CVaRTotal_sw= mean(merge(which(PGT_sw<VaRTotal_sw),cbind(seq(1,Ns),PGT_sw), by.x=1,by.y=1)[,2])\n",
        "VaRTotalfr1_sw=quantile(PGfr1T_sw,1-alpha,Ns)\n",
        "CVaRTotalfr1_sw= mean(PGfr1T_sw[which(PGfr1T_sw<VaRTotalfr1_sw),])\n",
        "VaRTotalfr2_sw=quantile(PGfr2T_sw,1-alpha,Ns)\n",
        "CVaRTotalfr2_sw= mean(PGfr2T_sw[which(PGfr2T_sw<VaRTotalfr2_sw),])"
      ],
      "metadata": {
        "id": "rBRafE2iFvHv"
      },
      "execution_count": 265,
      "outputs": []
    },
    {
      "cell_type": "code",
      "source": [
        "%%R\n",
        "VaR_sw <- rbind(cbind(VaRCont_sw[,1],VaRfr1_sw[,1],VaRfr2_sw[,1],VaRCont_sw[,2],VaRfr1_sw[,2],VaRfr2_sw[,2]),\n",
        "                cbind(CVaRCont_sw[,1],CVaRfr1_sw[,1],CVaRfr2_sw[,1],CVaRCont_sw[,2],CVaRfr1_sw[,2],CVaRfr2_sw[,2]))\n",
        "colnames(VaR_sw) <- c(\"Total\",\"Descuento\",\"Cupon\",\"Total\",\"Descuento\",\"Cupon\")\n",
        "rownames(VaR_sw) <- c(\"VaR\",\"CVaR\")\n",
        "\n",
        "print(\"VaR Total y por factor de riesgo del Swap Largo\")\n",
        "print(VaR_sw[,1:3])\n",
        "\n",
        "print(\"VaR Total y por factor de riesgo del Swap Corot\")\n",
        "print(VaR_sw[,4:6])\n",
        "\n",
        "VaRT_sw <- rbind(cbind(VaRTotal_sw,VaRTotalfr1_sw,VaRTotalfr2_sw),cbind(CVaRTotal_sw,CVaRTotalfr1_sw,CVaRTotalfr2_sw))\n",
        "colnames(VaRT_sw) <- c(\"Total\",\"Descuento\",\"Cupon\")\n",
        "rownames(VaRT_sw) <- c(\"VaR\",\"CVaR\")\n",
        "\n",
        "print(\"VaR Total y por factor de riesgo\")\n",
        "print(VaRT_sw)"
      ],
      "metadata": {
        "colab": {
          "base_uri": "https://localhost:8080/"
        },
        "id": "aFYWGY0lHG_n",
        "outputId": "c0c9a799-4ae8-49d6-c9bc-ab4979153c1f"
      },
      "execution_count": 266,
      "outputs": [
        {
          "output_type": "stream",
          "name": "stdout",
          "text": [
            "[1] \"VaR Total y por factor de riesgo del Swap Largo\"\n",
            "         Total Descuento     Cupon\n",
            "VaR  -27861.93 -27865.91 -74.59878\n",
            "CVaR -34080.83 -34001.02 -91.13510\n",
            "[1] \"VaR Total y por factor de riesgo del Swap Corot\"\n",
            "         Total Descuento     Cupon\n",
            "VaR  -25438.41 -25552.58 -31.92441\n",
            "CVaR -37108.18 -37298.96 -39.56063\n",
            "[1] \"VaR Total y por factor de riesgo\"\n",
            "         Total Descuento     Cupon\n",
            "VaR  -19838.10 -19815.26 -105.4019\n",
            "CVaR -24209.23 -24137.70 -129.4100\n"
          ]
        }
      ]
    },
    {
      "cell_type": "markdown",
      "source": [
        "## Opciones"
      ],
      "metadata": {
        "id": "Pr2gNX6tM3MG"
      }
    },
    {
      "cell_type": "code",
      "source": [
        "%%R\n",
        "#Cálculo de matriz de pérdidas y ganancias Opciones Tasa de interés\n",
        "#dimensión\n",
        "m=ncol(plazos_opc)  #PASO CLAVE\n",
        "X_s_oir=matrix(0,Ns,n_if[8]) #Factores de riesgo simulados con base en DeltaX_s x0*(1+Delta_Xs) #PASO CLAVE\n",
        "V_oir=matrix(0,Ns,m)\n",
        "Vfr1_oir=matrix(0,Ns,m)\n",
        "Vfr2_oir=matrix(0,Ns,m)\n",
        "Vfr3_oir=matrix(0,Ns,m)\n",
        "PG_oir=matrix(0,Ns,m) #Pèrdidas y ganancias\n",
        "PGfr1_oir=matrix(0,Ns,m)\n",
        "PGfr2_oir=matrix(0,Ns,m)\n",
        "PGfr3_oir=matrix(0,Ns,m)\n",
        "PGT_oir=matrix(0,Ns,1)\n",
        "PGfr1T_oir=matrix(0,Ns,1)\n",
        "PGfr2T_oir=matrix(0,Ns,1)\n",
        "PGfr3T_oir=matrix(0,Ns,1)\n",
        "\n",
        "DeltaX_s_oir=DeltaX_s[,sum(n_if[1:7],1):sum(n_if[1:8])]  #PASO CLAVE\n",
        "x0_oir=X_opc[1,] #PASO CLAVE\n",
        "\n",
        "for (i in 1:Ns)\n",
        "{\n",
        "  X_s_oir[i,]=x0_oir*(1+DeltaX_s_oir[i,])\n",
        "  #PASO CLAVE\n",
        "  V_oir[i,]=  opctint(X_s_oir[i,(1:(n_if[8]/3))],X_s_oir[i,((n_if[8]/3+1):(n_if[8]/3*2))],K_opc,X_s_oir[i,((n_if[8]*2/3+1):(n_if[8]))],plazos_opc,cp_opc,cs_opc,pr_opc,dct_opc)*contratos_opc*nominal_opc #Valor del portafolio  \n",
        "  #PASO CLAVE\n",
        "  Vfr1_oir[i,]=opctint(X_s_oir[i,(1:(n_if[8]/3))],x0_oir[((n_if[8]/3+1):(n_if[8]/3*2))],K_opc,x0_oir[((n_if[8]*2/3+1):(n_if[8]))],plazos_opc,cp_opc,cs_opc,pr_opc,dct_opc)*contratos_opc*nominal_opc #Valor del portafolio  \n",
        "  #PASO CLAVE\n",
        "  Vfr2_oir[i,]=opctint(x0_oir[(1:(n_if[8]/3))],X_s_oir[i,((n_if[8]/3+1):(n_if[8]/3*2))],K_opc,x0_oir[((n_if[8]*2/3+1):(n_if[8]))],plazos_opc,cp_opc,cs_opc,pr_opc,dct_opc)*contratos_opc*nominal_opc #Valor del portafolio  \n",
        "  #PASO CLAVE\n",
        "  Vfr3_oir[i,]=opctint(x0_oir[(1:(n_if[8]/3))],x0_oir[((n_if[8]/3+1):(n_if[8]/3*2))],K_opc,X_s_oir[i,((n_if[8]*2/3+1):(n_if[8]))],plazos_opc,cp_opc,cs_opc,pr_opc,dct_opc)*contratos_opc*nominal_opc #Valor del portafolio  \n",
        "  PG_oir[i,]=V_oir[i,]-V0_opc\n",
        "  PGfr1_oir[i,]=Vfr1_oir[i,]-V0_opc\n",
        "  PGfr2_oir[i,]=Vfr2_oir[i,]-V0_opc\n",
        "  PGfr3_oir[i,]=Vfr3_oir[i,]-V0_opc\n",
        "  PGT_oir[i,]=sum(PG_oir[i,])\n",
        "  PGfr1T_oir[i,]=sum(PGfr1_oir[i,])\n",
        "  PGfr2T_oir[i,]=sum(PGfr2_oir[i,])\n",
        "  PGfr3T_oir[i,]=sum(PGfr3_oir[i,])\n",
        "}\n",
        "\n",
        "#VaR por posición\n",
        "VaRCont_oir=matrix(0,1,m)\n",
        "VaRfr1_oir=matrix(0,1,m)\n",
        "VaRfr2_oir=matrix(0,1,m)\n",
        "VaRfr3_oir=matrix(0,1,m)\n",
        "CVaRCont_oir=matrix(0,1,m)\n",
        "CVaRfr1_oir=matrix(0,1,m)\n",
        "CVaRfr2_oir=matrix(0,1,m)\n",
        "CVaRfr3_oir=matrix(0,1,m)\n",
        "for (i in (1:m))\n",
        "{\n",
        "  VaRCont_oir[i]=quantile(PG_oir[,i],1-alpha,Ns)\n",
        "  VaRfr1_oir[i]=quantile(PGfr1_oir[,i],1-alpha,Ns)\n",
        "  VaRfr2_oir[i]=quantile(PGfr2_oir[,i],1-alpha,Ns)\n",
        "  VaRfr3_oir[i]=quantile(PGfr3_oir[,i],1-alpha,Ns)\n",
        "  CVaRfr1_oir[i]= mean(merge(which(PGfr1_oir[,i]<VaRfr1_oir[i]),cbind(seq(1,Ns),PGfr1_oir[,i]), by.x=1,by.y=1)[,2])\n",
        "  CVaRfr2_oir[i]= mean(merge(which(PGfr2_oir[,i]<VaRfr2_oir[i]),cbind(seq(1,Ns),PGfr2_oir[,i]), by.x=1,by.y=1)[,2])\n",
        "  CVaRfr3_oir[i]= mean(merge(which(PGfr3_oir[,i]<VaRfr3_oir[i]),cbind(seq(1,Ns),PGfr3_oir[,i]), by.x=1,by.y=1)[,2])\n",
        "  CVaRCont_oir[i]= mean(merge(which(PG_oir[,i]<VaRCont_oir[i]),cbind(seq(1,Ns),PG_oir[,i]), by.x=1,by.y=1)[,2])\n",
        "}\n",
        "\n",
        "#VaR Total\n",
        "VaRTotal_oir=quantile(PGT_oir,1-alpha,Ns)\n",
        "CVaRTotal_oir= mean(merge(which(PGT_oir<VaRTotal_oir),cbind(seq(1,Ns),PGT_oir), by.x=1,by.y=1)[,2])\n",
        "VaRTotalfr1_oir=quantile(PGfr1T_oir,1-alpha,Ns)\n",
        "CVaRTotalfr1_oir= mean(PGfr1T_oir[which(PGfr1T_oir<VaRTotalfr1_oir),])\n",
        "VaRTotalfr2_oir=quantile(PGfr2T_oir,1-alpha,Ns)\n",
        "CVaRTotalfr2_oir= mean(PGfr2T_oir[which(PGfr2T_oir<VaRTotalfr2_oir),])\n",
        "VaRTotalfr3_oir=quantile(PGfr3T_oir,1-alpha,Ns)\n",
        "CVaRTotalfr3_oir= mean(PGfr3T_oir[which(PGfr2T_oir<VaRTotalfr2_oir),])"
      ],
      "metadata": {
        "id": "Wv4U3ssuJz31"
      },
      "execution_count": 267,
      "outputs": []
    },
    {
      "cell_type": "code",
      "source": [
        "%%R\n",
        "VaR_oir <- rbind(cbind(VaRCont_oir[,1],VaRfr1_oir[,1],VaRfr2_oir[,1],VaRfr3_oir[,1],VaRCont_oir[,2],VaRfr1_oir[,2],VaRfr2_oir[,2],VaRfr3_oir[,1]),\n",
        "                cbind(CVaRCont_oir[,1],CVaRfr1_oir[,1],CVaRfr2_oir[,1],CVaRfr3_oir[,1],CVaRCont_oir[,2],CVaRfr1_oir[,2],CVaRfr2_oir[,2],VaRfr3_oir[,1]))\n",
        "colnames(VaR_oir) <- c(\"Total\",\"Descuento\",\"Spot\",\"Volatildiad\",\"Total\",\"Descuento\",\"Spot\",\"Volatildiad\")\n",
        "rownames(VaR_oir) <- c(\"VaR\",\"CVaR\")\n",
        "\n",
        "print(\"VaR Total y por factor de riesgo de la Opcion Call Larga\")\n",
        "print(VaR_oir[,1:4])\n",
        "\n",
        "print(\"VaR Total y por factor de riesgo de la Opcion Put Larga\")\n",
        "print(VaR_oir[,5:8])\n",
        "\n",
        "VaRT_oir <- rbind(cbind(VaRTotal_oir,VaRTotalfr1_oir,VaRTotalfr2_oir,VaRTotalfr3_oir),\n",
        "                 cbind(CVaRTotal_oir,CVaRTotalfr1_oir,CVaRTotalfr2_oir,CVaRTotalfr3_oir))\n",
        "colnames(VaRT_oir) <- c(\"Total\",\"Descuento\",\"Spot\",\"Volatilidad\")\n",
        "rownames(VaRT_oir) <- c(\"VaR\",\"CVaR\")\n",
        "\n",
        "print(\"VaR Total y por factor de riesgo\")\n",
        "print(VaRT_oir)"
      ],
      "metadata": {
        "colab": {
          "base_uri": "https://localhost:8080/"
        },
        "id": "PQK4x_TgKxqF",
        "outputId": "ba109611-f00b-4c49-d652-bf9e78ed40f5"
      },
      "execution_count": 268,
      "outputs": [
        {
          "output_type": "stream",
          "name": "stdout",
          "text": [
            "[1] \"VaR Total y por factor de riesgo de la Opcion Call Larga\"\n",
            "           Total    Descuento        Spot Volatildiad\n",
            "VaR  -0.05957620 -0.006536315 -0.03845898 -0.03755833\n",
            "CVaR -0.08474503 -0.009587446 -0.04566180 -0.06294256\n",
            "[1] \"VaR Total y por factor de riesgo de la Opcion Put Larga\"\n",
            "           Total    Descuento        Spot Volatildiad\n",
            "VaR  -0.04911466 -0.001624584 -0.03627153 -0.03755833\n",
            "CVaR -0.06947778 -0.002375747 -0.05190024 -0.03755833\n",
            "[1] \"VaR Total y por factor de riesgo\"\n",
            "           Total    Descuento        Spot Volatilidad\n",
            "VaR  -0.07335407 -0.008159581 -0.02765493 -0.06277878\n",
            "CVaR -0.12356227 -0.011962961 -0.03386247 -0.01934634\n"
          ]
        }
      ]
    },
    {
      "cell_type": "markdown",
      "source": [
        "## Riesgo Integral"
      ],
      "metadata": {
        "id": "bsD1Jr8tM3bx"
      }
    },
    {
      "cell_type": "code",
      "source": [
        "%%R\n",
        "#Medición de riesgo por factor de riesgo de todo el portafolios\n",
        "#Acciones\n",
        "#1. Acciones \n",
        "#2. Forward de IPC\n",
        "PGPort_ACC=PGfr2T_acc_div+ PGfr3T_fwind #Pérdidas y ganancias\n",
        "VaRPort_ACC=quantile(PGPort_ACC,1-alpha,Ns) #VaR\n",
        "CVaRPort_ACC= mean(PGPort_ACC[which(PGPort_ACC<VaRPort_ACC)]) #CVaR\n",
        "\n",
        "#Tasa de Interés\n",
        "#1. Dado que swaps y bondes son de tasa de interés usaremos PGT_bd y PGT_sw\n",
        "#2. Para futuros usaremos PGfr1T_fwtdc y PGfr2T_fwtdc\n",
        "PGPort_TI=PGT_bd+PGT_sw+PGfr1_fwtdc+PGfr2_fwtdc +PGfr2T_fwind+PGfr1T_fwind +PGfr1T_oir +PGfr2T_oir #Pérdidas y ganancias\n",
        "VaRPort_TI=quantile(PGPort_TI,1-alpha,Ns) #VaR\n",
        "CVaRPort_TI= mean(PGPort_TI[which(PGPort_TI<VaRPort_TI)]) #CVaR\n",
        "\n",
        "#Tipo de cambio\n",
        "#1. Dado que swaps y bondes son de tasa de interés no usamos nada\n",
        "#2. Para futuros usamos sólo PGfr3T_fwtdc\n",
        "PGPort_TDC=PGfr1T_acc_div+PGfr3_fwtdc  #Pérdidas y ganancias\n",
        "VaRPort_TDC=quantile(PGPort_TDC,1-alpha,Ns) #VaR\n",
        "CVaRPort_TDC= mean(PGPort_TDC[which(PGPort_TDC<VaRPort_TDC)]) #CVaR\n",
        "\n",
        "#Volatilidad\n",
        "#1. Sólo aplica la volatilidad de Opciones de tasa de interés\n",
        "PGPort_VOL=PGfr3T_oir  #Pérdidas y ganancias\n",
        "VaRPort_VOL=quantile(PGPort_VOL,1-alpha,Ns) #VaR\n",
        "CVaRPort_VOL= mean(PGPort_VOL[which(PGPort_VOL<VaRPort_VOL)]) #CVaR\n",
        "\n",
        "#Medición de riesgo de todo el portafolios\n",
        "#Sumar todos los PGT de todos los instrumentos\n",
        "\n",
        "PGT_Port=PGPort_ACC+PGPort_TI+PGPort_TDC+PGPort_VOL\n",
        "VaRTotal_Port=quantile(PGT_Port,1-alpha,Ns) #VaR\n",
        "CVaRTotal_Port= mean(PGT_Port[which(PGT_Port<VaRTotal_Port)]) #CVaR"
      ],
      "metadata": {
        "id": "69l8QcvPMUNa"
      },
      "execution_count": 269,
      "outputs": []
    },
    {
      "cell_type": "code",
      "source": [
        "%%R\n",
        "VaRT_port <- rbind(cbind(VaRTotal_Port,VaRPort_ACC,VaRPort_TI,VaRPort_TDC,VaRPort_VOL),cbind(CVaRTotal_Port,CVaRPort_ACC,CVaRPort_TI,CVaRPort_TDC,CVaRPort_VOL))\n",
        "colnames(VaRT_port) <- c(\"Total\",\"Acciones\",\"Tasas de Interes\",\"Tipo de Cambio\",\"Volatilidad\")\n",
        "rownames(VaRT_port) <- c(\"VaR\",\"CVaR\")\n",
        "\n",
        "print(\"VaR del portafolio\")\n",
        "print(VaRT_port)"
      ],
      "metadata": {
        "colab": {
          "base_uri": "https://localhost:8080/"
        },
        "id": "7Z_ft6sINVS7",
        "outputId": "89c7abb7-7689-4f71-9378-dd1e4a06a203"
      },
      "execution_count": 270,
      "outputs": [
        {
          "output_type": "stream",
          "name": "stdout",
          "text": [
            "[1] \"VaR del portafolio\"\n",
            "         Total  Acciones Tasas de Interes Tipo de Cambio Volatilidad\n",
            "VaR  -34931.24 -29258.03        -19704.94      -72.93165 -0.06277878\n",
            "CVaR -40953.01 -33205.45        -24074.86      -87.58130 -0.10962148\n"
          ]
        }
      ]
    }
  ]
}