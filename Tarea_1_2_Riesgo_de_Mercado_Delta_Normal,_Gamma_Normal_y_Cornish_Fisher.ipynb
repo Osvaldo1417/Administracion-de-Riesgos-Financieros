{
  "nbformat": 4,
  "nbformat_minor": 0,
  "metadata": {
    "accelerator": "GPU",
    "colab": {
      "name": "Tarea 1.2 - Riesgo de Mercado: Delta Normal, Gamma Normal y Cornish Fisher.ipynb",
      "provenance": [],
      "collapsed_sections": [
        "YF9hg5sOafOd",
        "GP4VbcOtwtqO",
        "43gn-dKVw9Z-",
        "quWsKRfFbHen",
        "KeznTA0zbQRo",
        "P6jqXMvIbZb4",
        "s106nu2Kbisj",
        "P5Z182t1bqSg",
        "li4reWgTbxwA",
        "Ji8Uq3EzdU-m",
        "CfNMTBCFdoty",
        "igoAbhE5wA7M",
        "qXi4M8kM7gKW",
        "lxmCu1O2aRnR",
        "3t2-6mU9bjNw",
        "Iaoeiy7Csy1n",
        "kSMjbhxMm6wQ",
        "70NY9BJqnFO9",
        "PR0cZu2twI45",
        "Vfd5d0bk7ZH0",
        "fBXCMgmD7LW0",
        "KpIAfrrZ04Zb",
        "WAjO190tDRdZ",
        "YWtvQhgoAxkp",
        "Hr3Bl0PpA7co",
        "KMZzVWJmzy6X",
        "1ulgKZP0zsie",
        "EPJiZS5SyZ-W",
        "pDQFPCsTyl2E",
        "qxPS1Z1NzbU7",
        "dGzJj5Nss9hS",
        "ASn8PyA-tGbc",
        "2VXqKIAEtF5B",
        "jDVqGmkSuPKK",
        "LOqZ8711uZ02",
        "KiDxf5KUuZgS",
        "vZr6Jlxvc6AG",
        "WCLi9tbT07KC",
        "kOgMzOlWKVPc",
        "i3QjcFf6LBHN",
        "9soIgUmSMh3n",
        "TJGU6e34z-j3",
        "tQFm1a3Q0ArK",
        "JIquu9SW6C-b",
        "YP_oeJvgDJUz",
        "w9aZ_QUUDSqh",
        "M13H9qHVi69e",
        "6iQL1ik76c43",
        "m3dpWkMEWF58",
        "LVqL_FOiTz8v",
        "bMUcBAp3T23d",
        "ehm9D7JET5ou",
        "Zdj2kU1ThS38",
        "NQ_VI04qo54h",
        "g4y54x-Wssfq",
        "4zHwEPdho9Wg",
        "o-S6N2u2xMNr",
        "7VXVBVoh5DcU",
        "d3HpmeZF-Vvm",
        "WwsLEuQt-clm",
        "d3cLgVAAApC_",
        "8HcJYZEiAw53",
        "9aarG1ws-mjF",
        "Kj7b7KKWUcL1",
        "AUdhAqdJBP-T",
        "2nhondBIcsf5",
        "HagexR1TWMVa",
        "xkR8SosDhsHj",
        "HZ_ahyDUkt4y",
        "Lffg8aQEPQ4e",
        "XS-yqTdsM9pY",
        "XXYH6gjgM-60",
        "CdZduo8JS2xL",
        "FzEjK6RwS8gz",
        "SZoy8swXM85F",
        "W9KPVxf_k8YW",
        "F8-yRkR68h9_"
      ],
      "include_colab_link": true
    },
    "kernelspec": {
      "display_name": "Python 3",
      "name": "python3"
    },
    "language_info": {
      "name": "python"
    }
  },
  "cells": [
    {
      "cell_type": "markdown",
      "metadata": {
        "id": "view-in-github",
        "colab_type": "text"
      },
      "source": [
        "<a href=\"https://colab.research.google.com/github/Osvaldo1417/Administracion-de-Riesgos-Financieros/blob/master/Tarea_1_2_Riesgo_de_Mercado_Delta_Normal%2C_Gamma_Normal_y_Cornish_Fisher.ipynb\" target=\"_parent\"><img src=\"https://colab.research.google.com/assets/colab-badge.svg\" alt=\"Open In Colab\"/></a>"
      ]
    },
    {
      "cell_type": "markdown",
      "metadata": {
        "id": "YF9hg5sOafOd"
      },
      "source": [
        "# Tarea 1.2\n",
        "- Cedeño Ramírez Osvaldo\n",
        "- Felipe Santiago Edson Yair\n",
        "- Morelos Granados José Carlos\n",
        "- Pacheco Tovar Alejandra Citlalli"
      ]
    },
    {
      "cell_type": "code",
      "metadata": {
        "id": "a2DjS7m7_Mia",
        "colab": {
          "base_uri": "https://localhost:8080/"
        },
        "outputId": "ddc4feaa-7556-4004-c028-071ffb7c82ae"
      },
      "source": [
        "%load_ext rpy2.ipython\n",
        "!rm -rf Administracion-de-Riesgos-Financieros\n",
        "!git clone \"https://github.com/Osvaldo1417/Administracion-de-Riesgos-Financieros/\""
      ],
      "execution_count": null,
      "outputs": [
        {
          "output_type": "stream",
          "name": "stdout",
          "text": [
            "The rpy2.ipython extension is already loaded. To reload it, use:\n",
            "  %reload_ext rpy2.ipython\n",
            "Cloning into 'Administracion-de-Riesgos-Financieros'...\n",
            "remote: Enumerating objects: 836, done.\u001b[K\n",
            "remote: Counting objects: 100% (9/9), done.\u001b[K\n",
            "remote: Compressing objects: 100% (9/9), done.\u001b[K\n",
            "remote: Total 836 (delta 3), reused 0 (delta 0), pack-reused 827\u001b[K\n",
            "Receiving objects: 100% (836/836), 41.40 MiB | 37.65 MiB/s, done.\n",
            "Resolving deltas: 100% (535/535), done.\n"
          ]
        }
      ]
    },
    {
      "cell_type": "code",
      "source": [
        "%%R\n",
        "#Instalación de paqueterías\n",
        "install.packages(\"quantmod\")\n",
        "install.packages(\"data.table\")\n",
        "install.packages(\"PerformanceAnalytics\")\n",
        "install.packages(\"Deriv\")\n",
        "library(Deriv)\n",
        "library(quantmod)\n",
        "library(data.table)\n",
        "library(\"PerformanceAnalytics\")\n",
        "library(dplyr)\n",
        "\n",
        "con = gzcon(url('https://github.com/systematicinvestor/SIT/raw/master/sit.gz', 'rb'))\n",
        "source(con)\n",
        "close(con)"
      ],
      "metadata": {
        "id": "ANSYKX-H0Eg1",
        "colab": {
          "base_uri": "https://localhost:8080/"
        },
        "outputId": "fc71002f-2491-4e64-989a-2020a3b160a6"
      },
      "execution_count": null,
      "outputs": [
        {
          "output_type": "stream",
          "name": "stderr",
          "text": [
            "R[write to console]: Installing package into ‘/usr/local/lib/R/site-library’\n",
            "(as ‘lib’ is unspecified)\n",
            "\n",
            "R[write to console]: trying URL 'https://cran.rstudio.com/src/contrib/quantmod_0.4.20.tar.gz'\n",
            "\n",
            "R[write to console]: Content type 'application/x-gzip'\n",
            "R[write to console]:  length 156640 bytes (152 KB)\n",
            "\n",
            "R[write to console]: =\n",
            "R[write to console]: =\n",
            "R[write to console]: =\n",
            "R[write to console]: =\n",
            "R[write to console]: =\n",
            "R[write to console]: =\n",
            "R[write to console]: =\n",
            "R[write to console]: =\n",
            "R[write to console]: =\n",
            "R[write to console]: =\n",
            "R[write to console]: =\n",
            "R[write to console]: =\n",
            "R[write to console]: =\n",
            "R[write to console]: =\n",
            "R[write to console]: =\n",
            "R[write to console]: =\n",
            "R[write to console]: =\n",
            "R[write to console]: =\n",
            "R[write to console]: =\n",
            "R[write to console]: =\n",
            "R[write to console]: =\n",
            "R[write to console]: =\n",
            "R[write to console]: =\n",
            "R[write to console]: =\n",
            "R[write to console]: =\n",
            "R[write to console]: =\n",
            "R[write to console]: =\n",
            "R[write to console]: =\n",
            "R[write to console]: =\n",
            "R[write to console]: =\n",
            "R[write to console]: =\n",
            "R[write to console]: =\n",
            "R[write to console]: =\n",
            "R[write to console]: =\n",
            "R[write to console]: =\n",
            "R[write to console]: =\n",
            "R[write to console]: =\n",
            "R[write to console]: =\n",
            "R[write to console]: =\n",
            "R[write to console]: =\n",
            "R[write to console]: =\n",
            "R[write to console]: =\n",
            "R[write to console]: =\n",
            "R[write to console]: =\n",
            "R[write to console]: =\n",
            "R[write to console]: =\n",
            "R[write to console]: =\n",
            "R[write to console]: =\n",
            "R[write to console]: =\n",
            "R[write to console]: =\n",
            "R[write to console]: \n",
            "\n",
            "R[write to console]: downloaded 152 KB\n",
            "\n",
            "\n",
            "R[write to console]: \n",
            "\n",
            "R[write to console]: \n",
            "R[write to console]: The downloaded source packages are in\n",
            "\t‘/tmp/Rtmp6bKobl/downloaded_packages’\n",
            "R[write to console]: \n",
            "R[write to console]: \n",
            "\n",
            "R[write to console]: Installing package into ‘/usr/local/lib/R/site-library’\n",
            "(as ‘lib’ is unspecified)\n",
            "\n",
            "R[write to console]: trying URL 'https://cran.rstudio.com/src/contrib/data.table_1.14.2.tar.gz'\n",
            "\n",
            "R[write to console]: Content type 'application/x-gzip'\n",
            "R[write to console]:  length 5301817 bytes (5.1 MB)\n",
            "\n",
            "R[write to console]: =\n",
            "R[write to console]: =\n",
            "R[write to console]: =\n",
            "R[write to console]: =\n",
            "R[write to console]: =\n",
            "R[write to console]: =\n",
            "R[write to console]: =\n",
            "R[write to console]: =\n",
            "R[write to console]: =\n",
            "R[write to console]: =\n",
            "R[write to console]: =\n",
            "R[write to console]: =\n",
            "R[write to console]: =\n",
            "R[write to console]: =\n",
            "R[write to console]: =\n",
            "R[write to console]: =\n",
            "R[write to console]: =\n",
            "R[write to console]: =\n",
            "R[write to console]: =\n",
            "R[write to console]: =\n",
            "R[write to console]: =\n",
            "R[write to console]: =\n",
            "R[write to console]: =\n",
            "R[write to console]: =\n",
            "R[write to console]: =\n",
            "R[write to console]: =\n",
            "R[write to console]: =\n",
            "R[write to console]: =\n",
            "R[write to console]: =\n",
            "R[write to console]: =\n",
            "R[write to console]: =\n",
            "R[write to console]: =\n",
            "R[write to console]: =\n",
            "R[write to console]: =\n",
            "R[write to console]: =\n",
            "R[write to console]: =\n",
            "R[write to console]: =\n",
            "R[write to console]: =\n",
            "R[write to console]: =\n",
            "R[write to console]: =\n",
            "R[write to console]: =\n",
            "R[write to console]: =\n",
            "R[write to console]: =\n",
            "R[write to console]: =\n",
            "R[write to console]: =\n",
            "R[write to console]: =\n",
            "R[write to console]: =\n",
            "R[write to console]: =\n",
            "R[write to console]: =\n",
            "R[write to console]: =\n",
            "R[write to console]: \n",
            "\n",
            "R[write to console]: downloaded 5.1 MB\n",
            "\n",
            "\n",
            "R[write to console]: \n",
            "\n",
            "R[write to console]: \n",
            "R[write to console]: The downloaded source packages are in\n",
            "\t‘/tmp/Rtmp6bKobl/downloaded_packages’\n",
            "R[write to console]: \n",
            "R[write to console]: \n",
            "\n",
            "R[write to console]: Installing package into ‘/usr/local/lib/R/site-library’\n",
            "(as ‘lib’ is unspecified)\n",
            "\n",
            "R[write to console]: trying URL 'https://cran.rstudio.com/src/contrib/PerformanceAnalytics_2.0.4.tar.gz'\n",
            "\n",
            "R[write to console]: Content type 'application/x-gzip'\n",
            "R[write to console]:  length 2455098 bytes (2.3 MB)\n",
            "\n",
            "R[write to console]: =\n",
            "R[write to console]: =\n",
            "R[write to console]: =\n",
            "R[write to console]: =\n",
            "R[write to console]: =\n",
            "R[write to console]: =\n",
            "R[write to console]: =\n",
            "R[write to console]: =\n",
            "R[write to console]: =\n",
            "R[write to console]: =\n",
            "R[write to console]: =\n",
            "R[write to console]: =\n",
            "R[write to console]: =\n",
            "R[write to console]: =\n",
            "R[write to console]: =\n",
            "R[write to console]: =\n",
            "R[write to console]: =\n",
            "R[write to console]: =\n",
            "R[write to console]: =\n",
            "R[write to console]: =\n",
            "R[write to console]: =\n",
            "R[write to console]: =\n",
            "R[write to console]: =\n",
            "R[write to console]: =\n",
            "R[write to console]: =\n",
            "R[write to console]: =\n",
            "R[write to console]: =\n",
            "R[write to console]: =\n",
            "R[write to console]: =\n",
            "R[write to console]: =\n",
            "R[write to console]: =\n",
            "R[write to console]: =\n",
            "R[write to console]: =\n",
            "R[write to console]: =\n",
            "R[write to console]: =\n",
            "R[write to console]: =\n",
            "R[write to console]: =\n",
            "R[write to console]: =\n",
            "R[write to console]: =\n",
            "R[write to console]: =\n",
            "R[write to console]: =\n",
            "R[write to console]: =\n",
            "R[write to console]: =\n",
            "R[write to console]: =\n",
            "R[write to console]: =\n",
            "R[write to console]: =\n",
            "R[write to console]: =\n",
            "R[write to console]: =\n",
            "R[write to console]: =\n",
            "R[write to console]: =\n",
            "R[write to console]: \n",
            "\n",
            "R[write to console]: downloaded 2.3 MB\n",
            "\n",
            "\n",
            "R[write to console]: \n",
            "\n",
            "R[write to console]: \n",
            "R[write to console]: The downloaded source packages are in\n",
            "\t‘/tmp/Rtmp6bKobl/downloaded_packages’\n",
            "R[write to console]: \n",
            "R[write to console]: \n",
            "\n",
            "R[write to console]: Installing package into ‘/usr/local/lib/R/site-library’\n",
            "(as ‘lib’ is unspecified)\n",
            "\n",
            "R[write to console]: trying URL 'https://cran.rstudio.com/src/contrib/Deriv_4.1.3.tar.gz'\n",
            "\n",
            "R[write to console]: Content type 'application/x-gzip'\n",
            "R[write to console]:  length 37214 bytes (36 KB)\n",
            "\n",
            "R[write to console]: =\n",
            "R[write to console]: =\n",
            "R[write to console]: =\n",
            "R[write to console]: =\n",
            "R[write to console]: =\n",
            "R[write to console]: =\n",
            "R[write to console]: =\n",
            "R[write to console]: =\n",
            "R[write to console]: =\n",
            "R[write to console]: =\n",
            "R[write to console]: =\n",
            "R[write to console]: =\n",
            "R[write to console]: =\n",
            "R[write to console]: =\n",
            "R[write to console]: =\n",
            "R[write to console]: =\n",
            "R[write to console]: =\n",
            "R[write to console]: =\n",
            "R[write to console]: =\n",
            "R[write to console]: =\n",
            "R[write to console]: =\n",
            "R[write to console]: =\n",
            "R[write to console]: =\n",
            "R[write to console]: =\n",
            "R[write to console]: =\n",
            "R[write to console]: =\n",
            "R[write to console]: =\n",
            "R[write to console]: =\n",
            "R[write to console]: =\n",
            "R[write to console]: =\n",
            "R[write to console]: =\n",
            "R[write to console]: =\n",
            "R[write to console]: =\n",
            "R[write to console]: =\n",
            "R[write to console]: =\n",
            "R[write to console]: =\n",
            "R[write to console]: =\n",
            "R[write to console]: =\n",
            "R[write to console]: =\n",
            "R[write to console]: =\n",
            "R[write to console]: =\n",
            "R[write to console]: =\n",
            "R[write to console]: =\n",
            "R[write to console]: =\n",
            "R[write to console]: =\n",
            "R[write to console]: =\n",
            "R[write to console]: =\n",
            "R[write to console]: =\n",
            "R[write to console]: =\n",
            "R[write to console]: =\n",
            "R[write to console]: \n",
            "\n",
            "R[write to console]: downloaded 36 KB\n",
            "\n",
            "\n",
            "R[write to console]: \n",
            "\n",
            "R[write to console]: \n",
            "R[write to console]: The downloaded source packages are in\n",
            "\t‘/tmp/Rtmp6bKobl/downloaded_packages’\n",
            "R[write to console]: \n",
            "R[write to console]: \n",
            "\n"
          ]
        }
      ]
    },
    {
      "cell_type": "markdown",
      "source": [
        "#Funciones"
      ],
      "metadata": {
        "id": "GP4VbcOtwtqO"
      }
    },
    {
      "cell_type": "code",
      "metadata": {
        "id": "OX-Swe-xak4w"
      },
      "source": [
        "%%R\n",
        "## Funciones a utilizar\n",
        "\n",
        "# Interpolación alambrada\n",
        "talamb=function(nodos,curva,plazos){\n",
        "  n=max(ncol(plazos),1)\n",
        "  m=max(ncol(nodos),1)\n",
        "  TC=matrix(0,1,n)\n",
        "  TL=matrix(0,1,n)\n",
        "  TF=matrix(0,1,n)\n",
        "  for (j in 1:n){\n",
        "    i=1\n",
        "    repeat\n",
        "    {\n",
        "      if(nodos[i]<= plazos[j] && plazos[j] <=nodos[i+1])\n",
        "      {\n",
        "        TC[j]=curva[i]\n",
        "        TL[j]=curva[i+1]\n",
        "        TF[j]=((((1+TL[j]*nodos[i+1]/360)/(1+TC[j]*nodos[i]/360))^((plazos[j]-nodos[i])/(nodos[i+1]-nodos[i]))*(1+TC[j]*nodos[i]/360))-1)*360/plazos[j]\n",
        "        break\n",
        "      }\n",
        "      else if (plazos[j]<nodos[1])\n",
        "      {\n",
        "        TC[j]=curva[1]\n",
        "        TL[j]=curva[1]\n",
        "        TF[j]=curva[1]\n",
        "        break\n",
        "      }\n",
        "      else if (plazos[j]>nodos[m])\n",
        "      {\n",
        "        TC[j]=curva[m]\n",
        "        TL[j]=curva[m]\n",
        "        TF[j]=curva[m]\n",
        "        break\n",
        "      }\n",
        "      else\n",
        "      {i=i+1}\n",
        "    }\n",
        "  }\n",
        "  as.matrix(t(as.numeric(rbind(TF))))\n",
        "}\n",
        "\n",
        "# Diagonalización\n",
        "diagv=function(x)\t{\n",
        "  n01=nrow(as.matrix(x))\n",
        "  m01=ncol(as.matrix(x))\n",
        "  dimmax=max(n01,m01)\n",
        "  res=matrix(0,dimmax,dimmax)\n",
        "  for (i in 1:dimmax){\n",
        "    res[i,i]=x[i]\n",
        "  }\n",
        "  res\n",
        "}\n",
        "\n",
        "# Cuantil\n",
        "equantile <- function(v,p=.5,ns=nrow(as.matrix(v))) \n",
        "{ \n",
        "  if ( !is.numeric(p) || any( p<0 | p>1) ) \n",
        "    stop(\"Percentil tiene que ser 0<=p<=1\") \n",
        "  ranking <- order(v) \n",
        "  vw=matrix(0,ns,1)\n",
        "  vw[1:ns]=seq(1/ns,ns)  \n",
        "  sumw <- cumsum(vw[ranking]) \n",
        "  plist <- sumw / sumw[ length(sumw) ] \n",
        "  v [ ranking [ which.max( plist >= p ) ] ]  \n",
        "} \n",
        "\n",
        "\n",
        "#VaR con alisado\n",
        "\n",
        "wquantile <- function(v,w=rep(1,length(v)),p=.5) \n",
        "{ \n",
        "  if ( !is.numeric(w) || length(v) != length(w) ) \n",
        "    stop(\"Los valores y los pesos tienen que tener misma longitud\") \n",
        "  if ( !is.numeric(p) || any( p<0 | p>1) ) \n",
        "    stop(\"Percentil tiene que ser 0<=p<=1\") \n",
        "  if ( min(w) < 0 ) stop(\"Los pesos tiene que ser mayores que 0\") \n",
        "  ranking <- order(v) \n",
        "  sumw <- cumsum(w[ranking]) \n",
        "  plist <- sumw / sumw[ length(sumw) ] \n",
        "  v [ ranking [ which.max( plist >= p ) ] ]  \n",
        "} \n",
        "\n",
        "#CVaR con alisado\n",
        "wcvar <- function(v,w=rep(1,length(v)),p=.5) \n",
        "{ \n",
        "  if ( !is.numeric(w) || length(v) != length(w) ) \n",
        "    stop(\"Los valores y los pesos tienen que tener misma longitud\") \n",
        "  if ( !is.numeric(p) || any( p<0 | p>1) ) \n",
        "    stop(\"Percentil tiene que ser 0<=p<=1\") \n",
        "  if ( min(w) < 0 ) stop(\"Los pesos tiene que ser mayores que 0\") \n",
        "  ranking <- order(v) \n",
        "  sumw <- cumsum(w[ranking]) \n",
        "  plist <- sumw / sumw[ length(sumw) ] \n",
        "  loss= v [ ranking [ which( plist <= p ) ] ]  \n",
        "  esc=w [ ranking [ which( plist <= p ) ] ]  \n",
        "  sum(loss*esc)/(sum(esc))\n",
        "} "
      ],
      "execution_count": null,
      "outputs": []
    },
    {
      "cell_type": "markdown",
      "source": [
        "#Carga de datos"
      ],
      "metadata": {
        "id": "43gn-dKVw9Z-"
      }
    },
    {
      "cell_type": "code",
      "metadata": {
        "id": "5YXSCZ5Aa8mP"
      },
      "source": [
        "%%R\n",
        "fval=as.Date(\"20220331\",format=\"%Y%m%d\") #Fecha de valoración\n",
        "alpha = 0.98\n",
        "itpl = 0 # 0 Interpolación Lineal, 1 Interpolación Alambrada"
      ],
      "execution_count": null,
      "outputs": []
    },
    {
      "cell_type": "markdown",
      "metadata": {
        "id": "quWsKRfFbHen"
      },
      "source": [
        "##Acciones\n"
      ]
    },
    {
      "cell_type": "code",
      "metadata": {
        "id": "OD4D__mcbMhr"
      },
      "source": [
        "%%R\n",
        "Symbols<-c  (\"AMXL.MX\", \"GCARSOA1.MX\", \"WALMEX.MX\" )\n",
        "pos_eq=c(-5000,1000,1200)\n",
        "nh=3660 # Días de historia\n",
        "\n",
        "\n",
        "start_date=Sys.Date()-nh #Fecha inicial\n",
        "dataEnv<-new.env()\n",
        "getSymbols.yahoo(Symbols,env=dataEnv,from=start_date)\n",
        "\n",
        "bt.prep(dataEnv,align='remove.na',fill.gaps = T)\n",
        "stock_prices = dataEnv$prices"
      ],
      "execution_count": null,
      "outputs": []
    },
    {
      "cell_type": "markdown",
      "metadata": {
        "id": "KeznTA0zbQRo"
      },
      "source": [
        "##Divisas"
      ]
    },
    {
      "cell_type": "code",
      "metadata": {
        "id": "xHeyiphLbVx9"
      },
      "source": [
        "%%R\n",
        "SymbolsFX<-c(\"EURUSD=X\",\"GBPUSD=X\",\"USDMXN=X\")\n",
        "pos_fx=c(700,-600,1500)\n",
        "nh=3660 # Días de historia\n",
        "\n",
        "  start_date=Sys.Date()-nh #Fecha inicial\n",
        "  dataEnvFX<-new.env() #Creación del objeto para guardar los datos\n",
        "  getSymbols.yahoo(SymbolsFX,env=dataEnvFX,from=start_date) #Obtención de datos\n",
        "  bt.prep(dataEnvFX,align='remove.na',fill.gaps=T) #Limpieza\n",
        "  stock_pricesFX = dataEnvFX$prices #Obtenemos el precio\n",
        "\n",
        "  stock_pricesFX=cbind(stock_pricesFX[,1,with=F]*stock_pricesFX[,3,with=F],stock_pricesFX[,2,with=F]*stock_pricesFX[,3,with=F],stock_pricesFX[,3,with=F])\n",
        "  stock_prices_EQFX=merge(stock_pricesFX,stock_prices,join = \"inner\")\n",
        "\n",
        "  aux2=data.table(Date=as.Date(index(stock_prices_EQFX)),coredata(stock_prices_EQFX))\n"
      ],
      "execution_count": null,
      "outputs": []
    },
    {
      "cell_type": "markdown",
      "metadata": {
        "id": "P6jqXMvIbZb4"
      },
      "source": [
        "##Bonos"
      ]
    },
    {
      "cell_type": "code",
      "metadata": {
        "id": "w5iX74rYbdFI",
        "colab": {
          "base_uri": "https://localhost:8080/"
        },
        "outputId": "df65bd9d-9e54-4cc3-b794-3abec9f12971"
      },
      "source": [
        "%%R\n",
        "\n",
        "#CETES\n",
        "base = \"Administracion-de-Riesgos-Financieros/tasa_guber.txt\"\n",
        "plazos_bcc = cbind(180)\n",
        "contratos_bcc = cbind(1500)\n",
        "nominal_bcc = 10\n",
        "\n",
        "\n",
        "#BONO M CON TASA FIJA\n",
        "\n",
        "btasadesc=\"Administracion-de-Riesgos-Financieros/tasa_yield.txt\"\n",
        "tf = cbind(0.065)\n",
        "tfcupon_bm = cbind(0.0605)\n",
        "plazos_bm = cbind(3600)\n",
        "plazocupon_bm = cbind(182)\n",
        "contratos_bm = cbind(1000)\n",
        "nominal_bm = 100\n",
        "\n",
        "#BONDES D\n",
        "btasadescst=\"Administracion-de-Riesgos-Financieros/tasa_guber.txt\"\n",
        "btasafondeo=\"Administracion-de-Riesgos-Financieros/tfondeo.txt\"\n",
        "plazos_bdm= cbind(707, 707) #Vencimiento del bono\n",
        "plazocupon_bdm= cbind(28, 28) #plazos_bdm fijos de cada cupón\n",
        "contratos_bdm = cbind(-1000, 0)\n",
        "nominal_bdm=100\n",
        "\n",
        "\n",
        "#------------------------------------------------\n",
        "\n",
        "# CETES\n",
        "data_cetes<-read.table(base)\n",
        "n_gov<-nrow(data_cetes)\n",
        "m_gov=ncol(data_cetes)\n",
        "x_orig_gov=data.frame(data_cetes[2:n_gov,1:m_gov])\n",
        "x_orig_gov=as.data.table(mutate(data_cetes[2:n_gov,1:m_gov],Date=as.Date(V1,format=\"%Y%m%d\")))\n",
        "x_orig_gov=x_orig_gov%>%select(-V1)\n",
        "nodos_gov=data.frame(data_cetes[1,2:m_gov])\n",
        "\n",
        "# BONO M\n",
        "data_m<-read.table(btasadesc)\n",
        "n_bonom<-nrow(data_m)\n",
        "m_bonom=ncol(data_m)\n",
        "x_orig_bonom=data.frame(data_m[2:n_bonom,1:m_bonom])\n",
        "x_orig_bonom=as.data.table(mutate(data_m[2:n_bonom,1:m_bonom],Date=as.Date(V1,format=\"%Y%m%d\")))\n",
        "x_orig_bonom=x_orig_bonom%>%select(-V1)\n",
        "nodos_bonom=data.frame(data_m[1,2:m_bonom])\n",
        "\n",
        "# BONDE D\n",
        "\n",
        "data1<-read.table(base)\n",
        "n<-nrow(data1)\n",
        "m_bd=ncol(data1)\n",
        "X_orig_bd=as.data.table(mutate(data1[2:n,1:m_bd],Date=as.Date(V1,format=\"%Y%m%d\")))\n",
        "X_orig_bd%>%select(-V1)\n",
        "\n",
        "X1_orig=mutate(data.frame(data1[2:n,1:m_bd]), V1=as.Date(V1,format=\"%Y%m%d\"))\n",
        "print(head(X1_orig[,1:4]))\n",
        "nodos=data.frame(data1[1,2:m_bd])\n",
        "n=n-1\n",
        "\n",
        "data3<-read.table(btasadescst)\n",
        "n3<-nrow(data3)\n",
        "m3_bd=ncol(data3)\n",
        "X3_orig_bd=as.data.table(mutate(data3[2:n,1:m3_bd],Date=as.Date(V1,format=\"%Y%m%d\")))\n",
        "X3_orig_bd=X3_orig_bd%>%select(-V1)\n",
        "\n",
        "X3a_orig=mutate(data.frame(data1[2:n,1:m_bd]), V1=as.Date(V1,format=\"%Y%m%d\"))\n",
        "nodos3_bd=data.frame(data3[1,2:m3_bd])\n",
        "n3=n3-1\n",
        "\n",
        "data2<-read.table(btasafondeo)\n",
        "n2<-nrow(data2)\n",
        "X2_orig_bd=data.frame(data2[2:n2,1:2])\n",
        "\n",
        "X2_orig_bd=mutate(X2_orig_bd, V1=as.Date(V1,format=\"%Y%m%d\"), Date=as.Date(V1,format=\"%Y%m%d\"), V2=as.numeric(as.character(V2)))\n",
        "tfh=seq(min(X2_orig_bd$V1), max(X2_orig_bd$V1), \"days\") #Sucesión de dias para tasa fondeo\n",
        "tfhd=data.frame(ID=1:count(tfh),fecha=tfh)\n",
        "\n",
        "# Cruzar la sucesión de todos los días versus el de tasa de fondeo\n",
        "tfhd=setDT(tfhd)[, Date := tfh][order(-Date)]\n",
        "X2_orig_bd=setDT(X2_orig_bd)[, Date := V1][order(-Date)]\n",
        "# Rolling join unión por rolling, rellena las fechas que faltaban con el último valor conocido \"roll=Inf\"\n",
        "X2_orig_bd=X2_orig_bd[tfhd, on = .(Date), roll = Inf] \n",
        "\n",
        "# Buscar fecha de valuación en tfondeo\n",
        "tf_act=X2_orig_bd[fecha==fval,]$V2/100\n",
        "tf_int=X2_orig_bd[fecha<=fval & fecha>=(fval-plazocupon_bdm[1])]$V2/100\n",
        "\n",
        "X1_orig=setDT(X1_orig)[, Date:= V1][order(-Date)] #Para alinear con valor presente y tasa de fondeo.\n"
      ],
      "execution_count": null,
      "outputs": [
        {
          "output_type": "stream",
          "name": "stdout",
          "text": [
            "          V1         V2         V3         V4\n",
            "2 2022-03-31 0.07845614 0.07749243 0.07650381\n",
            "3 2022-03-30 0.07663158 0.07749243 0.07650381\n",
            "4 2022-03-29 0.07663158 0.07749243 0.07685555\n",
            "5 2022-03-28 0.07753656 0.07749243 0.07685555\n",
            "6 2022-03-25 0.07663158 0.07749243 0.07685555\n",
            "7 2022-03-24 0.07663158 0.07742413 0.07685555\n"
          ]
        }
      ]
    },
    {
      "cell_type": "markdown",
      "metadata": {
        "id": "s106nu2Kbisj"
      },
      "source": [
        "##Futuros"
      ]
    },
    {
      "cell_type": "code",
      "metadata": {
        "id": "Sq9TsyoPbl3i"
      },
      "source": [
        "%%R\n",
        "#FORWARDS TDC\n",
        "bext=\"Administracion-de-Riesgos-Financieros/tasa_libor.txt\" \n",
        "bdom=\"Administracion-de-Riesgos-Financieros/tasa_fwd.txt\"\n",
        "SymbolsFX_ftdc<-c(\"USDMXN=X\", \"GBPUSD=X\" ) \n",
        "plazos_fwd=cbind(5)\n",
        "contratos_fwd=cbind(100)\n",
        "kst_fwd=cbind(20.83)\n",
        "nominal_fwd=1\n",
        "yext=1 #si se carga información de yahoo en la fecha definida por fval o SymbolsFX, en caso contrario se utiliza información que se tendrá que cargar de tasas_spot.txt\n",
        "trlib=1 #1 si la curva libor viene a 182 0 si no.\n",
        "\n",
        "#FORWARDS DE IPC\n",
        "#Descontamos con gubernamental\n",
        "base=\"Administracion-de-Riesgos-Financieros/tasa_guber.txt\"\n",
        "SymbolsEQ_find<-c(\"^MXX\", \"GCARSOA1.MX\" )\n",
        "plazos_fwd_ind=cbind(53)\n",
        "contratos_fwd_ind=cbind(50)\n",
        "kst_fwd_ind=cbind(49525)\n",
        "nominal_fwd_ind=1\n",
        "\n",
        "##----------------------------------------------------------------------------\n",
        "#CARGA DE DATOS DE  FORWARDS DE TDC\n",
        "#datas\n",
        "#data<-read.table(\"tasa_tiie.txt\")\n",
        "data1<-read.table(bext)\n",
        "data2<-read.table(bdom)\n",
        "\n",
        "########minimos para parametrizar\n",
        "n1=nrow(data1)\n",
        "n2=nrow(data2)\n",
        "m1_ftdc=ncol(data1)\n",
        "m2_ftdc=ncol(data2)\n",
        "n=min(n1,n2)-1\n",
        "###NODOS###\n",
        "nodos1_ftdc=data.frame(data1[1,2:m1_ftdc])\n",
        "nodos2_ftdc=data.frame(data2[1,2:m2_ftdc])\n",
        "####MATRICES DEL MISMO TAMAÑO MENOS DOLAR\n",
        "\n",
        "x1_ftdc=as.data.table(mutate(data1[2:n,1:m1_ftdc],Date=as.Date(V1,format=\"%Y%m%d\")))\n",
        "\n",
        "x1_ftdc=x1_ftdc%>%select(-V1)\n",
        "x2_ftdc=as.data.table(mutate(data2[2:n,1:m2_ftdc],Date=as.Date(V1,format=\"%Y%m%d\")))\n",
        "x2_ftdc=x2_ftdc%>%select(-V1)\n",
        "\n",
        "\n",
        "###Para Dolar\n",
        "\n",
        "if (yext==1)\n",
        "{\n",
        "#Cargar los símbolos de yahoo finance para FX\n",
        "  start_date=fval-3660 #fecha inicial\n",
        "\n",
        "\n",
        "  \n",
        "#Creación del objeto para guardar los datos\n",
        "  dataEnvFX_ftdc<-new.env()\n",
        "  \n",
        "#obtener los datos\n",
        "  getSymbols.yahoo(SymbolsFX_ftdc,env=dataEnvFX_ftdc,from=start_date, to=(fval))\n",
        "#limpiarlos, alinearnos y quedarnos con el precio de cierre \n",
        "  bt.prep(dataEnvFX_ftdc,align='remove.na',fill.gaps=T)\n",
        "  \n",
        "#muestra de datos\n",
        "  head(dataEnvFX_ftdc$prices[,2])\n",
        "  \n",
        "#Nos quedamos con los precios\n",
        "  X3_ftdc=data.table(Date=as.Date(index(dataEnvFX_ftdc$prices[,2])),coredata(dataEnvFX_ftdc$prices[,2]))\n",
        "} else  \n",
        "{ \n",
        "data3<-read.table(btsp)\n",
        "n3<-nrow(data3)\n",
        "m3<-ncol(data3)\n",
        "X3=data.table(as.matrix(as.double(as.matrix(data3[2:(n+1),m3]))))\n",
        "X3_find=as.data.table(mutate(data3[2:(n+1),1:m3],Date=as.Date(V1,format=\"%Y%m%d\")))\n",
        "}\n",
        "\n",
        "\n",
        "# CARGA DE DATOS DE  FORWARD DE IPC\n",
        "\n",
        "data<-read.table(base)\n",
        "n<-nrow(data)\n",
        "m_gov=ncol(data)\n",
        "#x_orig_gov=data.frame(data[2:n,1:m_gov])\n",
        "x_orig_gov=as.data.table(mutate(data[2:n,1:m_gov],Date=as.Date(V1,format=\"%Y%m%d\")))\n",
        "x_orig_gov=x_orig_gov%>%select(-V1)\n",
        "nodos_gov=data.frame(data[1,2:m_gov])\n",
        "\n",
        "  #Cargar los símbolos de yahoo finance para EQ\n",
        "  start_date=fval-nh #fecha inicial\n",
        "  \n",
        "  #Creación del objeto para guardar los datos\n",
        "  dataEnvEQ<-new.env()\n",
        "  \n",
        "  #obtener los datos\n",
        "  getSymbols.yahoo(SymbolsEQ_find,env=dataEnvEQ,from=start_date, to=(fval))\n",
        "  #limpiarlos, alinearnos y quedarnos con el precio de cierre \n",
        "  bt.prep(dataEnvEQ,align='remove.na',fill.gaps=T)\n",
        "  \n",
        "  #muestra de datos\n",
        "#  head(dataEnvEQ$prices)\n",
        "  \n",
        "  #Nos quedamos con los precios\n",
        "  X3_find=data.table(Date=as.Date(index(dataEnvEQ$prices[,2])),coredata(dataEnvEQ$prices[,2]))"
      ],
      "execution_count": null,
      "outputs": []
    },
    {
      "cell_type": "markdown",
      "metadata": {
        "id": "P5Z182t1bqSg"
      },
      "source": [
        "##Swap's"
      ]
    },
    {
      "cell_type": "code",
      "metadata": {
        "id": "4b6MAsc9bt-0"
      },
      "source": [
        "%%R\n",
        "btasadesc_sw=\"Administracion-de-Riesgos-Financieros/tasa_TIIE_SW_OP.txt\"\n",
        "btasacupvar_sw=\"Administracion-de-Riesgos-Financieros/tasa_DIRS_SW_OP.txt\"\n",
        "tasafija_sw=cbind(0.066,0.059) #se establece la tasa fija a pagar para cada swap\n",
        "plazos_sw=cbind(588,270) #se establece el número de días que vivirá el swap\n",
        "plazocupon_sw=cbind(28,28) #se establece el número de días que se pagará cada cupón\n",
        "contratos_sw=cbind(16000000,-12000000) #se establece el número de contratos_sw de cada swap\n",
        "nominal_sw=cbind(1, 1) #se establece el nominal_sw de cada swap\n",
        "por_sw=cbind(0,1) #se establece 0 si se paga tasa fija y 1 si se paga tasa variable\n",
        "\n",
        "\n",
        "#---------------------------------------------------------------------------------------\n",
        "data1<-read.table(btasadesc_sw)\n",
        "n1<-nrow(data1)\n",
        "m1_orig_sw=ncol(data1)\n",
        "X1_orig_sw=data.table(mutate(data1[2:n1,1:m1_orig_sw],Date=as.Date(V1,format=\"%Y%m%d\")))\n",
        "X1_orig_sw=X1_orig_sw%>%select(-V1)\n",
        "nodos1_sw=data.frame(data1[1,2:m1_orig_sw])\n",
        "  \n",
        "data2<-read.table(btasacupvar_sw)\n",
        "n2<-nrow(data2)\n",
        "m2_orig_sw=ncol(data2)\n",
        "X2_orig_sw=data.table(mutate(data2[2:n1,1:m1_orig_sw],Date=as.Date(V1,format=\"%Y%m%d\")))\n",
        "X2_orig_sw=X2_orig_sw%>%select(-V1)\n",
        "nodos2_sw=data.frame(data2[1,2:m2_orig_sw])"
      ],
      "execution_count": null,
      "outputs": []
    },
    {
      "cell_type": "markdown",
      "metadata": {
        "id": "li4reWgTbxwA"
      },
      "source": [
        "##Opciones"
      ]
    },
    {
      "cell_type": "code",
      "metadata": {
        "id": "nxZZlEMob2vo"
      },
      "source": [
        "%%R\n",
        "btasadesc_oir=\"Administracion-de-Riesgos-Financieros/tasa_TIIE_SW_OP.txt\" #Tasa de descuento\n",
        "btasaspot_oir=\"Administracion-de-Riesgos-Financieros/tasa_DIRS_SW_OP.txt\" #Tasa Spot\n",
        "bvolspot_oir=\"Administracion-de-Riesgos-Financieros/tvoltiie_opc.txt\" #Volatilidad\n",
        "\n",
        "plazos_oir=cbind(1700, 700) #T-t\n",
        "pr_oir=28 #plazo de referencia  \n",
        "dct_oir=360 #d_base\n",
        "cp_oir=cbind(1,0) #si es call (cap) o put (floor) \n",
        "K_oir=cbind(0.058,0.06) #Strike\n",
        "contratos_oir=cbind(1000,500)\n",
        "nominal_oir=1\n",
        "cs_oir=1 #1 si es continua la tasa 0 si es simple\n",
        "\n",
        "#------------------------------------------------------------------------------------------\n",
        "  #carga de rho\t\n",
        "  data1<-read.table(btasadesc_oir) \n",
        "  n<-nrow(data1)\n",
        "  m1_orig_oir=ncol(data1)\n",
        "  x1_orig_oir=data.table(mutate(data1[2:n,1:m1_orig_oir],Date=as.Date(V1,format=\"%Y%m%d\")))\n",
        "  x1_orig_oir=x1_orig_oir%>%select(-V1)\n",
        "  nodos1_oir=data.frame(data1[1,2:m1_orig_oir])\n",
        "  \n",
        "  #data1[1:3,]\n",
        "  #carga de tasas spot\n",
        "  data2<-read.table(btasaspot_oir)\n",
        "  n<-nrow(data2)\n",
        "  m2_orig_oir=ncol(data2)\n",
        "  x2_orig_oir=data.table(mutate(data2[2:n,1:m2_orig_oir],Date=as.Date(V1,format=\"%Y%m%d\")))\n",
        "  x2_orig_oir=x2_orig_oir%>%select(-V1)\n",
        "  nodos2_oir=data.frame(data2[1,2:m2_orig_oir])\n",
        "  #carga de volatilidades de spot\n",
        "  data3<-read.table(bvolspot_oir)\n",
        "  n<-nrow(data3)\n",
        "  m3_orig_oir=ncol(data3)\n",
        "  x3_orig_oir=data.table(mutate(data3[2:n,1:m3_orig_oir],Date=as.Date(V1,format=\"%Y%m%d\")))\n",
        "  x3_orig_oir=x3_orig_oir%>%select(-V1)\n",
        "  \n",
        "  nodos3_oir=data.frame(data3[1,2:m3_orig_oir])"
      ],
      "execution_count": null,
      "outputs": []
    },
    {
      "cell_type": "markdown",
      "metadata": {
        "id": "Ji8Uq3EzdU-m"
      },
      "source": [
        "# Integración de Insumos"
      ]
    },
    {
      "cell_type": "code",
      "metadata": {
        "id": "0_yicFZrdcTz",
        "colab": {
          "base_uri": "https://localhost:8080/"
        },
        "outputId": "cb085597-4936-439d-a553-981cd2330e59"
      },
      "source": [
        "%%R\n",
        "#INTERSECCIÓN DE FECHAS DE TODOS LOS INSUMOS    \n",
        "  \n",
        "\n",
        "lin_gub=data.table(Date=as.Date(aux2[x_orig_gov,on=.(Date),nomatch=0]$Date)) #Fechas acciones, equity, guber, yield\n",
        "\n",
        "#lin_gub_aux=data.table(Date=as.Date(lin_gub[x_orig_bonom,on=.(Date),nomatch=0]$Date)) \n",
        "\n",
        "lin_gub_bmybdst_aux=data.table(Date=as.Date(lin_gub[X3_orig_bd,on=.(Date),nomatch=0]$Date)) #Fechas acciones, equity, guber, yield y st (bonde)\n",
        "\n",
        "\n",
        "lin_gub_bmybdst=data.table(Date=as.Date(X3_ftdc[lin_gub_bmybdst_aux,on=.(Date),nomatch=0]$Date)) #Fechas acciones, equity, guber, yield y st (bonde)\n",
        "\n",
        "lin_gub_bmybdst_flib=data.table(Date=as.Date(lin_gub_bmybdst[x1_ftdc,on=.(Date),nomatch=0]$Date)) #Fechas acciones, equity, guber, yield,  st (bonde), libor\n",
        "\n",
        "lin_gub_bmybdst_flibfwd=data.table(Date=as.Date(lin_gub_bmybdst_flib[x2_ftdc,on=.(Date),nomatch=0]$Date)) #Fechas acciones, equity, guber, yield, st (bonde), libor, fwd\n",
        "\n",
        "lin_gub_bmybdst_flibfwdspind=data.table(Date=as.Date(lin_gub_bmybdst_flibfwd[X3_find,on=.(Date),nomatch=0]$Date)) #Fechas acciones, equity, guber, yield, st (bonde), libor, fwd, spot, equity or index\n",
        "\n",
        "\n",
        "\n",
        "lin_gub_bmybdst_flibfwdspind_swcup=data.table(Date=as.Date(lin_gub_bmybdst_flibfwdspind[X1_orig_sw,on=.(Date),nomatch=0]$Date)) #Fechas acciones, equity, guber, yield, st (bonde), libor, fwd, spot, equity or index, swap cupón\n",
        "\n",
        "lin_gub_bmybdst_flibfwdspind_swcupvp=data.table(Date=as.Date(lin_gub_bmybdst_flibfwdspind_swcup[X2_orig_sw,on=.(Date),nomatch=0]$Date)) #Fechas acciones, equity, guber, yield, st (bonde), libor, fwd, spot, equity or index, swap cupón\n",
        "\n",
        "lin_gub_bmybdst_flibfwdspind_swcupvp_oirs=data.table(Date=as.Date(lin_gub_bmybdst_flibfwdspind_swcupvp[x1_orig_oir,on=.(Date),nomatch=0]$Date)) #Fechas acciones, equity, guber, yield, st (bonde), libor, fwd, spot, equity or index, swap cupón, opciones ir spot\n",
        "\n",
        "lin_gub_bmybdst_flibfwdspind_swcupvp_oirsvp=data.table(Date=as.Date(lin_gub_bmybdst_flibfwdspind_swcupvp_oirs[x2_orig_oir,on=.(Date),nomatch=0]$Date)) #Fechas acciones, equity, guber, yield, st (bonde), libor, fwd, spot, equity or index, swap cupón, opciones ir spot, opc ir vp\n",
        "\n",
        "lin_gub_bmybdst_flibfwdspind_swcupvp_oirsvpvol=data.table(Date=as.Date(lin_gub_bmybdst_flibfwdspind_swcupvp_oirsvp[x3_orig_oir,on=.(Date),nomatch=0]$Date)) #Fechas acciones, equity, guber, yield, st (bonde), libor, fwd, spot, equity or index, swap cupón, opciones ir spot, opc ir vp, opc ir vol\n",
        "\n",
        "\n",
        "lin_gub_bmybdst_flibfwdspind_swcupvp_oirsvpvol=unique(lin_gub_bmybdst_flibfwdspind_swcupvp_oirsvpvol)\n",
        "\n",
        "n=nrow(lin_gub_bmybdst_flibfwdspind_swcupvp_oirsvpvol)\n",
        "n"
      ],
      "execution_count": null,
      "outputs": [
        {
          "output_type": "stream",
          "name": "stdout",
          "text": [
            "[1] 253\n"
          ]
        }
      ]
    },
    {
      "cell_type": "markdown",
      "metadata": {
        "id": "CfNMTBCFdoty"
      },
      "source": [
        "## Historia de todos"
      ]
    },
    {
      "cell_type": "code",
      "metadata": {
        "id": "GR3OTHBZdlLA",
        "colab": {
          "base_uri": "https://localhost:8080/"
        },
        "outputId": "56cb95c5-900e-4502-c6b6-d336aa921d86"
      },
      "source": [
        "%%R\n",
        "n=nrow(lin_gub_bmybdst_flibfwdspind_swcupvp_oirsvpvol)\n",
        "n"
      ],
      "execution_count": null,
      "outputs": [
        {
          "output_type": "stream",
          "name": "stdout",
          "text": [
            "[1] 253\n"
          ]
        }
      ]
    },
    {
      "cell_type": "code",
      "metadata": {
        "id": "oEJD42__d08N"
      },
      "source": [
        "%%R\n",
        "#historia de acciones y divisas\n",
        "stock_prices_EQFX=lin_gub_bmybdst_flibfwdspind_swcupvp_oirsvpvol[aux2,on=.(Date),nomatch=0][order(-Date)]\n",
        "stock_prices_EQFX=stock_prices_EQFX%>%select(-Date)\n",
        "\n",
        "#----------------------------------------------------\n",
        "#Historia de curva gubernamental y yield\n",
        "x_orig_gov=lin_gub_bmybdst_flibfwdspind_swcupvp_oirsvpvol[x_orig_gov,on=.(Date),nomatch=0][order(-Date)]\n",
        "x_orig_gov=x_orig_gov%>%select(-Date)\n",
        "\n",
        "#Historia de curvas de bonde\n",
        "X1_orig=lin_gub_bmybdst_flibfwdspind_swcupvp_oirsvpvol[X1_orig,on=.(Date),nomatch=0][order(-Date)]\n",
        "X1_orig=X1_orig%>%select(-Date)\n",
        "X2_orig_bd=lin_gub_bmybdst_flibfwdspind_swcupvp_oirsvpvol[X2_orig_bd,on=.(Date),nomatch=0][order(-Date)]\n",
        "X2_orig_bd=X2_orig_bd%>%select(-Date)\n",
        "X3_orig_bd=lin_gub_bmybdst_flibfwdspind_swcupvp_oirsvpvol[X3_orig_bd,on=.(Date),nomatch=0][order(-Date)]\n",
        "X3_orig_bd=X3_orig_bd%>%select(-Date)\n",
        "\n",
        "#--------------------------------------------------------\n",
        "#historia de curvas de forward tdc\n",
        "x1_ftdc=lin_gub_bmybdst_flibfwdspind_swcupvp_oirsvpvol[x1_ftdc,on=.(Date),nomatch=0][order(-Date)]\n",
        "x1_ftdc=x1_ftdc%>%select(-Date)/100\n",
        "x2_ftdc=lin_gub_bmybdst_flibfwdspind_swcupvp_oirsvpvol[x2_ftdc,on=.(Date),nomatch=0][order(-Date)]\n",
        "x2_ftdc=x2_ftdc%>%select(-Date)/100\n",
        "X3_ftdc=lin_gub_bmybdst_flibfwdspind_swcupvp_oirsvpvol[X3_ftdc,on=.(Date),nomatch=0][order(-Date)]\n",
        "X3_ftdc=X3_ftdc%>%select(-Date)\n",
        "\n",
        "#historia de curvas de forward ind\n",
        "#CONSIDERAR LA CURVA GUBERNAMENTAL X1_ORIG_GOV\n",
        "X3_find=lin_gub_bmybdst_flibfwdspind_swcupvp_oirsvpvol[X3_find,on=.(Date),nomatch=0][order(-Date)]\n",
        "X3_find=X3_find%>%select(-Date)\n",
        "\n",
        "#---------------------------------------------------------\n",
        "#  swaps\n",
        "X1_orig_sw=lin_gub_bmybdst_flibfwdspind_swcupvp_oirsvpvol[X1_orig_sw,on=.(Date),nomatch=0][order(-Date)]\n",
        "X1_orig_sw=X1_orig_sw%>%select(-Date)/100\n",
        "X2_orig_sw=lin_gub_bmybdst_flibfwdspind_swcupvp_oirsvpvol[X2_orig_sw,on=.(Date),nomatch=0][order(-Date)]\n",
        "X2_orig_sw=X2_orig_sw%>%select(-Date)/100\n",
        "\n",
        "\n",
        "#---------------------------------------------------------\n",
        "#   opciones\n",
        "x1_orig_oir=lin_gub_bmybdst_flibfwdspind_swcupvp_oirsvpvol[x1_orig_oir,on=.(Date),nomatch=0][order(-Date)]\n",
        "x1_orig_oir=x1_orig_oir%>%select(-Date)/100\n",
        "x2_orig_oir=lin_gub_bmybdst_flibfwdspind_swcupvp_oirsvpvol[x2_orig_oir,on=.(Date),nomatch=0][order(-Date)]\n",
        "x2_orig_oir=x2_orig_oir%>%select(-Date)/100\n",
        "x3_orig_oir=lin_gub_bmybdst_flibfwdspind_swcupvp_oirsvpvol[x3_orig_oir,on=.(Date),nomatch=0][order(-Date)]\n",
        "x3_orig_oir=x3_orig_oir%>%select(-Date)"
      ],
      "execution_count": null,
      "outputs": []
    },
    {
      "cell_type": "markdown",
      "metadata": {
        "id": "igoAbhE5wA7M"
      },
      "source": [
        "## Valuación | Derivadas"
      ]
    },
    {
      "cell_type": "markdown",
      "source": [
        "###Aciones y divisas"
      ],
      "metadata": {
        "id": "qXi4M8kM7gKW"
      }
    },
    {
      "cell_type": "code",
      "metadata": {
        "id": "exREBYboxUMC",
        "colab": {
          "base_uri": "https://localhost:8080/"
        },
        "outputId": "9011a2e1-6da4-42bb-e245-b95e5409428a"
      },
      "source": [
        "%%R\n",
        "#divisas y acciones CÁLCULO\n",
        "\n",
        "x0_acc_div=stock_prices_EQFX[1,]\n",
        "DeltaX_acc_div=as.matrix(log(as.matrix(stock_prices_EQFX[1:(n-1)])/as.matrix(stock_prices_EQFX[2:(n)])))\n",
        "V0_acc_div=cbind(t(pos_fx),t(pos_eq))*x0_acc_div\n",
        "mu_acc_div=0\n",
        "g_acc_div=cbind(t(pos_fx),t(pos_eq))\n",
        "g_acc_divt=cbind(t(pos_fx),t(pos_eq))*x0_acc_div\n",
        "gamma_acc_divt=matrix(0,ncol(x0_acc_div),ncol(x0_acc_div))\n",
        "\n",
        "\n",
        "m_fx=length(pos_fx)\n",
        "m_acc=length(pos_eq)\n",
        "\n",
        "print(\"Valor actual\")\n",
        "print(V0_acc_div)"
      ],
      "execution_count": null,
      "outputs": [
        {
          "output_type": "stream",
          "name": "stdout",
          "text": [
            "[1] \"Valor actual\"\n",
            "   EURUSD.X  GBPUSD.X USDMXN.X AMXL.MX GCARSOA1.MX WALMEX.MX\n",
            "1: 15501.42 -15685.53  29948.4 -103750       73530     96408\n"
          ]
        }
      ]
    },
    {
      "cell_type": "markdown",
      "metadata": {
        "id": "lxmCu1O2aRnR"
      },
      "source": [
        "### CETES"
      ]
    },
    {
      "cell_type": "code",
      "metadata": {
        "id": "GsaQDX9vaYxk",
        "colab": {
          "base_uri": "https://localhost:8080/"
        },
        "outputId": "c9ed0a39-685a-4468-865a-56ee45a61ae3"
      },
      "source": [
        "%%R\n",
        "\n",
        "#CETE CÁLCULO\n",
        "#paso para interpolar las tasas\n",
        "m=ncol(plazos_bcc)\n",
        "x_bcc=matrix(0,n,m)\n",
        "for (i in 1:(n))\n",
        "{\n",
        "  #x[i,]=approx(nodos_gov,x_orig_gov[i,],plazos_bcc)$y\n",
        "  x_bcc[i,]=if(itpl==0){approx(nodos_gov,x_orig_gov[i,],plazos_bcc,rule=2)$y}else{talamb(nodos_gov,x_orig_gov[i,],plazos_bcc)}\n",
        "}\n",
        "\n",
        "x0_bcc=x_bcc[1,]\n",
        "\n",
        "#función\n",
        "bonocupcero = function(i,t)\n",
        "{\n",
        "  1/(1+i*t/360)\n",
        "}\n",
        "\n",
        "#funcion primera derivada con tiempo\n",
        "bcc_dt = function(i,t)\n",
        "{\n",
        "  -(i/360)/(1+i*t/360)^2\n",
        "}\n",
        "\n",
        "#funcion primera derivada con tasa interés\n",
        "bcc_di = function(i,t)\n",
        "{\n",
        "  -(t/360)/(1+i*t/360)^2\n",
        "}\n",
        "\n",
        "#funcion segunda derivada con tasa de interés\n",
        "bcc_di2 = function(i,t)\n",
        "{\n",
        "  2*(t/360)^2/(1+i*t/360)^3\n",
        "}\n",
        "\n",
        "V0_bcc=as.matrix(bonocupcero(x0_bcc,plazos_bcc))*contratos_bcc*nominal_bcc #Valor actual de cada bono\n",
        "\n",
        "VT0_bcc=sum(V0_bcc) #Valor total del portafolio al tiempo 0\n",
        "\n",
        "mu_bcc=bcc_dt(x0_bcc,plazos_bcc)*contratos_bcc*nominal_bcc\n",
        "g_bcc=bcc_di(x0_bcc,plazos_bcc)*contratos_bcc*nominal_bcc\n",
        "g_bcct=g_bcc*x0_bcc\n",
        "gamma_bcc=bcc_di2(x0_bcc,plazos_bcc)*contratos_bcc*nominal_bcc\n",
        "gamma_bcct2=diagv(gamma_bcc*(x0_bcc)^2)\n",
        "\n",
        "\n",
        "\n",
        "print(\"Valor actual\")\n",
        "print(VT0_bcc)"
      ],
      "execution_count": null,
      "outputs": [
        {
          "output_type": "stream",
          "name": "stdout",
          "text": [
            "[1] \"Valor actual\"\n",
            "[1] 14426.87\n"
          ]
        }
      ]
    },
    {
      "cell_type": "markdown",
      "metadata": {
        "id": "3t2-6mU9bjNw"
      },
      "source": [
        "### Bono M"
      ]
    },
    {
      "cell_type": "code",
      "metadata": {
        "id": "qLRujQ0rblpK",
        "colab": {
          "base_uri": "https://localhost:8080/"
        },
        "outputId": "3a776306-8376-4c52-a9ed-922732c9c939"
      },
      "source": [
        "%%R\n",
        "#BONO M  CÁLCULO\n",
        "#Posición inicial\n",
        "#interpolación de tasas y volatilidades\n",
        "m=ncol(plazos_bm)\n",
        "X_bm=matrix(0,n,m)\n",
        "for (i in 1:(n))\n",
        "{\n",
        "  X_bm[i,]=if(itpl==0){approx(nodos_bonom,x_orig_gov[i,],plazos_bm,rule=2)$y}else{talamb(nodos_bonom,x_orig_gov[i,],plazos_bm)}\n",
        "}\n",
        "\n",
        "\n",
        "#Función de valoración por tasa yield\n",
        "bonoMyield=function(x, plazos_bm, plazocupon_bm, tfcupon_bm, nominal_bm, contratos_bm) #valoración bono tasa fija\n",
        "{\n",
        "  N=as.integer(plazos_bm/plazocupon_bm)+1   \n",
        "  p1=plazos_bm-plazocupon_bm*(N-1)   \n",
        "  a=(1-(1+x*plazocupon_bm/360)^(-N))/(plazocupon_bm*x/360)\n",
        "  ((contratos_bm*nominal_bm*tfcupon_bm*plazocupon_bm/360)*a+(contratos_bm*nominal_bm)/((1+x*plazocupon_bm/360)^N))*(1+x*plazocupon_bm/360)^(1-p1/plazocupon_bm)   \n",
        "}\n",
        "\n",
        "x0_bm=0.045 #tasas de descuento valor actual\n",
        "V0_bm=bonoMyield(x0_bm,plazos_bm, plazocupon_bm, tfcupon_bm, nominal_bm, contratos_bm)\n",
        "\n",
        "#función para derivar con respecto al tiempo a la función de Bono General\n",
        "bonoMyieldm=function(x, plazos_bm, plazocupon_bm, tfcupon_bm, nominal_bm, contratos_bm) #valoración bono tasa fija\n",
        "{\n",
        "  N=plazos_bm/plazocupon_bm+1   \n",
        "  p1=plazos_bm-plazocupon_bm*(N-1)   \n",
        "  a=(1-(1+x*plazocupon_bm/360)^(-N))/(plazocupon_bm*x/360)\n",
        "  ((contratos_bm*nominal_bm*tfcupon_bm*plazocupon_bm/360)*a+(contratos_bm*nominal_bm)/((1+x*plazocupon_bm/360)^N))*(1+x*plazocupon_bm/360)^(1-p1/plazocupon_bm)   \n",
        "}\n",
        "\n",
        "mu_bm=eval(Deriv(bonoMyieldm(x0_bm,plazos_bm, plazocupon_bm, tfcupon_bm, nominal_bm, contratos_bm), \"plazos_bm\"))\n",
        "mu_bm[1,1]\n",
        "g_bm=eval(Deriv(bonoMyield(x0_bm,plazos_bm, plazocupon_bm, tfcupon_bm, nominal_bm, contratos_bm), \"x0_bm\"))\n",
        "g_bmt=g_bm*x0_bm\n",
        "gamma_bm=eval(Deriv(bonoMyield(x0_bm,plazos_bm, plazocupon_bm, tfcupon_bm, nominal_bm, contratos_bm), \"x0_bm\",nderiv=2))\n",
        "gamma_bmt2=diagv(gamma_bm*(x0_bm)^2)\n",
        "gamma_bmt2[is.nan(gamma_bmt2)] <- 0 #quitamos NaN\n",
        "gamma_bmt2[is.na(gamma_bmt2)] <- 0 #quitamos Na\n",
        "gamma_bmt2[is.infinite(gamma_bmt2)] <- 0 \n",
        "\n",
        "mu_bm[is.nan(mu_bm)] <- 0 #quitamos NaN\n",
        "mu_bm[is.na(mu_bm)] <- 0 #quitamos Na\n",
        "mu_bm[is.infinite(mu_bm)] <- 0\n",
        "\n",
        "g_bmt[is.nan(g_bmt)] <- 0 #quitamos NaN\n",
        "g_bmt[is.na(g_bmt)] <- 0 #quitamos Na\n",
        "g_bmt[is.infinite(g_bmt)] <- 0\n",
        "\n",
        "\n",
        "print(\"Valor actual\")\n",
        "print(V0_bm[1,1])\n",
        "\n"
      ],
      "execution_count": null,
      "outputs": [
        {
          "output_type": "stream",
          "name": "stdout",
          "text": [
            "[1] \"Valor actual\"\n",
            "[1] 113037\n"
          ]
        }
      ]
    },
    {
      "cell_type": "markdown",
      "metadata": {
        "id": "Iaoeiy7Csy1n"
      },
      "source": [
        "### Bonde D"
      ]
    },
    {
      "cell_type": "code",
      "metadata": {
        "id": "qchUAMpMs13C",
        "colab": {
          "base_uri": "https://localhost:8080/"
        },
        "outputId": "fa4e3903-fc24-421f-a23a-a9f5c83d02dc"
      },
      "source": [
        "%%R\n",
        "#BONDE D CÁLCULO\n",
        "names(X2_orig_bd)[1] = 'Date'\n",
        "X2_pr=lin_gub_bmybdst_flibfwdspind_swcupvp_oirsvpvol[X2_orig_bd, on = .(Date),nomatch=0][order(-Date)] #Se alinea la tasa de fondeo por fecha con la tasa de valor presente.\n",
        "m=ncol(plazos_bdm)\n",
        "\n",
        "\n",
        "N_bd=as.integer(plazos_bdm/plazocupon_bdm)+1 #número de cupones a pagar\n",
        "VTplazos_bdm=matrix(0,1,sum(N_bd)) #vector de todos los plazos_bdm de todos los contratos_bdm\n",
        "contratos_bdmT=matrix(0,1,sum(N_bd)) #vector de todos los contratos_bdm de todos los flujos de todos los contratos_bdm\n",
        "nominal_bdmT=matrix(0,1,sum(N_bd)) #vector de todos los nominal_bdmes de todos los flujos de todos los contratos_bdm\n",
        "plazocupon_bdmT=matrix(0,1,sum(N_bd)) #vector de todos los plazos_bdmcupon de todos los flujos de todos los contratos_bdm\n",
        "tasafijaT_bd=matrix(0,1,sum(N_bd)) #vector de tasas fijas de todos los flujos de todos los contratos_bdm\n",
        "ulNomT_bd=matrix(0,1,sum(N_bd)) #vector de contratos_bdm a final de flujo\n",
        "\n",
        "\n",
        "plazini_bd=plazos_bdm-plazocupon_bdm*(N_bd-1) #vector de plazos_bdm iniciales\n",
        "ddv=plazocupon_bdm-plazini_bd #dias trasncurridos del cupón vigente\n",
        "tfcupon=matrix(0,1,m)  #El primero cupón de cada bono\n",
        "tfcupondev=matrix(0,1,m) #cupón de los días devengados\n",
        "tfcupgen=((1+tf_act/360)^(plazocupon_bdm[1])-1)*360/plazocupon_bdm[1] #el segundo al último cupón de todos los bonos\n",
        "#calcula cupones de bonos\n",
        "for (j in (1:m))\n",
        "{\n",
        "  tfcupondev[j]=(prod(1+tf_int[(1:ddv[j])]/360)-1)*360/ddv[j]\n",
        "  tfcupon[j]=((1+tfcupondev[j]*ddv[j]/360)*(1+tf_act/360)^(plazocupon_bdm[1]-ddv[j])-1)*360/plazocupon_bdm[1]\n",
        "}\n",
        "\n",
        "\n",
        "for (j in (1:m))\n",
        "{\n",
        "  if (j==1)\n",
        "  {\n",
        "    VTplazos_bdm[,1:sum(N_bd[1:j])]=seq(plazini_bd[j],plazos_bdm[j], by=plazocupon_bdm[j])\n",
        "    contratos_bdmT[,1:sum(N_bd[1:j])]=seq(contratos_bdm[j],contratos_bdm[j])\n",
        "    plazocupon_bdmT[,1:sum(N_bd[1:j])]=seq(plazocupon_bdm[j],plazocupon_bdm[j])\n",
        "    ulNomT_bd[,sum(N_bd[1:j])]=contratos_bdm[j]\n",
        "    tasafijaT_bd[,1]=tfcupon[j]\n",
        "    tasafijaT_bd[,2:sum(N_bd[1:j])]=seq(tfcupgen,tfcupgen)\n",
        "  }\n",
        "  else\n",
        "  {\n",
        "    VTplazos_bdm[,(sum(N_bd[1:j-1])+1):sum(N_bd[1:j])]=seq(plazini_bd[j],plazos_bdm[j], by=plazocupon_bdm[j])\n",
        "    contratos_bdmT[,(sum(N_bd[1:j-1])+1):sum(N_bd[1:j])]=seq(contratos_bdm[j],contratos_bdm[j])\t\t\t\t\t\n",
        "    plazocupon_bdmT[,(sum(N_bd[1:j-1])+1):sum(N_bd[1:j])]=seq(plazocupon_bdm[j],plazocupon_bdm[j])\n",
        "    tasafijaT_bd[,(sum(N_bd[1:j-1])+1)]=tfcupon[j]\n",
        "    tasafijaT_bd[,(sum(N_bd[1:j-1])+2):sum(N_bd[1:j])]=seq(tfcupgen,tfcupgen)\n",
        "    ulNomT_bd[,sum(N_bd[1:j])]=contratos_bdm[j]\n",
        "  }\n",
        "}\n",
        "\n",
        "Xvp_bd=matrix(0,n,ncol(VTplazos_bdm))\n",
        "Xst_bd=matrix(0,n,ncol(VTplazos_bdm))\n",
        "\n",
        "for (i in (1:n))\n",
        "{\n",
        "  Xvp_bd[i,]=if(itpl==0){approx(nodos_gov,x_orig_gov[i,],VTplazos_bdm,rule=2)$y}else{talamb(nodos_gov,x_orig_gov[i,],VTplazos_bdm)}\n",
        "  Xst_bd[i,]=if(itpl==0){approx(nodos3_bd,X3_orig_bd[i,],VTplazos_bdm,rule=2)$y}else{talamb(nodos3_bd,X3_orig_bd[i,],VTplazos_bdm)}\n",
        "  \n",
        "}\n",
        "\n",
        "\n",
        "bondeD=function(contratos_bdmT,  nominal_bdm, tf_act, plazocupon_bdmT, VTplazos_bdm, Xvp, Xst, N,ddv)\n",
        "{\n",
        "  tfcupon=matrix(0,1,m)  #El primero cupón de cada bono\n",
        "  tfcupondev=matrix(0,1,m) #cupón de los días devengados\n",
        "  tfcupgen=((1+tf_act/360)^(plazocupon_bdm[1])-1)*360/plazocupon_bdm[1] #el segundo al último cupón de todos los bonos\n",
        "  tasafijaT=matrix(0,1,sum(N))\n",
        "  #calcula cupones de bonos\n",
        "  for (j in (1:m))\n",
        "  {\n",
        "    tfcupondev[j]=(prod(1+tf_int[(1:ddv[j])]/360)-1)*360/ddv[j]\n",
        "    tfcupon[j]=((1+tfcupondev[j]*ddv[j]/360)*(1+tf_act/360)^(plazocupon_bdm[1]-ddv[j])-1)*360/plazocupon_bdm[1]\n",
        "  }\n",
        "  \n",
        "  \n",
        "  for (j in (1:m))\n",
        "  {\n",
        "    if (j==1)\n",
        "    {\n",
        "      tasafijaT[,1]=tfcupon[j]\n",
        "      tasafijaT[,2:sum(N[1:j])]=seq(tfcupgen,tfcupgen)\n",
        "    }\n",
        "    else\n",
        "    {\n",
        "      tasafijaT[,(sum(N[1:j-1])+1)]=tfcupon[j]\n",
        "      tasafijaT[,(sum(N[1:j-1])+2):sum(N[1:j])]=seq(tfcupgen,tfcupgen)\n",
        "    }\n",
        "  }\n",
        "  \n",
        "  \n",
        "  V0=matrix(0,1,count(N))\n",
        "  V0f=((((contratos_bdmT*(tasafijaT)*(plazocupon_bdmT/360))+ulNomT_bd)/(1+(Xvp+Xst)*VTplazos_bdm/360)))*nominal_bdm\n",
        "  for (j in (1:count(N)))\n",
        "  {\n",
        "    if(j==1)\n",
        "    {\n",
        "      V0[j]=sum(V0f[j:N[j]])\n",
        "    }\n",
        "    else\n",
        "    {\n",
        "      V0[j]=sum(V0f[(sum(N[1:j-1])+1):(sum(N[1:j]))])\n",
        "    }\n",
        "  }\n",
        "  V0\n",
        "} \n",
        "\n",
        "\n",
        "V0_bdm=bondeD(contratos_bdmT, nominal_bdm, tf_act, plazocupon_bdmT, VTplazos_bdm, Xvp_bd[1,], Xst_bd[1,], N_bd,ddv)\n",
        "\n",
        "\n",
        "\n",
        "d_bondeD_t=function(contratos_bdmT,  nominal_bdm, tf_act, plazocupon_bdmT, VTplazos_bdm, Xvp, Xst, N,ddv)\n",
        "{\n",
        "  tasafijaT=matrix(0,1,sum(N))\n",
        "  tfcupon=matrix(0,1,m)  #El primero cupón de cada bono\n",
        "  tfcupondev=matrix(0,1,m) #cupón de los días devengados\n",
        "  tfcupgen=((1+tf_act/360)^(plazocupon_bdm[1])-1)*360/plazocupon_bdm[1] #el segundo al último cupón de todos los bonos\n",
        "  #calcula cupones de bonos\n",
        "  for (j in (1:m))\n",
        "  {\n",
        "    tfcupondev[j]=(prod(1+tf_int[(1:ddv[j])]/360)-1)*360/ddv[j]\n",
        "    tfcupon[j]=((1+tfcupondev[j]*ddv[j]/360)*(1+tf_act/360)^(plazocupon_bdm[1]-ddv[j])-1)*360/plazocupon_bdm[1]\n",
        "  }\n",
        "  \n",
        "  \n",
        "  for (j in (1:m))\n",
        "  {\n",
        "    if (j==1)\n",
        "    {\n",
        "      tasafijaT[,1]=tfcupon[j]\n",
        "      tasafijaT[,2:sum(N[1:j])]=seq(tfcupgen,tfcupgen)\n",
        "    }\n",
        "    else\n",
        "    {\n",
        "      tasafijaT[,(sum(N[1:j-1])+1)]=tfcupon[j]\n",
        "      tasafijaT[,(sum(N[1:j-1])+2):sum(N[1:j])]=seq(tfcupgen,tfcupgen)\n",
        "    }\n",
        "  }\n",
        "  \n",
        "  \n",
        "  V0=matrix(0,1,count(N))\n",
        "  V0f=-((((contratos_bdmT*(tasafijaT)*(plazocupon_bdmT/360))+ulNomT_bd)/(1+(Xvp+Xst)*VTplazos_bdm/360)^2))*nominal_bdm*((Xvp+Xst)/360)\n",
        "  for (j in (1:count(N)))\n",
        "  {\n",
        "    if(j==1)\n",
        "    {\n",
        "      V0[j]=sum(V0f[j:N[j]])\n",
        "    }\n",
        "    else\n",
        "    {\n",
        "      V0[j]=sum(V0f[(sum(N[1:j-1])+1):(sum(N[1:j]))])\n",
        "    }\n",
        "  }\n",
        "  V0\n",
        "} \n",
        "\n",
        "\n",
        "#la derivada con respecto al valor presente y a la sobretasa es igual\n",
        "d_bondeD_x=function(contratos_bdmT,  nominal_bdm, tf_act, plazocupon_bdmT, VTplazos_bdm, Xvp, Xst, N,ddv)\n",
        "{\n",
        "  tasafijaT=matrix(0,1,sum(N))\n",
        "  tfcupon=matrix(0,1,m)  #El primero cupón de cada bono\n",
        "  tfcupondev=matrix(0,1,m) #cupón de los días devengados\n",
        "  tfcupgen=((1+tf_act/360)^(plazocupon_bdm[1])-1)*360/plazocupon_bdm[1] #el segundo al último cupón de todos los bonos\n",
        "  #calcula cupones de bonos\n",
        "  for (j in (1:m))\n",
        "  {\n",
        "    tfcupondev[j]=(prod(1+tf_int[(1:ddv[j])]/360)-1)*360/ddv[j]\n",
        "    tfcupon[j]=((1+tfcupondev[j]*ddv[j]/360)*(1+tf_act/360)^(plazocupon_bdm[1]-ddv[j])-1)*360/plazocupon_bdm[1]\n",
        "  }\n",
        "  \n",
        "  \n",
        "  for (j in (1:m))\n",
        "  {\n",
        "    if (j==1)\n",
        "    {\n",
        "      tasafijaT[,1]=tfcupon[j]\n",
        "      tasafijaT[,2:sum(N[1:j])]=seq(tfcupgen,tfcupgen)\n",
        "    }\n",
        "    else\n",
        "    {\n",
        "      tasafijaT[,(sum(N[1:j-1])+1)]=tfcupon[j]\n",
        "      tasafijaT[,(sum(N[1:j-1])+2):sum(N[1:j])]=seq(tfcupgen,tfcupgen)\n",
        "    }\n",
        "  }\n",
        "  V0f=-((((contratos_bdmT*(tasafijaT)*(plazocupon_bdmT/360))+ulNomT_bd)/(1+(Xvp+Xst)*VTplazos_bdm/360)^2))*nominal_bdm*((VTplazos_bdm)/360)\n",
        "  V0f\n",
        "} \n",
        "\n",
        "\n",
        "d_bondeD_tc=function(contratos_bdmT,  nominal_bdm, tf_act, plazocupon_bdmT, VTplazos_bdm, Xvp, Xst, N,ddv)\n",
        "{\n",
        "  tasafijaT=matrix(0,1,sum(N))\n",
        "  tfcupon=matrix(0,1,m)  #El primero cupón de cada bono\n",
        "  tfcupondev=matrix(0,1,m) #cupón de los días devengados\n",
        "  tfcupgen=((1+tf_act/360)^(plazocupon_bdm[1])-1)*360/plazocupon_bdm[1] #el segundo al último cupón de todos los bonos\n",
        "  #calcula cupones de bonos\n",
        "  for (j in (1:m))\n",
        "  {\n",
        "    tfcupondev[j]=(prod(1+tf_int[(1:ddv[j])]/360)-1)*360/ddv[j]\n",
        "    tfcupon[j]=((1+tfcupondev[j]*ddv[j]/360)*(1+tf_act/360)^(plazocupon_bdm[1]-ddv[j])-1)*360/plazocupon_bdm[1]\n",
        "  }\n",
        "  \n",
        "  \n",
        "  for (j in (1:m))\n",
        "  {\n",
        "    if (j==1)\n",
        "    {\n",
        "      tasafijaT[,1]=tfcupon[j]\n",
        "      tasafijaT[,2:sum(N[1:j])]=seq(tfcupgen,tfcupgen)\n",
        "    }\n",
        "    else\n",
        "    {\n",
        "      tasafijaT[,(sum(N[1:j-1])+1)]=tfcupon[j]\n",
        "      tasafijaT[,(sum(N[1:j-1])+2):sum(N[1:j])]=seq(tfcupgen,tfcupgen)\n",
        "    }\n",
        "  }\n",
        "  \n",
        "  V0f=-((((contratos_bdmT*(plazocupon_bdmT/360)))/(1+(Xvp+Xst)*VTplazos_bdm/360)))*nominal_bdm\n",
        "  V0f\n",
        "}\n",
        "\n",
        "\n",
        "\n",
        "mgamma_bondeD=function(contratos_bdmT,  nominal_bdm, tf_act, plazocupon_bdmT, VTplazos_bdm, Xvp, Xst, N,ddv)\t#matriz de segundas derivadas parciales de la tasa valor presente y pago de flujos\n",
        "{\n",
        "  tasafijaT=matrix(0,1,sum(N))\n",
        "  tfcupon=matrix(0,1,m)  #El primero cupón de cada bono\n",
        "  tfcupondev=matrix(0,1,m) #cupón de los días devengados\n",
        "  tfcupgen=((1+tf_act/360)^(plazocupon_bdm[1])-1)*360/plazocupon_bdm[1] #el segundo al último cupón de todos los bonos\n",
        "  #calcula cupones de bonos\n",
        "  for (j in (1:m))\n",
        "  {\n",
        "    tfcupondev[j]=(prod(1+tf_int[(1:ddv[j])]/360)-1)*360/ddv[j]\n",
        "    tfcupon[j]=((1+tfcupondev[j]*ddv[j]/360)*(1+tf_act/360)^(plazocupon_bdm[1]-ddv[j])-1)*360/plazocupon_bdm[1]\n",
        "  }\n",
        "  \n",
        "  \n",
        "  for (j in (1:m))\n",
        "  {\n",
        "    if (j==1)\n",
        "    {\n",
        "      tasafijaT[,1]=tfcupon[j]\n",
        "      tasafijaT[,2:sum(N[1:j])]=seq(tfcupgen,tfcupgen)\n",
        "    }\n",
        "    else\n",
        "    {\n",
        "      tasafijaT[,(sum(N[1:j-1])+1)]=tfcupon[j]\n",
        "      tasafijaT[,(sum(N[1:j-1])+2):sum(N[1:j])]=seq(tfcupgen,tfcupgen)\n",
        "    }\n",
        "  }\n",
        "\n",
        "  c11=matrix(0,1,length(contratos_bdmT)) #segunda derivada del cupón\n",
        "  c12=-((((contratos_bdmT*(plazocupon_bdmT/360)))/(1+(Xvp+Xst)*VTplazos_bdm/360)^2))*nominal_bdm*((VTplazos_bdm)/360) #primera del cupón y primera del vp\n",
        "  c13=c12 #primera del cupón y primera del st\n",
        "  c21=-((((contratos_bdmT*(plazocupon_bdmT/360)))/(1+(Xvp+Xst)*VTplazos_bdm/360)^2))*nominal_bdm*((VTplazos_bdm)/360) #primera del vp y primera del cupon\n",
        "  c22=2*((((contratos_bdmT*(tasafijaT)*(plazocupon_bdmT/360))+ulNomT_bd)/(1+(Xvp+Xst)*VTplazos_bdm/360)^3))*nominal_bdm*((VTplazos_bdm)/360)^2 #segunda del vp\n",
        "  c23=c22 #primera del vp y primera del st\n",
        "  c31=c12 #primera del st y primera del cupon\n",
        "  c32=c22 #primera del vp y primera del st\n",
        "  c33=c22 #segunda del st\n",
        "  rbind(cbind(diagv(c11),diagv(c12), diagv(c13)),cbind(diagv(c21),diagv(c22), diagv(c23)),cbind(diagv(c31),diagv(c32), diagv(c33)))\n",
        "}\n",
        "\n",
        "\n",
        "#mgamma_bondeD(contratos_bdmT, nominal_bdm, tf_act, plazocupon_bdmT, VTplazos_bdm, Xvp_bd[1,], Xst_bd[1,], N_bd,ddv)\n",
        "\n",
        "X_bd_tc=matrix(1,n,ncol(contratos_bdmT))*X2_pr$V2/100\n",
        "X_bd_ext=cbind(X_bd_tc,as.matrix(Xvp_bd),as.matrix(Xst_bd))\n",
        "mu_bd=d_bondeD_t(contratos_bdmT, nominal_bdm, tf_act, plazocupon_bdmT, VTplazos_bdm, Xvp_bd[1,], Xst_bd[1,], N_bd,ddv)\n",
        "g_bd=cbind(d_bondeD_tc(contratos_bdmT, nominal_bdm, tf_act, plazocupon_bdmT, VTplazos_bdm, Xvp_bd[1,], Xst_bd[1,], N_bd,ddv),d_bondeD_x(contratos_bdmT, nominal_bdm, tf_act, plazocupon_bdmT, VTplazos_bdm, Xvp_bd[1,], Xst_bd[1,], N_bd,ddv),d_bondeD_x(contratos_bdmT, nominal_bdm, tf_act, plazocupon_bdmT, VTplazos_bdm, Xvp_bd[1,], Xst_bd[1,], N_bd,ddv))\n",
        "x0_bd_ext=cbind(matrix(tf_act,1,ncol(contratos_bdmT)),t(as.matrix(Xvp_bd[1,])),t(as.matrix(Xst_bd[1,])))\n",
        "g_bdt=g_bd*x0_bd_ext\n",
        "gamma_bd=mgamma_bondeD(contratos_bdmT, nominal_bdm, tf_act, plazocupon_bdmT, VTplazos_bdm, Xvp_bd[1,], Xst_bd[1,], N_bd,ddv)\n",
        "gamma_bdt2=gamma_bd*(t(x0_bd_ext)%*%x0_bd_ext)\n",
        "\n",
        "print(\"Valor actual\")\n",
        "print(V0_bdm[1,1])\n"
      ],
      "execution_count": null,
      "outputs": [
        {
          "output_type": "stream",
          "name": "stdout",
          "text": [
            "[1] \"Valor actual\"\n",
            "[1] -87485.05\n"
          ]
        }
      ]
    },
    {
      "cell_type": "markdown",
      "metadata": {
        "id": "kSMjbhxMm6wQ"
      },
      "source": [
        "###Forwards de tipo de cambio\n"
      ]
    },
    {
      "cell_type": "code",
      "metadata": {
        "id": "lhdKglDKo7JZ",
        "colab": {
          "base_uri": "https://localhost:8080/"
        },
        "outputId": "070b881e-e245-4ee5-9963-31e33dde0c86"
      },
      "source": [
        "%%R\n",
        "#FORWARDS Y/O FUTUROS DE TIPO DE CAMBIO CÁLCULO\n",
        "\n",
        "################MATRICES DE INTERPOLACION LINEAL ####################\n",
        "#FORWARDS Y/O FUTUROS DE TIPO DE CAMBIO CÁLCULO\n",
        "\n",
        "################MATRICES DE INTERPOLACION LINEAL ####################\n",
        "\n",
        "m=ncol(plazos_fwd)\n",
        "X1_fwtdc=matrix(0,n,m)\n",
        "X2_fwtdc=matrix(0,n,m)\n",
        "\n",
        "for (j in 1:n)\n",
        "{\n",
        "  X1_fwtdc[j,]=if(itpl==0){approx(nodos1_ftdc,x1_ftdc[j,],plazos_fwd,rule=2)$y}else{talamb(nodos1_ftdc,x1_ftdc[j,],plazos_fwd)}\n",
        "  X2_fwtdc[j,]=if(itpl==0){approx(nodos2_ftdc,x2_ftdc[j,],plazos_fwd,rule=2)$y}else{talamb(nodos2_ftdc,x2_ftdc[j,],plazos_fwd)}\n",
        "  if(trlib==1){X1_fwtdc[j,]=((1+X1_fwtdc[j,])^(plazos_fwd/180)-1)*360/plazos_fwd} #transformación de act 180 a 360\n",
        "}\n",
        "\n",
        "\n",
        "futuroTC = function(t,tl,tn,s,k) #t=dias por vencer, tn=tasa nacional para tipo de cambio forward, tl= tasa extranjera pra tipo de cambio forward, S=spot\n",
        "{\n",
        "  f=s*((1+tn*t/360)/(1+tl*t/360)) #Se obtiene el tipo de cambio forward\n",
        "  t(as.numeric((f-k)/(1+t*tn/360))) #Se obtiene el valor del payoff a valor presente con el valor z que define si es largo o corto\n",
        "}\n",
        "\n",
        "X3_ftdc=as.matrix(X3_ftdc)\n",
        "\n",
        "V0_fwtdc=futuroTC(plazos_fwd,X1_fwtdc[1,],X2_fwtdc[1,],X3_ftdc[1,],kst_fwd)*contratos_fwd*nominal_fwd\n",
        "\n",
        "\n",
        "dfuturoTC_tl = function(t,tl,tn,s,k) #t=dias por vencer, tn=tasa nacional para tipo de cambio forward, tl= tasa extranjera pra tipo de cambio forward, S=spot\n",
        "{\n",
        "  f=-s*((1+tn*t/360)/(1+tl*t/360)^2)*(t/360) #Se obtiene el tipo de cambio forward\n",
        "  t(as.numeric((f)/(1+t*tn/360))) #Se obtiene el valor del payoff a valor presente con el valor z que define si es largo o corto\n",
        "}\n",
        "\n",
        "dfuturoTC_tn = function(t,tl,tn,s,k) #t=dias por vencer, tn=tasa nacional para tipo de cambio forward, tl= tasa extranjera pra tipo de cambio forward, S=spot\n",
        "{\n",
        "  f=s*((t/360)/(1+tl*t/360)) #Se obtiene el tipo de cambio forward\n",
        "  f1=s*((1+tn*t/360)/(1+tl*t/360)) #Se obtiene el tipo de cambio forward\n",
        "  t(as.numeric((f)/(1+t*tn/360)-(f1-k)/(1+t*tn/360)^2*(t/360))) #Se obtiene el valor del payoff a valor presente con el valor z que define si es largo o corto\n",
        "}\n",
        "\n",
        "dfuturoTC_s = function(t,tl,tn,s,k) #t=dias por vencer, tn=tasa nacional para tipo de cambio forward, tl= tasa extranjera pra tipo de cambio forward, S=spot\n",
        "{\n",
        "  1/(1+t*tl/360) #Se obtiene el valor del payoff a valor presente con el valor z que define si es largo o corto\n",
        "}\n",
        "\n",
        "dfuturoTC_t = function(t,tl,tn,s,k) #t=dias por vencer, tn=tasa nacional para tipo de cambio forward, tl= tasa extranjera pra tipo de cambio forward, S=spot\n",
        "{\n",
        "  f=s*((1+tn/360)/(1+tl*t/360))-s*((1+tn*t/360)/(1+tl*t/360)^2)*(tl/360) #Se obtiene el tipo de cambio forward\n",
        "  #t(as.numeric((f)/(1+t*tn/360)-(f-k)/(1+t*tn/360)^2*(tn/360))) #Se obtiene el valor del payoff a valor presente con el valor z que define si es largo o corto\n",
        "  -(f-k)/(1+t*tn/360)^2*(tn/360)\n",
        "}\n",
        "\n",
        "mgamma_futTC= function(t,tl,tn,s,k,contratos_fwd,nominal_fwd)\n",
        "{\n",
        "c11= matrix(0,1,length(k))#spot spot\n",
        "c12= -(((1+tn*t/360)/(1+tl*t/360)^2)*(t/360))/(1+t*tn/360)*contratos_fwd*nominal_fwd#spot tl\n",
        "c13=  matrix(0,1,length(k))  #spot tn\n",
        "c21=  -(((1+tn*t/360)/(1+tl*t/360)^2)*(t/360))/(1+t*tn/360)*contratos_fwd*nominal_fwd #tl spot\n",
        "c22= (2*s*((1+tn*t/360)/(1+tl*t/360)^3)*(t/360)^3)/(1+t*tn/360)*contratos_fwd*nominal_fwd #tl tl\n",
        "c23= matrix(0,1,length(k)) #tl tn\n",
        "c31=(((t/360)/(1+tl*t/360))/(1+t*tn/360)-(((1+tn*t/360)/(1+tl*t/360)))/(1+t*tn/360)^2*(t/360))*contratos_fwd*nominal_fwd #tn spot\n",
        "c32=   (-s*((t/360)^2/(1+tl*t/360)^2)/(1+t*tn/360)-(s*((t/360)/(1+tl*t/360)))/(1+t*tn/360)^2*(t/360))*contratos_fwd*nominal_fwd #tn tl\n",
        "c33=  (s*((t/360)/(1+tl*t/360))/(1+t*tn/360)^2*(t/360)+2*(s*((1+tn*t/360)/(1+tl*t/360))-k)/(1+t*tn/360)^3*(t/360)^2-(s*((t/360)^2/(1+tl*t/360)))/(1+t*tn/360)^2)*contratos_fwd*nominal_fwd #tn tn\n",
        "m=length(t)\n",
        "rbind(cbind(diagv(c11),diagv(c12),diagv(c13)),cbind(diagv(c21),diagv(c22),diagv(c23)),cbind(diagv(c31),diagv(c32),diagv(c33)))\n",
        "}\n",
        "\n",
        "\n",
        "X_ftdc=cbind(matrix(X3_ftdc,n,ncol(X1_fwtdc)),X1_fwtdc,X2_fwtdc) #Hist facto riesgo\n",
        "xp_ftdc=t(as.matrix(X_ftdc[1,])) #Valores actuales X0\n",
        "mu_ftdc=dfuturoTC_t(plazos_fwd,X1_fwtdc[1,],X2_fwtdc[1,],X3_ftdc[1,],kst_fwd)*contratos_fwd*nominal_fwd #primera derivada con respecto al tiempo evaluada en x0\n",
        "g_ftdc=cbind(dfuturoTC_s(plazos_fwd,X1_fwtdc[1,],X2_fwtdc[1,],X3_ftdc[1,],kst_fwd)*contratos_fwd*nominal_fwd,dfuturoTC_tl(plazos_fwd,X1_fwtdc[1,],X2_fwtdc[1,],X3_ftdc[1,],kst_fwd)*contratos_fwd*nominal_fwd,dfuturoTC_tn(plazos_fwd,X1_fwtdc[1,],X2_fwtdc[1,],X3_ftdc[1,],kst_fwd)*contratos_fwd*nominal_fwd) #gradiente evaluado en x0\n",
        "g_ftdctT=xp_ftdc*g_ftdc #gradienete evaluado en x0 por x0\n",
        "gamma_ftdc=mgamma_futTC(plazos_fwd,X1_fwtdc[1,],X2_fwtdc[1,],X3_ftdc[1,],kst_fwd,contratos_fwd,nominal_fwd) #evaluación de gamma\n",
        "gamma_ftdctT2=gamma_ftdc*(t(xp_ftdc)%*%xp_ftdc) #evaluación de gamma multiplicado por x^{2}\n",
        "\n",
        "print(V0_fwtdc)\n"
      ],
      "execution_count": null,
      "outputs": [
        {
          "output_type": "stream",
          "name": "stdout",
          "text": [
            "          [,1]\n",
            "[1,] -85.61414\n"
          ]
        }
      ]
    },
    {
      "cell_type": "markdown",
      "metadata": {
        "id": "70NY9BJqnFO9"
      },
      "source": [
        "###Forwards IPC"
      ]
    },
    {
      "cell_type": "code",
      "metadata": {
        "id": "eSiIw6lipG4J",
        "colab": {
          "base_uri": "https://localhost:8080/"
        },
        "outputId": "b36ed4f3-9fe1-4a8c-9f5c-6e4c40e812dc"
      },
      "source": [
        "%%R\n",
        "#FORWARDS Y/O FUTUROS DE ÍNDICES CÁLCULO\n",
        "\n",
        "################MATRICES DE INTERPOLACION LINEAL ####################\n",
        "\n",
        "m=ncol(plazos_fwd_ind)\n",
        "X1_fwind=matrix(0,n,m) #DIVIDENDOS\n",
        "X2_fwind=matrix(0,n,m)\n",
        "\n",
        "for (j in 1:n)\n",
        "{\n",
        "  #X1_fwind[j,]=if(itpl==0){approx(nodos1_,x1_ftdc[j,],plazos_fwd)$y}else{talamb(nodos1_ftdc,x1_ftdc[j,],plazos_fwd)}\n",
        "  X2_fwind[j,]=if(itpl==0){approx(nodos_gov,x_orig_gov[j,],plazos_fwd_ind,rule=2)$y}else{talamb(nodos_gov,x_orig_gov[j,],plazos_fwd_ind)}\n",
        "  #if(trlib==1){X1_fwtdc[j,]=((1+X1_fwtdc[j,])^(plazos_fwd/180)-1)*360/plazos_fwd} #transformación de act 180 a 360\n",
        "}\n",
        "\n",
        "X3_find=as.matrix(X3_find)\n",
        "\n",
        "V0_fwind=futuroTC(plazos_fwd_ind,X1_fwind[1,],X2_fwind[1,],X3_find[1,],kst_fwd_ind)*contratos_fwd_ind*nominal_fwd_ind\n",
        "\n",
        "X_find=cbind(matrix(X3_find,n,ncol(X1_fwind)),X1_fwind,X2_fwind)\n",
        "xp_find=t(as.matrix(X_find[1,]))\n",
        "mu_find=dfuturoTC_t(plazos_fwd_ind,X1_fwind[1,],X2_fwind[1,],X3_find[1,],kst_fwd_ind)*contratos_fwd_ind*nominal_fwd_ind\n",
        "g_find=cbind(dfuturoTC_s(plazos_fwd_ind,X1_fwind[1,],X2_fwind[1,],X3_find[1,],kst_fwd_ind)*contratos_fwd_ind*nominal_fwd_ind,dfuturoTC_tl(plazos_fwd_ind,X1_fwind[1,],X2_fwind[1,],X3_find[1,],kst_fwd_ind)*contratos_fwd_ind*nominal_fwd_ind,dfuturoTC_tn(plazos_fwd_ind,X1_fwind[1,],X2_fwind[1,],X3_find[1,],kst_fwd_ind)*contratos_fwd_ind*nominal_fwd_ind)\n",
        "g_findtT=xp_find*g_find\n",
        "gamma_find=mgamma_futTC(plazos_fwd_ind,X1_fwind[1,],X2_fwind[1,],X3_find[1,],kst_fwd_ind,contratos_fwd_ind,nominal_fwd_ind)\n",
        "gamma_findtT2=gamma_find*(t(xp_find)%*%xp_find)\n",
        "\n",
        "print(V0_fwind)"
      ],
      "execution_count": null,
      "outputs": [
        {
          "output_type": "stream",
          "name": "stdout",
          "text": [
            "         [,1]\n",
            "[1,] 342308.9\n"
          ]
        }
      ]
    },
    {
      "cell_type": "markdown",
      "metadata": {
        "id": "PR0cZu2twI45"
      },
      "source": [
        "### Swaps"
      ]
    },
    {
      "cell_type": "code",
      "metadata": {
        "id": "GqlWiqvxwIRR",
        "colab": {
          "base_uri": "https://localhost:8080/"
        },
        "outputId": "cdb63124-9fe4-49d7-e66f-f080becbe0a6"
      },
      "source": [
        "%%R\n",
        "##SWAP TASA FIJA VS TASA VARIABLE CÁLCULO\n",
        "\n",
        "##Interpolamos\n",
        "\n",
        "nodosvp=nodos1_sw\n",
        "nodostc=nodos2_sw\n",
        "curvavp=as.matrix(X1_orig_sw)\n",
        "curvatc=X2_orig_sw\n",
        "n1=nrow(curvavp)\n",
        "n2=nrow(curvatc)\n",
        "\n",
        "\n",
        "m=max(ncol(plazos_sw),1) #número de contratos_sw swap a valorar\n",
        "N=matrix(0,1,m) #es un vector de m valores donde se cargarán los m número de cupones a pagar para cada contrato\n",
        "for (j in (1:m))\n",
        "{\n",
        "  N[j]=as.integer(plazos_sw[j]/plazocupon_sw[j])+1 #número de cupones a pagar\n",
        "}\n",
        "VTplazos_sw=matrix(0,1,sum(N)) #vector de todos los plazos_sw de todos los contratos_sw\n",
        "contratos_swT=matrix(0,1,sum(N)) #vector de todos los contratos_sw de todos los flujos de todos los contratos_sw\n",
        "nominal_swT=matrix(0,1,sum(N)) #vector de todos los nominal_swes de todos los flujos de todos los contratos_sw\n",
        "por_swT=matrix(0,1,sum(N)) #vector de todos los dummy si paga o recibe de todos los flujos de todos los contratos_sw\n",
        "plazocupon_swT=matrix(0,1,sum(N)) #vector de todos los plazos_swcupon de todos los flujos de todos los contratos_sw\n",
        "tasafija_swT=matrix(0,1,sum(N)) #vector de tasas fijas de todos los flujos de todos los contratos_sw\n",
        "VTplazos_swc=matrix(0,1,sum(N)) #vector de todos los plazos_sw cortos de todos los contratos_sw\n",
        "\n",
        "\n",
        "plazini=plazos_sw-plazocupon_sw*(N-1) #vector de plazos_sw iniciales\n",
        "\n",
        "for (j in (1:m))\n",
        "{\n",
        "  if (j==1)\n",
        "  {\n",
        "    VTplazos_sw[,1:sum(N[1:j])]=seq(plazini[j],plazos_sw[j], by=plazocupon_sw[j])\n",
        "    VTplazos_swc[,1:sum(N[1:j])]=c(0,VTplazos_sw[,1:(sum(N[1:j])-1)])\n",
        "    contratos_swT[,1:sum(N[1:j])]=seq(contratos_sw[j],contratos_sw[j])\n",
        "    nominal_swT[,1:sum(N[1:j])]=seq(nominal_sw[j],nominal_sw[j])\n",
        "    por_swT[,1:sum(N[1:j])]=seq(por_sw[j],por_sw[j])\n",
        "    plazocupon_swT[,1:sum(N[1:j])]=seq(plazocupon_sw[j],plazocupon_sw[j])\n",
        "    tasafija_swT[,1:sum(N[1:j])]=seq(tasafija_sw[j],tasafija_sw[j])\n",
        "  }\n",
        "  else\n",
        "  {\n",
        "    VTplazos_sw[,(sum(N[1:j-1])+1):sum(N[1:j])]=seq(plazini[j],plazos_sw[j], by=plazocupon_sw[j])\n",
        "    VTplazos_swc[,(sum(N[1:j-1])+1):sum(N[1:j])]=c(0,VTplazos_sw[,(sum(N[1:j-1])+1):(sum(N[1:j])-1)])\n",
        "    contratos_swT[,(sum(N[1:j-1])+1):sum(N[1:j])]=seq(contratos_sw[j],contratos_sw[j])\t\t\t\t\t\n",
        "    nominal_swT[,(sum(N[1:j-1])+1):sum(N[1:j])]=seq(nominal_sw[j],nominal_sw[j])\n",
        "    por_swT[,(sum(N[1:j-1])+1):sum(N[1:j])]=seq(por_sw[j],por_sw[j])\n",
        "    plazocupon_swT[,(sum(N[1:j-1])+1):sum(N[1:j])]=seq(plazocupon_sw[j],plazocupon_sw[j])\n",
        "    tasafija_swT[,(sum(N[1:j-1])+1):sum(N[1:j])]=seq(tasafija_sw[j],tasafija_sw[j])\n",
        "  }\n",
        "}\n",
        "\n",
        "\n",
        "Xvp=matrix(0,n,ncol(VTplazos_sw))\n",
        "Xtc=matrix(0,n,ncol(VTplazos_sw))\n",
        "Xtcc=matrix(0,n,ncol(VTplazos_sw))\n",
        "XtfwdT=matrix(0,n,ncol(VTplazos_sw))\n",
        "\n",
        "for (i in (1:n))\n",
        "{\n",
        "  Xvp[i,]=if(itpl==0){approx(nodosvp,curvavp[i,],VTplazos_sw,rule=2)$y}else{talamb(nodosvp,curvavp[i,],VTplazos_sw)}\n",
        "  Xtc[i,]=if(itpl==0){approx(nodostc,curvatc[i,],VTplazos_sw,rule=2)$y}else{talamb(nodostc,curvatc[i,],VTplazos_sw)}\n",
        "  Xtcc[i,]=if(itpl==0){approx(nodostc,curvatc[i,],VTplazos_swc, rule=2)$y}else{talamb(nodostc,curvatc[i,],VTplazos_swc)}\n",
        "  \n",
        "  XtfwdT[i,]=((1+Xtc[i,]*VTplazos_sw/360)/(1+Xtcc[i,]*VTplazos_swc/360)-1)*360/plazocupon_swT \n",
        "  for (j in (1:ncol(VTplazos_sw)))\n",
        "  {\n",
        "    if (VTplazos_sw[j]<= plazocupon_swT[j])\n",
        "    {\n",
        "      XtfwdT[i,j]=Xtc[i,j]\n",
        "    }\n",
        "    else\n",
        "    {\n",
        "      j=sum(N[1:j])\n",
        "    }\n",
        "  }\n",
        "}\n",
        "\n",
        "\n",
        "swap=function(por_swT, contratos_swT, nominal_swT, XtfwdT, tasafija_swT, plazocupon_swT, VTplazos_sw, Xvp, N)\n",
        "{\n",
        "  V0=matrix(0,1,ncol(N))\n",
        "  V0f=(((contratos_swT*(XtfwdT-tasafija_swT)*(plazocupon_swT/360)))/(1+Xvp*VTplazos_sw/360))*nominal_swT*(-1)^por_swT\n",
        "  for (j in (1:ncol(N)))\n",
        "  {\n",
        "    if(j==1)\n",
        "    {\n",
        "      V0[j]=sum(V0f[j:N[j]])\n",
        "    }\n",
        "    else\n",
        "    {\n",
        "      V0[j]=sum(V0f[(sum(N[1:j-1])+1):(sum(N[1:j]))])\n",
        "    }\n",
        "  }\n",
        "  V0\n",
        "}\n",
        "\n",
        "V0_sw=swap(por_swT, contratos_swT, nominal_swT, XtfwdT[1,], tasafija_swT, plazocupon_swT, VTplazos_sw, Xvp[1,], N)\n",
        "\n",
        "\n",
        "#derivada del swap con respecto aL tiempo\n",
        "dswap_dtt=function(por_swT, contratos_swT, nominal_swT, XtfwdT, tasafija_swT, plazocupon_swT, VTplazos_sw, Xvp)\n",
        "{\n",
        "  -1*(((contratos_swT*(XtfwdT-tasafija_swT)*(plazocupon_swT*Xvp/360^2)))/(1+Xvp*VTplazos_sw/360)^(2))*nominal_swT*(-1)^por_swT\n",
        "}\n",
        "\n",
        "#derivada del swap con respecto a la tasa cupón variable\n",
        "dswap_dtc=function(por_swT, contratos_swT, nominal_swT, XtfwdT, tasafija_swT, plazocupon_swT, VTplazos_sw, Xvp)\n",
        "{\n",
        "  (((contratos_swT*plazocupon_swT)/360)/(1+Xvp*VTplazos_sw/360))*nominal_swT*(-1)^por_swT\n",
        "}\n",
        "\n",
        "#derivada del swap con respecto al valor presente\n",
        "dswap_dvp=function(por_swT, contratos_swT, nominal_swT, XtfwdT, tasafija_swT, plazocupon_swT, VTplazos_sw, Xvp)\n",
        "{\n",
        "  -1*(((contratos_swT*(XtfwdT-tasafija_swT)*(plazocupon_swT*VTplazos_sw/360^2)))/(1+Xvp*VTplazos_sw/360)^(2))*nominal_swT*(-1)^por_swT\n",
        "}\n",
        "\n",
        "mgamma_swap=function(por_swT, contratos_swT, nominal_swT, XtfwdT, tasafija_swT, plazocupon_swT, VTplazos_sw, Xvp)\t#matriz de segundas derivadas parciales de la tasa valor presente y pago de flujos\n",
        "{\n",
        "  c11=matrix(0,1,ncol(contratos_swT))\n",
        "  c21=-1*(((contratos_swT*(plazocupon_swT*VTplazos_sw/360^2)))/(1+Xvp*VTplazos_sw/360)^(2))*nominal_swT*(-1)^por_swT\n",
        "  c12=-1*(((contratos_swT*plazocupon_swT*VTplazos_sw)/360^2)/(1+Xvp*VTplazos_sw/360)^2)*nominal_swT*(-1)^por_swT\n",
        "  c22=2*(((contratos_swT*(XtfwdT-tasafija_swT)*(plazocupon_swT*VTplazos_sw^2/360^3)))/(1+Xvp*VTplazos_sw/360)^(3))*nominal_swT*(-1)^por_swT\n",
        "  rbind(cbind(diagv(c11),diagv(c12)),cbind(diagv(c21),diagv(c22)))\n",
        "}\n",
        "\n",
        "X_sw=cbind( XtfwdT,Xvp)\n",
        "\n",
        "mu_sw=sum(dswap_dtt(por_swT, contratos_swT, nominal_swT, XtfwdT[1,], tasafija_swT, plazocupon_swT, VTplazos_sw, Xvp[1,]))\n",
        "g_sw=cbind(dswap_dtc(por_swT, contratos_swT, nominal_swT, XtfwdT[1,], tasafija_swT, plazocupon_swT, VTplazos_sw, Xvp[1,]),dswap_dvp(por_swT, contratos_swT, nominal_swT, XtfwdT[1,], tasafija_swT, plazocupon_swT, VTplazos_sw, Xvp[1,]))\n",
        "\n",
        "#Multiplicación de la derivada por el punto x0\n",
        "gt_sw=c( XtfwdT[1,],Xvp[1,])*g_sw\n",
        "\n",
        "gamma_sw=mgamma_swap(por_swT, contratos_swT, nominal_swT, XtfwdT[1,], tasafija_swT, plazocupon_swT, VTplazos_sw, Xvp[1,])\n",
        "tgamma_sw=c( XtfwdT[1,],Xvp[1,])%*%t(c( XtfwdT[1,],Xvp[1,]))*gamma_sw \n",
        "\n",
        "print(\"Valor por contrato\")\n",
        "print(V0_sw)\n",
        "print(\"Valor de los swaps\")\n",
        "print(sum(V0_sw))\n"
      ],
      "execution_count": null,
      "outputs": [
        {
          "output_type": "stream",
          "name": "stdout",
          "text": [
            "[1] \"Valor por contrato\"\n",
            "         [,1]     [,2]\n",
            "[1,] -20224.6 80734.57\n",
            "[1] \"Valor de los swaps\"\n",
            "[1] 60509.98\n"
          ]
        }
      ]
    },
    {
      "cell_type": "markdown",
      "metadata": {
        "id": "Vfd5d0bk7ZH0"
      },
      "source": [
        "### Caps / Floors"
      ]
    },
    {
      "cell_type": "code",
      "metadata": {
        "id": "Fc_Q95Xe7c4D",
        "colab": {
          "base_uri": "https://localhost:8080/"
        },
        "outputId": "64a7363d-5eb4-4f1d-aeda-4bd5f8057fdf"
      },
      "source": [
        "%%R\n",
        "##opciones de tasa de interés, con inicio el día de la valuación CÁLCULO\n",
        "#Posición inicial\n",
        "\n",
        "#interpolación de tasas y volatilidades\n",
        "m=ncol(plazos_oir)\n",
        "x1=matrix(0,n,m)\n",
        "x2tc=matrix(0,n,m)\n",
        "x2tl=matrix(0,n,m)\n",
        "x2=matrix(0,n,m)\n",
        "x3=matrix(0,n,m)\n",
        "for (i in 1:(n))\n",
        "{\n",
        "  x1[i,]=if(itpl==0){approx(nodos1_oir,x1_orig_oir[i,],plazos_oir,rule=2)$y}else{talamb(nodos1_oir,x1_orig_oir[i,],plazos_oir)}\n",
        "  x2tc[i,]=if(itpl==0){approx(nodos2_oir,x2_orig_oir[i,],plazos_oir,rule=2)$y}else{talamb(nodos2_oir,x2_orig_oir[i,],plazos_oir)}\n",
        "  x2tl[i,]=if(itpl==0){approx(nodos2_oir,x2_orig_oir[i,],(plazos_oir+pr_oir),rule=2)$y}else{talamb(nodos2_oir,x2_orig_oir[i,],(plazos_oir+pr_oir))}\n",
        "  x3[i,]=if(itpl==0){approx(nodos3_oir,x3_orig_oir[i,],plazos_oir,rule=2)$y}else{talamb(nodos3_oir,x3_orig_oir[i,],plazos_oir)}\n",
        "  x2[i,]=((1+x2tl[i,]*(plazos_oir+pr_oir)/360)/(1+x2tc[i,]*(plazos_oir)/360)-1)*360/pr_oir\n",
        "}\n",
        "\n",
        "\n",
        "x01=x1[1,] #tasas de descuento\n",
        "x02=x2[1,] #tasas spot\n",
        "x03=x3[1,] #volatilidades\n",
        "\n",
        "\n",
        "\n",
        "opctint = function(d,S,K_oir,vol,t,cp_oir,cs_oir,pr_oir,dct_oir)\t#función de una opción europea\n",
        "{\n",
        "  d1=if(cs_oir==1){(log(S/K_oir)+vol^2*t/(365*2))*(1/(vol*sqrt(t/365)))}else{(log(S/K_oir)+vol^2*t/(360*2))*(1/(vol*sqrt(t/360)))}\n",
        "  d2=if(cs_oir==1){(log(S/K_oir)-vol^2*t/(365*2))*(1/(vol*sqrt(t/365)))}else{(log(S/K_oir)-vol^2*t/(360*2))*(1/(vol*sqrt(t/360)))}\n",
        "  vp=if(cs_oir==1){log(1+d*t/360)*365/t}else{d}  \n",
        "  (if(cs_oir==1){(S*pnorm(d1*(-1)^cp_oir)-K_oir*pnorm(d2*(-1)^cp_oir))*(exp(-vp*t/365))*(-1)^cp_oir}else{(S*pnorm(d1*(-1)^cp_oir)-K_oir*pnorm(d2*(-1)^cp_oir))*(1/(1+vp*t/360))*(-1)^cp_oir})*(pr_oir/dct_oir)/(1+S*pr_oir/dct_oir)\n",
        "}\n",
        "\n",
        "\n",
        "V0_oir=opctint(x01,x02,K_oir,x03,plazos_oir,cp_oir,cs_oir,pr_oir,dct_oir)*contratos_oir*nominal_oir #Valor del portafolio\n",
        "\n",
        "\n",
        "#pr_oir  PRIMERA DERIVADA\n",
        "\n",
        "dopctintt = function(d,S,K_oir,vol,t,cp_oir,cs_oir,pr_oir,dct_oir)\t#derivada parcial europea y TIEMPO\n",
        "{\n",
        "  d1=if(cs_oir==1){(log(S/K_oir)+vol^2*t/(365*2))*(1/(vol*sqrt(t/365)))}else{(log(S/K_oir)+vol^2*t/(360*2))*(1/(vol*sqrt(t/360)))}\n",
        "  d2=if(cs_oir==1){(log(S/K_oir)-vol^2*t/(365*2))*(1/(vol*sqrt(t/365)))}else{(log(S/K_oir)-vol^2*t/(360*2))*(1/(vol*sqrt(t/360)))}\n",
        "  vp=if(cs_oir==1){log(1+d*t/360)*365/t}else{d}  \n",
        "  (if(cs_oir==1){(( -(S*dnorm(d1)*vol)/(2*sqrt(t/365))+(S*pnorm(d1*(-1)^cp_oir)-K_oir*pnorm(d2*(-1)^cp_oir))*(t/365)*(-1)^cp_oir)*(exp(-vp*t/365)))}else{(( -(S*dnorm(d1)*vol)/(2*sqrt(t/360))+(S*pnorm(d1*(-1)^cp_oir)-K_oir*pnorm(d2*(-1)^cp_oir))*(t/360)*(-1)^cp_oir)*(1/(1+vp*t/360)^2))})*(pr_oir/dct_oir)/(1+S*pr_oir/dct_oir)\n",
        "}\n",
        "\n",
        "#dopctintt(x01,x02,K_oir,x03,plazos_oir,cp_oir,cs_oir,pr_oir,dct_oir)\n",
        "\n",
        "\n",
        "dopctintS = function(d,S,K_oir,vol,t,cp_oir,cs_oir,pr_oir,dct_oir)\t#derivada parcial call europea y spot\n",
        "{\n",
        "  d1=if(cs_oir==1){(log(S/K_oir)+vol^2*t/(365*2))*(1/(vol*sqrt(t/365)))}else{(log(S/K_oir)+vol^2*t/(360*2))*(1/(vol*sqrt(t/360)))}\n",
        "  d2=if(cs_oir==1){(log(S/K_oir)-vol^2*t/(365*2))*(1/(vol*sqrt(t/365)))}else{(log(S/K_oir)-vol^2*t/(360*2))*(1/(vol*sqrt(t/360)))}\n",
        "  vp=if(cs_oir==1){log(1+d*t/360)*365/t}else{d}  \n",
        "  (if(cs_oir==1){((pnorm(d1*(-1)^cp_oir))*(exp(-vp*t/365)))}else{(pnorm(d1*(-1)^cp_oir)*(1/(1+vp*t/360)))})*(pr_oir/dct_oir)/(1+S*pr_oir/dct_oir)- (if(cs_oir==1){(S*pnorm(d1*(-1)^cp_oir)-K_oir*pnorm(d2*(-1)^cp_oir))*(exp(-vp*t/365))*(-1)^cp_oir}else{(S*pnorm(d1*(-1)^cp_oir)-K_oir*pnorm(d2*(-1)^cp_oir))*(1/(1+vp*t/360))*(-1)^cp_oir})*(pr_oir/dct_oir)^2/(1+S*pr_oir/dct_oir)^2\n",
        "}\n",
        "\n",
        "#dopctintS(x01,x02,K_oir,x03,plazos_oir,cp_oir,cs_oir,pr_oir,dct_oir)\n",
        "\n",
        "dopctintvol = function(d,S,K_oir,vol,t,cp_oir,cs_oir,pr_oir,dct_oir)\t#derivada parcial call europea y spot\n",
        "{\n",
        "  d1=if(cs_oir==1){(log(S/K_oir)+vol^2*t/(365*2))*(1/(vol*sqrt(t/365)))}else{(log(S/K_oir)+vol^2*t/(360*2))*(1/(vol*sqrt(t/360)))}\n",
        "  d2=if(cs_oir==1){(log(S/K_oir)-vol^2*t/(365*2))*(1/(vol*sqrt(t/365)))}else{(log(S/K_oir)-vol^2*t/(360*2))*(1/(vol*sqrt(t/360)))}\n",
        "  vp=if(cs_oir==1){log(1+d*t/360)*365/t}else{d}    \n",
        "  (if(cs_oir==1){(S*dnorm(d1)*(sqrt(t/365)))*(exp(-vp*t/365))}else{(S*dnorm(d1)*(sqrt(t/360)))*(1/(1+vp*t/360))})*(pr_oir/dct_oir)/(1+S*pr_oir/dct_oir)\n",
        "}\n",
        "\n",
        "#dopctintvol(x01,x02,K_oir,x03,plazos_oir,cp_oir,cs_oir,pr_oir,dct_oir)\n",
        "\n",
        "dopctintrho = function(d,S,K_oir,vol,t,cp_oir,cs_oir,pr_oir,dct_oir)\t#derivada parcial call europea y rho\n",
        "{\n",
        "  d1=if(cs_oir==1){(log(S/K_oir)+vol^2*t/(365*2))*(1/(vol*sqrt(t/365)))}else{(log(S/K_oir)+vol^2*t/(360*2))*(1/(vol*sqrt(t/360)))}\n",
        "  d2=if(cs_oir==1){(log(S/K_oir)-vol^2*t/(365*2))*(1/(vol*sqrt(t/365)))}else{(log(S/K_oir)-vol^2*t/(360*2))*(1/(vol*sqrt(t/360)))}\n",
        "  vp=if(cs_oir==1){log(1+d*t/360)*365/t}else{d}    \n",
        "  (if(cs_oir==1){-(S*pnorm(d1*(-1)^cp_oir)-K_oir*pnorm(d2*(-1)^cp_oir))*(exp(-vp*t/365))*(-1)^cp_oir*(t/365)}else{-(S*pnorm(d1*(-1)^cp_oir)-K_oir*pnorm(d2*(-1)^cp_oir))*(1/(1+vp*t/360)^2)*(-1)^cp_oir*(t/360)})*(pr_oir/dct_oir)/(1+S*pr_oir/dct_oir)\n",
        "}\n",
        "\n",
        "#dopctintrho(x01,x02,K_oir,x03,plazos_oir,cp_oir,cs_oir,pr_oir,dct_oir)\n",
        "\n",
        "\n",
        "mgammaopc=function(d,S,K_oir,vol,t,cp_oir,cs_oir,pr_oir,dct_oir,contratos_oir,nominal_oir)\t#matriz de segundas derivadas parciales de la call: rho, spot y vol de spot\n",
        "{\n",
        "  d1=if(cs_oir==1){(log(S/K_oir)+vol^2*t/(365*2))*(1/(vol*sqrt(t/365)))}else{(log(S/K_oir)+vol^2*t/(360*2))*(1/(vol*sqrt(t/360)))}\n",
        "  d2=if(cs_oir==1){(log(S/K_oir)-vol^2*t/(365*2))*(1/(vol*sqrt(t/365)))}else{(log(S/K_oir)-vol^2*t/(360*2))*(1/(vol*sqrt(t/360)))}\n",
        "  vp=if(cs_oir==1){log(1+d*t/360)*365/t}else{d}    \n",
        "  c11=(if(cs_oir==1){(S*pnorm(d1*(-1)^cp_oir)-K_oir*pnorm(d2*(-1)^cp_oir))*(exp(-vp*t/365))*(-1)^cp_oir*(t/365)^2}else{2*(S*pnorm(d1*(-1)^cp_oir)-K_oir*pnorm(d2*(-1)^cp_oir))*(1/(1+vp*t/360)^3)*(-1)^cp_oir*(t/360)^2})*(pr_oir/dct_oir)/(1+S*pr_oir/dct_oir)*contratos_oir*nominal_oir #rho con respecto a rho\n",
        "  c21=(if(cs_oir==1){((pnorm(d1*(-1)^cp_oir))*(exp(-vp*t/365)))*(-t/365)}else{(pnorm(d1*(-1)^cp_oir)*(1/(1+vp*t/360)^2))*(-t/360)})*(pr_oir/dct_oir)/(1+S*pr_oir/dct_oir)- (if(cs_oir==1){(S*pnorm(d1*(-1)^cp_oir)-K_oir*pnorm(d2*(-1)^cp_oir))*(exp(-vp*t/365))*(-1)^cp_oir*(-t/365)}else{(S*pnorm(d1*(-1)^cp_oir)-K_oir*pnorm(d2*(-1)^cp_oir))*(1/(1+vp*t/360)^2)*(-1)^cp_oir*(-t/360)})*(pr_oir/dct_oir)^2/(1+S*pr_oir/dct_oir)^2*contratos_oir*nominal_oir #spot con respecto a rho\n",
        "  c31=(if(cs_oir==1){(S*dnorm(d1)*(sqrt(t/365)))*(exp(-vp*t/365))*(-t/365)}else{(S*dnorm(d1)*(sqrt(t/360)))*(1/(1+vp*t/360)^2)*(-t/360)})*(pr_oir/dct_oir)/(1+S*pr_oir/dct_oir)*contratos_oir*nominal_oir #vol con respecto a rho\n",
        "  c12=c21 #rho con respecto a spot\n",
        "  c22=(if(cs_oir==1){(dnorm(d1)/(S*vol*sqrt(t/365)))*(exp(-vp*t/365))}else{(dnorm(d1)/(S*vol*sqrt(t/360)))*(1/(1+vp*t/360))})*(pr_oir/dct_oir)/(1+S*pr_oir/dct_oir) -2*((if(cs_oir==1){(((pnorm(d1*(-1)^cp_oir))+( S*dnorm(d1*(-1)^cp_oir)-K_oir*dnorm(d2*(-1)^cp_oir)))*(exp(-vp*t/365)))*(-1)^cp_oir*(1/(S*vol*sqrt(t/365)))}else{(((pnorm(d1*(-1)^cp_oir))+( S*dnorm(d1*(-1)^cp_oir)-K_oir*dnorm(d2*(-1)^cp_oir)))*(1/(1+vp*t/360)))*(1/(S*vol*sqrt(t/360)))*(-1)^cp_oir})*(pr_oir/dct_oir)^2/(1+S*pr_oir/dct_oir)^2) +2*(if(cs_oir==1){(S*pnorm(d1*(-1)^cp_oir)-K_oir*pnorm(d2*(-1)^cp_oir))*(exp(-vp*t/365))*(-1)^cp_oir}else{(S*pnorm(d1*(-1)^cp_oir)-K_oir*pnorm(d2*(-1)^cp_oir))*(1/(1+vp*t/360))*(-1)^cp_oir})*(pr_oir/dct_oir)^3/(1+S*pr_oir/dct_oir)^3*contratos_oir*nominal_oir #spot spot \n",
        "  c32=(if(cs_oir==1){dnorm(d1)*d2/vol*(exp(-vp*t/365))}else{dnorm(d1)*d2/vol*(1/(1+vp*t/360))})*(pr_oir/dct_oir)/(1+S*pr_oir/dct_oir) +   (if(cs_oir==1){(S*dnorm(d1)*(sqrt(t/365)))*(exp(-vp*t/365))}else{(S*dnorm(d1)*(sqrt(t/360)))*(1/(1+vp*t/360))})*(pr_oir/dct_oir)^2/(1+S*pr_oir/dct_oir)^2*contratos_oir*nominal_oir # vol spot\n",
        "  c13=(if(cs_oir==1){(S*dnorm(d1)*(sqrt(t/365)))*(exp(-vp*t/365))*(-t/365)}else{(S*dnorm(d1)*(sqrt(t/360)))*(1/(1+vp*t/360)^2)*(-t/360)})*(pr_oir/dct_oir)/(1+S*pr_oir/dct_oir)*contratos_oir*nominal_oir #rho vol\n",
        "  c23=c32 #spot vol\n",
        "  c33=(if(cs_oir==1){(dnorm(d1)*(S*sqrt(t/365)))*((d1*d2)/vol)*exp(-vp*t/365)}else{(dnorm(d1)*(S*sqrt(t/360)))*((d1*d2)/vol)*(1/(1+vp*t/360))})*(pr_oir/dct_oir)/(1+S*pr_oir/dct_oir)*contratos_oir*nominal_oir #vol vol\n",
        "  # outm=matrix(0,3,length(plazos_oir)*3)\n",
        "  m=length(t)\n",
        " rbind(cbind(diagv(c11),diagv(c12),diagv(c13)),cbind(diagv(c21),diagv(c22),diagv(c23)),cbind(diagv(c31),diagv(c32),diagv(c33)))\n",
        "}\n",
        "\n",
        "#mgammaopc(x01,x02,K_oir,x03,plazos_oir,cp_oir,cs_oir,pr_oir,dct_oir,contratos_oir,nominal_oir)\n",
        "X_oir=cbind(x1,x2,x3)\n",
        "xp_oir=cbind(t(x01),t(x02),t(x03))\n",
        "mu_oir=dopctintt(x01,x02,K_oir,x03,plazos_oir,cp_oir,cs_oir,pr_oir,dct_oir)*contratos_oir*nominal_oir \n",
        "delta_oir_T=cbind(dopctintrho(x01,x02,K_oir,x03,plazos_oir,cp_oir,cs_oir,pr_oir,dct_oir)*contratos_oir*nominal_oir, dopctintS(x01,x02,K_oir,x03,plazos_oir,cp_oir,cs_oir,pr_oir,dct_oir)*contratos_oir*nominal_oir,dopctintvol(x01,x02,K_oir,x03,plazos_oir,cp_oir,cs_oir,pr_oir,dct_oir)*contratos_oir*nominal_oir)\n",
        "deltaT_oir_T=xp_oir*delta_oir_T\n",
        "gammaT_oir=mgammaopc(x01,x02,K_oir,x03,plazos_oir,cp_oir,cs_oir,pr_oir,dct_oir,contratos_oir,nominal_oir)\n",
        "gammaT_oirT2=gammaT_oir*(t(xp_oir)%*%xp_oir)\n",
        "\n",
        "print(V0_oir)\n",
        "\n"
      ],
      "execution_count": null,
      "outputs": [
        {
          "output_type": "stream",
          "name": "stdout",
          "text": [
            "         [,1]      [,2]\n",
            "[1,] 1.002318 0.2479957\n"
          ]
        }
      ]
    },
    {
      "cell_type": "markdown",
      "metadata": {
        "id": "fBXCMgmD7LW0"
      },
      "source": [
        "### Portafolio"
      ]
    },
    {
      "cell_type": "code",
      "metadata": {
        "id": "L4PDEFyv7OYT"
      },
      "source": [
        "%%R\n",
        "n_if=matrix(0,8,1)\n",
        "n_if[1]=ncol(stock_prices_EQFX) #acciones y divisas\n",
        "n_if[2]=ncol(x_bcc) #cetes\n",
        "n_if[3]=ncol(X_bm) #bonos m\n",
        "n_if[4]=ncol(X_bd_ext) #bonde\n",
        "n_if[5]=ncol(X_ftdc) #fut tdc\n",
        "n_if[6]=ncol(X_find) #fut ind\n",
        "n_if[7]=ncol(X_sw) #swaps\n",
        "n_if[8]=ncol(X_oir) #opciones tasa de interés\n",
        "\n",
        "#valor del portafolios\n",
        "\n",
        "V0_port=cbind(V0_bcc, V0_bm, V0_bdm, V0_fwtdc, V0_fwind, V0_sw, V0_oir)\n",
        "V0T_port=sum(V0_port)\n",
        "\n",
        "\n",
        "\n",
        "#INTEGRACIÓN DE TODOS LOS FACTORES DE RIESGO EN UNA MATRIZ\n",
        "X_port=cbind(stock_prices_EQFX,x_bcc,X_bm,X_bd_ext,X_ftdc,X_find,X_sw,X_oir) #Factores de riesgo del portafolios de 8(9) instrumentos financieros\n",
        "\n",
        "#Cálculo de variaciones Delta_X DEL PORTAFOLIOS\n",
        "DeltaX_port=as.matrix(log(X_port[1:(n-1)]/X_port[2:(n)]))\n",
        "DeltaX_port[is.nan(DeltaX_port)] <- 0 #quitamos NaN\n",
        "DeltaX_port[is.na(DeltaX_port)] <- 0 #quitamos Na\n",
        "DeltaX_port[is.infinite(DeltaX_port)] <- 0 #quitamos Na"
      ],
      "execution_count": null,
      "outputs": []
    },
    {
      "cell_type": "markdown",
      "metadata": {
        "id": "KpIAfrrZ04Zb"
      },
      "source": [
        "# Delta Gamma Normal y Delta Gamma Normal Cornish Fisher"
      ]
    },
    {
      "cell_type": "markdown",
      "metadata": {
        "id": "WAjO190tDRdZ"
      },
      "source": [
        "#### Acciones y divisas"
      ]
    },
    {
      "cell_type": "markdown",
      "metadata": {
        "id": "YWtvQhgoAxkp"
      },
      "source": [
        "##### Por factor de riesgo"
      ]
    },
    {
      "cell_type": "code",
      "metadata": {
        "id": "rzOWKThlDU2J",
        "colab": {
          "base_uri": "https://localhost:8080/"
        },
        "outputId": "332e796a-81fd-4113-c8b0-14dabf61b65a"
      },
      "source": [
        "%%R\n",
        "Delta_acc = DeltaX_acc_div[,c(4,5,6)]\n",
        "Delta_div = DeltaX_acc_div[,c(1,2,3)]\n",
        "\n",
        "mu_acc = 0\n",
        "mu_div = 0\n",
        "\n",
        "desvest_acc = apply(Delta_acc, 2, sd)\n",
        "desvest_div = apply(Delta_div, 2, sd)\n",
        "\n",
        "g_acct = g_acc_divt[,c(4,5,6)]\n",
        "g_divt = g_acc_divt[,c(1,2,3)]\n",
        "\n",
        "VarCovX_acc = cov(Delta_acc)\n",
        "VarCovX_div = cov(Delta_div)\n",
        "\n",
        "ajuste_cornish_acc_div = qnorm(alpha)\n",
        "\n",
        "VaRfrDGN_acc = qnorm(1-alpha)*sqrt(g_acct*g_acct*desvest_acc*desvest_acc)\n",
        "VaRfrDGN_div = qnorm(1-alpha)*sqrt(g_divt*g_divt*desvest_div*desvest_div)\n",
        "\n",
        "CVaRfrDGN_acc = (dnorm(qnorm(1-alpha))/(1-alpha))*sqrt(g_acct*g_acct*desvest_acc*desvest_acc)*-1\n",
        "CVaRfrDGN_div = (dnorm(qnorm(1-alpha))/(1-alpha))*sqrt(g_divt*g_divt*desvest_div*desvest_div)*-1\n",
        "\n",
        "VaRfrCF_acc = ajuste_cornish_acc_div*sqrt(g_acct*g_acct*desvest_acc*desvest_acc)*-1\n",
        "VaRfrCF_div = ajuste_cornish_acc_div*sqrt(g_divt*g_divt*desvest_div*desvest_div)*-1\n",
        "\n",
        "CVaRfrCF_acc = (dnorm(qnorm(alpha))/(1-alpha))*sqrt(g_acct*g_acct*desvest_acc*desvest_acc)*-1\n",
        "CVaRfrCF_div = (dnorm(qnorm(alpha))/(1-alpha))*sqrt(g_divt*g_divt*desvest_div*desvest_div)*-1\n",
        "\n",
        "DGN_fr_acc_div <- as.matrix(rbind(cbind(VaRfrDGN_acc,VaRfrDGN_div),cbind(CVaRfrDGN_acc,CVaRfrDGN_div)))\n",
        "rownames(DGN_fr_acc_div) <- c(\"VaR\",\"CVaR\")\n",
        "\n",
        "DGN_CF_fr_acc_div <- as.matrix(rbind(cbind(VaRfrCF_acc,VaRfrCF_div),cbind(CVaRfrCF_acc,CVaRfrCF_div)))\n",
        "rownames(DGN_CF_fr_acc_div) <- c(\"VaR\",\"CVaR\")\n",
        "\n",
        "print(\"Delta Gamma Normal\")\n",
        "print(DGN_fr_acc_div)\n",
        "\n",
        "print(\"\")\n",
        "print(\"Delta Gamma Normal Cornish Fisher\")\n",
        "print(DGN_CF_fr_acc_div)"
      ],
      "execution_count": null,
      "outputs": [
        {
          "output_type": "stream",
          "name": "stdout",
          "text": [
            "[1] \"Delta Gamma Normal\"\n",
            "       AMXL.MX GCARSOA1.MX WALMEX.MX  EURUSD.X  GBPUSD.X  USDMXN.X\n",
            "VaR  -2864.347   -3468.902 -2978.942 -157.1863 -159.9017 -357.3584\n",
            "CVaR -3376.419   -4089.053 -3511.501 -185.2872 -188.4880 -421.2449\n",
            "[1] \"\"\n",
            "[1] \"Delta Gamma Normal Cornish Fisher\"\n",
            "       AMXL.MX GCARSOA1.MX WALMEX.MX  EURUSD.X  GBPUSD.X  USDMXN.X\n",
            "VaR  -2864.347   -3468.902 -2978.942 -157.1863 -159.9017 -357.3584\n",
            "CVaR -3376.419   -4089.053 -3511.501 -185.2872 -188.4880 -421.2449\n"
          ]
        }
      ]
    },
    {
      "cell_type": "markdown",
      "metadata": {
        "id": "Hr3Bl0PpA7co"
      },
      "source": [
        "##### Total"
      ]
    },
    {
      "cell_type": "code",
      "metadata": {
        "id": "fzaVSL44A9rX",
        "colab": {
          "base_uri": "https://localhost:8080/"
        },
        "outputId": "38cd4c46-66c3-4978-c194-8a8ac03e0dbf"
      },
      "source": [
        "%%R\n",
        "\n",
        "VaRTotalDGN_acc = sqrt(as.matrix(g_acct)%*%VarCovX_acc%*%t(as.matrix(g_acct)))*qnorm(1-alpha)\n",
        "VaRTotalDGN_div = sqrt(as.matrix(g_divt)%*%VarCovX_div%*%t(as.matrix(g_divt)))*qnorm(1-alpha)\n",
        "\n",
        "CVaRTotalDGN_acc = sqrt(as.matrix(g_acct)%*%VarCovX_acc%*%t(as.matrix(g_acct)))*dnorm(qnorm(1-alpha))/(1-alpha)*-1\n",
        "CVaRTotalDGN_div = sqrt(as.matrix(g_divt)%*%VarCovX_div%*%t(as.matrix(g_divt)))*dnorm(qnorm(1-alpha))/(1-alpha)*-1\n",
        "\n",
        "VaRTotalCF_acc = ajuste_cornish_acc_div*sqrt(as.matrix(g_acct)%*%VarCovX_acc%*%t(as.matrix(g_acct)))*-1\n",
        "VaRTotalCF_div = ajuste_cornish_acc_div*sqrt(as.matrix(g_divt)%*%VarCovX_div%*%t(as.matrix(g_divt)))*-1\n",
        "\n",
        "CVaRTotalCF_acc = (dnorm(qnorm(alpha))/(1-alpha))*sqrt(as.matrix(g_acct)%*%VarCovX_acc%*%t(as.matrix(g_acct)))*-1\n",
        "CVaRTotalCF_div = (dnorm(qnorm(alpha))/(1-alpha))*sqrt(as.matrix(g_divt)%*%VarCovX_div%*%t(as.matrix(g_divt)))*-1\n",
        "\n",
        "DGN_tot_acc_div <- as.matrix(rbind(cbind(VaRTotalDGN_acc,VaRTotalDGN_div),cbind(CVaRTotalDGN_acc,CVaRTotalDGN_div)))\n",
        "colnames(DGN_tot_acc_div) <- c(\"Acciones\",\"Divisas\")\n",
        "rownames(DGN_tot_acc_div) <- c(\"VaR\",\"CVaR\")\n",
        "\n",
        "DGN_CF_tot_acc_div <- as.matrix(rbind(cbind(VaRTotalCF_acc,VaRTotalCF_div),cbind(CVaRTotalCF_acc,CVaRTotalCF_div)))\n",
        "colnames(DGN_CF_tot_acc_div) <- c(\"Acciones\",\"Divisas\")\n",
        "rownames(DGN_CF_tot_acc_div) <- c(\"VaR\",\"CVaR\")\n",
        "\n",
        "print(\"Delta Gamma Normal\")\n",
        "print(DGN_tot_acc_div)\n",
        "\n",
        "print(\"\")\n",
        "print(\"Delta Gamma Normal Cornish Fisher\")\n",
        "print(DGN_CF_tot_acc_div)"
      ],
      "execution_count": null,
      "outputs": [
        {
          "output_type": "stream",
          "name": "stdout",
          "text": [
            "[1] \"Delta Gamma Normal\"\n",
            "      Acciones   Divisas\n",
            "VaR  -4824.416 -376.8845\n",
            "CVaR -5686.899 -444.2619\n",
            "[1] \"\"\n",
            "[1] \"Delta Gamma Normal Cornish Fisher\"\n",
            "      Acciones   Divisas\n",
            "VaR  -4824.416 -376.8845\n",
            "CVaR -5686.899 -444.2619\n"
          ]
        }
      ]
    },
    {
      "cell_type": "markdown",
      "metadata": {
        "id": "KMZzVWJmzy6X"
      },
      "source": [
        "###CETES"
      ]
    },
    {
      "cell_type": "code",
      "metadata": {
        "id": "o5UZ0pq70Fey",
        "colab": {
          "base_uri": "https://localhost:8080/"
        },
        "outputId": "89b52925-f139-468e-d67d-ef2dcafd1b04"
      },
      "source": [
        "%%R\n",
        "\n",
        "Delta_bcc = x_bcc[1:(n-1),1]/x_bcc[2:(n),1]-1\n",
        "\n",
        "desvest_bcc = sd(Delta_bcc)\n",
        "sigma_gamma_bcc = sqrt(0.5*(gamma_bcct2[1,1]*desvest_bcc^2)^2+g_bcct[1,1]*desvest_bcc^2*g_bcct[1,1])\n",
        "mu_3_bcc = (1/2 * (gamma_bcct2[1,1]*desvest_bcc^2)^3 + 3 * gamma_bcct2[1,1] * g_bcct[1,1] * desvest_bcc^2 * g_bcct[1,1])/sigma_gamma_bcc^3\n",
        "ajuste_cornish_bcc = qnorm(1-alpha) + 1/6 * (qnorm(1-alpha)^2-1)*mu_3_bcc\n",
        "aux_bcc = pnorm(-ajuste_cornish_bcc)\n",
        "\n",
        "VaRContDGM_bcc = (mu_bcc[1,1] + sigma_gamma_bcc * qnorm(1-alpha))\n",
        "CVaRContDGM_bcc = (mu_bcc[1,1] + (dnorm(qnorm(alpha))/(1-alpha))*sigma_gamma_bcc*-1)\n",
        "\n",
        "VaRContCF_bcc = (mu_bcc[1,1] + sigma_gamma_bcc * ajuste_cornish_bcc * -1)\n",
        "CVaRContCF_bcc = (mu_bcc[1,1] + (dnorm(-ajuste_cornish_bcc)/aux_bcc)*sigma_gamma_bcc*-1)\n",
        "\n",
        "DGN_tot_bcc <- as.matrix(rbind(VaRContDGM_bcc,CVaRContDGM_bcc))\n",
        "colnames(DGN_tot_bcc) <- c(\"CETE\")\n",
        "rownames(DGN_tot_bcc) <- c(\"VaR\",\"CVaR\")\n",
        "\n",
        "DGN_CF_tot_bcc <- as.matrix(rbind(VaRContCF_bcc,CVaRContCF_bcc))\n",
        "colnames(DGN_CF_tot_bcc) <- c(\"CETE\")\n",
        "rownames(DGN_CF_tot_bcc) <- c(\"VaR\",\"CVaR\")\n",
        "\n",
        "print(\"Delta Gamma Normal\")\n",
        "print(DGN_tot_bcc)\n",
        "\n",
        "print(\"\")\n",
        "print(\"Delta Gamma Normal Cornish Fisher\")\n",
        "print(DGN_CF_tot_bcc)\n",
        "\n"
      ],
      "execution_count": null,
      "outputs": [
        {
          "output_type": "stream",
          "name": "stdout",
          "text": [
            "[1] \"Delta Gamma Normal\"\n",
            "          CETE\n",
            "VaR  -10.18972\n",
            "CVaR -11.46390\n",
            "[1] \"\"\n",
            "[1] \"Delta Gamma Normal Cornish Fisher\"\n",
            "          CETE\n",
            "VaR  -63.71016\n",
            "CVaR -63.90746\n"
          ]
        }
      ]
    },
    {
      "cell_type": "markdown",
      "metadata": {
        "id": "1ulgKZP0zsie"
      },
      "source": [
        "### Bonos M "
      ]
    },
    {
      "cell_type": "code",
      "metadata": {
        "id": "TDUI9icQL2vh",
        "colab": {
          "base_uri": "https://localhost:8080/"
        },
        "outputId": "4ffcab37-932b-42e6-cabd-ba9e5c2d8b20"
      },
      "source": [
        "%%R\n",
        "gamma_bcct2"
      ],
      "execution_count": null,
      "outputs": [
        {
          "output_type": "stream",
          "name": "stdout",
          "text": [
            "         [,1]\n",
            "[1,] 42.12399\n"
          ]
        }
      ]
    },
    {
      "cell_type": "markdown",
      "metadata": {
        "id": "EPJiZS5SyZ-W"
      },
      "source": [
        "### Bondes D"
      ]
    },
    {
      "cell_type": "markdown",
      "metadata": {
        "id": "pDQFPCsTyl2E"
      },
      "source": [
        "#### VaR y CVaR por contrato"
      ]
    },
    {
      "cell_type": "code",
      "metadata": {
        "id": "7JcYwI4xy5pC",
        "colab": {
          "base_uri": "https://localhost:8080/"
        },
        "outputId": "f1b98f1f-6151-4497-ddf2-df8be47815b5"
      },
      "source": [
        "%%R\n",
        "\n",
        "Delta_X_bd_ext=X_bd_ext[1:(n-1),]/X_bd_ext[2:(n),]-1\n",
        "\n",
        "VaRContDGM_bd=matrix(0,1,count(N_bd))\n",
        "CVaRContDGM_bd=matrix(0,1,count(N_bd))\n",
        "VaRContCF_bd=matrix(0,1,count(N_bd))\n",
        "CVaRContCF_bd=matrix(0,1,count(N_bd))\n",
        "\n",
        "VaRContDGM_bdf=matrix(0,3,count(N_bd))\n",
        "CVaRContDGM_bdf=matrix(0,3,count(N_bd))\n",
        "VaRContCF_bdf=matrix(0,3,count(N_bd))\n",
        "CVaRContCF_bdf=matrix(0,3,count(N_bd))\n",
        "\n",
        "V0f_dtc_bd=d_bondeD_tc(contratos_bdmT, nominal_bdm, tf_act, plazocupon_bdmT, VTplazos_bdm, Xvp_bd[1,], Xst_bd[1,], N_bd,ddv)\n",
        "V0f_dvp_bd=d_bondeD_x(contratos_bdmT, nominal_bdm, tf_act, plazocupon_bdmT, VTplazos_bdm, Xvp_bd[1,], Xst_bd[1,], N_bd,ddv)\n",
        "V0f_dst_bd=V0f_dvp_bd\n",
        "\n",
        "for (j in (1:count(N_bd)))\n",
        "{\n",
        "  if(j==1)\n",
        "  { \n",
        "    x0cont_bd=c(X_bd_tc[1,1:sum(N_bd[1:j])],Xvp_bd[1,1:sum(N_bd[1:j])],Xst_bd[1,1:sum(N_bd[1:j])])\n",
        "    x0cont_bdf=rbind(c(X_bd_tc[1,1:sum(N_bd[1:j])],Xvp_bd[1,1:sum(N_bd[1:j])]*0,Xst_bd[1,1:sum(N_bd[1:j])]*0),\n",
        "                     c(X_bd_tc[1,1:sum(N_bd[1:j])]*0,Xvp_bd[1,1:sum(N_bd[1:j])],Xst_bd[1,1:sum(N_bd[1:j])]*0),\n",
        "                     c(X_bd_tc[1,1:sum(N_bd[1:j])]*0,Xvp_bd[1,1:sum(N_bd[1:j])]*0,Xst_bd[1,1:sum(N_bd[1:j])]))\n",
        "    mucont_bd=sum(mu_bd[j])\n",
        "    gcont_bd=as.matrix(c(V0f_dtc_bd[1:sum(N_bd[1:j])],V0f_dvp_bd[1:sum(N_bd[1:j])],V0f_dst_bd[1:sum(N_bd[1:j])]))\n",
        "    gtcont_bd=t(as.matrix(gcont_bd*x0cont_bd))\n",
        "    VarCovXcont_bd=cov(cbind(X_bd_tc[,1:sum(N_bd[1:j])],Xvp_bd[,1:sum(N_bd[1:j])],Xst_bd[,1:sum(N_bd[1:j])]))*(n-1)/(n-2)\t\n",
        "    gamma_cont_bd=gamma_bd[1:(3*sum(N_bd[1:j])),1:(3*sum(N_bd[1:j]))]\n",
        "    tgamma_bd= x0cont_bd%*%t(x0cont_bd)*gamma_cont_bd\n",
        "  }\n",
        "  else\n",
        "  {\n",
        "    x0cont_bd=c(X_bd_tc[1,sum(N_bd[1:j-1],1):sum(N_bd[1:j])],Xvp_bd[1,sum(N_bd[1:j-1],1):sum(N_bd[1:j])],Xst_bd[1,sum(N_bd[1:j-1],1):sum(N_bd[1:j])])\n",
        "    x0cont_bdf=rbind(c(X_bd_tc[1,sum(N_bd[1:j-1],1):sum(N_bd[1:j])],Xvp_bd[1,sum(N_bd[1:j-1],1):sum(N_bd[1:j])]*0,Xst_bd[1,sum(N_bd[1:j-1],1):sum(N_bd[1:j])]*0),\n",
        "                     c(X_bd_tc[1,sum(N_bd[1:j-1],1):sum(N_bd[1:j])]*0,Xvp_bd[1,sum(N_bd[1:j-1],1):sum(N_bd[1:j])],Xst_bd[1,sum(N_bd[1:j-1],1):sum(N_bd[1:j])]*0),\n",
        "                     c(X_bd_tc[1,sum(N_bd[1:j-1],1):sum(N_bd[1:j])]*0,Xvp_bd[1,sum(N_bd[1:j-1],1):sum(N_bd[1:j])]*0,Xst_bd[1,sum(N_bd[1:j-1],1):sum(N_bd[1:j])]))\n",
        "    mucont_bd=sum(mu_bd[j])\n",
        "    gcont_bd=as.matrix(c(V0f_dtc_bd[sum(N_bd[1:j-1],1):sum(N_bd[1:j])],V0f_dvp_bd[sum(N_bd[1:j-1],1):sum(N_bd[1:j])],V0f_dst_bd[sum(N_bd[1:j-1],1):sum(N_bd[1:j])]))\n",
        "    gtcont_bd=t(as.matrix(gcont_bd*x0cont_bd))\n",
        "    VarCovXcont_bd=cov(cbind(X_bd_tc[,sum(N_bd[1:j-1],1):sum(N_bd[1:j])],Xvp_bd[,sum(N_bd[1:j-1],1):sum(N_bd[1:j])],Xst_bd[,sum(N_bd[1:j-1],1):sum(N_bd[1:j])]))*(n-1)/(n-2)\n",
        "    gamma_cont_bd=gamma_bd[(3*sum(N_bd[1:j-1])+1):(3*sum(N_bd[1:j])),(3*sum(N_bd[1:j-1])+1):(3*sum(N_bd[1:j]))]\n",
        "    tgamma_bd= x0cont_bd%*%t(x0cont_bd)*gamma_cont_bd\n",
        "  }\n",
        "  \n",
        "  \n",
        "  tgammavar_bd=(tgamma_bd%*%VarCovXcont_bd)\n",
        "  tgammavar2_bd=(tgamma_bd%*%VarCovXcont_bd)%*%(tgamma_bd%*%VarCovXcont_bd)\n",
        "  VaRContDGM_bd[j]=ifelse((sum(diag(tgammavar_bd))/2+mucont_bd)>0,0,(sum(diag(tgammavar_bd))/2+mucont_bd))+(sqrt(sum(diag(tgammavar2_bd))/2+gtcont_bd%*%VarCovXcont_bd%*%t(gtcont_bd)))*qnorm(1-alpha) #VaR Normal\n",
        "  CVaRContDGM_bd[j]=ifelse((sum(diag(tgammavar_bd))/2+mucont_bd)>0,0,(sum(diag(tgammavar_bd))/2+mucont_bd))-(sqrt(sum(diag(tgammavar_bd))/2+gtcont_bd%*%VarCovXcont_bd%*%t(gtcont_bd)))*dnorm(qnorm(alpha))/(1-alpha)\n",
        "\n",
        "  tgammavar3_bd=tgammavar2_bd%*%(tgamma_bd%*%VarCovXcont_bd)\n",
        "  asimPmargc_bd=sum(diag(tgammavar3_bd))+3*gtcont_bd%*%VarCovXcont_bd%*%tgamma_bd%*%VarCovXcont_bd%*%t(gtcont_bd)\n",
        "  asimPmargc_bd=asimPmargc_bd/(sqrt(sum(diag(tgammavar2_bd))/2+gtcont_bd%*%VarCovXcont_bd%*%t(gtcont_bd)))^3 \n",
        "  VaRmargcstd_bd=qnorm(1-alpha)+((qnorm(1-alpha)^2-1)/6)*asimPmargc_bd\n",
        "  VaRContCF_bd[j]=ifelse((sum(diag(tgammavar_bd))/2+mucont_bd)>0,0,(sum(diag(tgammavar_bd))/2+mucont_bd))+(sqrt(sum(diag(tgammavar2_bd))/2+gtcont_bd%*%VarCovXcont_bd%*%t(gtcont_bd)))*VaRmargcstd_bd #VaR Normal\n",
        "  CVaRContCF_bd[j]=ifelse((sum(diag(tgammavar_bd))/2+mucont_bd)>0,0,(sum(diag(tgammavar_bd))/2+mucont_bd))-(sqrt(sum(diag(tgammavar2_bd))/2+gtcont_bd%*%VarCovXcont_bd%*%t(gtcont_bd)))*dnorm(VaRmargcstd_bd)/(pnorm(VaRmargcstd_bd))\n",
        "  for (k in (1:3))\n",
        "  {\n",
        "    gtcont_bd=t(as.matrix(gcont_bd*x0cont_bdf[k,]))\n",
        "    tgamma_bd= x0cont_bdf[k,]%*%t(x0cont_bdf[k,])*gamma_cont_bd\n",
        "    tgammavar_bd=(tgamma_bd%*%VarCovXcont_bd)\n",
        "    tgammavar2_bd=(tgamma_bd%*%VarCovXcont_bd)%*%(tgamma_bd%*%VarCovXcont_bd)\n",
        "    VaRContDGM_bdf[k,j]=(sum(diag(tgammavar_bd))/2+mucont_bd)-(sqrt(sum(diag(tgammavar2_bd))/2+gtcont_bd%*%VarCovXcont_bd%*%t(gtcont_bd)))*qnorm(alpha) #VaR Normal\n",
        "    CVaRContDGM_bdf[k,j]=(sum(diag(tgammavar_bd))/2+mucont_bd)-(sqrt(sum(diag(tgammavar_bd))/2+gtcont_bd%*%VarCovXcont_bd%*%t(gtcont_bd)))*dnorm(qnorm(alpha))/(1-alpha)\n",
        "\n",
        "    tgammavar3_bd=tgammavar2_bd%*%(tgamma_bd%*%VarCovXcont_bd)\n",
        "    asimPmargc_bd=sum(diag(tgammavar3_bd))+3*gtcont_bd%*%VarCovXcont_bd%*%tgamma_bd%*%VarCovXcont_bd%*%t(gtcont_bd) #gamma tercer momento\n",
        "    asimPmargc_bd=asimPmargc_bd/(sqrt(sum(diag(tgammavar2_bd))/2+gtcont_bd%*%VarCovXcont_bd%*%t(gtcont_bd)))^3  #coef de asimetría\n",
        "    VaRmargcstd_bd=qnorm(1-alpha)+((qnorm(1-alpha)^2-1)/6)*asimPmargc_bd  #VaR estandarizado\n",
        "    VaRContCF_bdf[k,j]=(sqrt(sum(diag(tgammavar2_bd))/2+gtcont_bd%*%VarCovXcont_bd%*%t(gtcont_bd)))*VaRmargcstd_bd #VaR Normal\n",
        "    CVaRContCF_bdf[k,j]=-(sqrt(sum(diag(tgammavar2_bd))/2+gtcont_bd%*%VarCovXcont_bd%*%t(gtcont_bd)))*dnorm(VaRmargcstd_bd)/(pnorm(VaRmargcstd_bd))    \n",
        "  }\n",
        "  \n",
        "}\n",
        "\n",
        "Cont_bd <- as.matrix(rbind(cbind(VaRContDGM_bd[1,1],VaRContCF_bd[1,1]),cbind(CVaRContDGM_bd[1,1],CVaRContCF_bd[1,1])))\n",
        "rownames(Cont_bd) <- c(\"VaR\",\"CVaR\")\n",
        "colnames(Cont_bd) <- c(\"Delta Gamma Normal\",\" DGN Cornish Fisher\")\n",
        "\n",
        "Cont_fac_bd <- as.matrix(rbind(cbind(VaRContDGM_bdf[1,1],VaRContCF_bdf[1,1]),cbind(CVaRContDGM_bdf[1,1],CVaRContCF_bdf[1,1])))\n",
        "rownames(Cont_fac_bd) <- c(\"VaR\",\"CVaR\")\n",
        "colnames(Cont_fac_bd) <- c(\"Delta Gamma Normal\",\" DGN Cornish Fisher\")\n",
        "\n",
        "\n",
        "print(\"Contrato\")\n",
        "print(Cont_bd)\n",
        "\n",
        "print(\"Contrato-Factor\")\n",
        "print(Cont_fac_bd)"
      ],
      "execution_count": null,
      "outputs": [
        {
          "output_type": "stream",
          "name": "stdout",
          "text": [
            "[1] \"Contrato\"\n",
            "     Delta Gamma Normal  DGN Cornish Fisher\n",
            "VaR           -244.9694           -245.1025\n",
            "CVaR          -288.7629           -288.8820\n",
            "[1] \"Contrato-Factor\"\n",
            "     Delta Gamma Normal  DGN Cornish Fisher\n",
            "VaR           -131.0821           -161.2838\n",
            "CVaR          -159.9155           -190.1172\n"
          ]
        }
      ]
    },
    {
      "cell_type": "markdown",
      "metadata": {
        "id": "qxPS1Z1NzbU7"
      },
      "source": [
        "#### VaR y CVaR total"
      ]
    },
    {
      "cell_type": "code",
      "metadata": {
        "id": "62lw-H3izjH2",
        "colab": {
          "base_uri": "https://localhost:8080/"
        },
        "outputId": "75a8e6c9-7ce1-4cc1-a630-5354ab412db0"
      },
      "source": [
        "%%R\n",
        "\n",
        "VarCovX_bd_ext=cov(Delta_X_bd_ext)*(n-1)/(n-2)\n",
        "tgammavar_bdt=(gamma_bdt2%*%VarCovX_bd_ext)\n",
        "tgammavar2_bdt=(gamma_bdt2%*%VarCovX_bd_ext)%*%(gamma_bdt2%*%VarCovX_bd_ext) \n",
        "VaRTotalDGM=ifelse((sum(diag(tgammavar_bdt))/2+sum(mu_bd))>0,0,(sum(diag(tgammavar_bdt))/2+sum(mu_bd)))+(sqrt(sum(diag(tgammavar2_bdt))/2+g_bdt%*%VarCovX_bd_ext%*%t(g_bdt)))*qnorm(1-alpha) #VaR Normal\n",
        "CVaRTotalDGM=ifelse((sum(diag(tgammavar_bdt))/2+sum(mu_bd))>0,0,(sum(diag(tgammavar_bdt))/2+sum(mu_bd)))-(sqrt(sum(diag(tgammavar2_bdt))/2+g_bdt%*%VarCovX_bd_ext%*%t(g_bdt)))*dnorm(qnorm(alpha))/(1-alpha)\n",
        "\n",
        "\n",
        "tgammavar3_bdt=tgammavar2_bdt%*%(gamma_bdt2%*%VarCovX_bd_ext) \n",
        "asimPmargc_bdt=sum(diag(tgammavar3_bdt))+3*g_bdt%*%VarCovX_bd_ext%*%gamma_bdt2%*%VarCovX_bd_ext%*%t(g_bdt) #gamma tercer momento\n",
        "asimPmargc_bdt=asimPmargc_bdt/(sqrt(sum(diag(tgammavar2_bdt))/2+g_bdt%*%VarCovX_bd_ext%*%t(g_bdt)))^3  #coef de asimetría\n",
        "VaRmargcstd_bdt=qnorm(1-alpha)+((qnorm(1-alpha)^2-1)/6)*asimPmargc_bdt  #VaR estandarizado\n",
        "VaRTotalCF=ifelse((sum(diag(tgammavar_bdt))/2+sum(mu_bd))>0,0,(sum(diag(tgammavar_bdt))/2+sum(mu_bd)))+(sqrt(sum(diag(tgammavar2_bdt))/2+g_bdt%*%VarCovX_bd_ext%*%t(g_bdt)))*VaRmargcstd_bdt #VaR Normal #VaR cf\n",
        "CVaRTotalCF=ifelse((sum(diag(tgammavar_bdt))/2+sum(mu_bd))>0,0,(sum(diag(tgammavar_bdt))/2+sum(mu_bd)))-(sqrt(sum(diag(tgammavar2_bdt))/2+g_bdt%*%VarCovX_bd_ext%*%t(g_bdt)))*dnorm(VaRmargcstd_bdt)/(pnorm(VaRmargcstd_bdt))\n",
        "\n",
        "\n",
        "VaRTotalDGMf=matrix(0,1,3)\n",
        "CVaRTotalDGMf=matrix(0,1,3)\n",
        "VaRTotalCFf=matrix(0,1,3)\n",
        "CVaRTotalCFf=matrix(0,1,3)\n",
        "\n",
        "x0_bd_extf=rbind(cbind(matrix(tf_act,1,ncol(contratos_bdmT)),t(as.matrix(Xvp_bd[1,]))*0,t(as.matrix(Xst_bd[1,]))*0),\n",
        "                 cbind(matrix(tf_act,1,ncol(contratos_bdmT))*0,t(as.matrix(Xvp_bd[1,])),t(as.matrix(Xst_bd[1,]))*0),\n",
        "                 cbind(matrix(tf_act,1,ncol(contratos_bdmT))*0,t(as.matrix(Xvp_bd[1,]))*0,t(as.matrix(Xst_bd[1,]))))\n",
        "\n",
        "for (j in (1:3))\n",
        "{\n",
        "g_bdt=g_bd*x0_bd_extf[j,]\n",
        "gamma_bdt2=gamma_bd*((x0_bd_extf[j,])%*%t(x0_bd_extf[j,]))\n",
        "VarCovX_bd_ext=cov(Delta_X_bd_ext)*(n-1)/(n-2)\n",
        "tgammavar_bdt=(gamma_bdt2%*%VarCovX_bd_ext)\n",
        "tgammavar2_bdt=(gamma_bdt2%*%VarCovX_bd_ext)%*%(gamma_bdt2%*%VarCovX_bd_ext) \n",
        "VaRTotalDGMf[,j]=(sqrt(sum(diag(tgammavar2_bdt))/2+g_bdt%*%VarCovX_bd_ext%*%t(g_bdt)))*qnorm(1-alpha) #VaR Normal\n",
        "CVaRTotalDGMf[,j]=-(sqrt(sum(diag(tgammavar2_bdt))/2+g_bdt%*%VarCovX_bd_ext%*%t(g_bdt)))*dnorm(qnorm(alpha))/(1-alpha)\n",
        "\n",
        "tgammavar3_bdt=tgammavar2_bdt%*%(gamma_bdt2%*%VarCovX_bd_ext) \n",
        "asimPmargc_bdt=sum(diag(tgammavar3_bdt))+3*g_bdt%*%VarCovX_bd_ext%*%gamma_bdt2%*%VarCovX_bd_ext%*%t(g_bdt) #gamma tercer momento\n",
        "asimPmargc_bdt=asimPmargc_bdt/(sqrt(sum(diag(tgammavar2_bdt))/2+g_bdt%*%VarCovX_bd_ext%*%t(g_bdt)))^3  #coef de asimetría\n",
        "VaRmargcstd_bdt=qnorm(1-alpha)+((qnorm(1-alpha)^2-1)/6)*asimPmargc_bdt  #VaR estandarizado\n",
        "VaRTotalCFf[,j]=(sqrt(sum(diag(tgammavar2_bdt))/2+g_bdt%*%VarCovX_bd_ext%*%t(g_bdt)))*VaRmargcstd_bdt #VaR Normal #VaR cf\n",
        "CVaRTotalCFf[,j]=-(sqrt(sum(diag(tgammavar2_bdt))/2+g_bdt%*%VarCovX_bd_ext%*%t(g_bdt)))*dnorm(VaRmargcstd_bdt)/(pnorm(VaRmargcstd_bdt))\n",
        "}\n",
        "sum(V0_bdm)\n",
        "\n",
        "DGN_bd <- as.matrix(rbind(cbind(VaRTotalDGM,VaRTotalDGMf),cbind(CVaRTotalDGM,CVaRTotalDGMf)))\n",
        "colnames(DGN_bd) <- c(\"Total\",\"Fondeo\",\"Guber\",\"Sobretasa\")\n",
        "rownames(DGN_bd) <- c(\"VaR\",\"CVaR\")\n",
        "\n",
        "DGN_CF_bd <- as.matrix(rbind(cbind(VaRTotalCF,VaRTotalCFf),cbind(CVaRTotalCF,CVaRTotalCFf)))\n",
        "colnames(DGN_CF_bd) <- c(\"Total\",\"Fondeo\",\"Guber\",\"Sobretasa\")\n",
        "rownames(DGN_CF_bd) <- c(\"VaR\",\"CVaR\")\n",
        "\n",
        "print(\"Delta Gamma Normal\")\n",
        "print(DGN_bd)\n",
        "\n",
        "print(\"\")\n",
        "print(\"Delta Gamma Normal Cornish Fisher\")\n",
        "print(DGN_CF_bd)"
      ],
      "execution_count": null,
      "outputs": [
        {
          "output_type": "stream",
          "name": "stdout",
          "text": [
            "[1] \"Delta Gamma Normal\"\n",
            "         Total    Fondeo     Guber Sobretasa\n",
            "VaR  -508.5377 -352.1895 -188.4538 -188.4538\n",
            "CVaR -599.4512 -415.1520 -222.1446 -222.1446\n",
            "[1] \"\"\n",
            "[1] \"Delta Gamma Normal Cornish Fisher\"\n",
            "         Total    Fondeo     Guber Sobretasa\n",
            "VaR  -509.0733 -352.1895 -188.7904 -188.7904\n",
            "CVaR -599.9274 -415.1520 -222.4438 -222.4438\n"
          ]
        }
      ]
    },
    {
      "cell_type": "markdown",
      "metadata": {
        "id": "dGzJj5Nss9hS"
      },
      "source": [
        "###Forwards de Tipo de Cambio\n"
      ]
    },
    {
      "cell_type": "code",
      "metadata": {
        "id": "QYyEIp3u4gqk"
      },
      "source": [
        "%%R\n",
        "DeltaX_ftdc=DeltaX_port[,(sum(n_if[1:4],1)):(sum(n_if[1:5]))]"
      ],
      "execution_count": null,
      "outputs": []
    },
    {
      "cell_type": "markdown",
      "metadata": {
        "id": "ASn8PyA-tGbc"
      },
      "source": [
        "#### VaR y CVaR por contrato"
      ]
    },
    {
      "cell_type": "code",
      "metadata": {
        "id": "6oGaEAHCtfve",
        "colab": {
          "base_uri": "https://localhost:8080/"
        },
        "outputId": "fffcba0c-207a-41ed-8cee-7379a37701bb"
      },
      "source": [
        "%%R\n",
        "\n",
        "DeltaX_ftdc=DeltaX_port[,(sum(n_if[1:4],1)):(sum(n_if[1:5]))] \n",
        "m_ftdc=ncol(plazos_fwd)\n",
        "m=ncol(plazos_fwd)\n",
        "VaRmargc_ftdc=matrix(0,1,m) #Var por contrato Delta Normal\n",
        "VaRmargcstd_ftdc=matrix(0,1,m) #Var por contrato estandarizado \n",
        "VaRmargcCF_ftdc=matrix(0,1,m) #Var por contrato Cornish-Fisher\n",
        "CVaRmargc_ftdc=matrix(0,1,m) #CVar por contrato estandarizado\n",
        "CVaRmargcCF_ftdc=matrix(0,1,m) #CVar por contrato estandarizado\n",
        "\n",
        "VaRmargc_fr_ftdc=matrix(0,3,m) #Var por contrato Delta Normal\n",
        "VaRmargcstd_fr_ftdc=matrix(0,3,m) #Var por contrato estandarizado \n",
        "VaRmargcCF_fr_ftdc=matrix(0,3,m) #Var por contrato Cornish-Fisher\n",
        "CVaRmargc_fr_ftdc=matrix(0,3,m) #CVar por contrato estandarizado\n",
        "CVaRmargcCF_fr_ftdc=matrix(0,3,m) #CVar por contrato estandarizado\n",
        "WFR=diagv(c(1,1,1))\n",
        "\n",
        "\n",
        "for (i in 1:(m))\n",
        "{\n",
        "  delta_ftdc=t(g_ftdc[seq(i,m*3,by=m)]) \n",
        "  tdelta_ftdc=t(g_ftdc[seq(i,m*3,by=m)])*xp_ftdc[seq(i,m*3,by=m)]   #delta tilde\n",
        "  gamma_ftdc=mgamma_futTC(plazos_fwd[i],X1_fwtdc[1,i],X2_fwtdc[1,i],X3_ftdc[1,],kst_fwd[i],contratos_fwd[i],nominal_fwd)  #paso clave\n",
        "  tgamma_ftdc=xp_ftdc[seq(i,m*3,by=m)]%*%t(xp_ftdc[seq(i,m*3,by=m)])*gamma_ftdc #gamma tilde\n",
        "  Varmargcaux_ftdc=cov(DeltaX_ftdc[,seq(i,m*3,by=m)])*((n)/(n-1)) #matriz varcov factores de riesgo de cada contrato\n",
        "  tgammavar_ftdc=(tgamma_ftdc%*%Varmargcaux_ftdc)\n",
        "  tgammavar2_ftdc=(tgamma_ftdc%*%Varmargcaux_ftdc)%*%(tgamma_ftdc%*%Varmargcaux_ftdc)  \n",
        "  mudg_ftdc=ifelse((sum(diag(tgammavar_ftdc))/2+mu_ftdc[i])>0,0,(sum(diag(tgammavar_ftdc))/2+mu_ftdc[i]))\n",
        "  desv_ftdc=sqrt(sum(diag(tgammavar2_ftdc))/2+tdelta_ftdc%*%Varmargcaux_ftdc%*%t(tdelta_ftdc))\n",
        "\n",
        "  VaRmargc_ftdc[i]=mudg_ftdc+desv_ftdc*qnorm(1-alpha) #VaR Normal por contrato\n",
        "  CVaRmargc_ftdc[i]=-mudg_ftdc-desv_ftdc*(dnorm(qnorm(1-alpha))/(1-alpha))\n",
        "  \n",
        "  tgammavar3_ftdc=tgammavar2_ftdc%*%(tgamma_ftdc%*%Varmargcaux_ftdc)\n",
        "  asimPmargc_ftdc=sum(diag(tgammavar3_ftdc))+3*tdelta_ftdc%*%Varmargcaux_ftdc%*%tgamma_ftdc%*%Varmargcaux_ftdc%*%t(tdelta_ftdc) #tercer momento\n",
        "  asimPmargc_ftdc=asimPmargc_ftdc/(desv_ftdc)^3  #coef de asimetría\n",
        "  VaRmargcstd_ftdc[i]=qnorm(1-alpha)+((qnorm(1-alpha)^2-1)/6)*asimPmargc_ftdc  #VaR estandarizado\n",
        "  VaRmargcCF_ftdc[i]=mudg_ftdc+desv_ftdc*VaRmargcstd_ftdc[i] \t    #VaR Cornish-Fisher\n",
        "  CVaRmargcCF_ftdc[i]=-mudg_ftdc-desv_ftdc*(dnorm(VaRmargcstd_ftdc[i])/(pnorm(VaRmargcstd_ftdc[i])))\n",
        "\n",
        "  for (j in 1:3)\n",
        "  {\n",
        "    WFRM=matrix(0,3,3)  #PASO CLAVE\n",
        "    WFRM[j,j]=1  #PASO CLAVE\n",
        "    delta_ftdc=t(g_ftdc[seq(i,m*3,by=m)])*WFR[j,] #PASO CLAVE *(1,0,0), (0,1,0), (0,0,1)\n",
        "\n",
        "    tdelta_ftdc=t(g_ftdc[seq(i,m*3,by=m)])*xp_ftdc[seq(i,m*3,by=m)]*WFR[j,]   #delta tilde #PASO CLAVE\n",
        "    gamma_ftdc=mgamma_futTC(plazos_fwd[i],X1_fwtdc[1,i],X2_fwtdc[1,i],X3_ftdc[1,],kst_fwd[i],contratos_fwd[i],nominal_fwd)*WFRM  #paso clave\n",
        "\n",
        "    tgamma_ftdc=xp_ftdc[seq(i,m*3,by=m)]%*%t(xp_ftdc[seq(i,m*3,by=m)])*gamma_ftdc #gamma tilde\n",
        "    Varmargcaux_ftdc=cov(DeltaX_ftdc[,seq(i,m*3,by=m)])*((n)/(n-1)) #matriz varcov factores de riesgo de cada contrato\n",
        "    tgammavar_ftdc=(tgamma_ftdc%*%Varmargcaux_ftdc)\n",
        "    tgammavar2_ftdc=(tgamma_ftdc%*%Varmargcaux_ftdc)%*%(tgamma_ftdc%*%Varmargcaux_ftdc)  \n",
        "\n",
        "    mudg_ftdc=0\n",
        "    desv_ftdc=sqrt(sum(diag(tgammavar2_ftdc))/2+tdelta_ftdc%*%Varmargcaux_ftdc%*%t(tdelta_ftdc))\n",
        "\n",
        "    VaRmargc_fr_ftdc[j,i]=mudg_ftdc+desv_ftdc*qnorm(1-alpha) #VaR Normal por contrato\n",
        "    CVaRmargc_fr_ftdc[j,i]=-mudg_ftdc-desv_ftdc*(dnorm(qnorm(1-alpha))/(1-alpha))\n",
        "    \n",
        "    tgammavar3_ftdc=tgammavar2_ftdc%*%(tgamma_ftdc%*%Varmargcaux_ftdc)\n",
        "    asimPmargc_ftdc=sum(diag(tgammavar3_ftdc))+3*tdelta_ftdc%*%Varmargcaux_ftdc%*%tgamma_ftdc%*%Varmargcaux_ftdc%*%t(tdelta_ftdc) #tercer momento\n",
        "    asimPmargc_ftdc=asimPmargc_ftdc/(desv_ftdc)^3  #coef de asimetría\n",
        "    VaRmargcstd_fr_ftdc[j,i]=qnorm(1-alpha)+((qnorm(1-alpha)^2-1)/6)*asimPmargc_ftdc  #VaR estandarizado\n",
        "    VaRmargcCF_fr_ftdc[j,i]=mudg_ftdc+desv_ftdc*VaRmargcstd_fr_ftdc[j,i] \t    #VaR Cornish-Fisher\n",
        "    CVaRmargcCF_fr_ftdc[j,i]=-mudg_ftdc-desv_ftdc*(dnorm(VaRmargcstd_fr_ftdc[j,i])/(pnorm(VaRmargcstd_fr_ftdc[j,i])))\n",
        "  }\n",
        "}\n",
        "\n",
        "\n",
        "Cont_ftdc <- as.matrix(rbind(cbind(VaRmargc_ftdc,VaRmargcCF_ftdc),cbind(CVaRmargc_ftdc,CVaRmargcCF_ftdc)))\n",
        "rownames(Cont_ftdc) <- c(\"VaR\",\"CVaR\")\n",
        "colnames(Cont_ftdc) <- c(\"Delta Gamma Normal\",\"DGN Cornish Fisher\")\n",
        "\n",
        "Cont_fac_VaR_ftdc <- as.matrix(cbind(VaRmargc_fr_ftdc,VaRmargcCF_fr_ftdc))\n",
        "rownames(Cont_fac_VaR_ftdc) <- c(\"Tipo de Cambio\",\"Tasa Ext\",\"Tasa Dom\")\n",
        "colnames(Cont_fac_VaR_ftdc) <- c(\"Delta Gamma Normal\",\"DGN Cornish Fisher\")\n",
        "\n",
        "Cont_fac_CVaR_ftdc <- as.matrix(cbind(CVaRmargc_fr_ftdc,CVaRmargcCF_fr_ftdc))\n",
        "rownames(Cont_fac_CVaR_ftdc) <- c(\"Tipo de Cambio\",\"Tasa Ext\",\"Tasa Dom\")\n",
        "colnames(Cont_fac_CVaR_ftdc) <- c(\"Delta Gamma Normal\",\"DGN Cornish Fisher\")\n",
        "\n",
        "\n",
        "print(\"Contrato\")\n",
        "print(\"Valor a nivel contrato\")\n",
        "print(V0_fwtdc)\n",
        "print(Cont_ftdc)\n",
        "\n",
        "print(\"\")\n",
        "print(\"Contrato-Factor\")\n",
        "print(\"VaR\")\n",
        "print(Cont_fac_VaR_ftdc)\n",
        "\n",
        "print(\"\")\n",
        "print(\"CVaR\")\n",
        "print(Cont_fac_CVaR_ftdc)"
      ],
      "execution_count": null,
      "outputs": [
        {
          "output_type": "stream",
          "name": "stdout",
          "text": [
            "[1] \"Contrato\"\n",
            "[1] \"Valor a nivel contrato\"\n",
            "          [,1]\n",
            "[1,] -85.61414\n",
            "     Delta Gamma Normal DGN Cornish Fisher\n",
            "VaR           -23.85918          -23.85918\n",
            "CVaR          -28.12459          -28.12459\n",
            "[1] \"\"\n",
            "[1] \"Contrato-Factor\"\n",
            "[1] \"VaR\"\n",
            "               Delta Gamma Normal DGN Cornish Fisher\n",
            "Tipo de Cambio      -23.858347703      -23.858347703\n",
            "Tasa Ext             -0.008996254       -0.008996254\n",
            "Tasa Dom             -0.039089948       -0.039089971\n",
            "[1] \"\"\n",
            "[1] \"CVaR\"\n",
            "               Delta Gamma Normal DGN Cornish Fisher\n",
            "Tipo de Cambio       -28.12361129       -28.12361129\n",
            "Tasa Ext              -0.01060455        -0.01060455\n",
            "Tasa Dom              -0.04607823        -0.04607825\n"
          ]
        }
      ]
    },
    {
      "cell_type": "markdown",
      "metadata": {
        "id": "2VXqKIAEtF5B"
      },
      "source": [
        "#### VaR y CVaR total"
      ]
    },
    {
      "cell_type": "code",
      "metadata": {
        "id": "1EqSwEYNtinP",
        "colab": {
          "base_uri": "https://localhost:8080/"
        },
        "outputId": "6cad49c1-e476-4e47-f857-7a2809564685"
      },
      "source": [
        "%%R\n",
        "VarDeltaX_ftdc=cov(DeltaX_ftdc)*(n/(n-1))\n",
        "\n",
        "tgammavar_ftdc=(gamma_ftdctT2%*%VarDeltaX_ftdc)\n",
        "tgammavar2_ftdc=(tgammavar_ftdc)%*%(tgammavar_ftdc) \n",
        "mudg_ftdc=ifelse((sum(diag(tgammavar_ftdc))/2+sum(mu_ftdc))>0,0,(sum(diag(tgammavar_ftdc))/2+sum(mu_ftdc)))\n",
        "desv_ftdc=sqrt(sum(diag(tgammavar2_ftdc))/2+g_ftdctT%*%VarDeltaX_ftdc%*%t(g_ftdctT))\n",
        "\n",
        "VaRT_ftdc_DGM=(mudg_ftdc)+(desv_ftdc)*qnorm(1-alpha)  #VaR Normal\n",
        "CVaRT_ftdc_DGM=-(mudg_ftdc)-(desv_ftdc)*dnorm(qnorm(alpha))/(1-alpha)\n",
        "\n",
        "tgammavar3_ftdc=tgammavar2_ftdc%*%(tgammavar_ftdc)\n",
        "asimP_ftdc=sum(diag(tgammavar3_ftdc))+3*g_ftdctT%*%VarDeltaX_ftdc%*%gamma_ftdctT2%*%VarDeltaX_ftdc%*%t(g_ftdctT) #gamma tercer momento\n",
        "asimP_ftdc=asimP_ftdc/(desv_ftdc)^3  #coef de asimetría\n",
        "VaRstd_ftdc=qnorm(1-alpha)+((qnorm(1-alpha)^2-1)/6)*asimP_ftdc  #VaR estandarizado\n",
        "VaRT_ftdc_DGM_CF=(mudg_ftdc)+(desv_ftdc)*VaRstd_ftdc #VaR cf\n",
        "CVaRT_ftdc_DGM_CF=-(mudg_ftdc)-(desv_ftdc)*dnorm(VaRstd_ftdc)/(pnorm(VaRstd_ftdc))\n",
        "\n",
        "\n",
        "\n",
        "VaRT_fr_ftdc_DGM=matrix(0,1,3)\n",
        "CVaRT_fr_ftdc_DGM=matrix(0,1,3)\n",
        "VaRT_fr_ftdc_DGM_CF=matrix(0,1,3)\n",
        "CVaRT_fr_ftdc_DGM_CF=matrix(0,1,3)\n",
        "\n",
        "WFRT=matrix(0,3,(m*3))\n",
        "\n",
        "\n",
        "for (j in (1:3))\n",
        "{\n",
        "WFRT[j,((j-1)*m+1):(j*m)]=matrix(1,1,m)    #Matriz de diseño para \n",
        "WFRM=matrix(0,(m*3),(m*3))  #PASO CLAVE\n",
        "WFRM[((j-1)*m+1):(m*j),((j-1)*m+1):(m*j)]=matrix(1,m,m)  #PASO CLAVE    \n",
        "gamma_ftdctT2_fr=gamma_ftdctT2*WFRM #evaluación de gamma multiplicado por x^{2}\n",
        "g_ftdctT_fr=g_ftdctT*WFRT[j,]\n",
        "\n",
        "tgammavar_ftdc=(gamma_ftdctT2_fr%*%VarDeltaX_ftdc)\n",
        "tgammavar2_ftdc=(tgammavar_ftdc)%*%(tgammavar_ftdc) \n",
        "\n",
        "mudg_ftdc=0\n",
        "desv_ftdc=sqrt(sum(diag(tgammavar2_ftdc))/2+g_ftdctT_fr%*%VarDeltaX_ftdc%*%t(g_ftdctT_fr))\n",
        "VaRT_fr_ftdc_DGM[j]=(mudg_ftdc)+(desv_ftdc)*qnorm(1-alpha) #VaR Normal\n",
        "CVaRT_fr_ftdc_DGM[j]=-(mudg_ftdc)-(desv_ftdc)*dnorm(qnorm(alpha))/(1-alpha)\n",
        "\n",
        "\n",
        "tgammavar3_ftdc=tgammavar2_ftdc%*%(tgammavar_ftdc)\n",
        "asimP_ftdc=sum(diag(tgammavar3_ftdc))+3*g_ftdctT_fr%*%VarDeltaX_ftdc%*%gamma_ftdctT2_fr%*%VarDeltaX_ftdc%*%t(g_ftdctT_fr) #gamma tercer momento\n",
        "\n",
        "asimP_ftdc=asimP_ftdc/(desv_ftdc)^3  #coef de asimetría\n",
        " \n",
        "VaRstd_ftdc=qnorm(1-alpha)+((qnorm(1-alpha)^2-1)/6)*asimP_ftdc  #VaR estandarizado\n",
        "\n",
        "VaRT_fr_ftdc_DGM_CF[j]=(mudg_ftdc)+(desv_ftdc)*VaRstd_ftdc #VaR cf\n",
        "CVaRT_fr_ftdc_DGM_CF[j]=-(mudg_ftdc)-(desv_ftdc)*dnorm(VaRstd_ftdc)/(pnorm(VaRstd_ftdc))\n",
        "\n",
        "\n",
        "}\n",
        "\n",
        "DGN_ftdc <- as.matrix(rbind(cbind(VaRT_ftdc_DGM,VaRT_fr_ftdc_DGM),cbind(CVaRT_ftdc_DGM,CVaRT_fr_ftdc_DGM)))\n",
        "rownames(DGN_ftdc) <- c(\"VaR\",\"CVaR\")\n",
        "colnames(DGN_ftdc) <- c(\"Total\",\"Tipo de Cambio\",\"Tasa Ext\",\"Tasa Dom\")\n",
        "\n",
        "DGN_CF_ftdc <- as.matrix(rbind(cbind(VaRT_ftdc_DGM_CF,VaRT_fr_ftdc_DGM_CF),cbind(CVaRT_ftdc_DGM_CF,CVaRT_fr_ftdc_DGM_CF)))\n",
        "rownames(DGN_CF_ftdc) <- c(\"VaR\",\"CVaR\")\n",
        "colnames(DGN_CF_ftdc) <- c(\"Total\",\"Tipo de Cambio\",\"Tasa Ext\",\"Tasa Dom\")\n",
        "\n",
        "print(\"Delta Gamma Normal\")\n",
        "print(DGN_ftdc)\n",
        "\n",
        "print(\"\")\n",
        "print(\"Delta Gamma Normal Cornish Fisher\")\n",
        "print(DGN_CF_ftdc)"
      ],
      "execution_count": null,
      "outputs": [
        {
          "output_type": "stream",
          "name": "stdout",
          "text": [
            "[1] \"Delta Gamma Normal\"\n",
            "         Total Tipo de Cambio     Tasa Ext    Tasa Dom\n",
            "VaR  -23.85918      -23.85835 -0.008996254 -0.03908995\n",
            "CVaR -28.12459      -28.12361 -0.010604555 -0.04607823\n",
            "[1] \"\"\n",
            "[1] \"Delta Gamma Normal Cornish Fisher\"\n",
            "         Total Tipo de Cambio     Tasa Ext    Tasa Dom\n",
            "VaR  -23.85918      -23.85835 -0.008996254 -0.03908997\n",
            "CVaR -28.12459      -28.12361 -0.010604554 -0.04607825\n"
          ]
        }
      ]
    },
    {
      "cell_type": "markdown",
      "metadata": {
        "id": "jDVqGmkSuPKK"
      },
      "source": [
        "###Forwards IPC"
      ]
    },
    {
      "cell_type": "markdown",
      "metadata": {
        "id": "LOqZ8711uZ02"
      },
      "source": [
        "#### VaR y CVaR por contrato"
      ]
    },
    {
      "cell_type": "code",
      "metadata": {
        "id": "RnAm3ORFuoAl",
        "colab": {
          "base_uri": "https://localhost:8080/"
        },
        "outputId": "6a9a5dc0-1191-4b31-ac74-6af3fc854df2"
      },
      "source": [
        "%%R\n",
        "\n",
        "DeltaX_find=DeltaX_port[,(sum(n_if[1:5],1)):(sum(n_if[1:6]))] \n",
        "m=ncol(plazos_fwd_ind)\n",
        "m_find=ncol(plazos_fwd_ind)\n",
        "VaRmargc_find=matrix(0,1,m) #Var por contrato Delta Normal\n",
        "VaRmargcstd_find=matrix(0,1,m) #Var por contrato estandarizado \n",
        "VaRmargcCF_find=matrix(0,1,m) #Var por contrato Cornish-Fisher\n",
        "CVaRmargc_find=matrix(0,1,m) #CVar por contrato estandarizado\n",
        "CVaRmargcCF_find=matrix(0,1,m) #CVar por contrato estandarizado\n",
        "\n",
        "VaRmargc_fr_find=matrix(0,3,m) #Var por contrato Delta Normal\n",
        "VaRmargcstd_fr_find=matrix(0,3,m) #Var por contrato estandarizado \n",
        "VaRmargcCF_fr_find=matrix(0,3,m) #Var por contrato Cornish-Fisher\n",
        "CVaRmargc_fr_find=matrix(0,3,m) #CVar por contrato estandarizado\n",
        "CVaRmargcCF_fr_find=matrix(0,3,m) #CVar por contrato estandarizado\n",
        "WFR=diagv(c(1,1,1))\n",
        "\n",
        "\n",
        "for (i in 1:(m))\n",
        "{\n",
        "  delta_find=t(g_find[seq(i,m*3,by=m)]) \n",
        "  tdelta_find=t(g_find[seq(i,m*3,by=m)])*xp_find[seq(i,m*3,by=m)]   #delta tilde\n",
        "  gamma_find=mgamma_futTC(plazos_fwd_ind[i],X1_fwind[1,i],X2_fwind[1,i],X3_find[1,],kst_fwd_ind[i],contratos_fwd_ind[i],nominal_fwd_ind)  #paso clave\n",
        "  tgamma_find=xp_find[seq(i,m*3,by=m)]%*%t(xp_find[seq(i,m*3,by=m)])*gamma_find #gamma tilde\n",
        "  Varmargcaux_find=cov(DeltaX_find[,seq(i,m*3,by=m)])*((n)/(n-1)) #matriz varcov factores de riesgo de cada contrato\n",
        "  tgammavar_find=(tgamma_find%*%Varmargcaux_find)\n",
        "  tgammavar2_find=(tgamma_find%*%Varmargcaux_find)%*%(tgamma_find%*%Varmargcaux_find)  \n",
        "  mudg_find=ifelse((sum(diag(tgammavar_find))/2+mu_find[i])>0,0,(sum(diag(tgammavar_find))/2+mu_find[i]))\n",
        "\n",
        "  desv_find=sqrt(sum(diag(tgammavar2_find))/2+tdelta_find%*%Varmargcaux_find%*%t(tdelta_find))\n",
        "\n",
        "  VaRmargc_find[i]=mudg_find+desv_find*qnorm(1-alpha) #VaR Normal por contrato\n",
        "  CVaRmargc_find[i]=-mudg_find-desv_find*(dnorm(qnorm(1-alpha))/(1-alpha))\n",
        "  \n",
        "  tgammavar3_find=tgammavar2_find%*%(tgamma_find%*%Varmargcaux_find)\n",
        "  asimPmargc_find=sum(diag(tgammavar3_find))+3*tdelta_find%*%Varmargcaux_find%*%tgamma_find%*%Varmargcaux_find%*%t(tdelta_find) #tercer momento\n",
        "  asimPmargc_find=asimPmargc_find/(desv_find)^3  #coef de asimetría\n",
        "  VaRmargcstd_find[i]=qnorm(1-alpha)+((qnorm(1-alpha)^2-1)/6)*asimPmargc_find  #VaR estandarizado\n",
        "  VaRmargcCF_find[i]=mudg_find+desv_find*VaRmargcstd_find[i] \t    #VaR Cornish-Fisher\n",
        "  CVaRmargcCF_find[i]=-mudg_find-desv_find*(dnorm(VaRmargcstd_find[i])/(pnorm(VaRmargcstd_find[i])))\n",
        "\n",
        "  for (j in 1:3)\n",
        "  {\n",
        "    WFRM=matrix(0,3,3)  #PASO CLAVE\n",
        "    WFRM[j,j]=1  #PASO CLAVE\n",
        "    delta_find=t(g_find[seq(i,m*3,by=m)])*WFR[j,] #PASO CLAVE\n",
        "    tdelta_find=t(g_find[seq(i,m*3,by=m)])*xp_find[seq(i,m*3,by=m)]*WFR[j,]   #delta tilde #PASO CLAVE\n",
        "  \tgamma_find=mgamma_futTC(plazos_fwd_ind[i],X1_fwind[1,i],X2_fwind[1,i],X3_find[1,],kst_fwd_ind[i],contratos_fwd_ind[i],nominal_fwd_ind)  #paso clave\n",
        "    tgamma_find=xp_find[seq(i,m*3,by=m)]%*%t(xp_find[seq(i,m*3,by=m)])*gamma_find #gamma tilde\n",
        "    Varmargcaux_find=cov(DeltaX_find[,seq(i,m*3,by=m)])*((n)/(n-1)) #matriz varcov factores de riesgo de cada contrato\n",
        "    tgammavar_find=(tgamma_find%*%Varmargcaux_find)\n",
        "    tgammavar2_find=(tgamma_find%*%Varmargcaux_find)%*%(tgamma_find%*%Varmargcaux_find)  \n",
        "    #mudg_find=sum(diag(tgammavar_find))/2+mu_find[i]\n",
        "   mudg_find=0\n",
        "    desv_find=sqrt(sum(diag(tgammavar2_find))/2+tdelta_find%*%Varmargcaux_find%*%t(tdelta_find))\n",
        "\n",
        "    VaRmargc_fr_find[j,i]=mudg_find+desv_find*qnorm(1-alpha) #VaR Normal por contrato\n",
        "    CVaRmargc_fr_find[j,i]=-mudg_find-desv_find*(dnorm(qnorm(1-alpha))/(1-alpha))\n",
        "    \n",
        "    tgammavar3_find=tgammavar2_find%*%(tgamma_find%*%Varmargcaux_find)\n",
        "    asimPmargc_find=sum(diag(tgammavar3_find))+3*tdelta_find%*%Varmargcaux_find%*%tgamma_find%*%Varmargcaux_find%*%t(tdelta_find) #tercer momento\n",
        "    asimPmargc_find=asimPmargc_find/(desv_find)^3  #coef de asimetría\n",
        "    VaRmargcstd_fr_find[j,i]=qnorm(1-alpha)+((qnorm(1-alpha)^2-1)/6)*asimPmargc_find  #VaR estandarizado\n",
        "    VaRmargcCF_fr_find[j,i]=mudg_find+desv_find*VaRmargcstd_fr_find[j,i] \t    #VaR Cornish-Fisher\n",
        "    CVaRmargcCF_fr_find[j,i]=-mudg_find-desv_find*(dnorm(VaRmargcstd_fr_find[j,i])/(pnorm(VaRmargcstd_fr_find[j,i])))\n",
        "  }\n",
        "\n",
        "\n",
        "\n",
        "}\n",
        "\n",
        "Cont_find <- as.matrix(rbind(cbind(VaRmargc_find,VaRmargcCF_find),cbind(CVaRmargc_find,CVaRmargcCF_find)))\n",
        "rownames(Cont_find) <- c(\"VaR\",\"CVaR\")\n",
        "colnames(Cont_find) <- c(\"Delta Gamma Normal\",\"DGN Cornish Fisher\")\n",
        "\n",
        "Cont_fac_VaR_find <- as.matrix(cbind(VaRmargc_fr_find,VaRmargcCF_fr_find))\n",
        "rownames(Cont_fac_VaR_find) <- c(\"IPC\",\"Tasa Dividendos\",\"Tasa Pagares\")\n",
        "colnames(Cont_fac_VaR_find) <- c(\"Delta Gamma Normal\",\"DGN Cornish Fisher\")\n",
        "\n",
        "Cont_fac_CVaR_find <- as.matrix(cbind(CVaRmargc_fr_find,CVaRmargcCF_fr_find))\n",
        "rownames(Cont_fac_CVaR_find) <- c(\"IPC\",\"Tasa Dividendos\",\"Tasa Pagares\")\n",
        "colnames(Cont_fac_CVaR_find) <- c(\"Delta Gamma Normal\",\"DGN Cornish Fisher\")\n",
        "\n",
        "print(\"Valor a nivel contrato\")\n",
        "print(V0_fwind)\n",
        "\n",
        "print(\"Contrato\")\n",
        "print(Cont_find)\n",
        "\n",
        "print(\"\")\n",
        "print(\"Contrato-Factor\")\n",
        "print(\"VaR\")\n",
        "print(Cont_fac_VaR_find)\n",
        "\n",
        "print(\"\")\n",
        "print(\"CVaR\")\n",
        "print(Cont_fac_CVaR_find)"
      ],
      "execution_count": null,
      "outputs": [
        {
          "output_type": "stream",
          "name": "stdout",
          "text": [
            "[1] \"Valor a nivel contrato\"\n",
            "         [,1]\n",
            "[1,] 342308.9\n",
            "[1] \"Contrato\"\n",
            "     Delta Gamma Normal DGN Cornish Fisher\n",
            "VaR           -51116.04          -51116.04\n",
            "CVaR          -60110.45          -60110.45\n",
            "[1] \"\"\n",
            "[1] \"Contrato-Factor\"\n",
            "[1] \"VaR\"\n",
            "                Delta Gamma Normal DGN Cornish Fisher\n",
            "IPC                  -5.101370e+04      -5.101370e+04\n",
            "Tasa Dividendos      -9.430151e-03      -2.464920e-03\n",
            "Tasa Pagares         -4.897291e+02      -4.897187e+02\n",
            "[1] \"\"\n",
            "[1] \"CVaR\"\n",
            "                Delta Gamma Normal DGN Cornish Fisher\n",
            "IPC                  -6.013364e+04      -6.013364e+04\n",
            "Tasa Dividendos      -1.111602e-02      -5.363649e-03\n",
            "Tasa Pagares         -5.772802e+02      -5.772709e+02\n"
          ]
        }
      ]
    },
    {
      "cell_type": "markdown",
      "metadata": {
        "id": "KiDxf5KUuZgS"
      },
      "source": [
        "#### VaR y CVaR total"
      ]
    },
    {
      "cell_type": "code",
      "metadata": {
        "id": "t55IEIYKuz2n",
        "colab": {
          "base_uri": "https://localhost:8080/"
        },
        "outputId": "32f5b1bc-5799-4bc2-88f3-42930fa89740"
      },
      "source": [
        "%%R\n",
        "VarDeltaX_find=cov(DeltaX_find)*(n/(n-1))\n",
        "\n",
        "tgammavar_find=(gamma_findtT2%*%VarDeltaX_find)\n",
        "tgammavar2_find=(tgammavar_find)%*%(tgammavar_find) \n",
        "\n",
        "mudg_find=ifelse((sum(diag(tgammavar_find))/2+sum(mu_find))>0,0,(sum(diag(tgammavar_find))/2+mu_find[i]))\n",
        "\n",
        "desv_find=sqrt(sum(diag(tgammavar2_find))/2+g_findtT%*%VarDeltaX_find%*%t(g_findtT))\n",
        "\n",
        "VaRT_find_DGM=(mudg_find)+(desv_find)*qnorm(1-alpha)  #VaR Normal\n",
        "CVaRT_find_DGM=-(mudg_find)-(desv_find)*dnorm(qnorm(alpha))/(1-alpha)\n",
        "\n",
        "tgammavar3_find=tgammavar2_find%*%(tgammavar_find)\n",
        "asimP_find=sum(diag(tgammavar3_find))+3*g_findtT%*%VarDeltaX_find%*%gamma_findtT2%*%VarDeltaX_find%*%t(g_findtT) #gamma tercer momento\n",
        "asimP_find=asimP_find/(desv_find)^3  #coef de asimetría\n",
        "VaRstd_find=qnorm(1-alpha)+((qnorm(1-alpha)^2-1)/6)*asimP_find  #VaR estandarizado\n",
        "VaRT_find_DGM_CF=(mudg_find)+(desv_find)*VaRstd_find #VaR cf\n",
        "CVaRT_find_DGM_CF=-(mudg_find)-(desv_find)*dnorm(VaRstd_find)/(pnorm(VaRstd_find))\n",
        "\n",
        "\n",
        "\n",
        "VaRT_fr_find_DGM=matrix(0,1,3)\n",
        "CVaRT_fr_find_DGM=matrix(0,1,3)\n",
        "VaRT_fr_find_DGM_CF=matrix(0,1,3)\n",
        "CVaRT_fr_find_DGM_CF=matrix(0,1,3)\n",
        "\n",
        "WFRT=matrix(0,3,(m*3))\n",
        "\n",
        "\n",
        "for (j in (1:3))\n",
        "{\n",
        "WFRT[j,((j-1)*m+1):(j*m)]=matrix(1,1,m)    #Matriz de diseño para \n",
        "WFRM=matrix(0,(m*3),(m*3))  #PASO CLAVE\n",
        "WFRM[((j-1)*m+1):(m*j),((j-1)*m+1):(m*j)]=matrix(1,m,m)  #PASO CLAVE    \n",
        "gamma_findtT2_fr=gamma_findtT2*WFRM #evaluación de gamma multiplicado por x^{2}\n",
        "g_findtT_fr=g_findtT*WFRT[j,]\n",
        "tgammavar_find=(gamma_findtT2_fr%*%VarDeltaX_find)\n",
        "tgammavar2_find=(tgammavar_find)%*%(tgammavar_find) \n",
        "\n",
        "mudg_find=0\n",
        "desv_find=sqrt(sum(diag(tgammavar2_find))/2+g_findtT_fr%*%VarDeltaX_find%*%t(g_findtT_fr))\n",
        "VaRT_fr_find_DGM[j]=(mudg_find)+(desv_find)*qnorm(1-alpha) #VaR Normal\n",
        "CVaRT_fr_find_DGM[j]=-(mudg_find)-(desv_find)*dnorm(qnorm(alpha))/(1-alpha)\n",
        "\n",
        "tgammavar3_find=tgammavar2_find%*%(tgammavar_find)\n",
        "asimP_find=sum(diag(tgammavar3_find))+3*g_findtT_fr%*%VarDeltaX_find%*%gamma_findtT2_fr%*%VarDeltaX_find%*%t(g_findtT_fr) #gamma tercer momento\n",
        "asimP_find=asimP_find/(desv_find)^3  #coef de asimetría\n",
        " \n",
        "VaRstd_find=qnorm(1-alpha)+((qnorm(1-alpha)^2-1)/6)*asimP_find  #VaR estandarizado\n",
        "VaRT_fr_find_DGM_CF[j]=(mudg_find)+(desv_find)*VaRstd_find #VaR cf\n",
        "CVaRT_fr_find_DGM_CF[j]=-(mudg_find)-(desv_find)*dnorm(VaRstd_find)/(pnorm(VaRstd_find))\n",
        "    \n",
        "}\n",
        "\n",
        "DGN_find <- as.matrix(rbind(cbind(VaRT_find_DGM,VaRT_fr_find_DGM),cbind(CVaRT_find_DGM,CVaRT_fr_find_DGM)))\n",
        "rownames(DGN_find) <- c(\"VaR\",\"CVaR\")\n",
        "colnames(DGN_find) <- c(\"Total\",\"IPC\",\"Tasa Dividendos\",\"Tasa Pagares\")\n",
        "\n",
        "DGN_CF_find <- as.matrix(rbind(cbind(VaRT_find_DGM_CF,VaRT_fr_find_DGM_CF),cbind(CVaRT_find_DGM_CF,CVaRT_fr_find_DGM_CF)))\n",
        "rownames(DGN_CF_find) <- c(\"VaR\",\"CVaR\")\n",
        "colnames(DGN_CF_find) <- c(\"Total\",\"IPC\",\"Tasa Dividendos\",\"Tasa Pagares\")\n",
        "\n",
        "print(\"Delta Gamma Normal\")\n",
        "print(DGN_find)\n",
        "\n",
        "print(\"\")\n",
        "print(\"Delta Gamma Normal Cornish Fisher\")\n",
        "print(DGN_CF_find)"
      ],
      "execution_count": null,
      "outputs": [
        {
          "output_type": "stream",
          "name": "stdout",
          "text": [
            "[1] \"Delta Gamma Normal\"\n",
            "         Total       IPC Tasa Dividendos Tasa Pagares\n",
            "VaR  -51116.04 -51013.70               0    -489.7291\n",
            "CVaR -60110.45 -60133.64               0    -577.2802\n",
            "[1] \"\"\n",
            "[1] \"Delta Gamma Normal Cornish Fisher\"\n",
            "         Total       IPC Tasa Dividendos Tasa Pagares\n",
            "VaR  -51116.04 -51013.70             NaN    -489.7187\n",
            "CVaR -60110.45 -60133.64             NaN    -577.2709\n"
          ]
        }
      ]
    },
    {
      "cell_type": "markdown",
      "metadata": {
        "id": "vZr6Jlxvc6AG"
      },
      "source": [
        "###Total futuros"
      ]
    },
    {
      "cell_type": "code",
      "metadata": {
        "colab": {
          "base_uri": "https://localhost:8080/"
        },
        "id": "XoSBP0mcc12v",
        "outputId": "1390eda3-5ddf-46e3-f6e5-9e6feadc12d9"
      },
      "source": [
        "%%R\n",
        "DeltaX_fwdT = cbind(DeltaX_find,DeltaX_ftdc)\n",
        "VarDeltaX_fwdT=as.matrix(cov(DeltaX_fwdT)*(n-1)/(n-2))\n",
        "\n",
        "\n",
        "mu_fwdT=as.matrix(cbind(mu_ftdc,mu_find)) #derivada con respecto al tiempo\n",
        "\n",
        "gt_fwdT=as.matrix(cbind(g_ftdctT,g_findtT)) #derivada con respecto las X's\n",
        "\n",
        "gammat_fwdT=matrix(0,6,6)\n",
        "\n",
        "gammat_fwdT[1:3,1:3]=gamma_ftdctT2\n",
        "gammat_fwdT[4:6,4:6]=gamma_findtT2\n",
        "\n",
        "tgammavar_fwdT=(gammat_fwdT%*%VarDeltaX_fwdT)\n",
        "tgammavar2_fwdT=(tgammavar_fwdT)%*%(tgammavar_fwdT) \n",
        "mu_fwdTT=ifelse((sum(diag(tgammavar_fwdT))/2+sum(mu_fwdT))>0,0,(sum(diag(tgammavar_fwdT))/2+sum(mu_fwdT)))\n",
        "desv_fwdTT=(sqrt(sum(diag(tgammavar2_fwdT))/2+gt_fwdT%*%VarDeltaX_fwdT%*%t(gt_fwdT)))\n",
        "VaRT_fwdT_DGM=mu_fwdTT+desv_fwdTT*qnorm(1-alpha) #VaR Normal\n",
        "CVaRT_fwdT_DGM=mu_fwdTT-desv_fwdTT*dnorm(qnorm(alpha))/(1-alpha)\n",
        "\n",
        "tgammavar3_fwdT=tgammavar2_fwdT%*%(tgammavar_fwdT)\n",
        "asimP_fwdT=sum(diag(tgammavar3_fwdT))+3*gt_fwdT%*%VarDeltaX_fwdT%*%gammat_fwdT%*%VarDeltaX_fwdT%*%t(gt_fwdT) #gamma tercer momento\n",
        "asimP_fwdT=asimP_fwdT/(sqrt(sum(diag(tgammavar2_fwdT))/2+gt_fwdT%*%VarDeltaX_fwdT%*%t(gt_fwdT)))^3  #coef de asimetría\n",
        "VaRstd_fwdT=qnorm(1-alpha)+((qnorm(1-alpha)^2-1)/6)*asimP_fwdT  #VaR estandarizado\n",
        "VaRT_fwdT_DGM_CF=mu_fwdTT+desv_fwdTT*VaRstd_fwdT #VaR cf\n",
        "CVaRT_fwdT_DGM_CF=mu_fwdTT-desv_fwdTT*dnorm(VaRstd_fwdT)/(pnorm(VaRstd_fwdT))\n",
        "\n",
        "\n",
        "Tot_fwd <- as.matrix(rbind(cbind(VaRT_fwdT_DGM,VaRT_fwdT_DGM_CF),cbind(CVaRT_fwdT_DGM,CVaRT_fwdT_DGM_CF)))\n",
        "rownames(Tot_fwd) <- c(\"VaR\",\"CVaR\")\n",
        "colnames(Tot_fwd) <- c(\"Delta Gamma Normal\",\"DGN Cornish Fisher\")\n",
        "\n",
        "print(Tot_fwd)"
      ],
      "execution_count": null,
      "outputs": [
        {
          "output_type": "stream",
          "name": "stdout",
          "text": [
            "     Delta Gamma Normal DGN Cornish Fisher\n",
            "VaR           -33442.04          -33442.04\n",
            "CVaR          -39408.82          -39408.82\n"
          ]
        }
      ]
    },
    {
      "cell_type": "markdown",
      "metadata": {
        "id": "WCLi9tbT07KC"
      },
      "source": [
        "### Swaps"
      ]
    },
    {
      "cell_type": "markdown",
      "metadata": {
        "id": "kOgMzOlWKVPc"
      },
      "source": [
        "#### VaR y CVaR por contrato"
      ]
    },
    {
      "cell_type": "code",
      "metadata": {
        "id": "oqSoNWttKemL",
        "colab": {
          "base_uri": "https://localhost:8080/"
        },
        "outputId": "297b19e9-62e7-43ad-9ca0-73cbca3420ca"
      },
      "source": [
        "%%R\n",
        "\n",
        "DeltaX_sw=DeltaX_port[,(sum(n_if[1:6],1)):(sum(n_if[1:7]))] \n",
        "m=ncol(plazos_sw)\n",
        "m_sw=ncol(plazos_sw)\n",
        "VaRmargc_sw=matrix(0,1,m) #Var por contrato Delta Normal\n",
        "VaRmargcstd_sw=matrix(0,1,m) #Var por contrato estandarizado \n",
        "VaRmargcCF_sw=matrix(0,1,m) #Var por contrato Cornish-Fisher\n",
        "CVaRmargc_sw=matrix(0,1,m) #CVar por contrato estandarizado\n",
        "CVaRmargcCF_sw=matrix(0,1,m) #CVar por contrato estandarizado\n",
        "\n",
        "VaRmargc_fr_sw=matrix(0,2,m) #Var por contrato Delta Normal\n",
        "VaRmargcstd_fr_sw=matrix(0,2,m) #Var por contrato estandarizado \n",
        "VaRmargcCF_fr_sw=matrix(0,2,m) #Var por contrato Cornish-Fisher\n",
        "CVaRmargc_fr_sw=matrix(0,2,m) #CVar por contrato estandarizado\n",
        "CVaRmargcCF_fr_sw=matrix(0,2,m) #CVar por contrato estandarizado\n",
        "\n",
        "WMC=matrix(0,m,sum(N)) #variable auxiliar para construir los dummys de flujos por contrato\n",
        "Nsw=c(0,cumsum(N)) #variable auxiliar para construir los dummys de flujos por contrato\n",
        "\n",
        "\n",
        "for (i in 1:(m))\n",
        "{\n",
        "  WMC[i,(Nsw[i]+1):Nsw[i+1]]=seq(1,1) #marginalización exclusiva por los flujos del swap i\n",
        "  dummy_sw=c(WMC[i,],WMC[i,]) #marginalización exclusiva por los flujos del swap i (para las dos curvas)\n",
        "  tdelta_sw=gt_sw*dummy_sw   #delta tilde\n",
        "  tgamma_sw=dummy_sw%*%t(dummy_sw)*tgamma_sw #gamma tilde\n",
        "  Varmargcaux_sw=cov(DeltaX_sw)*((n)/(n-1)) #matriz varcov factores de riesgo de cada contrato\n",
        "  tgammavar_sw=(tgamma_sw%*%Varmargcaux_sw)\n",
        "  tgammavar2_sw=(tgamma_sw%*%Varmargcaux_sw)%*%(tgamma_sw%*%Varmargcaux_sw)  \n",
        "  mudg_sw=ifelse((sum(diag(tgammavar_sw))/2+sum(mu_sw*WMC[i,]))>0,0,(sum(diag(tgammavar_sw))/2+sum(mu_sw*WMC[i,])))\n",
        "  desv_sw=sqrt(sum(diag(tgammavar2_sw))/2+tdelta_sw%*%Varmargcaux_sw%*%t(tdelta_sw))\n",
        "\n",
        "  VaRmargc_sw[i]=mudg_sw+desv_sw*qnorm(1-alpha) #VaR Normal por contrato\n",
        "  CVaRmargc_sw[i]=-mudg_sw-desv_sw*(dnorm(qnorm(1-alpha))/(1-alpha))\n",
        "  \n",
        "  tgammavar3_sw=tgammavar2_sw%*%(tgamma_sw%*%Varmargcaux_sw)\n",
        "  asimPmargc_sw=sum(diag(tgammavar3_sw))+3*tdelta_sw%*%Varmargcaux_sw%*%tgamma_sw%*%Varmargcaux_sw%*%t(tdelta_sw) #tercer momento\n",
        "  asimPmargc_sw=asimPmargc_sw/(desv_sw)^3  #coef de asimetría\n",
        "  VaRmargcstd_sw[i]=qnorm(1-alpha)+((qnorm(1-alpha)^2-1)/6)*asimPmargc_sw  #VaR estandarizado\n",
        "  VaRmargcCF_sw[i]=mudg_sw+desv_sw*VaRmargcstd_sw[i] \t    #VaR Cornish-Fisher\n",
        "  CVaRmargcCF_sw[i]=-mudg_sw-desv_sw*(dnorm(VaRmargcstd_sw[i])/(pnorm(VaRmargcstd_sw[i])))\n",
        "\n",
        "  for (j in 1:2)\n",
        "  {\n",
        "    WFRMdum=matrix(0,2,sum(N)*2)  #PASO CLAVE\n",
        "    WFRMdum[1,1:(sum(N))]=1  #PASO CLAVE\n",
        "    WFRMdum[2,(sum(N)+1):(sum(N)*2)]=1  #PASO CLAVE\n",
        "    WFRM=WFRMdum\n",
        "    tdelta_fr_sw=tdelta_sw*WFRM[j,]   #delta tilde #PASO CLAVE\n",
        "    tgamma_fr_sw=tgamma_sw*WFRM[j,]%*%t(WFRM[j,]) #gamma tilde\n",
        "    Varmargcaux_fr_sw=Varmargcaux_sw*WFRM[j,]%*%t(WFRM[j,]) #matriz varcov factores de riesgo de cada contrato\n",
        "    tgammavar_sw=(tgamma_fr_sw%*%Varmargcaux_fr_sw)\n",
        "    tgammavar2_sw=(tgamma_fr_sw%*%Varmargcaux_fr_sw)%*%(tgamma_fr_sw%*%Varmargcaux_fr_sw)  \n",
        "    #mudg_sw=sum(diag(tgammavar_sw))/2+mu_sw[i]\n",
        "    mudg_sw=0\n",
        "    desv_sw=sqrt(sum(diag(tgammavar2_sw))/2+tdelta_fr_sw%*%Varmargcaux_fr_sw%*%t(tdelta_sw))\n",
        "\n",
        "    VaRmargc_fr_sw[j,i]=mudg_sw+desv_sw*qnorm(1-alpha) #VaR Normal por contrato\n",
        "    CVaRmargc_fr_sw[j,i]=-mudg_sw-desv_sw*(dnorm(qnorm(1-alpha))/(1-alpha))\n",
        "    \n",
        "    tgammavar3_sw=tgammavar2_sw%*%(tgamma_fr_sw%*%Varmargcaux_fr_sw)\n",
        "    asimPmargc_sw=sum(diag(tgammavar3_sw))+3*tdelta_fr_sw%*%Varmargcaux_fr_sw%*%tgamma_fr_sw%*%Varmargcaux_fr_sw%*%t(tdelta_fr_sw) #tercer momento\n",
        "    asimPmargc_sw=asimPmargc_sw/(desv_sw)^3  #coef de asimetría\n",
        "    VaRmargcstd_fr_sw[j,i]=qnorm(1-alpha)+((qnorm(1-alpha)^2-1)/6)*asimPmargc_sw  #VaR estandarizado\n",
        "    VaRmargcCF_fr_sw[j,i]=mudg_sw+desv_sw*VaRmargcstd_fr_sw[j,i] \t    #VaR Cornish-Fisher\n",
        "    CVaRmargcCF_fr_sw[j,i]=-mudg_sw-desv_sw*(dnorm(VaRmargcstd_fr_sw[j,i])/(pnorm(VaRmargcstd_fr_sw[j,i])))\n",
        "  }\n",
        "\n",
        "\n",
        "\n",
        "}\n",
        "\n",
        "\n",
        "Cont_sw <- as.matrix(rbind(VaRmargc_sw,CVaRmargc_sw,VaRmargcCF_sw,CVaRmargcCF_sw))\n",
        "colnames(Cont_sw) <- c(\"Largo\",\"Corto\")\n",
        "rownames(Cont_sw) <- c(\"VaR DGN\",\"CVaR DGN\",\"VaR CF\",\"CVaR CF\")\n",
        "\n",
        "Cont_fac_VaR_sw <- as.matrix(rbind(VaRmargc_fr_sw,VaRmargcCF_fr_sw))\n",
        "rownames(Cont_fac_VaR_sw) <- c(\"TIIE DGN\",\"Cupon DGN\",\"TIIE CF\",\"Cupon CF\")\n",
        "colnames(Cont_fac_VaR_sw) <- c(\"Largo\",\"Corto\")\n",
        "\n",
        "Cont_fac_CVaR_sw <- as.matrix(rbind(CVaRmargc_fr_sw,CVaRmargcCF_fr_sw))\n",
        "rownames(Cont_fac_CVaR_sw) <- c(\"TIIE DGN\",\"Cupon DGN\",\"TIIE CF\",\"Cupon CF\")\n",
        "colnames(Cont_fac_CVaR_sw) <- c(\"Largo\",\"Corto\")\n",
        "\n",
        "\n",
        "print(\"Valor a nivel contrato\")\n",
        "print(V0_sw)\n",
        "print(\"Contrato\")\n",
        "print(Cont_sw)\n",
        "\n",
        "print(\"\")\n",
        "print(\"Contrato-Factor\")\n",
        "print(\"VaR\")\n",
        "print(Cont_fac_VaR_sw)\n",
        "\n",
        "print(\"\")\n",
        "print(\"CVaR\")\n",
        "print(Cont_fac_CVaR_sw)"
      ],
      "execution_count": null,
      "outputs": [
        {
          "output_type": "stream",
          "name": "stdout",
          "text": [
            "[1] \"Valor a nivel contrato\"\n",
            "         [,1]     [,2]\n",
            "[1,] -20224.6 80734.57\n",
            "[1] \"Contrato\"\n",
            "             Largo     Corto\n",
            "VaR DGN  -41952.79 -14800.33\n",
            "CVaR DGN -48872.72 -17192.60\n",
            "VaR CF   -41987.28 -14800.33\n",
            "CVaR CF  -48903.38 -17192.60\n",
            "[1] \"\"\n",
            "[1] \"Contrato-Factor\"\n",
            "[1] \"VaR\"\n",
            "                 Largo        Corto\n",
            "TIIE DGN  -41620.24402 -14727.24312\n",
            "Cupon DGN    -90.32768    -50.11239\n",
            "TIIE CF   -41620.24402 -14727.24312\n",
            "Cupon CF     -90.51010    -50.11239\n",
            "[1] \"\"\n",
            "[1] \"CVaR\"\n",
            "                Largo       Corto\n",
            "TIIE DGN  -49060.8813 -17360.0983\n",
            "Cupon DGN   -106.4760    -59.0712\n",
            "TIIE CF   -49060.8813 -17360.0983\n",
            "Cupon CF    -106.6381    -59.0712\n"
          ]
        }
      ]
    },
    {
      "cell_type": "markdown",
      "metadata": {
        "id": "i3QjcFf6LBHN"
      },
      "source": [
        "#### VaR y CVaR total"
      ]
    },
    {
      "cell_type": "code",
      "metadata": {
        "id": "JJ7AHx6mLFaU",
        "colab": {
          "base_uri": "https://localhost:8080/"
        },
        "outputId": "ddcde22f-eb12-4122-9c6d-9365e1ee26b5"
      },
      "source": [
        "%%R\n",
        "VarDeltaX_sw=cov(DeltaX_sw)*(n/(n-1))\n",
        "\n",
        "tgammavar_sw=(tgamma_sw%*%VarDeltaX_sw)\n",
        "tgammavar2_sw=(tgammavar_sw)%*%(tgammavar_sw) \n",
        "\n",
        "mudg_sw=ifelse((sum(diag(tgammavar_sw))/2+sum(mu_sw))>0,0,(sum(diag(tgammavar_sw))/2+sum(mu_sw)))\n",
        "\n",
        "desv_sw=sqrt(sum(diag(tgammavar2_sw))/2+gt_sw%*%VarDeltaX_sw%*%t(gt_sw))\n",
        "\n",
        "VaRT_sw_DGM=(mudg_sw)+(desv_sw)*qnorm(1-alpha)  #VaR Normal\n",
        "CVaRT_sw_DGM=-(mudg_sw)-(desv_sw)*dnorm(qnorm(alpha))/(1-alpha)\n",
        "\n",
        "\n",
        "tgammavar3_sw=tgammavar2_sw%*%(tgammavar_sw)\n",
        "asimP_sw=sum(diag(tgammavar3_sw))+3*gt_sw%*%VarDeltaX_sw%*%tgamma_sw%*%VarDeltaX_sw%*%t(gt_sw) #gamma tercer momento\n",
        "asimP_sw=asimP_sw/(desv_sw)^3  #coef de asimetría\n",
        "VaRstd_sw=qnorm(1-alpha)+((qnorm(1-alpha)^2-1)/6)*asimP_sw  #VaR estandarizado\n",
        "VaRT_sw_DGM_CF=(mudg_sw)+(desv_sw)*VaRstd_sw #VaR cf\n",
        "CVaRT_sw_DGM_CF=-(mudg_sw)-(desv_sw)*dnorm(VaRstd_sw)/(pnorm(VaRstd_sw))\n",
        "\n",
        "\n",
        "VaRT_fr_sw_DGM=matrix(0,1,2)\n",
        "CVaRT_fr_sw_DGM=matrix(0,1,2)\n",
        "VaRT_fr_sw_DGM_CF=matrix(0,1,2)\n",
        "CVaRT_fr_sw_DGM_CF=matrix(0,1,2)\n",
        "\n",
        "\n",
        "for (j in (1:2))\n",
        "{\n",
        "\n",
        "    WFRMdum=matrix(0,2,sum(N)*2)  #PASO CLAVE\n",
        "    WFRMdum[1,1:(sum(N))]=1  #PASO CLAVE\n",
        "    WFRMdum[2,(sum(N)+1):(sum(N)*2)]=1  #PASO CLAVE\n",
        "    WFRM=WFRMdum    \n",
        "gamma_swtT2_fr=tgamma_sw*WFRM[j,]%*%t(WFRM[j,]) #evaluación de gamma multiplicado por x^{2}\n",
        "g_swtT_fr=gt_sw*WFRM[j,]\n",
        "tgammavar_sw=(gamma_swtT2_fr%*%VarDeltaX_sw)\n",
        "tgammavar2_sw=(tgammavar_sw)%*%(tgammavar_sw) \n",
        "\n",
        "mudg_sw=0\n",
        "desv_sw=sqrt(sum(diag(tgammavar2_sw))/2+g_swtT_fr%*%VarDeltaX_sw%*%t(g_swtT_fr))\n",
        "VaRT_fr_sw_DGM[j]=(mudg_sw)+(desv_sw)*qnorm(1-alpha) #VaR Normal\n",
        "CVaRT_fr_sw_DGM[j]=-(mudg_sw)-(desv_sw)*dnorm(qnorm(alpha))/(1-alpha)\n",
        "\n",
        "tgammavar3_sw=tgammavar2_sw%*%(tgammavar_sw)\n",
        "asimP_sw=sum(diag(tgammavar3_sw))+3*g_swtT_fr%*%VarDeltaX_sw%*%gamma_swtT2_fr%*%VarDeltaX_sw%*%t(g_swtT_fr) #gamma tercer momento\n",
        "asimP_sw=asimP_sw/(desv_sw)^3  #coef de asimetría\n",
        " \n",
        "VaRstd_sw=qnorm(1-alpha)+((qnorm(1-alpha)^2-1)/6)*asimP_sw  #VaR estandarizado\n",
        "VaRT_fr_sw_DGM_CF[j]=(mudg_sw)+(desv_sw)*VaRstd_sw #VaR cf\n",
        "CVaRT_fr_sw_DGM_CF[j]=-(mudg_sw)-(desv_sw)*dnorm(VaRstd_sw)/(pnorm(VaRstd_sw))\n",
        "    \n",
        "}\n",
        "\n",
        "DGN_sw <- as.matrix(rbind(cbind(VaRT_sw_DGM,VaRT_fr_sw_DGM),cbind(CVaRT_sw_DGM,CVaRT_fr_sw_DGM)))\n",
        "rownames(DGN_sw) <- c(\"VaR\",\"CVaR\")\n",
        "colnames(DGN_sw) <- c(\"Total\",\"TIIE\",\"Cupon\")\n",
        "\n",
        "DGN_CF_sw <- as.matrix(rbind(cbind(VaRT_sw_DGM_CF,VaRT_fr_sw_DGM_CF),cbind(CVaRT_sw_DGM_CF,CVaRT_fr_sw_DGM_CF)))\n",
        "rownames(DGN_CF_sw) <- c(\"VaR\",\"CVaR\")\n",
        "colnames(DGN_CF_sw) <- c(\"Total\",\"TIIE\",\"Cupon\")\n",
        "\n",
        "\n",
        "print(\"Delta Gamma Normal\")\n",
        "print(DGN_sw)\n",
        "\n",
        "print(\"\")\n",
        "print(\"Delta Gamma Normal Cornish Fisher\")\n",
        "print(DGN_CF_sw)"
      ],
      "execution_count": null,
      "outputs": [
        {
          "output_type": "stream",
          "name": "stdout",
          "text": [
            "[1] \"Delta Gamma Normal\"\n",
            "         Total      TIIE     Cupon\n",
            "VaR  -55864.55 -55827.97 -45.73930\n",
            "CVaR -65826.34 -65808.59 -53.91632\n",
            "[1] \"\"\n",
            "[1] \"Delta Gamma Normal Cornish Fisher\"\n",
            "         Total      TIIE     Cupon\n",
            "VaR  -55864.55 -55827.97 -45.73930\n",
            "CVaR -65826.34 -65808.59 -53.91632\n"
          ]
        }
      ]
    },
    {
      "cell_type": "markdown",
      "metadata": {
        "id": "9soIgUmSMh3n"
      },
      "source": [
        "###Opciones"
      ]
    },
    {
      "cell_type": "markdown",
      "metadata": {
        "id": "TJGU6e34z-j3"
      },
      "source": [
        "#### VaR y CVaR por contrato"
      ]
    },
    {
      "cell_type": "code",
      "metadata": {
        "id": "jmITDvZLMg9k",
        "colab": {
          "base_uri": "https://localhost:8080/"
        },
        "outputId": "a501d205-409f-4a4e-b9e0-6f0b9640cfbe"
      },
      "source": [
        "%%R\n",
        "DeltaX_oir=DeltaX_port[,(sum(n_if[1:7],1)):(sum(n_if[1:8]))] \n",
        "m_oir=ncol(plazos_oir)\n",
        "m=ncol(plazos_oir)\n",
        "\n",
        "VaRmargc_oir=matrix(0,1,m) #Var por contrato Delta Normal\n",
        "VaRmargcDN_oir=matrix(0,1,m) #Var por contrato Delta Normal \n",
        "VaRmargcstd_oir=matrix(0,1,m) #Var por contrato estandarizado \n",
        "VaRmargcCF_oir=matrix(0,1,m) #Var por contrato Cornish-Fisher\n",
        "CVaRmargc_oir=matrix(0,1,m) #CVar por contrato estandarizado\n",
        "CVaRmargcDN_oir=matrix(0,1,m) #Var por contrato Delta Normal \n",
        "CVaRmargcCF_oir=matrix(0,1,m) #CVar por contrato estandarizado\n",
        "\n",
        "VaRmargcDN_fr_oir=matrix(0,3,m) #Var por contrato Delta Normal\n",
        "VaRmargc_fr_oir=matrix(0,3,m) #Var por contrato Delta Normal\n",
        "VaRmargcDN_fr_oir=matrix(0,3,m) #Var por contrato Delta Normal\n",
        "VaRmargcstd_fr_oir=matrix(0,3,m) #Var por contrato estandarizado \n",
        "VaRmargcCF_fr_oir=matrix(0,3,m) #Var por contrato Cornish-Fisher\n",
        "CVaRmargcDN_fr_oir=matrix(0,3,m) #CVar por contrato estandarizado\n",
        "CVaRmargc_fr_oir=matrix(0,3,m) #CVar por contrato estandarizado\n",
        "CVaRmargcDN_fr_oir=matrix(0,3,m) #Var por contrato Delta Normal\n",
        "CVaRmargcCF_fr_oir=matrix(0,3,m) #CVar por contrato estandarizado\n",
        "WFR=diagv(c(1,1,1))\n",
        "WFR=diagv(c(1,1,1))\n",
        "\n",
        "\n",
        "for (i in 1:(m))\n",
        "{\n",
        "  delta_oir=t(delta_oir_T[seq(i,m*3,by=m)]) \n",
        "  tdelta_oir=t(delta_oir_T[seq(i,m*3,by=m)])*xp_oir[seq(i,m*3,by=m)]   #delta tilde\n",
        "  gamma_oir=mgammaopc(x01[i],x02[i],K_oir[i],x03[i],plazos_oir[i],cp_oir[i],cs_oir,pr_oir,dct_oir,contratos_oir[i],nominal_oir)  #paso clave\n",
        "  tgamma_oir=xp_oir[seq(i,m*3,by=m)]%*%t(xp_oir[seq(i,m*3,by=m)])*gamma_oir #gamma tilde\n",
        "  Varmargcaux_oir=cov(DeltaX_oir[,seq(i,m*3,by=m)])*((n)/(n-1)) #matriz varcov factores de riesgo de cada contrato\n",
        "  tgammavar_oir=(tgamma_oir%*%Varmargcaux_oir)\n",
        "  tgammavar2_oir=(tgamma_oir%*%Varmargcaux_oir)%*%(tgamma_oir%*%Varmargcaux_oir)  \n",
        "  mudg_oir=ifelse(sum(diag(tgammavar_oir))/2+mu_oir[i]>0,0,sum(diag(tgammavar_oir))/2+mu_oir[i])\n",
        "  desv_oir=sqrt(sum(diag(tgammavar2_oir))/2+tdelta_oir%*%Varmargcaux_oir%*%t(tdelta_oir))\n",
        "\n",
        "  mudn_oir=ifelse(mu_oir[i]>0,0,mu_oir[i])\n",
        "  desvdn_oir=sqrt(tdelta_oir%*%Varmargcaux_oir%*%t(tdelta_oir))\n",
        "\n",
        "  VaRmargcDN_oir[i]=mudn_oir+desvdn_oir*qnorm(1-alpha) #VaR Normal por contrato Delta Normal\n",
        "  CVaRmargcDN_oir[i]=mudn_oir-desvdn_oir*(dnorm(qnorm(1-alpha))/(1-alpha))  #CVaR Normal por contrato Delta Normal\n",
        "\n",
        "  VaRmargc_oir[i]=mudg_oir+desv_oir*qnorm(1-alpha) #VaR Normal por contrato\n",
        "  CVaRmargc_oir[i]=mudg_oir-desv_oir*(dnorm(qnorm(1-alpha))/(1-alpha))\n",
        "  \n",
        "  tgammavar3_oir=tgammavar2_oir%*%(tgamma_oir%*%Varmargcaux_oir)\n",
        "  asimPmargc_oir=sum(diag(tgammavar3_oir))+3*tdelta_oir%*%Varmargcaux_oir%*%tgamma_oir%*%Varmargcaux_oir%*%t(tdelta_oir) #tercer momento\n",
        "  asimPmargc_oir=asimPmargc_oir/(desv_oir)^3  #coef de asimetría\n",
        "  VaRmargcstd_oir[i]=qnorm(1-alpha)+((qnorm(1-alpha)^2-1)/6)*asimPmargc_oir  #VaR estandarizado\n",
        "  VaRmargcCF_oir[i]=mudg_oir+desv_oir*VaRmargcstd_oir[i] \t    #VaR Cornish-Fisher\n",
        "  CVaRmargcCF_oir[i]=mudg_oir-desv_oir*(dnorm(VaRmargcstd_oir[i])/(pnorm(VaRmargcstd_oir[i])))\n",
        "\n",
        "  for (j in 1:3)\n",
        "  {\n",
        "    WFRM=matrix(0,3,3)  #PASO CLAVE\n",
        "    WFRM[j,j]=1  #PASO CLAVE\n",
        "    delta_oir=t(delta_oir_T[seq(i,m*3,by=m)])*WFR[j,]\n",
        "    tdelta_oir=t(delta_oir_T[seq(i,m*3,by=m)])*xp_oir[seq(i,m*3,by=m)]*WFR[j,]   #delta tilde\n",
        "    gamma_oir=mgammaopc(x01[i],x02[i],K_oir[i],x03[i],plazos_oir[i],cp_oir[i],cs_oir,pr_oir,dct_oir,contratos_oir[i],nominal_oir)*WFRM #paso clave\n",
        "\n",
        "    tgamma_oir=xp_oir[seq(i,m*3,by=m)]%*%t(xp_oir[seq(i,m*3,by=m)])*gamma_oir #gamma tilde\n",
        "    Varmargcaux_oir=cov(DeltaX_oir[,seq(i,m*3,by=m)])*((n)/(n-1)) #matriz varcov factores de riesgo de cada contrato\n",
        "    tgammavar_oir=(tgamma_oir%*%Varmargcaux_oir)\n",
        "    tgammavar2_oir=(tgamma_oir%*%Varmargcaux_oir)%*%(tgamma_oir%*%Varmargcaux_oir)  \n",
        "\n",
        "    mudg_oir=0\n",
        "    desv_oir=sqrt(sum(diag(tgammavar2_oir))/2+tdelta_oir%*%Varmargcaux_oir%*%t(tdelta_oir))\n",
        "\n",
        "    mudn_oir=0\n",
        "    desvdn_oir=sqrt(tdelta_oir%*%Varmargcaux_oir%*%t(tdelta_oir))\n",
        "\n",
        "    VaRmargcDN_fr_oir[j,i]=mudn_oir+desvdn_oir*qnorm(1-alpha) #VaR Normal por contrato Delta Normal\n",
        "    CVaRmargcDN_fr_oir[j,i]=mudn_oir-desvdn_oir*(dnorm(qnorm(1-alpha))/(1-alpha))  #CVaR Normal por contrato Delta Normal\n",
        "\n",
        "    VaRmargc_fr_oir[j,i]=mudg_oir+desv_oir*qnorm(1-alpha) #VaR Normal por contrato\n",
        "    CVaRmargc_fr_oir[j,i]=mudg_oir-desv_oir*(dnorm(qnorm(1-alpha))/(1-alpha))\n",
        "    \n",
        "    tgammavar3_oir=tgammavar2_oir%*%(tgamma_oir%*%Varmargcaux_oir)\n",
        "    asimPmargc_oir=sum(diag(tgammavar3_oir))+3*tdelta_oir%*%Varmargcaux_oir%*%tgamma_oir%*%Varmargcaux_oir%*%t(tdelta_oir) #tercer momento\n",
        "    asimPmargc_oir=asimPmargc_oir/(desv_oir)^3  #coef de asimetría\n",
        "    VaRmargcstd_fr_oir[j,i]=qnorm(1-alpha)+((qnorm(1-alpha)^2-1)/6)*asimPmargc_oir  #VaR estandarizado\n",
        "    VaRmargcCF_fr_oir[j,i]=mudg_oir+desv_oir*VaRmargcstd_fr_oir[j,i] \t    #VaR Cornish-Fisher\n",
        "    CVaRmargcCF_fr_oir[j,i]=mudg_oir-desv_oir*(dnorm(VaRmargcstd_fr_oir[j,i])/(pnorm(VaRmargcstd_fr_oir[j,i])))\n",
        "  }\n",
        "}\n",
        "\n",
        "\n",
        "Cont_oir <- as.matrix(rbind(VaRmargc_oir,CVaRmargc_oir,VaRmargcCF_oir,CVaRmargcCF_oir))\n",
        "colnames(Cont_oir) <- c(\"Call\",\"Put\")\n",
        "rownames(Cont_oir) <- c(\"VaR DGN\",\"CVaR DGN\",\"VaR CF\",\"CVaR CF\")\n",
        "\n",
        "Cont_fac_VaR_oir <- as.matrix(rbind(VaRmargc_fr_oir,VaRmargcCF_fr_oir))\n",
        "colnames(Cont_fac_VaR_oir) <- c(\"Call\",\"Put\")\n",
        "rownames(Cont_fac_VaR_oir) <- c(\"Spot DGN\",\"TIIE DGN\",\"Volatildiad DGN\",\"Spot CF\",\"TIIE CF\",\"Volatildiad CF\")\n",
        "\n",
        "Cont_fac_CVaR_oir <- as.matrix(rbind(CVaRmargc_fr_oir,CVaRmargcCF_fr_oir))\n",
        "colnames(Cont_fac_CVaR_oir) <- c(\"Call\",\"Put\")\n",
        "rownames(Cont_fac_CVaR_oir) <- c(\"Spot DGN\",\"TIIE DGN\",\"Volatildiad DGN\",\"Spot CF\",\"TIIE CF\",\"Volatildiad CF\")\n",
        "\n",
        "\n",
        "print(\"Contrato\")\n",
        "print(Cont_oir)\n",
        "\n",
        "print(\"\")\n",
        "print(\"Contrato-Factor\")\n",
        "print(\"VaR\")\n",
        "print(Cont_fac_VaR_oir)\n",
        "\n",
        "print(\"\")\n",
        "print(\"CVaR\")\n",
        "print(Cont_fac_CVaR_oir)"
      ],
      "execution_count": null,
      "outputs": [
        {
          "output_type": "stream",
          "name": "stdout",
          "text": [
            "[1] \"Contrato\"\n",
            "                Call         Put\n",
            "VaR DGN  -0.08757567 -0.04730179\n",
            "CVaR DGN -0.10323197 -0.05575814\n",
            "VaR CF   -0.08758235 -0.04733113\n",
            "CVaR CF  -0.10323790 -0.05578423\n",
            "[1] \"\"\n",
            "[1] \"Contrato-Factor\"\n",
            "[1] \"VaR\"\n",
            "                       Call           Put\n",
            "Spot DGN        -0.01154799 -0.0009612343\n",
            "TIIE DGN        -0.06765790 -0.0365505436\n",
            "Volatildiad DGN -0.05238481 -0.0327790120\n",
            "Spot CF         -0.01149724 -0.0009598131\n",
            "TIIE CF         -0.06765575 -0.0365489009\n",
            "Volatildiad CF  -0.05245282 -0.0328095636\n",
            "[1] \"\"\n",
            "[1] \"CVaR\"\n",
            "                       Call          Put\n",
            "Spot DGN        -0.01361248 -0.001133078\n",
            "TIIE DGN        -0.07975340 -0.043084848\n",
            "Volatildiad DGN -0.06174988 -0.038639063\n",
            "Spot CF         -0.01356738 -0.001131815\n",
            "TIIE CF         -0.07975149 -0.043083388\n",
            "Volatildiad CF  -0.06181034 -0.038666220\n"
          ]
        }
      ]
    },
    {
      "cell_type": "markdown",
      "metadata": {
        "id": "tQFm1a3Q0ArK"
      },
      "source": [
        "#### VaR y CVaR total"
      ]
    },
    {
      "cell_type": "code",
      "metadata": {
        "id": "2H7tbCsQ0Hw_",
        "colab": {
          "base_uri": "https://localhost:8080/"
        },
        "outputId": "c5d13d57-71f3-4a1b-87ef-0db6be84e25a"
      },
      "source": [
        "%%R\n",
        "VarDeltaX_oir=cov(DeltaX_oir)*(n/(n-1))\n",
        "\n",
        "tgammavar_oir=(gammaT_oirT2%*%VarDeltaX_oir)\n",
        "tgammavar2_oir=(tgammavar_oir)%*%(tgammavar_oir) \n",
        "mudg_oir=ifelse(sum(diag(tgammavar_oir))/2+sum(mu_oir)>0,0,sum(diag(tgammavar_oir))/2+sum(mu_oir))\n",
        "desv_oir=sqrt(sum(diag(tgammavar2_oir))/2+deltaT_oir_T%*%VarDeltaX_oir%*%t(deltaT_oir_T))\n",
        "\n",
        "VaRT_oir_DGM=(mudg_oir)+(desv_oir)*qnorm(1-alpha)  #VaR Normal\n",
        "CVaRT_oir_DGM=(mudg_oir)-(desv_oir)*dnorm(qnorm(alpha))/(1-alpha)\n",
        "\n",
        "tgammavar3_oir=tgammavar2_oir%*%(tgammavar_oir)\n",
        "asimP_oir=sum(diag(tgammavar3_oir))+3*deltaT_oir_T%*%VarDeltaX_oir%*%gammaT_oirT2%*%VarDeltaX_oir%*%t(deltaT_oir_T) #gamma tercer momento\n",
        "asimP_oir=asimP_oir/(desv_oir)^3  #coef de asimetría\n",
        "VaRstd_oir=qnorm(1-alpha)+((qnorm(1-alpha)^2-1)/6)*asimP_oir  #VaR estandarizado\n",
        "VaRT_oir_DGM_CF=(mudg_oir)+(desv_oir)*VaRstd_oir #VaR cf\n",
        "CVaRT_oir_DGM_CF=(mudg_oir)-(desv_oir)*dnorm(VaRstd_oir)/(pnorm(VaRstd_oir))\n",
        "\n",
        "VaRT_fr_oir_DGM=matrix(0,1,3)\n",
        "CVaRT_fr_oir_DGM=matrix(0,1,3)\n",
        "VaRT_fr_oir_DGM_CF=matrix(0,1,3)\n",
        "CVaRT_fr_oir_DGM_CF=matrix(0,1,3)\n",
        "\n",
        "WFRT=matrix(0,3,(m*3))\n",
        "for (j in (1:3))\n",
        "{\n",
        "WFRT[j,((j-1)*m+1):(j*m)]=matrix(1,1,m)    #Matriz de diseño para \n",
        "WFRM=matrix(0,(m*3),(m*3))  #PASO CLAVE\n",
        "WFRM[((j-1)*m+1):(m*j),((j-1)*m+1):(m*j)]=matrix(1,m,m)  #PASO CLAVE    \n",
        "gamma_oirtT2_fr=gammaT_oirT2*WFRM #evaluación de gamma multiplicado por x^{2}\n",
        "g_oirtT_fr=deltaT_oir_T*WFRT[j,]\n",
        "\n",
        "tgammavar_oir=(gamma_oirtT2_fr%*%VarDeltaX_oir)\n",
        "tgammavar2_oir=(tgammavar_oir)%*%(tgammavar_oir) \n",
        "\n",
        "mudg_oir=0\n",
        "desv_oir=sqrt(sum(diag(tgammavar2_oir))/2+g_oirtT_fr%*%VarDeltaX_oir%*%t(g_oirtT_fr))\n",
        "VaRT_fr_oir_DGM[j]=(mudg_oir)+(desv_oir)*qnorm(1-alpha) #VaR Normal\n",
        "CVaRT_fr_oir_DGM[j]=(mudg_oir)-(desv_oir)*dnorm(qnorm(alpha))/(1-alpha)\n",
        "\n",
        "\n",
        "tgammavar3_oir=tgammavar2_oir%*%(tgammavar_oir)\n",
        "asimP_oir=sum(diag(tgammavar3_oir))+3*g_oirtT_fr%*%VarDeltaX_oir%*%gamma_oirtT2_fr%*%VarDeltaX_oir%*%t(g_oirtT_fr) #gamma tercer momento\n",
        "\n",
        "asimP_oir=asimP_oir/(desv_oir)^3  #coef de asimetría\n",
        " \n",
        "VaRstd_oir=qnorm(1-alpha)+((qnorm(1-alpha)^2-1)/6)*asimP_oir  #VaR estandarizado\n",
        "\n",
        "VaRT_fr_oir_DGM_CF[j]=(mudg_oir)+(desv_oir)*VaRstd_oir #VaR cf\n",
        "CVaRT_fr_oir_DGM_CF[j]=(mudg_oir)-(desv_oir)*dnorm(VaRstd_oir)/(pnorm(VaRstd_oir))\n",
        "\n",
        "\n",
        "}\n",
        "\n",
        "DGN_oir <- as.matrix(rbind(cbind(VaRT_oir_DGM,VaRT_fr_oir_DGM),cbind(CVaRT_oir_DGM,CVaRT_fr_oir_DGM)))\n",
        "colnames(DGN_oir) <- c(\"Total\",\"Spot\",\"TIIE\",\"Volatilidad\")\n",
        "rownames(DGN_oir) <- c(\"VaR\",\"CVaR\")\n",
        "\n",
        "DGN_CF_oir <- as.matrix(rbind(cbind(VaRT_oir_DGM_CF,VaRT_fr_oir_DGM_CF),cbind(CVaRT_oir_DGM_CF,CVaRT_fr_oir_DGM_CF)))\n",
        "colnames(DGN_CF_oir) <- c(\"Total\",\"Spot\",\"TIIE\",\"Volatilidad\")\n",
        "rownames(DGN_CF_oir) <- c(\"VaR\",\"CVaR\")\n",
        "\n",
        "print(\"Delta Gamma Normal\")\n",
        "print(DGN_oir)\n",
        "\n",
        "print(\"\")\n",
        "print(\"Delta Gamma Normal Cornish Fisher\")\n",
        "print(DGN_CF_oir)"
      ],
      "execution_count": null,
      "outputs": [
        {
          "output_type": "stream",
          "name": "stdout",
          "text": [
            "[1] \"Delta Gamma Normal\"\n",
            "          Total        Spot        TIIE Volatilidad\n",
            "VaR  -0.1182985 -0.01243336 -0.08778916 -0.07886968\n",
            "CVaR -0.1394473 -0.01465613 -0.10348362 -0.09296956\n",
            "[1] \"\"\n",
            "[1] \"Delta Gamma Normal Cornish Fisher\"\n",
            "          Total        Spot        TIIE Volatilidad\n",
            "VaR  -0.1183589 -0.01238144 -0.08778654 -0.07895535\n",
            "CVaR -0.1395009 -0.01460999 -0.10348129 -0.09304572\n"
          ]
        }
      ]
    },
    {
      "cell_type": "markdown",
      "metadata": {
        "id": "JIquu9SW6C-b"
      },
      "source": [
        "### Riesgo Integral"
      ]
    },
    {
      "cell_type": "markdown",
      "metadata": {
        "id": "YP_oeJvgDJUz"
      },
      "source": [
        "##### Total"
      ]
    },
    {
      "cell_type": "code",
      "metadata": {
        "id": "H8VvVym96HFb",
        "colab": {
          "base_uri": "https://localhost:8080/"
        },
        "outputId": "893162f3-8983-400a-d1cd-8529ccb9a307"
      },
      "source": [
        "%%R\n",
        "VarDeltaX_port=as.matrix(cov(DeltaX_port)*(n-1)/(n-2))\n",
        "\n",
        "mu_port=as.matrix(cbind(mu_acc_div,mu_bcc,mu_bm,mu_bd,mu_ftdc,mu_find,mu_sw,mu_oir)) #derivada con respecto al tiempo\n",
        "gt_port=as.matrix(cbind(g_acc_divt,g_bcct,g_bmt,g_bdt,g_ftdctT,g_findtT,gt_sw,deltaT_oir_T)) #derivada con respecto las X's\n",
        "\n",
        "gammat_port=matrix(0,sum(n_if),sum(n_if))\n",
        "gammat_port[1:n_if[1],1:n_if[1]]=gamma_acc_divt\n",
        "gammat_port[(sum(n_if[1:1])+1):(sum(n_if[1:2])),(sum(n_if[1:1])+1):(sum(n_if[1:2]))]=gamma_bcct2\n",
        "gammat_port[(sum(n_if[1:2])+1):(sum(n_if[1:3])),(sum(n_if[1:2])+1):(sum(n_if[1:3]))]=gamma_bmt2\n",
        "gammat_port[(sum(n_if[1:3])+1):(sum(n_if[1:4])),(sum(n_if[1:3])+1):(sum(n_if[1:4]))]=gamma_bdt2\n",
        "gammat_port[(sum(n_if[1:4])+1):(sum(n_if[1:5])),(sum(n_if[1:4])+1):(sum(n_if[1:5]))]=gamma_ftdctT2\n",
        "gammat_port[(sum(n_if[1:5])+1):(sum(n_if[1:6])),(sum(n_if[1:5])+1):(sum(n_if[1:6]))]=gamma_findtT2\n",
        "gammat_port[(sum(n_if[1:6])+1):(sum(n_if[1:7])),(sum(n_if[1:6])+1):(sum(n_if[1:7]))]=tgamma_sw\n",
        "gammat_port[(sum(n_if[1:7])+1):(sum(n_if[1:8])),(sum(n_if[1:7])+1):(sum(n_if[1:8]))]=gammaT_oirT2\n",
        "\n",
        "\n",
        "\n",
        "#CÁLCULO DE VAR Y CVAR A NIVEL PORTAFOLIO\n",
        "tgammavar_port=(gammat_port%*%VarDeltaX_port)\n",
        "tgammavar2_port=(tgammavar_port)%*%(tgammavar_port) \n",
        "mu_portT=ifelse((sum(diag(tgammavar_port))/2+sum(mu_port))>0,0,(sum(diag(tgammavar_port))/2+sum(mu_port)))\n",
        "desv_portT=(sqrt(sum(diag(tgammavar2_port))/2+gt_port%*%VarDeltaX_port%*%t(gt_port)))\n",
        "VaRT_port_DGM=mu_portT+desv_portT*qnorm(1-alpha) #VaR Normal\n",
        "CVaRT_port_DGM=mu_portT-desv_portT*dnorm(qnorm(alpha))/(1-alpha)\n",
        "\n",
        "tgammavar3_port=tgammavar2_port%*%(tgammavar_port)\n",
        "asimP_port=sum(diag(tgammavar3_port))+3*gt_port%*%VarDeltaX_port%*%gammat_port%*%VarDeltaX_port%*%t(gt_port) #gamma tercer momento\n",
        "asimP_port=asimP_port/(sqrt(sum(diag(tgammavar2_port))/2+gt_port%*%VarDeltaX_port%*%t(gt_port)))^3  #coef de asimetría\n",
        "VaRstd_port=qnorm(1-alpha)+((qnorm(1-alpha)^2-1)/6)*asimP_port  #VaR estandarizado\n",
        "VaRT_port_DGM_CF=mu_portT+desv_portT*VaRstd_port #VaR cf\n",
        "CVaRT_port_DGM_CF=mu_portT-desv_portT*dnorm(VaRstd_port)/(pnorm(VaRstd_port))\n",
        "\n",
        "\n",
        "Port_DGN <- as.matrix(rbind(cbind(VaRT_port_DGM,VaRT_port_DGM_CF),cbind(CVaRT_port_DGM,CVaRT_port_DGM_CF)))\n",
        "colnames(Port_DGN) <- c(\"Delta Gamma Normal\",\"DGN Cornish Fisher\")\n",
        "rownames(Port_DGN) <- c(\"VaR\",\"CVaR\")\n",
        "print(Port_DGN)"
      ],
      "execution_count": null,
      "outputs": [
        {
          "output_type": "stream",
          "name": "stdout",
          "text": [
            "     Delta Gamma Normal DGN Cornish Fisher\n",
            "VaR           -76457.95          -76457.92\n",
            "CVaR          -90119.38          -90119.36\n"
          ]
        }
      ]
    },
    {
      "cell_type": "markdown",
      "metadata": {
        "id": "w9aZ_QUUDSqh"
      },
      "source": [
        "####Acciones"
      ]
    },
    {
      "cell_type": "code",
      "metadata": {
        "id": "2SgoylpMDSEn",
        "colab": {
          "base_uri": "https://localhost:8080/"
        },
        "outputId": "57c282ae-e746-4605-fbfe-b0ee6b7503a2"
      },
      "source": [
        "%%R\n",
        "m = ncol(plazos_fwd_ind)\n",
        "WFRT_acc=matrix(0,3,(m*3))\n",
        "\n",
        "for (j in (1:3))\n",
        "{\n",
        "WFRT_acc[j,((j-1)*m+1):(j*m)]=matrix(1,1,m)    #Matriz de diseño para \n",
        "WFRT_acc=matrix(0,(m*3),(m*3))  #PASO CLAVE\n",
        "WFRT_acc[((j-1)*m+1):(m*j),((j-1)*m+1):(m*j)]=matrix(1,m,m)}\n",
        "\n",
        "dummy_acc = matrix(0,1, ncol(gt_port))\n",
        "dummy_acc[(m_fx+1):(m_fx+m_acc)] = 1\n",
        "dummy_acc[c(168)] = 1 #Cambia dependiendo del factor de riesgo a tomar. Revisar los riesgos de las opciones IPC\n",
        "gt_port=as.matrix(cbind(g_acc_divt,g_bcct,g_bmt,g_bdt,g_ftdctT,g_findtT,gt_sw,deltaT_oir_T)) #derivada con respecto las X's\n",
        "\n",
        "gt_port = gt_port*dummy_acc\n",
        "gammat_port=matrix(0,sum(n_if),sum(n_if))\n",
        "gammat_port[1:n_if[1],1:n_if[1]]=gamma_acc_divt\n",
        "gammat_port[(sum(n_if[1:1])+1):(sum(n_if[1:2])),(sum(n_if[1:1])+1):(sum(n_if[1:2]))]=gamma_bcct2\n",
        "gammat_port[(sum(n_if[1:2])+1):(sum(n_if[1:3])),(sum(n_if[1:2])+1):(sum(n_if[1:3]))]=gamma_bmt2\n",
        "gammat_port[(sum(n_if[1:3])+1):(sum(n_if[1:4])),(sum(n_if[1:3])+1):(sum(n_if[1:4]))]=gamma_bdt2\n",
        "gammat_port[(sum(n_if[1:4])+1):(sum(n_if[1:5])),(sum(n_if[1:4])+1):(sum(n_if[1:5]))]=gamma_ftdctT2\n",
        "gammat_port[(sum(n_if[1:5])+1):(sum(n_if[1:6])),(sum(n_if[1:5])+1):(sum(n_if[1:6]))]=gamma_findtT2\n",
        "gammat_port[(sum(n_if[1:6])+1):(sum(n_if[1:7])),(sum(n_if[1:6])+1):(sum(n_if[1:7]))]=tgamma_sw\n",
        "gammat_port[(sum(n_if[1:7])+1):(sum(n_if[1:8])),(sum(n_if[1:7])+1):(sum(n_if[1:8]))]=gammaT_oirT2\n",
        "\n",
        "gammat_port = gammat_port * t(dummy_acc)%*%dummy_acc\n",
        "\n",
        "tgammavar_port=(gammat_port%*%VarDeltaX_port)\n",
        "tgammavar2_port=(tgammavar_port)%*%(tgammavar_port) \n",
        "mu_portT=ifelse((sum(diag(tgammavar_port))/2+sum(mu_port))>0,0,(sum(diag(tgammavar_port))/2+sum(mu_port)))\n",
        "desv_portT=(sqrt(sum(diag(tgammavar2_port))/2+gt_port%*%VarDeltaX_port%*%t(gt_port)))\n",
        "VaRT_port_acc_DGM=mu_portT+desv_portT*qnorm(1-alpha) #VaR Normal\n",
        "CVaRT_port_acc_DGM=mu_portT-desv_portT*dnorm(qnorm(alpha))/(1-alpha)\n",
        "\n",
        "\n",
        "tgammavar3_port=tgammavar2_port%*%(tgammavar_port)\n",
        "asimP_port=sum(diag(tgammavar3_port))+3*gt_port%*%VarDeltaX_port%*%gammat_port%*%VarDeltaX_port%*%t(gt_port) #gamma tercer momento\n",
        "asimP_port=asimP_port/(sqrt(sum(diag(tgammavar2_port))/2+gt_port%*%VarDeltaX_port%*%t(gt_port)))^3  #coef de asimetría\n",
        "VaRstd_port=qnorm(1-alpha)+((qnorm(1-alpha)^2-1)/6)*asimP_port  #VaR estandarizado\n",
        "VaRT_port_acc_DGM_CF=mu_portT+desv_portT*VaRstd_port #VaR cf\n",
        "CVaRT_port_acc_DGM_CF=mu_portT-desv_portT*dnorm(VaRstd_port)/(pnorm(VaRstd_port))\n",
        "\n",
        "\n",
        "Port_acc_DGN <- as.matrix(rbind(cbind(VaRT_port_acc_DGM,VaRT_port_acc_DGM_CF),cbind(CVaRT_port_acc_DGM,CVaRT_port_acc_DGM_CF)))\n",
        "rownames(Port_acc_DGN) <- c(\"VaR\",\"CVaR\")\n",
        "colnames(Port_acc_DGN) <- c(\"Delta Gamma Normal\",\"DGN Cornish Fisher\")\n",
        "print(Port_acc_DGN)"
      ],
      "execution_count": null,
      "outputs": [
        {
          "output_type": "stream",
          "name": "stdout",
          "text": [
            "     Delta Gamma Normal DGN Cornish Fisher\n",
            "VaR           -52682.26          -52682.26\n",
            "CVaR          -62092.85          -62092.85\n"
          ]
        }
      ]
    },
    {
      "cell_type": "markdown",
      "metadata": {
        "id": "M13H9qHVi69e"
      },
      "source": [
        "####Divisas"
      ]
    },
    {
      "cell_type": "code",
      "metadata": {
        "colab": {
          "base_uri": "https://localhost:8080/"
        },
        "id": "3lsyr_sHjAI2",
        "outputId": "169349f7-01bd-4b4a-84dd-3c2793645b48"
      },
      "source": [
        "%%R\n",
        "m = ncol(plazos_fwd)\n",
        "WFRT_div=matrix(0,3,(m*3))\n",
        "\n",
        "for (j in (1:3))\n",
        "{\n",
        "WFRT_div[j,((j-1)*m+1):(j*m)]=matrix(1,1,m)    #Matriz de diseño para \n",
        "WFRT_div=matrix(0,(m*3),(m*3))  #PASO CLAVE\n",
        "WFRT_div[((j-1)*m+1):(m*j),((j-1)*m+1):(m*j)]=matrix(1,m,m)}\n",
        "\n",
        "dummy_div = matrix(0,1, ncol(gt_port))\n",
        "dummy_div[1:m_fx] = 1\n",
        "dummy_div[c(165, 166, 167)] = 1 #Cambia dependiendo del factor de riesgo a tomar.\n",
        "gt_port=as.matrix(cbind(g_acc_divt,g_bcct,g_bmt,g_bdt,g_ftdctT,g_findtT,gt_sw,deltaT_oir_T)) #derivada con respecto las X's\n",
        "\n",
        "gt_port = gt_port*dummy_div\n",
        "gammat_port=matrix(0,sum(n_if),sum(n_if))\n",
        "gammat_port[1:n_if[1],1:n_if[1]]=gamma_acc_divt\n",
        "gammat_port[(sum(n_if[1:1])+1):(sum(n_if[1:2])),(sum(n_if[1:1])+1):(sum(n_if[1:2]))]=gamma_bcct2\n",
        "gammat_port[(sum(n_if[1:2])+1):(sum(n_if[1:3])),(sum(n_if[1:2])+1):(sum(n_if[1:3]))]=gamma_bmt2\n",
        "gammat_port[(sum(n_if[1:3])+1):(sum(n_if[1:4])),(sum(n_if[1:3])+1):(sum(n_if[1:4]))]=gamma_bdt2\n",
        "gammat_port[(sum(n_if[1:4])+1):(sum(n_if[1:5])),(sum(n_if[1:4])+1):(sum(n_if[1:5]))]=gamma_ftdctT2\n",
        "gammat_port[(sum(n_if[1:5])+1):(sum(n_if[1:6])),(sum(n_if[1:5])+1):(sum(n_if[1:6]))]=gamma_findtT2\n",
        "gammat_port[(sum(n_if[1:6])+1):(sum(n_if[1:7])),(sum(n_if[1:6])+1):(sum(n_if[1:7]))]=tgamma_sw\n",
        "gammat_port[(sum(n_if[1:7])+1):(sum(n_if[1:8])),(sum(n_if[1:7])+1):(sum(n_if[1:8]))]=gammaT_oirT2\n",
        "\n",
        "gammat_port = gammat_port * t(dummy_div)%*%dummy_div\n",
        "\n",
        "tgammavar_port=(gammat_port%*%VarDeltaX_port)\n",
        "tgammavar2_port=(tgammavar_port)%*%(tgammavar_port) \n",
        "mu_portT=ifelse((sum(diag(tgammavar_port))/2+sum(mu_port))>0,0,(sum(diag(tgammavar_port))/2+sum(mu_port)))\n",
        "desv_portT=(sqrt(sum(diag(tgammavar2_port))/2+gt_port%*%VarDeltaX_port%*%t(gt_port)))\n",
        "VaRT_port_div_DGM=mu_portT+desv_portT*qnorm(1-alpha) #VaR Normal\n",
        "CVaRT_port_div_DGM=mu_portT-desv_portT*dnorm(qnorm(alpha))/(1-alpha)\n",
        "\n",
        "tgammavar3_port=tgammavar2_port%*%(tgammavar_port)\n",
        "asimP_port=sum(diag(tgammavar3_port))+3*gt_port%*%VarDeltaX_port%*%gammat_port%*%VarDeltaX_port%*%t(gt_port) #gamma tercer momento\n",
        "asimP_port=asimP_port/(sqrt(sum(diag(tgammavar2_port))/2+gt_port%*%VarDeltaX_port%*%t(gt_port)))^3  #coef de asimetría\n",
        "VaRstd_port=qnorm(1-alpha)+((qnorm(1-alpha)^2-1)/6)*asimP_port  #VaR estandarizado\n",
        "VaRT_port_div_DGM_CF=mu_portT+desv_portT*VaRstd_port #VaR cf\n",
        "CVaRT_port_div_DGM_CF=mu_portT-desv_portT*dnorm(VaRstd_port)/(pnorm(VaRstd_port))\n",
        "\n",
        "Port_div_DGN <- as.matrix(rbind(cbind(VaRT_port_div_DGM,VaRT_port_div_DGM_CF),cbind(CVaRT_port_div_DGM,CVaRT_port_div_DGM_CF)))\n",
        "rownames(Port_div_DGN) <- c(\"VaR\",\"CVaR\")\n",
        "colnames(Port_div_DGN) <- c(\"Delta Gamma Normal\",\"DGN Cornish Fisher\")\n",
        "print(Port_div_DGN)"
      ],
      "execution_count": null,
      "outputs": [
        {
          "output_type": "stream",
          "name": "stdout",
          "text": [
            "     Delta Gamma Normal DGN Cornish Fisher\n",
            "VaR           -443.2817          -443.2817\n",
            "CVaR          -514.8808          -514.8808\n"
          ]
        }
      ]
    },
    {
      "cell_type": "markdown",
      "metadata": {
        "id": "6iQL1ik76c43"
      },
      "source": [
        "#### Tasa de interés"
      ]
    },
    {
      "cell_type": "code",
      "metadata": {
        "colab": {
          "base_uri": "https://localhost:8080/"
        },
        "id": "j-w-Omy4jSmO",
        "outputId": "3caf5d15-9a18-4fe5-89cd-842b559eadef"
      },
      "source": [
        "%%R\n",
        "\n",
        "dummy_tint = matrix(0,1, ncol(gt_port))\n",
        "dummy_tint[7:sum(n_if[2:3], n_if[4])] = 1\n",
        "dummy_tint[c(169, 170)] = 1\n",
        "dummy_tint[sum(n_if[1:7],1):length(dummy_tint)] = 1 #Cambia dependiendo del factor de riesgo a tomar.\n",
        "gt_port=as.matrix(cbind(g_acc_divt,g_bcct,g_bmt,g_bdt,g_ftdctT,g_findtT,gt_sw,deltaT_oir_T)) #derivada con respecto las X's\n",
        "\n",
        "gt_port = gt_port*dummy_tint\n",
        "gammat_port=matrix(0,sum(n_if),sum(n_if))\n",
        "gammat_port[1:n_if[1],1:n_if[1]]=gamma_acc_divt\n",
        "gammat_port[(sum(n_if[1:1])+1):(sum(n_if[1:2])),(sum(n_if[1:1])+1):(sum(n_if[1:2]))]=gamma_bcct2\n",
        "gammat_port[(sum(n_if[1:2])+1):(sum(n_if[1:3])),(sum(n_if[1:2])+1):(sum(n_if[1:3]))]=gamma_bmt2\n",
        "gammat_port[(sum(n_if[1:3])+1):(sum(n_if[1:4])),(sum(n_if[1:3])+1):(sum(n_if[1:4]))]=gamma_bdt2\n",
        "gammat_port[(sum(n_if[1:4])+1):(sum(n_if[1:5])),(sum(n_if[1:4])+1):(sum(n_if[1:5]))]=gamma_ftdctT2\n",
        "gammat_port[(sum(n_if[1:5])+1):(sum(n_if[1:6])),(sum(n_if[1:5])+1):(sum(n_if[1:6]))]=gamma_findtT2\n",
        "gammat_port[(sum(n_if[1:6])+1):(sum(n_if[1:7])),(sum(n_if[1:6])+1):(sum(n_if[1:7]))]=tgamma_sw\n",
        "gammat_port[(sum(n_if[1:7])+1):(sum(n_if[1:8])),(sum(n_if[1:7])+1):(sum(n_if[1:8]))]=gammaT_oirT2\n",
        "\n",
        "gammat_port = gammat_port * t(dummy_tint)%*%dummy_tint\n",
        "\n",
        "tgammavar_port=(gammat_port%*%VarDeltaX_port)\n",
        "tgammavar2_port=(tgammavar_port)%*%(tgammavar_port) \n",
        "mu_portT=ifelse((sum(diag(tgammavar_port))/2+sum(mu_port))>0,0,(sum(diag(tgammavar_port))/2+sum(mu_port)))\n",
        "desv_portT=(sqrt(sum(diag(tgammavar2_port))/2+gt_port%*%VarDeltaX_port%*%t(gt_port)))\n",
        "VaRT_port_tint_DGM=mu_portT+desv_portT*qnorm(1-alpha) #VaR Normal\n",
        "CVaRT_port_tint_DGM=mu_portT-desv_portT*dnorm(qnorm(alpha))/(1-alpha)\n",
        "\n",
        "tgammavar3_port=tgammavar2_port%*%(tgammavar_port)\n",
        "asimP_port=sum(diag(tgammavar3_port))+3*gt_port%*%VarDeltaX_port%*%gammat_port%*%VarDeltaX_port%*%t(gt_port) #gamma tercer momento\n",
        "asimP_port=asimP_port/(sqrt(sum(diag(tgammavar2_port))/2+gt_port%*%VarDeltaX_port%*%t(gt_port)))^3  #coef de asimetría\n",
        "VaRstd_port=qnorm(1-alpha)+((qnorm(1-alpha)^2-1)/6)*asimP_port  #VaR estandarizado\n",
        "VaRT_port_tint_DGM_CF=mu_portT+desv_portT*VaRstd_port #VaR cf\n",
        "CVaRT_port_tint_DGM_CF=mu_portT-desv_portT*dnorm(VaRstd_port)/(pnorm(VaRstd_port))\n",
        "\n",
        "\n",
        "Port_tint_DGN <- as.matrix(rbind(cbind(VaRT_port_tint_DGM,VaRT_port_tint_DGM_CF),cbind(CVaRT_port_tint_DGM,CVaRT_port_tint_DGM_CF)))\n",
        "rownames(Port_tint_DGN) <- c(\"VaR\",\"CVaR\")\n",
        "colnames(Port_tint_DGN) <- c(\"Delta Gamma Normal\",\"DGN Cornish Fisher\")\n",
        "print(Port_tint_DGN)"
      ],
      "execution_count": null,
      "outputs": [
        {
          "output_type": "stream",
          "name": "stdout",
          "text": [
            "     Delta Gamma Normal DGN Cornish Fisher\n",
            "VaR           -1283.158          -1277.696\n",
            "CVaR          -1505.260          -1500.406\n"
          ]
        }
      ]
    },
    {
      "cell_type": "markdown",
      "metadata": {
        "id": "m3dpWkMEWF58"
      },
      "source": [
        "# Delta-Normal"
      ]
    },
    {
      "cell_type": "markdown",
      "metadata": {
        "id": "LVqL_FOiTz8v"
      },
      "source": [
        "### Acciones y divisas"
      ]
    },
    {
      "cell_type": "markdown",
      "metadata": {
        "id": "bMUcBAp3T23d"
      },
      "source": [
        "#### Por factor de riesgo"
      ]
    },
    {
      "cell_type": "code",
      "metadata": {
        "id": "R6CufXvTT9m-",
        "colab": {
          "base_uri": "https://localhost:8080/"
        },
        "outputId": "4fc679ae-6b06-4676-9cf9-ceaa87d421e5"
      },
      "source": [
        "%%R\n",
        "VaRDNfr_acc = qnorm(1-alpha)*sqrt(g_acct*g_acct*desvest_acc*desvest_acc) \n",
        "VaRDNfr_div = qnorm(1-alpha)*sqrt(g_divt*g_divt*desvest_div*desvest_div) \n",
        "\n",
        "CVaRDNfr_acc = (dnorm(qnorm(1-alpha))/(1-alpha))*sqrt(g_acct*g_acct*desvest_acc*desvest_acc)*-1\n",
        "CVaRDNfr_div = (dnorm(qnorm(1-alpha))/(1-alpha))*sqrt(g_divt*g_divt*desvest_div*desvest_div)*-1\n",
        "\n",
        "DN_acc_div_fr <- as.matrix(rbind(cbind(VaRDNfr_acc,VaRDNfr_div),cbind(CVaRDNfr_acc,CVaRDNfr_div)))\n",
        "rownames(DN_acc_div_fr) <- c(\"VaR\",\"CVaR\")\n",
        "print(DN_acc_div_fr)"
      ],
      "execution_count": null,
      "outputs": [
        {
          "output_type": "stream",
          "name": "stdout",
          "text": [
            "       AMXL.MX GCARSOA1.MX WALMEX.MX  EURUSD.X  GBPUSD.X  USDMXN.X\n",
            "VaR  -2864.347   -3468.902 -2978.942 -157.1863 -159.9017 -357.3584\n",
            "CVaR -3376.419   -4089.053 -3511.501 -185.2872 -188.4880 -421.2449\n"
          ]
        }
      ]
    },
    {
      "cell_type": "markdown",
      "metadata": {
        "id": "ehm9D7JET5ou"
      },
      "source": [
        "#### Total"
      ]
    },
    {
      "cell_type": "code",
      "metadata": {
        "id": "FJaLRGCDT_j-",
        "colab": {
          "base_uri": "https://localhost:8080/"
        },
        "outputId": "008684f3-145d-4db2-9750-645451759c24"
      },
      "source": [
        "%%R\n",
        "VaRDNTotal_acc = sqrt(as.matrix(g_acct)%*%VarCovX_acc%*%t(as.matrix(g_acct)))*qnorm(1-alpha)\n",
        "CVaRDNTotal_acc = sqrt(as.matrix(g_acct)%*%VarCovX_acc%*%t(as.matrix(g_acct)))*dnorm(qnorm(1-alpha))/(1-alpha)*-1\n",
        "\n",
        "VaRDNTotal_div = sqrt(as.matrix(g_divt)%*%VarCovX_div%*%t(as.matrix(g_divt)))*qnorm(1-alpha)\n",
        "CVaRDNTotal_div = sqrt(as.matrix(g_divt)%*%VarCovX_div%*%t(as.matrix(g_divt)))*dnorm(qnorm(1-alpha))/(1-alpha)*-1\n",
        "\n",
        "DN_acc_div <- as.matrix(rbind(cbind(VaRDNTotal_acc,VaRDNTotal_div),cbind(CVaRDNTotal_acc,CVaRDNTotal_div)))\n",
        "colnames(DN_acc_div) <- c(\"Acciones\",\"Divisas\")\n",
        "rownames(DN_acc_div) <- c(\"VaR\",\"CVaR\")\n",
        "print(DN_acc_div)"
      ],
      "execution_count": null,
      "outputs": [
        {
          "output_type": "stream",
          "name": "stdout",
          "text": [
            "      Acciones   Divisas\n",
            "VaR  -4824.416 -376.8845\n",
            "CVaR -5686.899 -444.2619\n"
          ]
        }
      ]
    },
    {
      "cell_type": "markdown",
      "metadata": {
        "id": "Zdj2kU1ThS38"
      },
      "source": [
        "### CETES"
      ]
    },
    {
      "cell_type": "code",
      "metadata": {
        "id": "fc3Tl0AZhVqA",
        "colab": {
          "base_uri": "https://localhost:8080/"
        },
        "outputId": "34a43bdb-6658-460e-d976-b16cac894e3b"
      },
      "source": [
        "%%R\n",
        "VaRDN_bcc = (mu_bcc[1,1] + qnorm(1-alpha)*sqrt(g_bcct[1,1]^2*desvest_bcc^2))\n",
        "CVaRDN_bcc = (mu_bcc[1,1] + dnorm(qnorm(1-alpha))/(1-alpha)*sqrt(g_bcct[1,1]^2*desvest_bcc^2)*-1)\n",
        "\n",
        "DN_bcc <- as.matrix(rbind(VaRDN_bcc,CVaRDN_bcc))\n",
        "colnames(DN_bcc) <- c(\"CETES\")\n",
        "rownames(DN_bcc) <- c(\"VaR\",\"CVaR\")\n",
        "print(DN_bcc)"
      ],
      "execution_count": null,
      "outputs": [
        {
          "output_type": "stream",
          "name": "stdout",
          "text": [
            "         CETES\n",
            "VaR  -10.18972\n",
            "CVaR -11.46390\n"
          ]
        }
      ]
    },
    {
      "cell_type": "markdown",
      "metadata": {
        "id": "NQ_VI04qo54h"
      },
      "source": [
        "### Bondes D"
      ]
    },
    {
      "cell_type": "markdown",
      "source": [
        "#### VaR y CVaR por contrato"
      ],
      "metadata": {
        "id": "g4y54x-Wssfq"
      }
    },
    {
      "cell_type": "markdown",
      "metadata": {
        "id": "4zHwEPdho9Wg"
      },
      "source": [
        "##### Total"
      ]
    },
    {
      "cell_type": "code",
      "metadata": {
        "id": "HnAYUFACpztX",
        "colab": {
          "base_uri": "https://localhost:8080/"
        },
        "outputId": "5d18656d-e854-4d7b-97a8-be0cb710248a"
      },
      "source": [
        "%%R\n",
        "DeltaX_bd_tc=X_bd_tc[1:(n-1),]/X_bd_tc[2:n,]-1\n",
        "DeltaXvp_bd=Xvp_bd[1:(n-1),]/Xvp_bd[2:n,]-1\n",
        "DeltaXst_bdt=Xst_bd[1:(n-1),]/Xst_bd[2:n,]-1\n",
        "\n",
        "VaRcontDN_bd=matrix(0,1,count(N_bd))\n",
        "CVaRcontDN_bd=matrix(0,1,count(N_bd))\n",
        "\n",
        "for (j in (1:count(N_bd)))\n",
        "{\n",
        "  if(j==1)\n",
        "  {\n",
        "    mucont_bd=sum(mu_bd[j])\n",
        "    gcont_bd=as.matrix(c(V0f_dtc_bd[1:sum(N_bd[1:j])],V0f_dvp_bd[1:sum(N_bd[1:j])],V0f_dst_bd[1:sum(N_bd[1:j])]))\n",
        "    gtcont_bd=t(as.matrix(gcont_bd*x0cont_bd))\n",
        "    VarCovXcont_bd=cov(cbind(DeltaX_bd_tc[,1:sum(N_bd[1:j])],DeltaXvp_bd[,1:sum(N_bd[1:j])],DeltaXst_bdt[,1:sum(N_bd[1:j])]))*(n-1)/(n-2)\t\n",
        "  }\n",
        "  else\n",
        "  {\n",
        "    mucont_bd=sum(mu_bd[j])\n",
        "    gcont_bd=as.matrix(c(V0f_dtc_bd[sum(N_bd[1:j-1],1):sum(N_bd[1:j])],V0f_dvp_bd[sum(N_bd[1:j-1],1):sum(N_bd[1:j])],V0f_dst_bd[sum(N_bd[1:j-1],1):sum(N_bd[1:j])]))\n",
        "    gtcont_bd=t(as.matrix(gcont_bd*x0cont_bd))\n",
        "    VarCovXcont_bd=cov(cbind(DeltaX_bd_tc[,sum(N_bd[1:j-1],1):sum(N_bd[1:j])],DeltaXvp_bd[,sum(N_bd[1:j-1],1):sum(N_bd[1:j])],DeltaXst_bdt[,sum(N_bd[1:j-1],1):sum(N_bd[1:j])]))*(n-1)/(n-2)\n",
        "  }\n",
        "  \n",
        "  VaRcontDN_bd[j]=sum(mucont_bd)+sqrt(gtcont_bd%*%VarCovXcont_bd%*%t(gtcont_bd))*qnorm(1-alpha)\n",
        "  CVaRcontDN_bd[j]=sum(mucont_bd)+sqrt(gtcont_bd%*%VarCovXcont_bd%*%t(gtcont_bd))*dnorm(qnorm(1-alpha))/(1-alpha)*-1\n",
        "}\n",
        "\n",
        "DN_bd <- as.matrix(rbind(VaRcontDN_bd[1,1],CVaRcontDN_bd[1,1]))\n",
        "colnames(DN_bd) <- c(\"Bonde D\")\n",
        "rownames(DN_bd) <- c(\"VaR\",\"CVaR\")\n",
        "print(DN_bd)"
      ],
      "execution_count": null,
      "outputs": [
        {
          "output_type": "stream",
          "name": "stdout",
          "text": [
            "       Bonde D\n",
            "VaR  -476.8858\n",
            "CVaR -567.5401\n"
          ]
        }
      ]
    },
    {
      "cell_type": "markdown",
      "metadata": {
        "id": "o-S6N2u2xMNr"
      },
      "source": [
        "##### Por factor de riesgo"
      ]
    },
    {
      "cell_type": "code",
      "metadata": {
        "id": "RxVfBJIaxNbj",
        "colab": {
          "base_uri": "https://localhost:8080/"
        },
        "outputId": "07dcffde-ec04-4299-a3f8-564266f47c5d"
      },
      "source": [
        "%%R\n",
        "WFR_bd=rbind(c(X_bd_tc[1,],Xvp_bd[1,], Xst_bd[1,]*0),c( X_bd_tc[1,],Xvp_bd[1,]*0, Xst_bd[1,]), c( X_bd_tc[1,]*0,Xvp_bd[1,], Xst_bd[1,]))\n",
        "VaRFrDN_bd=matrix(0,1,3)\n",
        "CVaRFrDN_bd=matrix(0,1,3)\n",
        "\n",
        "for (j in (1:3))\n",
        "{ \n",
        "    g_bd=cbind(V0f_dtc_bd, V0f_dvp_bd, V0f_dst_bd)\n",
        "    \n",
        "    gt_bd=WFR_bd[j,]*g_bd\n",
        "    VaRFrDN_bd[j]=sqrt(gt_bd%*%VarCovX_bd_ext%*%t(gt_bd))*qnorm(1-alpha)\n",
        "    CVaRFrDN_bd[j]=-sqrt(gt_bd%*%VarCovX_bd_ext%*%t(gt_bd))*dnorm(qnorm(1-alpha))/(1-alpha)\n",
        "}\n",
        "\n",
        "DN_fr_bd <- as.matrix(rbind(VaRFrDN_bd,CVaRFrDN_bd))\n",
        "colnames(DN_fr_bd) <- c(\"Fondeo\",\"Guber\",\"Sobretasa\")\n",
        "rownames(DN_fr_bd) <- c(\"VaR\",\"CVaR\")\n",
        "print(DN_fr_bd)"
      ],
      "execution_count": null,
      "outputs": [
        {
          "output_type": "stream",
          "name": "stdout",
          "text": [
            "        Fondeo     Guber Sobretasa\n",
            "VaR  -392.8284 -392.8284 -376.9072\n",
            "CVaR -463.0561 -463.0561 -444.2885\n"
          ]
        }
      ]
    },
    {
      "cell_type": "markdown",
      "metadata": {
        "id": "7VXVBVoh5DcU"
      },
      "source": [
        "##### Por factor de riesgo marginal"
      ]
    },
    {
      "cell_type": "code",
      "metadata": {
        "id": "Tg3mA2LV5JJP",
        "colab": {
          "base_uri": "https://localhost:8080/"
        },
        "outputId": "eee68edf-298f-4dab-d18c-ad872c6d5153"
      },
      "source": [
        "%%R\n",
        "VaRcontfrDN_bd=matrix(0,3,count(N_bd))\n",
        "CVaRcontfrDN_bd=matrix(0,3,count(N_bd))\n",
        "WFRcont_bd <- rbind(c(1,0,0), c(0,1,0), c(0,0,1))\n",
        "\n",
        "for (j in (1:count(N_bd)))\n",
        "{\n",
        "    for(k in (1:3)){\n",
        "        if(j==1)\n",
        "  {\n",
        "    mucont_bd=sum(mu_bd[j])\n",
        "    gcont_bd=as.matrix(c(V0f_dtc_bd[1:sum(N_bd[1:j])],V0f_dvp_bd[1:sum(N_bd[1:j])],V0f_dst_bd[1:sum(N_bd[1:j])]))\n",
        "    gtcont_bd=t(as.matrix(gcont_bd*c(X_bd_tc[1,1:sum(N_bd[1:j])]*WFRcont_bd[k,1],Xvp_bd[1,1:sum(N_bd[1:j])]*WFRcont_bd[k,2], Xst_bd[1,1:sum(N_bd[1:j])]*WFRcont_bd[k,3])))\n",
        "    VarCovXcont_bd=cov(cbind(DeltaX_bd_tc[,1:sum(N_bd[1:j])],DeltaXvp_bd[,1:sum(N_bd[1:j])],DeltaXst_bdt[,1:sum(N_bd[1:j])]))*(n-1)/(n-2)\t\n",
        "  }\n",
        "  else\n",
        "  {\n",
        "    mucont_bd=sum(mu_bd[j])\n",
        "    gcont_bd=as.matrix(c(V0f_dtc_bd[sum(N_bd[1:j-1],1):sum(N_bd[1:j])],V0f_dvp_bd[sum(N_bd[1:j-1],1):sum(N_bd[1:j])],V0f_dst_bd[sum(N_bd[1:j-1],1):sum(N_bd[1:j])]))\n",
        "    gtcont_bd=t(as.matrix(gcont_bd*c(X_bd_tc[1,sum(N_bd[1:j-1]+1):sum(N_bd[1:j])]*WFRcont_bd[k,1],Xvp_bd[1,sum(N_bd[1:j-1]+1):sum(N_bd[1:j])]*WFRcont_bd[k,2], Xst_bd[1,sum(N_bd[1:j-1]+1):sum(N_bd[1:j])]*WFRcont_bd[k,3])))\n",
        "    VarCovXcont_bd=cov(cbind(DeltaX_bd_tc[,sum(N_bd[1:j-1],1):sum(N_bd[1:j])],DeltaXvp_bd[,sum(N_bd[1:j-1],1):sum(N_bd[1:j])],DeltaXst_bdt[,sum(N_bd[1:j-1],1):sum(N_bd[1:j])]))*(n-1)/(n-2)\n",
        "  }\n",
        "\n",
        "  VaRcontfrDN_bd[k,j]=sum(mucont_bd)+sqrt(gtcont_bd%*%VarCovXcont_bd%*%t(gtcont_bd))*qnorm(1-alpha)\n",
        "  CVaRcontfrDN_bd[k,j]=sum(mucont_bd)-sqrt(gtcont_bd%*%VarCovXcont_bd%*%t(gtcont_bd))*dnorm(qnorm(1-alpha))/(1-alpha)\n",
        "}\n",
        "}\n",
        "\n",
        "DN_fr_m_bd <- as.matrix(rbind(VaRcontfrDN_bd[,1],CVaRcontfrDN_bd[,1]))\n",
        "colnames(DN_fr_m_bd) <- c(\"Fondeo\",\"Guber\",\"Sobretasa\")\n",
        "rownames(DN_fr_m_bd) <- c(\"VaR\",\"CVaR\")\n",
        "print(DN_fr_m_bd)"
      ],
      "execution_count": null,
      "outputs": [
        {
          "output_type": "stream",
          "name": "stdout",
          "text": [
            "        Fondeo     Guber Sobretasa\n",
            "VaR  -319.8271 -158.2519 -158.2519\n",
            "CVaR -382.4033 -191.9426 -191.9426\n"
          ]
        }
      ]
    },
    {
      "cell_type": "markdown",
      "metadata": {
        "id": "d3HpmeZF-Vvm"
      },
      "source": [
        "#### VaR y CVaR total"
      ]
    },
    {
      "cell_type": "code",
      "metadata": {
        "id": "gayj6B0T-YRo",
        "colab": {
          "base_uri": "https://localhost:8080/"
        },
        "outputId": "899fa965-7022-4dc2-fbf5-f38ca5d0ca1e"
      },
      "source": [
        "%%R\n",
        "g_bd=cbind(V0f_dtc_bd, V0f_dvp_bd, V0f_dst_bd)\n",
        "gt_bd= c(X_bd_tc[1,],Xvp_bd[1,], Xst_bd[1,])*g_bd\n",
        "VaRTotalDN_bd=sqrt(gt_bd%*%VarCovX_bd_ext%*%t(gt_bd))*qnorm(1-alpha)+sum(d_bondeD_t(contratos_bdmT, nominal_bdm, tf_act, plazocupon_bdmT, VTplazos_bdm, Xvp_bd[1,], Xst_bd[1,], N_bd,ddv))\n",
        "CVaRTotalDN_bd = -sqrt(gt_bd%*%VarCovX_bd_ext%*%t(gt_bd))*dnorm(qnorm(1-alpha))/(1-alpha)+sum(d_bondeD_t(contratos_bdmT, nominal_bdm, tf_act, plazocupon_bdmT, VTplazos_bdm, Xvp_bd[1,], Xst_bd[1,], N_bd,ddv))\n",
        "\n",
        "DN_bd <- as.matrix(rbind(VaRTotalDN_bd,CVaRTotalDN_bd))\n",
        "colnames(DN_bd) <- c(\"Bonde D\")\n",
        "rownames(DN_bd) <- c(\"VaR\",\"CVaR\")\n",
        "print(DN_bd)"
      ],
      "execution_count": null,
      "outputs": [
        {
          "output_type": "stream",
          "name": "stdout",
          "text": [
            "       Bonde D\n",
            "VaR  -476.8858\n",
            "CVaR -567.5401\n"
          ]
        }
      ]
    },
    {
      "cell_type": "markdown",
      "metadata": {
        "id": "WwsLEuQt-clm"
      },
      "source": [
        "###Forwards de tipo de cambio"
      ]
    },
    {
      "cell_type": "markdown",
      "metadata": {
        "id": "d3cLgVAAApC_"
      },
      "source": [
        "#### VaR y CVaR por contrato"
      ]
    },
    {
      "cell_type": "code",
      "metadata": {
        "id": "5E0HgTd5AgJK",
        "colab": {
          "base_uri": "https://localhost:8080/"
        },
        "outputId": "18099b89-6130-45ff-e294-a3494a43c056"
      },
      "source": [
        "%%R\n",
        "DeltaX_ftdc=DeltaX_port[,(sum(n_if[1:4],1)):(sum(n_if[1:5]))] \n",
        "m_ftdc=ncol(plazos_fwd)\n",
        "m=ncol(plazos_fwd)\n",
        "VaRmargc_ftdc=matrix(0,1,m) #Var por contrato Delta Normal\n",
        "VaRmargcstd_ftdc=matrix(0,1,m) #Var por contrato estandarizado \n",
        "\n",
        "CVaRmargc_ftdc=matrix(0,1,m) #CVar por contrato estandarizado\n",
        "\n",
        "VaRmargc_fr_ftdc=matrix(0,3,m) #Var por contrato Delta Normal\n",
        "VaRmargcstd_fr_ftdc=matrix(0,3,m) #Var por contrato estandarizado \n",
        "\n",
        "CVaRmargc_fr_ftdc=matrix(0,3,m) #CVar por contrato estandarizado\n",
        "\n",
        "WFR=diagv(c(1,1,1))\n",
        "\n",
        "\n",
        "for (i in 1:(m))\n",
        "{\n",
        "  delta_ftdc=t(g_ftdc[seq(i,m*3,by=m)]) \n",
        "  tdelta_ftdc=t(g_ftdc[seq(i,m*3,by=m)])*xp_ftdc[seq(i,m*3,by=m)]   #delta tilde\n",
        "  gamma_ftdc=mgamma_futTC(plazos_fwd[i],X1_fwtdc[1,i],X2_fwtdc[1,i],X3_ftdc[1,],kst_fwd[i],contratos_fwd[i],nominal_fwd)  #paso clave\n",
        "  tgamma_ftdc=xp_ftdc[seq(i,m*3,by=m)]%*%t(xp_ftdc[seq(i,m*3,by=m)])*gamma_ftdc #gamma tilde\n",
        "  Varmargcaux_ftdc=cov(DeltaX_ftdc[,seq(i,m*3,by=m)])*((n)/(n-1)) #matriz varcov factores de riesgo de cada contrato\n",
        "  tgammavar_ftdc=(tgamma_ftdc%*%Varmargcaux_ftdc)\n",
        "  tgammavar2_ftdc=(tgamma_ftdc%*%Varmargcaux_ftdc)%*%(tgamma_ftdc%*%Varmargcaux_ftdc)  \n",
        "  mudg_ftdc=ifelse((sum(diag(tgammavar_ftdc))/2+mu_ftdc[i])>0,0,(sum(diag(tgammavar_ftdc))/2+mu_ftdc[i]))\n",
        "  desv_ftdc=sqrt(tdelta_ftdc%*%Varmargcaux_ftdc%*%t(tdelta_ftdc))\n",
        "\n",
        "  VaRmargc_ftdc[i]=mudg_ftdc+desv_ftdc*qnorm(1-alpha) #VaR Normal por contrato\n",
        "  CVaRmargc_ftdc[i]=-mudg_ftdc-desv_ftdc*(dnorm(qnorm(1-alpha))/(1-alpha))\n",
        "  \n",
        "  tgammavar3_ftdc=tgammavar2_ftdc%*%(tgamma_ftdc%*%Varmargcaux_ftdc)\n",
        "  asimPmargc_ftdc=sum(diag(tgammavar3_ftdc))+3*tdelta_ftdc%*%Varmargcaux_ftdc%*%tgamma_ftdc%*%Varmargcaux_ftdc%*%t(tdelta_ftdc) #tercer momento\n",
        "  asimPmargc_ftdc=asimPmargc_ftdc/(desv_ftdc)^3  #coef de asimetría\n",
        "  VaRmargcstd_ftdc[i]=qnorm(1-alpha)+((qnorm(1-alpha)^2-1)/6)*asimPmargc_ftdc  #VaR estandarizado\n",
        "  \n",
        "for (j in 1:3)\n",
        "  {\n",
        "    WFRM=matrix(0,3,3)  #PASO CLAVE\n",
        "    WFRM[j,j]=1  #PASO CLAVE\n",
        "    delta_ftdc=t(g_ftdc[seq(i,m*3,by=m)])*WFR[j,] #PASO CLAVE *(1,0,0), (0,1,0), (0,0,1)\n",
        "    #print(WFR[j,])\n",
        "    tdelta_ftdc=t(g_ftdc[seq(i,m*3,by=m)])*xp_ftdc[seq(i,m*3,by=m)]*WFR[j,]   #delta tilde #PASO CLAVE\n",
        "    gamma_ftdc=mgamma_futTC(plazos_fwd[i],X1_fwtdc[1,i],X2_fwtdc[1,i],X3_ftdc[1,],kst_fwd[i],contratos_fwd[i],nominal_fwd)*WFRM  #paso clave\n",
        "   #print(WFRM)\n",
        "    tgamma_ftdc=xp_ftdc[seq(i,m*3,by=m)]%*%t(xp_ftdc[seq(i,m*3,by=m)])*gamma_ftdc #gamma tilde\n",
        "    Varmargcaux_ftdc=cov(DeltaX_ftdc[,seq(i,m*3,by=m)])*((n)/(n-1)) #matriz varcov factores de riesgo de cada contrato\n",
        "    tgammavar_ftdc=(tgamma_ftdc%*%Varmargcaux_ftdc)\n",
        "    tgammavar2_ftdc=(tgamma_ftdc%*%Varmargcaux_ftdc)%*%(tgamma_ftdc%*%Varmargcaux_ftdc)  \n",
        "    #mudg_ftdc=sum(diag(tgammavar_ftdc))/2+mu_ftdc[i]\n",
        "    mudg_ftdc=0\n",
        "    desv_ftdc=sqrt(tdelta_ftdc%*%Varmargcaux_ftdc%*%t(tdelta_ftdc))\n",
        "\n",
        "    VaRmargc_fr_ftdc[j,i]=mudg_ftdc+desv_ftdc*qnorm(1-alpha) #VaR Normal por contrato\n",
        "    CVaRmargc_fr_ftdc[j,i]=-mudg_ftdc-desv_ftdc*(dnorm(qnorm(1-alpha))/(1-alpha))\n",
        "    \n",
        "    tgammavar3_ftdc=tgammavar2_ftdc%*%(tgamma_ftdc%*%Varmargcaux_ftdc)\n",
        "    asimPmargc_ftdc=sum(diag(tgammavar3_ftdc))+3*tdelta_ftdc%*%Varmargcaux_ftdc%*%tgamma_ftdc%*%Varmargcaux_ftdc%*%t(tdelta_ftdc) #tercer momento\n",
        "    asimPmargc_ftdc=asimPmargc_ftdc/(desv_ftdc)^3  #coef de asimetría\n",
        "    VaRmargcstd_fr_ftdc[j,i]=qnorm(1-alpha)+((qnorm(1-alpha)^2-1)/6)*asimPmargc_ftdc  #VaR estandarizado\n",
        "    \n",
        "  }\n",
        "}\n",
        "\n",
        "DN_ftdc <- as.matrix(rbind(cbind(VaRmargc_ftdc,t(VaRmargc_fr_ftdc)),cbind(CVaRmargc_ftdc,t(CVaRmargc_fr_ftdc))))\n",
        "rownames(DN_ftdc) <- c(\"VaR\",\"CVaR\")\n",
        "colnames(DN_ftdc) <- c(\"Total\",\"Tip de Cambio\",\"Tasa Ext\",\"Tasa Dom\")\n",
        "print(DN_ftdc)"
      ],
      "execution_count": null,
      "outputs": [
        {
          "output_type": "stream",
          "name": "stdout",
          "text": [
            "         Total Tip de Cambio     Tasa Ext    Tasa Dom\n",
            "VaR  -23.85918     -23.85835 -0.008996254 -0.03908995\n",
            "CVaR -28.12459     -28.12361 -0.010604555 -0.04607823\n"
          ]
        }
      ]
    },
    {
      "cell_type": "markdown",
      "metadata": {
        "id": "8HcJYZEiAw53"
      },
      "source": [
        "#### VaR y CVaR total\n",
        "\n",
        "\n",
        "\n"
      ]
    },
    {
      "cell_type": "code",
      "metadata": {
        "id": "OlR3z7PUA55d",
        "colab": {
          "base_uri": "https://localhost:8080/"
        },
        "outputId": "2cc2a8e4-fe73-43d4-9434-8953739d8735"
      },
      "source": [
        "%%R\n",
        "VarDeltaX_ftdc=cov(DeltaX_ftdc)*(n/(n-1))\n",
        "\n",
        "tgammavar_ftdc=(gamma_ftdctT2%*%VarDeltaX_ftdc)\n",
        "tgammavar2_ftdc=(tgammavar_ftdc)%*%(tgammavar_ftdc) \n",
        "mudg_ftdc=ifelse((sum(diag(tgammavar_ftdc))/2+sum(mu_ftdc))>0,0,(sum(diag(tgammavar_ftdc))/2+sum(mu_ftdc)))\n",
        "desv_ftdcDN=sqrt(g_ftdctT%*%VarDeltaX_ftdc%*%t(g_ftdctT))\n",
        "\n",
        "VaRT_ftdc_DN=(mudg_ftdc)+(desv_ftdcDN)*qnorm(1-alpha)  #VaR Normal\n",
        "CVaRT_ftdc_DN=-(mudg_ftdc)-(desv_ftdcDN)*dnorm(qnorm(alpha))/(1-alpha)\n",
        "\n",
        "tgammavar3_ftdc=tgammavar2_ftdc%*%(tgammavar_ftdc)\n",
        "asimP_ftdc=sum(diag(tgammavar3_ftdc))+3*g_ftdctT%*%VarDeltaX_ftdc%*%gamma_ftdctT2%*%VarDeltaX_ftdc%*%t(g_ftdctT) #gamma tercer momento\n",
        "asimP_ftdc=asimP_ftdc/(desv_ftdcDN)^3  #coef de asimetría\n",
        "VaRstd_ftdc=qnorm(1-alpha)+((qnorm(1-alpha)^2-1)/6)*asimP_ftdc  #VaR estandarizado\n",
        "\n",
        "VaRT_fr_ftdc_DN=matrix(0,1,3)\n",
        "CVaRT_fr_ftdc_DN=matrix(0,1,3)\n",
        "\n",
        "WFRT=matrix(0,3,(m*3))\n",
        "for (j in (1:3))\n",
        "{\n",
        "WFRT[j,((j-1)*m+1):(j*m)]=matrix(1,1,m)    #Matriz de diseño para \n",
        "WFRM=matrix(0,(m*3),(m*3))  #PASO CLAVE\n",
        "WFRM[((j-1)*m+1):(m*j),((j-1)*m+1):(m*j)]=matrix(1,m,m)  #PASO CLAVE    \n",
        "gamma_ftdctT2_fr=gamma_ftdctT2*WFRM #evaluación de gamma multiplicado por x^{2}\n",
        "g_ftdctT_fr=g_ftdctT*WFRT[j,]\n",
        "\n",
        "tgammavar_ftdc=(gamma_ftdctT2_fr%*%VarDeltaX_ftdc)\n",
        "tgammavar2_ftdc=(tgammavar_ftdc)%*%(tgammavar_ftdc) \n",
        "\n",
        "mudg_ftdc=0\n",
        "desv_ftdcDN=sqrt(g_ftdctT_fr%*%VarDeltaX_ftdc%*%t(g_ftdctT_fr))\n",
        "VaRT_fr_ftdc_DN[j]=(mudg_ftdc)+(desv_ftdcDN)*qnorm(1-alpha) #VaR Normal\n",
        "CVaRT_fr_ftdc_DN[j]=-(mudg_ftdc)-(desv_ftdcDN)*dnorm(qnorm(alpha))/(1-alpha)\n",
        "\n",
        "tgammavar3_ftdc=tgammavar2_ftdc%*%(tgammavar_ftdc)\n",
        "asimP_ftdc=sum(diag(tgammavar3_ftdc))+3*g_ftdctT_fr%*%VarDeltaX_ftdc%*%gamma_ftdctT2_fr%*%VarDeltaX_ftdc%*%t(g_ftdctT_fr) #gamma tercer momento\n",
        "\n",
        "asimP_ftdc=asimP_ftdc/(desv_ftdcDN)^3  #coef de asimetría\n",
        " \n",
        "VaRstd_ftdc=qnorm(1-alpha)+((qnorm(1-alpha)^2-1)/6)*asimP_ftdc  #VaR estandarizado\n",
        "}\n",
        "\n",
        "DN_ftdc <- as.matrix(rbind(cbind(VaRT_ftdc_DN,VaRT_fr_ftdc_DN),cbind(CVaRT_ftdc_DN,CVaRT_fr_ftdc_DN)))\n",
        "colnames(DN_ftdc) <- c(\"Total\",\"Tipo de cambio\",\"Tasa Ext\",\"Tasa Dom\")\n",
        "rownames(DN_ftdc) <- c(\"VaR\",\"CVaR\")\n",
        "print(DN_ftdc)"
      ],
      "execution_count": null,
      "outputs": [
        {
          "output_type": "stream",
          "name": "stdout",
          "text": [
            "         Total Tipo de cambio     Tasa Ext    Tasa Dom\n",
            "VaR  -23.85918      -23.85835 -0.008996254 -0.03908995\n",
            "CVaR -28.12459      -28.12361 -0.010604555 -0.04607823\n"
          ]
        }
      ]
    },
    {
      "cell_type": "markdown",
      "metadata": {
        "id": "9aarG1ws-mjF"
      },
      "source": [
        "###Forwards IPC"
      ]
    },
    {
      "cell_type": "markdown",
      "metadata": {
        "id": "Kj7b7KKWUcL1"
      },
      "source": [
        "#### VaR y CVaR por contrato\n"
      ]
    },
    {
      "cell_type": "code",
      "metadata": {
        "id": "JBJtcO1pBPJe",
        "colab": {
          "base_uri": "https://localhost:8080/"
        },
        "outputId": "7584b281-1601-44a0-a99e-1d9ec063caaf"
      },
      "source": [
        "%%R\n",
        "\n",
        "DeltaX_find=DeltaX_port[,(sum(n_if[1:5],1)):(sum(n_if[1:6]))] \n",
        "m=ncol(plazos_fwd_ind)\n",
        "m_find=ncol(plazos_fwd_ind)\n",
        "VaRmargc_find=matrix(0,1,m) #Var por contrato Delta Normal\n",
        "VaRmargcstd_find=matrix(0,1,m) #Var por contrato estandarizado \n",
        "CVaRmargc_find=matrix(0,1,m) #CVar por contrato estandarizado\n",
        "\n",
        "VaRmargc_fr_find=matrix(0,3,m) #Var por contrato Delta Normal\n",
        "VaRmargcstd_fr_find=matrix(0,3,m) #Var por contrato estandarizado \n",
        "\n",
        "CVaRmargc_fr_find=matrix(0,3,m) #CVar por contrato estandarizado\n",
        "\n",
        "WFR=diagv(c(1,1,1))\n",
        "\n",
        "for (i in 1:(m))\n",
        "{\n",
        "  delta_find=t(g_find[seq(i,m*3,by=m)]) \n",
        "  tdelta_find=t(g_find[seq(i,m*3,by=m)])*xp_find[seq(i,m*3,by=m)]   #delta tilde\n",
        "  gamma_find=mgamma_futTC(plazos_fwd_ind[i],X1_fwind[1,i],X2_fwind[1,i],X3_find[1,],kst_fwd_ind[i],contratos_fwd_ind[i],nominal_fwd_ind)  #paso clave\n",
        "  tgamma_find=xp_find[seq(i,m*3,by=m)]%*%t(xp_find[seq(i,m*3,by=m)])*gamma_find #gamma tilde\n",
        "  Varmargcaux_find=cov(DeltaX_find[,seq(i,m*3,by=m)])*((n)/(n-1)) #matriz varcov factores de riesgo de cada contrato\n",
        "  tgammavar_find=(tgamma_find%*%Varmargcaux_find)\n",
        "  tgammavar2_find=(tgamma_find%*%Varmargcaux_find)%*%(tgamma_find%*%Varmargcaux_find)  \n",
        "  mudg_find=ifelse((sum(diag(tgammavar_find))/2+mu_find[i])>0,0,(sum(diag(tgammavar_find))/2+mu_find[i]))\n",
        "\n",
        "  desv_find=sqrt(tdelta_find%*%Varmargcaux_find%*%t(tdelta_find))\n",
        "\n",
        "  VaRmargc_find[i]=mudg_find+desv_find*qnorm(1-alpha) #VaR Normal por contrato\n",
        "  CVaRmargc_find[i]=-mudg_find-desv_find*(dnorm(qnorm(1-alpha))/(1-alpha))\n",
        "  \n",
        "  tgammavar3_find=tgammavar2_find%*%(tgamma_find%*%Varmargcaux_find)\n",
        "  asimPmargc_find=sum(diag(tgammavar3_find))+3*tdelta_find%*%Varmargcaux_find%*%tgamma_find%*%Varmargcaux_find%*%t(tdelta_find) #tercer momento\n",
        "  asimPmargc_find=asimPmargc_find/(desv_find)^3  #coef de asimetría\n",
        "  VaRmargcstd_find[i]=qnorm(1-alpha)+((qnorm(1-alpha)^2-1)/6)*asimPmargc_find  #VaR estandarizado\n",
        "  \n",
        "for (j in 1:3)\n",
        "  {\n",
        "    WFRM=matrix(0,3,3)  #PASO CLAVE\n",
        "    WFRM[j,j]=1  #PASO CLAVE\n",
        "    delta_find=t(g_find[seq(i,m*3,by=m)])*WFR[j,] #PASO CLAVE\n",
        "    tdelta_find=t(g_find[seq(i,m*3,by=m)])*xp_find[seq(i,m*3,by=m)]*WFR[j,]   #delta tilde #PASO CLAVE\n",
        "  \tgamma_find=mgamma_futTC(plazos_fwd_ind[i],X1_fwind[1,i],X2_fwind[1,i],X3_find[1,],kst_fwd_ind[i],contratos_fwd_ind[i],nominal_fwd_ind)  #paso clave\n",
        "    tgamma_find=xp_find[seq(i,m*3,by=m)]%*%t(xp_find[seq(i,m*3,by=m)])*gamma_find #gamma tilde\n",
        "    Varmargcaux_find=cov(DeltaX_find[,seq(i,m*3,by=m)])*((n)/(n-1)) #matriz varcov factores de riesgo de cada contrato\n",
        "    tgammavar_find=(tgamma_find%*%Varmargcaux_find)\n",
        "    tgammavar2_find=(tgamma_find%*%Varmargcaux_find)%*%(tgamma_find%*%Varmargcaux_find)  \n",
        "\n",
        "    mudg_find=0\n",
        "    desv_find=sqrt(sum(diag(tgammavar2_find))/2+tdelta_find%*%Varmargcaux_find%*%t(tdelta_find))\n",
        "\n",
        "    VaRmargc_fr_find[j,i]=mudg_find+desv_find*qnorm(1-alpha) #VaR Normal por contrato\n",
        "    CVaRmargc_fr_find[j,i]=-mudg_find-desv_find*(dnorm(qnorm(1-alpha))/(1-alpha))\n",
        "    \n",
        "    tgammavar3_find=tgammavar2_find%*%(tgamma_find%*%Varmargcaux_find)\n",
        "    asimPmargc_find=sum(diag(tgammavar3_find))+3*tdelta_find%*%Varmargcaux_find%*%tgamma_find%*%Varmargcaux_find%*%t(tdelta_find) #tercer momento\n",
        "    asimPmargc_find=asimPmargc_find/(desv_find)^3  #coef de asimetría\n",
        "    VaRmargcstd_fr_find[j,i]=qnorm(1-alpha)+((qnorm(1-alpha)^2-1)/6)*asimPmargc_find  #VaR estandarizado\n",
        "    \n",
        "  }\n",
        "}\n",
        "\n",
        "DN_find <- as.matrix(rbind(cbind(VaRmargc_find,t(VaRmargc_fr_find)),cbind(CVaRmargc_find,t(CVaRmargc_fr_find))))\n",
        "rownames(DN_find) <- c(\"VaR\",\"CVaR\")\n",
        "colnames(DN_find) <- c(\"Total\",\"IPC\",\"Dividendos\",\"Pagares\")\n",
        "print(DN_find)"
      ],
      "execution_count": null,
      "outputs": [
        {
          "output_type": "stream",
          "name": "stdout",
          "text": [
            "         Total       IPC   Dividendos   Pagares\n",
            "VaR  -51116.04 -51013.70 -0.009430151 -489.7291\n",
            "CVaR -60110.45 -60133.64 -0.011116021 -577.2802\n"
          ]
        }
      ]
    },
    {
      "cell_type": "markdown",
      "metadata": {
        "id": "AUdhAqdJBP-T"
      },
      "source": [
        "#### VaR y CVaR total\n"
      ]
    },
    {
      "cell_type": "code",
      "metadata": {
        "id": "XbBg22rnBU-z",
        "colab": {
          "base_uri": "https://localhost:8080/"
        },
        "outputId": "248718ab-c54f-4ad9-92c1-310351560c40"
      },
      "source": [
        "%%R\n",
        "VarDeltaX_find=cov(DeltaX_find)*(n/(n-1))\n",
        "\n",
        "tgammavar_find=(gamma_findtT2%*%VarDeltaX_find)\n",
        "tgammavar2_find=(tgammavar_find)%*%(tgammavar_find) \n",
        "\n",
        "mudg_find=ifelse((sum(diag(tgammavar_find))/2+sum(mu_find))>0,0,(sum(diag(tgammavar_find))/2+mu_find[i]))\n",
        "\n",
        "desv_find=sqrt(g_findtT%*%VarDeltaX_find%*%t(g_findtT))\n",
        "\n",
        "VaRT_find_DN=(mudg_find)+(desv_find)*qnorm(1-alpha)  #VaR Normal\n",
        "CVaRT_find_DN=-(mudg_find)-(desv_find)*dnorm(qnorm(alpha))/(1-alpha)\n",
        "\n",
        "tgammavar3_find=tgammavar2_find%*%(tgammavar_find)\n",
        "asimP_find=sum(diag(tgammavar3_find))+3*g_findtT%*%VarDeltaX_find%*%gamma_findtT2%*%VarDeltaX_find%*%t(g_findtT) #gamma tercer momento\n",
        "asimP_find=asimP_find/(desv_find)^3  #coef de asimetría\n",
        "VaRstd_find=qnorm(1-alpha)+((qnorm(1-alpha)^2-1)/6)*asimP_find  #VaR estandarizado\n",
        "\n",
        "VaRT_fr_find_DN=matrix(0,1,3)\n",
        "CVaRT_fr_find_DN=matrix(0,1,3)\n",
        "\n",
        "WFRT=matrix(0,3,(m*3))\n",
        "\n",
        "for (j in (1:3)){\n",
        "  WFRT[j,((j-1)*m+1):(j*m)]=matrix(1,1,m)    #Matriz de diseño para \n",
        "  WFRM=matrix(0,(m*3),(m*3))  #PASO CLAVE\n",
        "  WFRM[((j-1)*m+1):(m*j),((j-1)*m+1):(m*j)]=matrix(1,m,m)  #PASO CLAVE    \n",
        "  gamma_findtT2_fr=gamma_findtT2*WFRM #evaluación de gamma multiplicado por x^{2}\n",
        "  g_findtT_fr=g_findtT*WFRT[j,]\n",
        "  tgammavar_find=(gamma_findtT2_fr%*%VarDeltaX_find)\n",
        "  tgammavar2_find=(tgammavar_find)%*%(tgammavar_find) \n",
        "\n",
        "  mudg_find=0\n",
        "  desv_find=sqrt(g_findtT_fr%*%VarDeltaX_find%*%t(g_findtT_fr))\n",
        "  VaRT_fr_find_DN[j]=(mudg_find)+(desv_find)*qnorm(1-alpha) #VaR Normal\n",
        "  CVaRT_fr_find_DN[j]=-(mudg_find)-(desv_find)*dnorm(qnorm(alpha))/(1-alpha)\n",
        "\n",
        "  tgammavar3_find=tgammavar2_find%*%(tgammavar_find)\n",
        "  asimP_find=sum(diag(tgammavar3_find))+3*g_findtT_fr%*%VarDeltaX_find%*%gamma_findtT2_fr%*%VarDeltaX_find%*%t(g_findtT_fr) #gamma tercer momento\n",
        "  asimP_find=asimP_find/(desv_find)^3  #coef de asimetría\n",
        "  \n",
        "  VaRstd_find=qnorm(1-alpha)+((qnorm(1-alpha)^2-1)/6)*asimP_find  #VaR estandarizado\n",
        "}\n",
        "\n",
        "DN_find <- as.matrix(rbind(cbind(VaRT_find_DN,VaRT_fr_find_DN),cbind(CVaRT_find_DN,CVaRT_fr_find_DN)))\n",
        "colnames(DN_find) <- c(\"Total\",\"IPC\",\"Dividendos\",\"Pagares\")\n",
        "rownames(DN_find) <- c(\"VaR\",\"CVaR\")\n",
        "print(DN_find)"
      ],
      "execution_count": null,
      "outputs": [
        {
          "output_type": "stream",
          "name": "stdout",
          "text": [
            "         Total       IPC Dividendos   Pagares\n",
            "VaR  -51116.04 -51013.70          0 -489.7291\n",
            "CVaR -60110.45 -60133.64          0 -577.2802\n"
          ]
        }
      ]
    },
    {
      "cell_type": "markdown",
      "metadata": {
        "id": "2nhondBIcsf5"
      },
      "source": [
        "### Total futuros\n"
      ]
    },
    {
      "cell_type": "code",
      "metadata": {
        "id": "mpssmPc4WJ9L",
        "colab": {
          "base_uri": "https://localhost:8080/"
        },
        "outputId": "4ab35a1e-39f7-4a54-b91b-0e8bc37d8416"
      },
      "source": [
        "%%R\n",
        "DeltaX_fwdT = cbind(DeltaX_find,DeltaX_ftdc)\n",
        "VarDeltaX_fwdT=as.matrix(cov(DeltaX_fwdT)*(n-1)/(n-2))\n",
        "\n",
        "\n",
        "mu_fwdT=as.matrix(cbind(mu_ftdc,mu_find)) #derivada con respecto al tiempo\n",
        "gt_fwdT=as.matrix(cbind(g_ftdctT,g_findtT)) #derivada con respecto las X's\n",
        "\n",
        "gammat_fwdT=matrix(0,6,6)\n",
        "gammat_fwdT[1:3,1:3]=gamma_ftdctT2\n",
        "gammat_fwdT[4:6,4:6]=gamma_findtT2\n",
        "\n",
        "tgammavar_fwdT=(gammat_fwdT%*%VarDeltaX_fwdT)\n",
        "tgammavar2_fwdT=(tgammavar_fwdT)%*%(tgammavar_fwdT) \n",
        "mu_fwdT=ifelse((sum(diag(tgammavar_fwdT))/2+sum(mu_fwdT))>0,0,(sum(diag(tgammavar_fwdT))/2+sum(mu_fwdT)))\n",
        "desv_fwdT=(sqrt(gt_fwdT%*%VarDeltaX_fwdT%*%t(gt_fwdT)))\n",
        "VaRT_fwdT_DN=mu_fwdT+desv_fwdT*qnorm(1-alpha) #VaR Normal\n",
        "CVaRT_fwdT_DN=mu_fwdT-desv_fwdT*dnorm(qnorm(alpha))/(1-alpha)\n",
        "\n",
        "Tot_fwd <- as.matrix(rbind(VaRT_fwdT_DN,CVaRT_fwdT_DN))\n",
        "colnames(Tot_fwd) <- c(\"Futuros\")\n",
        "rownames(Tot_fwd) <- c(\"VaR\",\"CVaR\")\n",
        "print(Tot_fwd)"
      ],
      "execution_count": null,
      "outputs": [
        {
          "output_type": "stream",
          "name": "stdout",
          "text": [
            "       Futuros\n",
            "VaR  -33442.04\n",
            "CVaR -39408.82\n"
          ]
        }
      ]
    },
    {
      "cell_type": "markdown",
      "metadata": {
        "id": "HagexR1TWMVa"
      },
      "source": [
        "### Swaps"
      ]
    },
    {
      "cell_type": "markdown",
      "metadata": {
        "id": "xkR8SosDhsHj"
      },
      "source": [
        "#### VaR y CVaR por contrato"
      ]
    },
    {
      "cell_type": "code",
      "metadata": {
        "id": "cZe4bt02eMCj",
        "colab": {
          "base_uri": "https://localhost:8080/"
        },
        "outputId": "b05f82b7-dd78-4140-c186-556a2bb9bff5"
      },
      "source": [
        "%%R\n",
        "DeltaXvp=Xvp[1:(n-1),]/Xvp[2:n,]-1\n",
        "DeltaXtfwdt=XtfwdT[1:(n-1),]/XtfwdT[2:n,]-1\n",
        "\n",
        "VaRcontDN_sw=matrix(0,1,ncol(N))\n",
        "CVaRcontDN_sw=matrix(0,1,ncol(N))\n",
        "\n",
        "V0f_dtt=dswap_dtt(por_swT, contratos_swT, nominal_swT, XtfwdT[1,], tasafija_swT,  plazocupon_swT, VTplazos_sw, Xvp[1,])\n",
        "V0f_dtc=dswap_dtc(por_swT, contratos_swT, nominal_swT, XtfwdT[1,], tasafija_swT,  plazocupon_swT, VTplazos_sw, Xvp[1,])\n",
        "V0f_dvp=dswap_dvp(por_swT, contratos_swT, nominal_swT, XtfwdT[1,], tasafija_swT,  plazocupon_swT, VTplazos_sw, Xvp[1,])\n",
        "for (j in (1:ncol(N)))\n",
        "{\n",
        "  if(j==1)\n",
        "  {\n",
        "    mucont_sw=sum(V0f_dtt[1:sum(N[1:j])])\n",
        "    gcont_sw=as.matrix(c(V0f_dtc[1:sum(N[1:j])],V0f_dvp[1:sum(N[1:j])]))\n",
        "    gtcont_sw=t(as.matrix(gcont_sw*c(XtfwdT[1,1:sum(N[1:j])],Xvp[1,1:sum(N[1:j])])))\n",
        "    VarCovXcont_sw=cov(cbind(DeltaXtfwdt[,1:sum(N[1:j])],DeltaXvp[,1:sum(N[1:j])]))*(n/(n-1))\t\n",
        "  }\n",
        "  else\n",
        "  {\n",
        "    mucont_sw=sum(V0f_dtt[sum(N[1:j-1]+1):sum(N[1:j])])\n",
        "    gcont_sw=as.matrix(c(V0f_dtc[sum(N[1:j-1]+1):sum(N[1:j])],V0f_dvp[sum(N[1:j-1]+1):sum(N[1:j])]))\n",
        "    gtcont_sw=t(as.matrix(gcont_sw*c(XtfwdT[1,sum(N[1:j-1]+1):sum(N[1:j])],Xvp[1,sum(N[1:j-1]+1):sum(N[1:j])])))\n",
        "    VarCovXcont_sw=cov(cbind(DeltaXtfwdt[,sum(N[1:j-1]+1):sum(N[1:j])],DeltaXvp[,sum(N[1:j-1]+1):sum(N[1:j])]))*(n/(n-1))\n",
        "    \n",
        "  }\n",
        "  \n",
        "  VaRcontDN_sw[j]=sum(mucont_sw)+sqrt(gtcont_sw%*%VarCovXcont_sw%*%t(gtcont_sw))*qnorm(1-alpha)\n",
        "  CVaRcontDN_sw[j]=sum(mucont_sw)+sqrt(gtcont_sw%*%VarCovXcont_sw%*%t(gtcont_sw))*dnorm(qnorm(1-alpha))/(1-alpha)\n",
        "}\n",
        "\n",
        "VaRcontfrDN_sw=matrix(0,2,ncol(N))\n",
        "CVaRcontfrDN_sw=matrix(0,2,ncol(N))\n",
        "WFRcont <- rbind(c(1,0), c(0,1))\n",
        "\n",
        "V0f_dtt=dswap_dtt(por_swT, contratos_swT, nominal_swT, XtfwdT[1,], tasafija_swT,  plazocupon_swT, VTplazos_sw, Xvp[1,])\n",
        "V0f_dtc=dswap_dtc(por_swT, contratos_swT, nominal_swT, XtfwdT[1,], tasafija_swT,  plazocupon_swT, VTplazos_sw, Xvp[1,])\n",
        "V0f_dvp=dswap_dvp(por_swT, contratos_swT, nominal_swT, XtfwdT[1,], tasafija_swT,  plazocupon_swT, VTplazos_sw, Xvp[1,])\n",
        "for (j in (1:ncol(N)))\n",
        "{\n",
        "    for(k in (1:2)){\n",
        "  if(j==1)\n",
        "  {\n",
        "    mucont_sw=sum(V0f_dtt[1:sum(N[1:j])])\n",
        "    gcont_sw=as.matrix(c(V0f_dtc[1:sum(N[1:j])],V0f_dvp[1:sum(N[1:j])]))\n",
        "    gtcont_sw=t(as.matrix(gcont_sw*c(XtfwdT[1,1:sum(N[1:j])]*WFRcont[k,1],Xvp[1,1:sum(N[1:j])]*WFRcont[k,2])))\n",
        "    VarCovXcont_sw=cov(cbind(DeltaXtfwdt[,1:sum(N[1:j])],DeltaXvp[,1:sum(N[1:j])]))*(n/(n-1))\t\n",
        "    }\n",
        "  else\n",
        "  {\n",
        "    mucont_sw=sum(V0f_dtt[sum(N[1:j-1]+1):sum(N[1:j])])\n",
        "    gcont_sw=as.matrix(c(V0f_dtc[sum(N[1:j-1]+1):sum(N[1:j])],V0f_dvp[sum(N[1:j-1]+1):sum(N[1:j])]))\n",
        "    gtcont_sw=t(as.matrix(gcont_sw*c(XtfwdT[1,sum(N[1:j-1]+1):sum(N[1:j])]*WFRcont[k,1],Xvp[1,sum(N[1:j-1]+1):sum(N[1:j])]*WFRcont[k,2])))\n",
        "    VarCovXcont_sw=cov(cbind(DeltaXtfwdt[,sum(N[1:j-1]+1):sum(N[1:j])],DeltaXvp[,sum(N[1:j-1]+1):sum(N[1:j])]))*(n/(n-1))\n",
        "    }\n",
        "  \n",
        "  VaRcontfrDN_sw[k,j]=sum(mucont_sw)+sqrt(gtcont_sw%*%VarCovXcont_sw%*%t(gtcont_sw))*qnorm(1-alpha)\n",
        "  CVaRcontfrDN_sw[k,j]=sum(mucont_sw)-sqrt(gtcont_sw%*%VarCovXcont_sw%*%t(gtcont_sw))*dnorm(qnorm(1-alpha))/(1-alpha)\n",
        "}\n",
        "}\n",
        "\n",
        "DN_sw <- as.matrix(rbind(VaRcontDN_sw,VaRcontfrDN_sw,-CVaRcontDN_sw,CVaRcontfrDN_sw))\n",
        "colnames(DN_sw) <- c(\"Largo\",\"Corto\")\n",
        "rownames(DN_sw) <- c(\"VaR Total\",\"VaR TIIE\",\"VaR Cupon\",\"CVaR Total\",\"CVaR TIIE\",\"CVaR Cupon\")\n",
        "print(DN_sw)"
      ],
      "execution_count": null,
      "outputs": [
        {
          "output_type": "stream",
          "name": "stdout",
          "text": [
            "                  Largo        Corto\n",
            "VaR Total  -42621.65572 -15081.30670\n",
            "VaR TIIE   -42553.16166 -15126.08903\n",
            "VaR Cupon     -88.46422    -66.63725\n",
            "CVaR Total -50249.13866 -17744.27563\n",
            "CVaR TIIE  -50161.22236 -17827.52483\n",
            "CVaR Cupon   -104.92092    -75.82748\n"
          ]
        }
      ]
    },
    {
      "cell_type": "markdown",
      "metadata": {
        "id": "HZ_ahyDUkt4y"
      },
      "source": [
        "#### VaR y CVaR total"
      ]
    },
    {
      "cell_type": "code",
      "metadata": {
        "id": "m9WVPW7Lkvm5",
        "colab": {
          "base_uri": "https://localhost:8080/"
        },
        "outputId": "1c6028f8-329a-4e36-9312-bdf2a4cecdbd"
      },
      "source": [
        "%%R\n",
        "g_sw=cbind(dswap_dtc(por_swT, contratos_swT, nominal_swT, XtfwdT[1,], tasafija_swT,  plazocupon_swT, VTplazos_sw, Xvp[1,]),\n",
        "        dswap_dvp(por_swT, contratos_swT, nominal_swT, XtfwdT[1,], tasafija_swT,  plazocupon_swT, VTplazos_sw, Xvp[1,]))\n",
        "\n",
        "gt_sw=c( XtfwdT[1,],Xvp[1,])*g_sw\n",
        "VaRTotalDN_sw=sqrt(gt_sw%*%VarDeltaX_sw%*%t(gt_sw))*qnorm(1-alpha)+sum(dswap_dtt(por_swT, contratos_swT, nominal_swT, XtfwdT[1,], tasafija_swT,  plazocupon_swT, VTplazos_sw, Xvp[1,]))\n",
        "CVaRTotalDN_sw = -sqrt(gt_sw%*%VarDeltaX_sw%*%t(gt_sw))*dnorm(qnorm(1-alpha))/(1-alpha)+sum(dswap_dtt(por_swT, contratos_swT, nominal_swT, XtfwdT[1,], tasafija_swT,  plazocupon_swT, VTplazos_sw, Xvp[1,]))\n",
        "\n",
        "WFR=rbind(c( XtfwdT[1,],Xvp[1,]*0),c( XtfwdT[1,]*0,Xvp[1,]))\n",
        "VaRFrDN_sw=matrix(0,1,2)\n",
        "CVaRFrDN_sw=matrix(0,1,2)\n",
        "\n",
        "for (j in (1:2)){\n",
        "    g_sw=cbind(dswap_dtc(por_swT, contratos_swT, nominal_swT, XtfwdT[1,], tasafija_swT,  plazocupon_swT, VTplazos_sw, Xvp[1,]),\n",
        "               dswap_dvp(por_swT, contratos_swT, nominal_swT, XtfwdT[1,], tasafija_swT,  plazocupon_swT, VTplazos_sw, Xvp[1,]))\n",
        "    \n",
        "    gt_sw=WFR[j,]*g_sw\n",
        "    VaRFrDN_sw[j]=sqrt(gt_sw%*%VarDeltaX_sw%*%t(gt_sw))*qnorm(1-alpha)\n",
        "    CVaRFrDN_sw[j]=-sqrt(gt_sw%*%VarDeltaX_sw%*%t(gt_sw))*dnorm(qnorm(1-alpha))/(1-alpha)\n",
        "}\n",
        "\n",
        "DN_sw <- as.matrix(rbind(cbind(VaRTotalDN_sw,VaRFrDN_sw),cbind(CVaRTotalDN_sw,CVaRFrDN_sw)))\n",
        "colnames(DN_sw) <- c(\"Total\",\"TIIE\",\"Cupon\")\n",
        "rownames(DN_sw) <- c(\"VaR\",\"CVaR\")\n",
        "print(DN_sw)"
      ],
      "execution_count": null,
      "outputs": [
        {
          "output_type": "stream",
          "name": "stdout",
          "text": [
            "         Total      TIIE     Cupon\n",
            "VaR  -55864.55 -55827.97 -45.73930\n",
            "CVaR -65849.62 -65808.59 -53.91632\n"
          ]
        }
      ]
    },
    {
      "cell_type": "markdown",
      "metadata": {
        "id": "Lffg8aQEPQ4e"
      },
      "source": [
        "### Opciones"
      ]
    },
    {
      "cell_type": "markdown",
      "metadata": {
        "id": "XS-yqTdsM9pY"
      },
      "source": [
        "#### VaR y CVaR por contrato"
      ]
    },
    {
      "cell_type": "code",
      "metadata": {
        "id": "EPv5_Ae0M-VI",
        "colab": {
          "base_uri": "https://localhost:8080/"
        },
        "outputId": "eae1d91c-38f3-479f-d33c-d9f78df89888"
      },
      "source": [
        "%%R\n",
        "DN_oir <- as.matrix(rbind(VaRmargcDN_oir,VaRmargcDN_fr_oir,CVaRmargcDN_oir,CVaRmargcDN_fr_oir))\n",
        "colnames(DN_oir) <- c(\"Call\",\"Put\")\n",
        "rownames(DN_oir) <- c(\"VaR Total\",\"VaR Spot\",\"VaR TIIE\",\"VaR Volatilidad\",\"CVaR Total\",\"CVaR Spot\",\"CVaR TIIE\",\"CVaR Volatilidad\")\n",
        "print(DN_oir)"
      ],
      "execution_count": null,
      "outputs": [
        {
          "output_type": "stream",
          "name": "stdout",
          "text": [
            "                        Call           Put\n",
            "VaR Total        -0.08757515 -0.0473017398\n",
            "VaR Spot         -0.01154790 -0.0009612335\n",
            "VaR TIIE         -0.06765790 -0.0365505436\n",
            "VaR Volatilidad  -0.05238478 -0.0327790004\n",
            "CVaR Total       -0.10323135 -0.0557580835\n",
            "CVaR Spot        -0.01361237 -0.0011330775\n",
            "CVaR TIIE        -0.07975340 -0.0430848478\n",
            "CVaR Volatilidad -0.06174984 -0.0386390490\n"
          ]
        }
      ]
    },
    {
      "cell_type": "markdown",
      "metadata": {
        "id": "XXYH6gjgM-60"
      },
      "source": [
        "#### VaR y CVaR total"
      ]
    },
    {
      "cell_type": "code",
      "metadata": {
        "id": "YY1gAbP6M_Z4",
        "colab": {
          "base_uri": "https://localhost:8080/"
        },
        "outputId": "fda4fc8c-1ce7-451f-b420-f0edd49f518c"
      },
      "source": [
        "%%R\n",
        "m=ncol(plazos_oir)\n",
        "VarDeltaX_oir=cov(DeltaX_oir)*(n/(n-1))\n",
        "\n",
        "tgammavar_oir=(gammaT_oirT2%*%VarDeltaX_oir)\n",
        "tgammavar2_oir=(tgammavar_oir)%*%(tgammavar_oir) \n",
        "mudg_oir=ifelse(sum(mu_oir)>0,0,sum(mu_oir))\n",
        "desv_oir=sqrt(deltaT_oir_T%*%VarDeltaX_oir%*%t(deltaT_oir_T))\n",
        "\n",
        "VaRT_oir_DN=(mudg_oir)+(desv_oir)*qnorm(1-alpha)  #VaR Normal\n",
        "CVaRT_oir_DN=(mudg_oir)-(desv_oir)*dnorm(qnorm(alpha))/(1-alpha)\n",
        "\n",
        "VaRT_fr_oir_DN=matrix(0,1,3)\n",
        "CVaRT_fr_oir_DN=matrix(0,1,3)\n",
        "\n",
        "\n",
        "WFRT=matrix(0,3,(m*3))\n",
        "for (j in (1:3)){\n",
        "  WFRT[j,((j-1)*m+1):(j*m)]=matrix(1,1,m)    #Matriz de diseño para \n",
        "  WFRM=matrix(0,(m*3),(m*3))  #PASO CLAVE\n",
        "  WFRM[((j-1)*m+1):(m*j),((j-1)*m+1):(m*j)]=matrix(1,m,m)  #PASO CLAVE    \n",
        "  gamma_oirtT2_fr=gammaT_oirT2*WFRM #evaluación de gamma multiplicado por x^{2}\n",
        "  g_oirtT_fr=deltaT_oir_T*WFRT[j,]\n",
        "  tgammavar_oir=(gamma_oirtT2_fr%*%VarDeltaX_oir)\n",
        "  tgammavar2_oir=(tgammavar_oir)%*%(tgammavar_oir) \n",
        "\n",
        "  mudg_oir=0\n",
        "  desv_oir=sqrt(g_oirtT_fr%*%VarDeltaX_oir%*%t(g_oirtT_fr))\n",
        "  VaRT_fr_oir_DN[j]=(mudg_oir)+(desv_oir)*qnorm(1-alpha) #VaR Normal\n",
        "  CVaRT_fr_oir_DN[j]=(mudg_oir)-(desv_oir)*dnorm(qnorm(alpha))/(1-alpha)\n",
        "}\n",
        "\n",
        "DN_oir <- as.matrix(rbind(cbind(VaRT_oir_DN,VaRT_fr_oir_DN),cbind(CVaRT_oir_DN,CVaRT_fr_oir_DN)))\n",
        "colnames(DN_oir) <- c(\"Total\",\"Spot\",\"TIEE\",\"Volatilidad\")\n",
        "rownames(DN_oir) <- c(\"VaR\",\"CVaR\")\n",
        "print(DN_oir)"
      ],
      "execution_count": null,
      "outputs": [
        {
          "output_type": "stream",
          "name": "stdout",
          "text": [
            "          Total        Spot        TIEE Volatilidad\n",
            "VaR  -0.1182980 -0.01243328 -0.08778916 -0.07886964\n",
            "CVaR -0.1394467 -0.01465603 -0.10348362 -0.09296952\n"
          ]
        }
      ]
    },
    {
      "cell_type": "markdown",
      "metadata": {
        "id": "CdZduo8JS2xL"
      },
      "source": [
        "### Riesgo integral"
      ]
    },
    {
      "cell_type": "markdown",
      "metadata": {
        "id": "FzEjK6RwS8gz"
      },
      "source": [
        "##### Total"
      ]
    },
    {
      "cell_type": "code",
      "metadata": {
        "id": "N90PKCdPS6eT",
        "colab": {
          "base_uri": "https://localhost:8080/"
        },
        "outputId": "5fb14c23-cdeb-4bf9-c452-36f99f7f7d40"
      },
      "source": [
        "%%R\n",
        "VarDeltaX_port=as.matrix(cov(DeltaX_port)*(n-1)/(n-2))\n",
        "\n",
        "mu_port=as.matrix(cbind(mu_acc_div,mu_bcc,mu_bm,mu_bd,mu_ftdc,mu_find,mu_sw,mu_oir)) #derivada con respecto al tiempo\n",
        "gt_port=as.matrix(cbind(g_acc_divt,g_bcct,g_bmt,g_bdt,g_ftdctT,g_findtT,gt_sw,deltaT_oir_T)) #derivada con respecto las X's\n",
        "\n",
        "gammat_port=matrix(0,sum(n_if),sum(n_if))\n",
        "gammat_port[1:n_if[1],1:n_if[1]]=gamma_acc_divt\n",
        "gammat_port[(sum(n_if[1:1])+1):(sum(n_if[1:2])),(sum(n_if[1:1])+1):(sum(n_if[1:2]))]=gamma_bcct2\n",
        "gammat_port[(sum(n_if[1:2])+1):(sum(n_if[1:3])),(sum(n_if[1:2])+1):(sum(n_if[1:3]))]=gamma_bmt2\n",
        "gammat_port[(sum(n_if[1:3])+1):(sum(n_if[1:4])),(sum(n_if[1:3])+1):(sum(n_if[1:4]))]=gamma_bdt2\n",
        "gammat_port[(sum(n_if[1:4])+1):(sum(n_if[1:5])),(sum(n_if[1:4])+1):(sum(n_if[1:5]))]=gamma_ftdctT2\n",
        "gammat_port[(sum(n_if[1:5])+1):(sum(n_if[1:6])),(sum(n_if[1:5])+1):(sum(n_if[1:6]))]=gamma_findtT2\n",
        "gammat_port[(sum(n_if[1:6])+1):(sum(n_if[1:7])),(sum(n_if[1:6])+1):(sum(n_if[1:7]))]=tgamma_sw\n",
        "gammat_port[(sum(n_if[1:7])+1):(sum(n_if[1:8])),(sum(n_if[1:7])+1):(sum(n_if[1:8]))]=gammaT_oirT2\n",
        "\n",
        "tgammavar_port=(gammat_port%*%VarDeltaX_port)\n",
        "tgammavar2_port=(tgammavar_port)%*%(tgammavar_port) \n",
        "mu_portT=ifelse((sum(diag(tgammavar_port))/2+sum(mu_port))>0,0,(sum(diag(tgammavar_port))/2+sum(mu_port)))\n",
        "desv_portT=(sqrt(gt_port%*%VarDeltaX_port%*%t(gt_port)))\n",
        "VaRT_port_DN=mu_portT+desv_portT*qnorm(1-alpha) #VaR Normal\n",
        "CVaRT_port_DN=mu_portT-desv_portT*dnorm(qnorm(alpha))/(1-alpha)\n",
        "\n",
        "\n",
        "Port_DN <-as.matrix(rbind(VaRT_port_DN,CVaRT_port_DN))\n",
        "colnames(Port_DN) <- c(\"Portafolio\")\n",
        "rownames(Port_DN) <- c(\"VaR\",\"CVaR\")\n",
        "print(Port_DN)"
      ],
      "execution_count": null,
      "outputs": [
        {
          "output_type": "stream",
          "name": "stdout",
          "text": [
            "     Portafolio\n",
            "VaR   -52754.60\n",
            "CVaR  -62178.48\n"
          ]
        }
      ]
    },
    {
      "cell_type": "markdown",
      "metadata": {
        "id": "SZoy8swXM85F"
      },
      "source": [
        "#### Acciones"
      ]
    },
    {
      "cell_type": "code",
      "metadata": {
        "id": "0Tu3llg-NAb0",
        "colab": {
          "base_uri": "https://localhost:8080/"
        },
        "outputId": "0ef697c5-c645-416c-aeeb-7608e042afc3"
      },
      "source": [
        "%%R\n",
        "m = ncol(plazos_fwd_ind)\n",
        "WFRT_acc=matrix(0,3,(m*3))\n",
        "\n",
        "for (j in (1:3))\n",
        "{\n",
        "WFRT_acc[j,((j-1)*m+1):(j*m)]=matrix(1,1,m)    #Matriz de diseño para \n",
        "WFRT_acc=matrix(0,(m*3),(m*3))  #PASO CLAVE\n",
        "WFRT_acc[((j-1)*m+1):(m*j),((j-1)*m+1):(m*j)]=matrix(1,m,m)}\n",
        "\n",
        "dummy_acc = matrix(0,1, ncol(gt_port))\n",
        "dummy_acc[(m_fx+1):(m_fx+m_acc)] = 1\n",
        "dummy_acc[c(168)] = 1 #Cambia dependiendo del factor de riesgo a tomar. Revisar los riesgos de las opciones IPC\n",
        "gt_port=as.matrix(cbind(g_acc_divt,g_bcct,g_bmt,g_bdt,g_ftdctT,g_findtT,gt_sw,deltaT_oir_T))\n",
        "\n",
        "gt_port = gt_port*dummy_acc\n",
        "gammat_port=matrix(0,sum(n_if),sum(n_if))\n",
        "gammat_port[1:n_if[1],1:n_if[1]]=gamma_acc_divt\n",
        "gammat_port[(sum(n_if[1:1])+1):(sum(n_if[1:2])),(sum(n_if[1:1])+1):(sum(n_if[1:2]))]=gamma_bcct2\n",
        "gammat_port[(sum(n_if[1:2])+1):(sum(n_if[1:3])),(sum(n_if[1:2])+1):(sum(n_if[1:3]))]=gamma_bmt2\n",
        "gammat_port[(sum(n_if[1:3])+1):(sum(n_if[1:4])),(sum(n_if[1:3])+1):(sum(n_if[1:4]))]=gamma_bdt2\n",
        "gammat_port[(sum(n_if[1:4])+1):(sum(n_if[1:5])),(sum(n_if[1:4])+1):(sum(n_if[1:5]))]=gamma_ftdctT2\n",
        "gammat_port[(sum(n_if[1:5])+1):(sum(n_if[1:6])),(sum(n_if[1:5])+1):(sum(n_if[1:6]))]=gamma_findtT2\n",
        "gammat_port[(sum(n_if[1:6])+1):(sum(n_if[1:7])),(sum(n_if[1:6])+1):(sum(n_if[1:7]))]=tgamma_sw\n",
        "gammat_port[(sum(n_if[1:7])+1):(sum(n_if[1:8])),(sum(n_if[1:7])+1):(sum(n_if[1:8]))]=gammaT_oirT2\n",
        "\n",
        "gammat_port = gammat_port * t(dummy_acc)%*%dummy_acc\n",
        "\n",
        "tgammavar_port=(gammat_port%*%VarDeltaX_port)\n",
        "tgammavar2_port=(tgammavar_port)%*%(tgammavar_port) \n",
        "mu_portT=ifelse((sum(diag(tgammavar_port))/2+sum(mu_port))>0,0,(sum(diag(tgammavar_port))/2+sum(mu_port)))\n",
        "desv_portT=(sqrt(gt_port%*%VarDeltaX_port%*%t(gt_port)))\n",
        "VaRT_port_acc_DN=mu_portT+desv_portT*qnorm(1-alpha) #VaR Normal\n",
        "CVaRT_port_acc_DN=mu_portT-desv_portT*dnorm(qnorm(alpha))/(1-alpha)\n",
        "\n",
        "\n",
        "Port_DN_acc <-as.matrix(rbind(VaRT_port_acc_DN,CVaRT_port_acc_DN))\n",
        "colnames(Port_DN_acc) <- c(\"Acciones\")\n",
        "rownames(Port_DN_acc) <- c(\"VaR\",\"CVaR\")\n",
        "print(Port_DN_acc)"
      ],
      "execution_count": null,
      "outputs": [
        {
          "output_type": "stream",
          "name": "stdout",
          "text": [
            "      Acciones\n",
            "VaR  -52682.26\n",
            "CVaR -62092.85\n"
          ]
        }
      ]
    },
    {
      "cell_type": "markdown",
      "metadata": {
        "id": "W9KPVxf_k8YW"
      },
      "source": [
        "#### Divisas"
      ]
    },
    {
      "cell_type": "code",
      "metadata": {
        "id": "b9uinYUQk969",
        "colab": {
          "base_uri": "https://localhost:8080/"
        },
        "outputId": "1e0af49e-8329-496c-b291-43f50662a1bb"
      },
      "source": [
        "%%R\n",
        "m = ncol(plazos_fwd)\n",
        "WFRT_div=matrix(0,3,(m*3))\n",
        "\n",
        "for (j in (1:3)){\n",
        "  WFRT_div[j,((j-1)*m+1):(j*m)]=matrix(1,1,m)    #Matriz de diseño para \n",
        "  WFRT_div=matrix(0,(m*3),(m*3))  #PASO CLAVE\n",
        "  WFRT_div[((j-1)*m+1):(m*j),((j-1)*m+1):(m*j)]=matrix(1,m,m)\n",
        "}\n",
        "\n",
        "dummy_div = matrix(0,1, ncol(gt_port))\n",
        "dummy_div[1:m_fx] = 1\n",
        "dummy_div[c(165, 166, 167)] = 1 #Cambia dependiendo del factor de riesgo a tomar.\n",
        "gt_port=as.matrix(cbind(g_acc_divt,g_bcct,g_bmt,g_bdt,g_ftdctT,g_findtT,gt_sw,deltaT_oir_T)) #derivada con respecto las X's\n",
        "\n",
        "gt_port = gt_port*dummy_div\n",
        "gammat_port=matrix(0,sum(n_if),sum(n_if))\n",
        "gammat_port[1:n_if[1],1:n_if[1]]=gamma_acc_divt\n",
        "gammat_port[(sum(n_if[1:1])+1):(sum(n_if[1:2])),(sum(n_if[1:1])+1):(sum(n_if[1:2]))]=gamma_bcct2\n",
        "gammat_port[(sum(n_if[1:2])+1):(sum(n_if[1:3])),(sum(n_if[1:2])+1):(sum(n_if[1:3]))]=gamma_bmt2\n",
        "gammat_port[(sum(n_if[1:3])+1):(sum(n_if[1:4])),(sum(n_if[1:3])+1):(sum(n_if[1:4]))]=gamma_bdt2\n",
        "gammat_port[(sum(n_if[1:4])+1):(sum(n_if[1:5])),(sum(n_if[1:4])+1):(sum(n_if[1:5]))]=gamma_ftdctT2\n",
        "gammat_port[(sum(n_if[1:5])+1):(sum(n_if[1:6])),(sum(n_if[1:5])+1):(sum(n_if[1:6]))]=gamma_findtT2\n",
        "gammat_port[(sum(n_if[1:6])+1):(sum(n_if[1:7])),(sum(n_if[1:6])+1):(sum(n_if[1:7]))]=tgamma_sw\n",
        "gammat_port[(sum(n_if[1:7])+1):(sum(n_if[1:8])),(sum(n_if[1:7])+1):(sum(n_if[1:8]))]=gammaT_oirT2\n",
        "\n",
        "gammat_port = gammat_port * t(dummy_div)%*%dummy_div\n",
        "\n",
        "tgammavar_port=(gammat_port%*%VarDeltaX_port)\n",
        "tgammavar2_port=(tgammavar_port)%*%(tgammavar_port) \n",
        "mu_portT=ifelse((sum(diag(tgammavar_port))/2+sum(mu_port))>0,0,(sum(diag(tgammavar_port))/2+sum(mu_port)))\n",
        "desv_portT=(sqrt(gt_port%*%VarDeltaX_port%*%t(gt_port)))\n",
        "VaRT_port_div_DN=mu_portT+desv_portT*qnorm(1-alpha) #VaR Normal\n",
        "CVaRT_port_div_DN=mu_portT-desv_portT*dnorm(qnorm(alpha))/(1-alpha)\n",
        "\n",
        "\n",
        "Port_DN_div <-as.matrix(rbind(VaRT_port_div_DN,CVaRT_port_div_DN))\n",
        "colnames(Port_DN_div) <- c(\"Divisas\")\n",
        "rownames(Port_DN_div) <- c(\"VaR\",\"CVaR\")\n",
        "print(Port_DN_div)"
      ],
      "execution_count": null,
      "outputs": [
        {
          "output_type": "stream",
          "name": "stdout",
          "text": [
            "       Divisas\n",
            "VaR  -443.2817\n",
            "CVaR -514.8808\n"
          ]
        }
      ]
    },
    {
      "cell_type": "markdown",
      "metadata": {
        "id": "F8-yRkR68h9_"
      },
      "source": [
        "#### Tasa interés"
      ]
    },
    {
      "cell_type": "code",
      "metadata": {
        "id": "RK00a9DT8kc2",
        "colab": {
          "base_uri": "https://localhost:8080/"
        },
        "outputId": "842635fa-543f-43d4-c230-c1b87181f1be"
      },
      "source": [
        "%%R\n",
        "\n",
        "dummy_tint = matrix(0,1, ncol(gt_port))\n",
        "dummy_tint[7:sum(n_if[2:3], n_if[4])] = 1\n",
        "dummy_tint[c(167, 170, 172)] = 1\n",
        "dummy_tint[sum(n_if[1:7],1):length(dummy_tint)] = 1 #Cambia dependiendo del factor de riesgo a tomar.\n",
        "gt_port=as.matrix(cbind(g_acc_divt,g_bcct,g_bmt,g_bdt,g_ftdctT,g_findtT,gt_sw,deltaT_oir_T)) #derivada con respecto las X's\n",
        "\n",
        "gt_port = gt_port*dummy_tint\n",
        "gammat_port=matrix(0,sum(n_if),sum(n_if))\n",
        "gammat_port[1:n_if[1],1:n_if[1]]=gamma_acc_divt\n",
        "gammat_port[(sum(n_if[1:1])+1):(sum(n_if[1:2])),(sum(n_if[1:1])+1):(sum(n_if[1:2]))]=gamma_bcct2\n",
        "gammat_port[(sum(n_if[1:2])+1):(sum(n_if[1:3])),(sum(n_if[1:2])+1):(sum(n_if[1:3]))]=gamma_bmt2\n",
        "gammat_port[(sum(n_if[1:3])+1):(sum(n_if[1:4])),(sum(n_if[1:3])+1):(sum(n_if[1:4]))]=gamma_bdt2\n",
        "gammat_port[(sum(n_if[1:4])+1):(sum(n_if[1:5])),(sum(n_if[1:4])+1):(sum(n_if[1:5]))]=gamma_ftdctT2\n",
        "gammat_port[(sum(n_if[1:5])+1):(sum(n_if[1:6])),(sum(n_if[1:5])+1):(sum(n_if[1:6]))]=gamma_findtT2\n",
        "gammat_port[(sum(n_if[1:6])+1):(sum(n_if[1:7])),(sum(n_if[1:6])+1):(sum(n_if[1:7]))]=tgamma_sw\n",
        "gammat_port[(sum(n_if[1:7])+1):(sum(n_if[1:8])),(sum(n_if[1:7])+1):(sum(n_if[1:8]))]=gammaT_oirT2\n",
        "\n",
        "gammat_port = gammat_port * t(dummy_tint)%*%dummy_tint\n",
        "\n",
        "tgammavar_port=(gammat_port%*%VarDeltaX_port)\n",
        "tgammavar2_port=(tgammavar_port)%*%(tgammavar_port) \n",
        "mu_portT=ifelse((sum(diag(tgammavar_port))/2+sum(mu_port))>0,0,(sum(diag(tgammavar_port))/2+sum(mu_port)))\n",
        "desv_portT=(sqrt(gt_port%*%VarDeltaX_port%*%t(gt_port)))\n",
        "VaRT_port_tint_DN=mu_portT+desv_portT*qnorm(1-alpha) #VaR Normal\n",
        "CVaRT_port_tint_DN=mu_portT-desv_portT*dnorm(qnorm(alpha))/(1-alpha)\n",
        "\n",
        "\n",
        "Port_DN_tint <-as.matrix(rbind(VaRT_port_tint_DN,CVaRT_port_tint_DN))\n",
        "colnames(Port_DN_tint) <- c(\"Tasa de Interes\")\n",
        "rownames(Port_DN_tint) <- c(\"VaR\",\"CVaR\")\n",
        "print(Port_DN_tint)"
      ],
      "execution_count": null,
      "outputs": [
        {
          "output_type": "stream",
          "name": "stdout",
          "text": [
            "     Tasa de Interes\n",
            "VaR        -1283.146\n",
            "CVaR       -1505.245\n"
          ]
        }
      ]
    }
  ]
}